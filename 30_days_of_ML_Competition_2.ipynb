{
 "cells": [
  {
   "cell_type": "code",
   "execution_count": 42,
   "id": "f4c0de67",
   "metadata": {},
   "outputs": [],
   "source": [
    "# Familiar imports\n",
    "import numpy as np\n",
    "import pandas as pd\n",
    "\n",
    "# For ordinal encoding categorical variables, splitting data\n",
    "from sklearn.preprocessing import OrdinalEncoder\n",
    "from sklearn.model_selection import train_test_split\n",
    "\n",
    "# For training model\n",
    "from sklearn.ensemble import RandomForestRegressor\n",
    "from sklearn.metrics import mean_squared_error\n",
    "from xgboost import XGBRegressor\n",
    "from sklearn.metrics import r2_score\n",
    "from lightgbm import LGBMRegressor\n",
    "import lightgbm as lgb\n",
    "from sklearn import preprocessing\n",
    "from sklearn.preprocessing import StandardScaler\n",
    "from sklearn.model_selection import KFold\n",
    "\n",
    "from sklearn.linear_model import LinearRegression\n",
    "\n",
    "#for analysis\n",
    "import matplotlib.pyplot as plt\n",
    "import seaborn as sns\n",
    "import statsmodels.api as sm\n",
    "\n",
    "import optuna\n",
    "import warnings"
   ]
  },
  {
   "cell_type": "code",
   "execution_count": 2,
   "id": "072ffd79",
   "metadata": {},
   "outputs": [
    {
     "data": {
      "text/html": [
       "<div>\n",
       "<style scoped>\n",
       "    .dataframe tbody tr th:only-of-type {\n",
       "        vertical-align: middle;\n",
       "    }\n",
       "\n",
       "    .dataframe tbody tr th {\n",
       "        vertical-align: top;\n",
       "    }\n",
       "\n",
       "    .dataframe thead th {\n",
       "        text-align: right;\n",
       "    }\n",
       "</style>\n",
       "<table border=\"1\" class=\"dataframe\">\n",
       "  <thead>\n",
       "    <tr style=\"text-align: right;\">\n",
       "      <th></th>\n",
       "      <th>id</th>\n",
       "      <th>cat0</th>\n",
       "      <th>cat1</th>\n",
       "      <th>cat2</th>\n",
       "      <th>cat3</th>\n",
       "      <th>cat4</th>\n",
       "      <th>cat5</th>\n",
       "      <th>cat6</th>\n",
       "      <th>cat7</th>\n",
       "      <th>cat8</th>\n",
       "      <th>...</th>\n",
       "      <th>cont6</th>\n",
       "      <th>cont7</th>\n",
       "      <th>cont8</th>\n",
       "      <th>cont9</th>\n",
       "      <th>cont10</th>\n",
       "      <th>cont11</th>\n",
       "      <th>cont12</th>\n",
       "      <th>cont13</th>\n",
       "      <th>target</th>\n",
       "      <th>kfold</th>\n",
       "    </tr>\n",
       "  </thead>\n",
       "  <tbody>\n",
       "    <tr>\n",
       "      <th>0</th>\n",
       "      <td>1</td>\n",
       "      <td>B</td>\n",
       "      <td>B</td>\n",
       "      <td>B</td>\n",
       "      <td>C</td>\n",
       "      <td>B</td>\n",
       "      <td>B</td>\n",
       "      <td>A</td>\n",
       "      <td>E</td>\n",
       "      <td>C</td>\n",
       "      <td>...</td>\n",
       "      <td>0.160266</td>\n",
       "      <td>0.310921</td>\n",
       "      <td>0.389470</td>\n",
       "      <td>0.267559</td>\n",
       "      <td>0.237281</td>\n",
       "      <td>0.377873</td>\n",
       "      <td>0.322401</td>\n",
       "      <td>0.869850</td>\n",
       "      <td>8.113634</td>\n",
       "      <td>4</td>\n",
       "    </tr>\n",
       "    <tr>\n",
       "      <th>1</th>\n",
       "      <td>2</td>\n",
       "      <td>B</td>\n",
       "      <td>B</td>\n",
       "      <td>A</td>\n",
       "      <td>A</td>\n",
       "      <td>B</td>\n",
       "      <td>D</td>\n",
       "      <td>A</td>\n",
       "      <td>F</td>\n",
       "      <td>A</td>\n",
       "      <td>...</td>\n",
       "      <td>0.558922</td>\n",
       "      <td>0.516294</td>\n",
       "      <td>0.594928</td>\n",
       "      <td>0.341439</td>\n",
       "      <td>0.906013</td>\n",
       "      <td>0.921701</td>\n",
       "      <td>0.261975</td>\n",
       "      <td>0.465083</td>\n",
       "      <td>8.481233</td>\n",
       "      <td>0</td>\n",
       "    </tr>\n",
       "    <tr>\n",
       "      <th>2</th>\n",
       "      <td>3</td>\n",
       "      <td>A</td>\n",
       "      <td>A</td>\n",
       "      <td>A</td>\n",
       "      <td>C</td>\n",
       "      <td>B</td>\n",
       "      <td>D</td>\n",
       "      <td>A</td>\n",
       "      <td>D</td>\n",
       "      <td>A</td>\n",
       "      <td>...</td>\n",
       "      <td>0.375348</td>\n",
       "      <td>0.902567</td>\n",
       "      <td>0.555205</td>\n",
       "      <td>0.843531</td>\n",
       "      <td>0.748809</td>\n",
       "      <td>0.620126</td>\n",
       "      <td>0.541474</td>\n",
       "      <td>0.763846</td>\n",
       "      <td>8.364351</td>\n",
       "      <td>4</td>\n",
       "    </tr>\n",
       "    <tr>\n",
       "      <th>3</th>\n",
       "      <td>4</td>\n",
       "      <td>B</td>\n",
       "      <td>B</td>\n",
       "      <td>A</td>\n",
       "      <td>C</td>\n",
       "      <td>B</td>\n",
       "      <td>D</td>\n",
       "      <td>A</td>\n",
       "      <td>E</td>\n",
       "      <td>C</td>\n",
       "      <td>...</td>\n",
       "      <td>0.239061</td>\n",
       "      <td>0.732948</td>\n",
       "      <td>0.679618</td>\n",
       "      <td>0.574844</td>\n",
       "      <td>0.346010</td>\n",
       "      <td>0.714610</td>\n",
       "      <td>0.540150</td>\n",
       "      <td>0.280682</td>\n",
       "      <td>8.049253</td>\n",
       "      <td>1</td>\n",
       "    </tr>\n",
       "    <tr>\n",
       "      <th>4</th>\n",
       "      <td>6</td>\n",
       "      <td>A</td>\n",
       "      <td>A</td>\n",
       "      <td>A</td>\n",
       "      <td>C</td>\n",
       "      <td>B</td>\n",
       "      <td>D</td>\n",
       "      <td>A</td>\n",
       "      <td>E</td>\n",
       "      <td>A</td>\n",
       "      <td>...</td>\n",
       "      <td>0.420667</td>\n",
       "      <td>0.648182</td>\n",
       "      <td>0.684501</td>\n",
       "      <td>0.956692</td>\n",
       "      <td>1.000773</td>\n",
       "      <td>0.776742</td>\n",
       "      <td>0.625849</td>\n",
       "      <td>0.250823</td>\n",
       "      <td>7.972260</td>\n",
       "      <td>0</td>\n",
       "    </tr>\n",
       "  </tbody>\n",
       "</table>\n",
       "<p>5 rows × 27 columns</p>\n",
       "</div>"
      ],
      "text/plain": [
       "   id cat0 cat1 cat2 cat3 cat4 cat5 cat6 cat7 cat8  ...     cont6     cont7  \\\n",
       "0   1    B    B    B    C    B    B    A    E    C  ...  0.160266  0.310921   \n",
       "1   2    B    B    A    A    B    D    A    F    A  ...  0.558922  0.516294   \n",
       "2   3    A    A    A    C    B    D    A    D    A  ...  0.375348  0.902567   \n",
       "3   4    B    B    A    C    B    D    A    E    C  ...  0.239061  0.732948   \n",
       "4   6    A    A    A    C    B    D    A    E    A  ...  0.420667  0.648182   \n",
       "\n",
       "      cont8     cont9    cont10    cont11    cont12    cont13    target  kfold  \n",
       "0  0.389470  0.267559  0.237281  0.377873  0.322401  0.869850  8.113634      4  \n",
       "1  0.594928  0.341439  0.906013  0.921701  0.261975  0.465083  8.481233      0  \n",
       "2  0.555205  0.843531  0.748809  0.620126  0.541474  0.763846  8.364351      4  \n",
       "3  0.679618  0.574844  0.346010  0.714610  0.540150  0.280682  8.049253      1  \n",
       "4  0.684501  0.956692  1.000773  0.776742  0.625849  0.250823  7.972260      0  \n",
       "\n",
       "[5 rows x 27 columns]"
      ]
     },
     "execution_count": 2,
     "metadata": {},
     "output_type": "execute_result"
    }
   ],
   "source": [
    "# Load the training data\n",
    "train = pd.read_csv(\"30-days-of-ml/train_folds.csv\")\n",
    "test = pd.read_csv(\"30-days-of-ml/test.csv\")\n",
    "sample_submission=pd.read_csv(\"30-days-of-ml/sample_submission.csv\")\n",
    "\n",
    "# Preview the data\n",
    "train.head()"
   ]
  },
  {
   "cell_type": "code",
   "execution_count": 3,
   "id": "009b25ef",
   "metadata": {},
   "outputs": [],
   "source": [
    "useful_cols=[column for column in train.columns if column not in ('id', 'target', 'kfold')]"
   ]
  },
  {
   "cell_type": "code",
   "execution_count": 4,
   "id": "6e5e6714",
   "metadata": {},
   "outputs": [
    {
     "data": {
      "text/html": [
       "<div>\n",
       "<style scoped>\n",
       "    .dataframe tbody tr th:only-of-type {\n",
       "        vertical-align: middle;\n",
       "    }\n",
       "\n",
       "    .dataframe tbody tr th {\n",
       "        vertical-align: top;\n",
       "    }\n",
       "\n",
       "    .dataframe thead th {\n",
       "        text-align: right;\n",
       "    }\n",
       "</style>\n",
       "<table border=\"1\" class=\"dataframe\">\n",
       "  <thead>\n",
       "    <tr style=\"text-align: right;\">\n",
       "      <th></th>\n",
       "      <th>cat0</th>\n",
       "      <th>cat1</th>\n",
       "      <th>cat2</th>\n",
       "      <th>cat3</th>\n",
       "      <th>cat4</th>\n",
       "      <th>cat5</th>\n",
       "      <th>cat6</th>\n",
       "      <th>cat7</th>\n",
       "      <th>cat8</th>\n",
       "      <th>cat9</th>\n",
       "      <th>...</th>\n",
       "      <th>cont4</th>\n",
       "      <th>cont5</th>\n",
       "      <th>cont6</th>\n",
       "      <th>cont7</th>\n",
       "      <th>cont8</th>\n",
       "      <th>cont9</th>\n",
       "      <th>cont10</th>\n",
       "      <th>cont11</th>\n",
       "      <th>cont12</th>\n",
       "      <th>cont13</th>\n",
       "    </tr>\n",
       "  </thead>\n",
       "  <tbody>\n",
       "    <tr>\n",
       "      <th>0</th>\n",
       "      <td>B</td>\n",
       "      <td>B</td>\n",
       "      <td>B</td>\n",
       "      <td>C</td>\n",
       "      <td>B</td>\n",
       "      <td>B</td>\n",
       "      <td>A</td>\n",
       "      <td>E</td>\n",
       "      <td>C</td>\n",
       "      <td>N</td>\n",
       "      <td>...</td>\n",
       "      <td>0.610706</td>\n",
       "      <td>0.400361</td>\n",
       "      <td>0.160266</td>\n",
       "      <td>0.310921</td>\n",
       "      <td>0.389470</td>\n",
       "      <td>0.267559</td>\n",
       "      <td>0.237281</td>\n",
       "      <td>0.377873</td>\n",
       "      <td>0.322401</td>\n",
       "      <td>0.869850</td>\n",
       "    </tr>\n",
       "    <tr>\n",
       "      <th>1</th>\n",
       "      <td>B</td>\n",
       "      <td>B</td>\n",
       "      <td>A</td>\n",
       "      <td>A</td>\n",
       "      <td>B</td>\n",
       "      <td>D</td>\n",
       "      <td>A</td>\n",
       "      <td>F</td>\n",
       "      <td>A</td>\n",
       "      <td>O</td>\n",
       "      <td>...</td>\n",
       "      <td>0.276853</td>\n",
       "      <td>0.533087</td>\n",
       "      <td>0.558922</td>\n",
       "      <td>0.516294</td>\n",
       "      <td>0.594928</td>\n",
       "      <td>0.341439</td>\n",
       "      <td>0.906013</td>\n",
       "      <td>0.921701</td>\n",
       "      <td>0.261975</td>\n",
       "      <td>0.465083</td>\n",
       "    </tr>\n",
       "    <tr>\n",
       "      <th>2</th>\n",
       "      <td>A</td>\n",
       "      <td>A</td>\n",
       "      <td>A</td>\n",
       "      <td>C</td>\n",
       "      <td>B</td>\n",
       "      <td>D</td>\n",
       "      <td>A</td>\n",
       "      <td>D</td>\n",
       "      <td>A</td>\n",
       "      <td>F</td>\n",
       "      <td>...</td>\n",
       "      <td>0.285074</td>\n",
       "      <td>0.650609</td>\n",
       "      <td>0.375348</td>\n",
       "      <td>0.902567</td>\n",
       "      <td>0.555205</td>\n",
       "      <td>0.843531</td>\n",
       "      <td>0.748809</td>\n",
       "      <td>0.620126</td>\n",
       "      <td>0.541474</td>\n",
       "      <td>0.763846</td>\n",
       "    </tr>\n",
       "    <tr>\n",
       "      <th>3</th>\n",
       "      <td>B</td>\n",
       "      <td>B</td>\n",
       "      <td>A</td>\n",
       "      <td>C</td>\n",
       "      <td>B</td>\n",
       "      <td>D</td>\n",
       "      <td>A</td>\n",
       "      <td>E</td>\n",
       "      <td>C</td>\n",
       "      <td>K</td>\n",
       "      <td>...</td>\n",
       "      <td>0.284667</td>\n",
       "      <td>0.668980</td>\n",
       "      <td>0.239061</td>\n",
       "      <td>0.732948</td>\n",
       "      <td>0.679618</td>\n",
       "      <td>0.574844</td>\n",
       "      <td>0.346010</td>\n",
       "      <td>0.714610</td>\n",
       "      <td>0.540150</td>\n",
       "      <td>0.280682</td>\n",
       "    </tr>\n",
       "    <tr>\n",
       "      <th>4</th>\n",
       "      <td>A</td>\n",
       "      <td>A</td>\n",
       "      <td>A</td>\n",
       "      <td>C</td>\n",
       "      <td>B</td>\n",
       "      <td>D</td>\n",
       "      <td>A</td>\n",
       "      <td>E</td>\n",
       "      <td>A</td>\n",
       "      <td>N</td>\n",
       "      <td>...</td>\n",
       "      <td>0.287595</td>\n",
       "      <td>0.686964</td>\n",
       "      <td>0.420667</td>\n",
       "      <td>0.648182</td>\n",
       "      <td>0.684501</td>\n",
       "      <td>0.956692</td>\n",
       "      <td>1.000773</td>\n",
       "      <td>0.776742</td>\n",
       "      <td>0.625849</td>\n",
       "      <td>0.250823</td>\n",
       "    </tr>\n",
       "    <tr>\n",
       "      <th>...</th>\n",
       "      <td>...</td>\n",
       "      <td>...</td>\n",
       "      <td>...</td>\n",
       "      <td>...</td>\n",
       "      <td>...</td>\n",
       "      <td>...</td>\n",
       "      <td>...</td>\n",
       "      <td>...</td>\n",
       "      <td>...</td>\n",
       "      <td>...</td>\n",
       "      <td>...</td>\n",
       "      <td>...</td>\n",
       "      <td>...</td>\n",
       "      <td>...</td>\n",
       "      <td>...</td>\n",
       "      <td>...</td>\n",
       "      <td>...</td>\n",
       "      <td>...</td>\n",
       "      <td>...</td>\n",
       "      <td>...</td>\n",
       "      <td>...</td>\n",
       "    </tr>\n",
       "    <tr>\n",
       "      <th>299995</th>\n",
       "      <td>B</td>\n",
       "      <td>B</td>\n",
       "      <td>A</td>\n",
       "      <td>A</td>\n",
       "      <td>B</td>\n",
       "      <td>D</td>\n",
       "      <td>A</td>\n",
       "      <td>E</td>\n",
       "      <td>A</td>\n",
       "      <td>I</td>\n",
       "      <td>...</td>\n",
       "      <td>0.307883</td>\n",
       "      <td>0.769792</td>\n",
       "      <td>0.450538</td>\n",
       "      <td>0.934360</td>\n",
       "      <td>1.005077</td>\n",
       "      <td>0.853726</td>\n",
       "      <td>0.422541</td>\n",
       "      <td>1.063463</td>\n",
       "      <td>0.697685</td>\n",
       "      <td>0.506404</td>\n",
       "    </tr>\n",
       "    <tr>\n",
       "      <th>299996</th>\n",
       "      <td>A</td>\n",
       "      <td>B</td>\n",
       "      <td>A</td>\n",
       "      <td>C</td>\n",
       "      <td>B</td>\n",
       "      <td>B</td>\n",
       "      <td>A</td>\n",
       "      <td>E</td>\n",
       "      <td>E</td>\n",
       "      <td>F</td>\n",
       "      <td>...</td>\n",
       "      <td>0.736713</td>\n",
       "      <td>0.528056</td>\n",
       "      <td>0.508502</td>\n",
       "      <td>0.358247</td>\n",
       "      <td>0.257825</td>\n",
       "      <td>0.433525</td>\n",
       "      <td>0.301015</td>\n",
       "      <td>0.268447</td>\n",
       "      <td>0.577055</td>\n",
       "      <td>0.823611</td>\n",
       "    </tr>\n",
       "    <tr>\n",
       "      <th>299997</th>\n",
       "      <td>B</td>\n",
       "      <td>B</td>\n",
       "      <td>A</td>\n",
       "      <td>C</td>\n",
       "      <td>B</td>\n",
       "      <td>C</td>\n",
       "      <td>A</td>\n",
       "      <td>E</td>\n",
       "      <td>G</td>\n",
       "      <td>F</td>\n",
       "      <td>...</td>\n",
       "      <td>0.277074</td>\n",
       "      <td>0.688747</td>\n",
       "      <td>0.372425</td>\n",
       "      <td>0.364936</td>\n",
       "      <td>0.383224</td>\n",
       "      <td>0.551825</td>\n",
       "      <td>0.661007</td>\n",
       "      <td>0.629606</td>\n",
       "      <td>0.714139</td>\n",
       "      <td>0.245732</td>\n",
       "    </tr>\n",
       "    <tr>\n",
       "      <th>299998</th>\n",
       "      <td>A</td>\n",
       "      <td>B</td>\n",
       "      <td>A</td>\n",
       "      <td>C</td>\n",
       "      <td>B</td>\n",
       "      <td>B</td>\n",
       "      <td>A</td>\n",
       "      <td>E</td>\n",
       "      <td>E</td>\n",
       "      <td>I</td>\n",
       "      <td>...</td>\n",
       "      <td>0.805963</td>\n",
       "      <td>0.344404</td>\n",
       "      <td>0.424243</td>\n",
       "      <td>0.382028</td>\n",
       "      <td>0.468819</td>\n",
       "      <td>0.351036</td>\n",
       "      <td>0.288768</td>\n",
       "      <td>0.611169</td>\n",
       "      <td>0.380254</td>\n",
       "      <td>0.332030</td>\n",
       "    </tr>\n",
       "    <tr>\n",
       "      <th>299999</th>\n",
       "      <td>A</td>\n",
       "      <td>A</td>\n",
       "      <td>A</td>\n",
       "      <td>C</td>\n",
       "      <td>A</td>\n",
       "      <td>D</td>\n",
       "      <td>A</td>\n",
       "      <td>E</td>\n",
       "      <td>A</td>\n",
       "      <td>O</td>\n",
       "      <td>...</td>\n",
       "      <td>0.276785</td>\n",
       "      <td>0.565347</td>\n",
       "      <td>0.328669</td>\n",
       "      <td>0.789165</td>\n",
       "      <td>0.960406</td>\n",
       "      <td>0.776019</td>\n",
       "      <td>0.734707</td>\n",
       "      <td>0.484392</td>\n",
       "      <td>0.639754</td>\n",
       "      <td>0.689317</td>\n",
       "    </tr>\n",
       "  </tbody>\n",
       "</table>\n",
       "<p>300000 rows × 24 columns</p>\n",
       "</div>"
      ],
      "text/plain": [
       "       cat0 cat1 cat2 cat3 cat4 cat5 cat6 cat7 cat8 cat9  ...     cont4  \\\n",
       "0         B    B    B    C    B    B    A    E    C    N  ...  0.610706   \n",
       "1         B    B    A    A    B    D    A    F    A    O  ...  0.276853   \n",
       "2         A    A    A    C    B    D    A    D    A    F  ...  0.285074   \n",
       "3         B    B    A    C    B    D    A    E    C    K  ...  0.284667   \n",
       "4         A    A    A    C    B    D    A    E    A    N  ...  0.287595   \n",
       "...     ...  ...  ...  ...  ...  ...  ...  ...  ...  ...  ...       ...   \n",
       "299995    B    B    A    A    B    D    A    E    A    I  ...  0.307883   \n",
       "299996    A    B    A    C    B    B    A    E    E    F  ...  0.736713   \n",
       "299997    B    B    A    C    B    C    A    E    G    F  ...  0.277074   \n",
       "299998    A    B    A    C    B    B    A    E    E    I  ...  0.805963   \n",
       "299999    A    A    A    C    A    D    A    E    A    O  ...  0.276785   \n",
       "\n",
       "           cont5     cont6     cont7     cont8     cont9    cont10    cont11  \\\n",
       "0       0.400361  0.160266  0.310921  0.389470  0.267559  0.237281  0.377873   \n",
       "1       0.533087  0.558922  0.516294  0.594928  0.341439  0.906013  0.921701   \n",
       "2       0.650609  0.375348  0.902567  0.555205  0.843531  0.748809  0.620126   \n",
       "3       0.668980  0.239061  0.732948  0.679618  0.574844  0.346010  0.714610   \n",
       "4       0.686964  0.420667  0.648182  0.684501  0.956692  1.000773  0.776742   \n",
       "...          ...       ...       ...       ...       ...       ...       ...   \n",
       "299995  0.769792  0.450538  0.934360  1.005077  0.853726  0.422541  1.063463   \n",
       "299996  0.528056  0.508502  0.358247  0.257825  0.433525  0.301015  0.268447   \n",
       "299997  0.688747  0.372425  0.364936  0.383224  0.551825  0.661007  0.629606   \n",
       "299998  0.344404  0.424243  0.382028  0.468819  0.351036  0.288768  0.611169   \n",
       "299999  0.565347  0.328669  0.789165  0.960406  0.776019  0.734707  0.484392   \n",
       "\n",
       "          cont12    cont13  \n",
       "0       0.322401  0.869850  \n",
       "1       0.261975  0.465083  \n",
       "2       0.541474  0.763846  \n",
       "3       0.540150  0.280682  \n",
       "4       0.625849  0.250823  \n",
       "...          ...       ...  \n",
       "299995  0.697685  0.506404  \n",
       "299996  0.577055  0.823611  \n",
       "299997  0.714139  0.245732  \n",
       "299998  0.380254  0.332030  \n",
       "299999  0.639754  0.689317  \n",
       "\n",
       "[300000 rows x 24 columns]"
      ]
     },
     "execution_count": 4,
     "metadata": {},
     "output_type": "execute_result"
    }
   ],
   "source": [
    "train[useful_cols]"
   ]
  },
  {
   "cell_type": "code",
   "execution_count": 5,
   "id": "bdfd34e5",
   "metadata": {},
   "outputs": [],
   "source": [
    " # List of categorical columns\n",
    "object_cols = [col for col in useful_cols if 'cat' in col]\n",
    "test=test[useful_cols]\n"
   ]
  },
  {
   "cell_type": "markdown",
   "id": "1d94f0ea",
   "metadata": {},
   "source": [
    "# Random Forest"
   ]
  },
  {
   "cell_type": "code",
   "execution_count": 18,
   "id": "5321b3ba",
   "metadata": {},
   "outputs": [
    {
     "name": "stdout",
     "output_type": "stream",
     "text": [
      "Encoding\n",
      "Training\n",
      "[Parallel(n_jobs=1)]: Using backend SequentialBackend with 1 concurrent workers.\n",
      "building tree 1 of 100\n",
      "[Parallel(n_jobs=1)]: Done   1 out of   1 | elapsed:    8.9s remaining:    0.0s\n",
      "building tree 2 of 100\n",
      "[Parallel(n_jobs=1)]: Done   2 out of   2 | elapsed:   17.7s remaining:    0.0s\n",
      "building tree 3 of 100\n",
      "[Parallel(n_jobs=1)]: Done   3 out of   3 | elapsed:   26.6s remaining:    0.0s\n",
      "building tree 4 of 100\n",
      "[Parallel(n_jobs=1)]: Done   4 out of   4 | elapsed:   35.5s remaining:    0.0s\n",
      "building tree 5 of 100\n",
      "[Parallel(n_jobs=1)]: Done   5 out of   5 | elapsed:   44.7s remaining:    0.0s\n",
      "building tree 6 of 100\n",
      "[Parallel(n_jobs=1)]: Done   6 out of   6 | elapsed:   53.8s remaining:    0.0s\n",
      "building tree 7 of 100\n",
      "[Parallel(n_jobs=1)]: Done   7 out of   7 | elapsed:  1.0min remaining:    0.0s\n",
      "building tree 8 of 100\n",
      "[Parallel(n_jobs=1)]: Done   8 out of   8 | elapsed:  1.2min remaining:    0.0s\n",
      "building tree 9 of 100\n",
      "[Parallel(n_jobs=1)]: Done   9 out of   9 | elapsed:  1.4min remaining:    0.0s\n",
      "building tree 10 of 100\n",
      "[Parallel(n_jobs=1)]: Done  10 out of  10 | elapsed:  1.6min remaining:    0.0s\n",
      "building tree 11 of 100\n",
      "[Parallel(n_jobs=1)]: Done  11 out of  11 | elapsed:  1.7min remaining:    0.0s\n",
      "building tree 12 of 100\n",
      "[Parallel(n_jobs=1)]: Done  12 out of  12 | elapsed:  1.8min remaining:    0.0s\n",
      "building tree 13 of 100\n",
      "[Parallel(n_jobs=1)]: Done  13 out of  13 | elapsed:  2.0min remaining:    0.0s\n",
      "building tree 14 of 100\n",
      "[Parallel(n_jobs=1)]: Done  14 out of  14 | elapsed:  2.1min remaining:    0.0s\n",
      "building tree 15 of 100\n",
      "[Parallel(n_jobs=1)]: Done  15 out of  15 | elapsed:  2.3min remaining:    0.0s\n",
      "building tree 16 of 100\n",
      "[Parallel(n_jobs=1)]: Done  16 out of  16 | elapsed:  2.4min remaining:    0.0s\n",
      "building tree 17 of 100\n",
      "[Parallel(n_jobs=1)]: Done  17 out of  17 | elapsed:  2.6min remaining:    0.0s\n",
      "building tree 18 of 100\n",
      "[Parallel(n_jobs=1)]: Done  18 out of  18 | elapsed:  2.7min remaining:    0.0s\n",
      "building tree 19 of 100\n",
      "[Parallel(n_jobs=1)]: Done  19 out of  19 | elapsed:  2.9min remaining:    0.0s\n",
      "building tree 20 of 100\n",
      "[Parallel(n_jobs=1)]: Done  20 out of  20 | elapsed:  3.0min remaining:    0.0s\n",
      "building tree 21 of 100\n",
      "[Parallel(n_jobs=1)]: Done  21 out of  21 | elapsed:  3.2min remaining:    0.0s\n",
      "building tree 22 of 100\n",
      "[Parallel(n_jobs=1)]: Done  22 out of  22 | elapsed:  3.3min remaining:    0.0s\n",
      "building tree 23 of 100\n",
      "[Parallel(n_jobs=1)]: Done  23 out of  23 | elapsed:  3.5min remaining:    0.0s\n",
      "building tree 24 of 100\n",
      "[Parallel(n_jobs=1)]: Done  24 out of  24 | elapsed:  3.6min remaining:    0.0s\n",
      "building tree 25 of 100\n",
      "[Parallel(n_jobs=1)]: Done  25 out of  25 | elapsed:  3.8min remaining:    0.0s\n",
      "building tree 26 of 100\n",
      "[Parallel(n_jobs=1)]: Done  26 out of  26 | elapsed:  3.9min remaining:    0.0s\n",
      "building tree 27 of 100\n",
      "[Parallel(n_jobs=1)]: Done  27 out of  27 | elapsed:  4.1min remaining:    0.0s\n",
      "building tree 28 of 100\n",
      "[Parallel(n_jobs=1)]: Done  28 out of  28 | elapsed:  4.2min remaining:    0.0s\n",
      "building tree 29 of 100\n",
      "[Parallel(n_jobs=1)]: Done  29 out of  29 | elapsed:  4.4min remaining:    0.0s\n",
      "building tree 30 of 100\n",
      "[Parallel(n_jobs=1)]: Done  30 out of  30 | elapsed:  4.5min remaining:    0.0s\n",
      "building tree 31 of 100\n",
      "[Parallel(n_jobs=1)]: Done  31 out of  31 | elapsed:  4.7min remaining:    0.0s\n",
      "building tree 32 of 100\n",
      "[Parallel(n_jobs=1)]: Done  32 out of  32 | elapsed:  4.8min remaining:    0.0s\n",
      "building tree 33 of 100\n",
      "[Parallel(n_jobs=1)]: Done  33 out of  33 | elapsed:  5.0min remaining:    0.0s\n",
      "building tree 34 of 100\n",
      "[Parallel(n_jobs=1)]: Done  34 out of  34 | elapsed:  5.1min remaining:    0.0s\n",
      "building tree 35 of 100\n",
      "[Parallel(n_jobs=1)]: Done  35 out of  35 | elapsed:  5.3min remaining:    0.0s\n",
      "building tree 36 of 100\n",
      "[Parallel(n_jobs=1)]: Done  36 out of  36 | elapsed:  5.5min remaining:    0.0s\n",
      "building tree 37 of 100\n",
      "[Parallel(n_jobs=1)]: Done  37 out of  37 | elapsed:  5.6min remaining:    0.0s\n",
      "building tree 38 of 100\n",
      "[Parallel(n_jobs=1)]: Done  38 out of  38 | elapsed:  5.8min remaining:    0.0s\n",
      "building tree 39 of 100\n",
      "[Parallel(n_jobs=1)]: Done  39 out of  39 | elapsed:  5.9min remaining:    0.0s\n",
      "building tree 40 of 100\n",
      "[Parallel(n_jobs=1)]: Done  40 out of  40 | elapsed:  6.1min remaining:    0.0s\n",
      "building tree 41 of 100\n",
      "[Parallel(n_jobs=1)]: Done  41 out of  41 | elapsed:  6.2min remaining:    0.0s\n",
      "building tree 42 of 100\n",
      "[Parallel(n_jobs=1)]: Done  42 out of  42 | elapsed:  6.4min remaining:    0.0s\n",
      "building tree 43 of 100\n",
      "[Parallel(n_jobs=1)]: Done  43 out of  43 | elapsed:  6.5min remaining:    0.0s\n",
      "building tree 44 of 100\n",
      "[Parallel(n_jobs=1)]: Done  44 out of  44 | elapsed:  6.6min remaining:    0.0s\n",
      "building tree 45 of 100\n",
      "[Parallel(n_jobs=1)]: Done  45 out of  45 | elapsed:  6.8min remaining:    0.0s\n",
      "building tree 46 of 100\n",
      "[Parallel(n_jobs=1)]: Done  46 out of  46 | elapsed:  7.0min remaining:    0.0s\n",
      "building tree 47 of 100\n",
      "[Parallel(n_jobs=1)]: Done  47 out of  47 | elapsed:  7.1min remaining:    0.0s\n",
      "building tree 48 of 100\n",
      "[Parallel(n_jobs=1)]: Done  48 out of  48 | elapsed:  7.2min remaining:    0.0s\n",
      "building tree 49 of 100\n",
      "[Parallel(n_jobs=1)]: Done  49 out of  49 | elapsed:  7.4min remaining:    0.0s\n",
      "building tree 50 of 100\n",
      "[Parallel(n_jobs=1)]: Done  50 out of  50 | elapsed:  7.5min remaining:    0.0s\n",
      "building tree 51 of 100\n",
      "[Parallel(n_jobs=1)]: Done  51 out of  51 | elapsed:  7.7min remaining:    0.0s\n",
      "building tree 52 of 100\n",
      "[Parallel(n_jobs=1)]: Done  52 out of  52 | elapsed:  7.9min remaining:    0.0s\n",
      "building tree 53 of 100\n",
      "[Parallel(n_jobs=1)]: Done  53 out of  53 | elapsed:  8.0min remaining:    0.0s\n",
      "building tree 54 of 100\n",
      "[Parallel(n_jobs=1)]: Done  54 out of  54 | elapsed:  8.1min remaining:    0.0s\n",
      "building tree 55 of 100\n",
      "[Parallel(n_jobs=1)]: Done  55 out of  55 | elapsed:  8.3min remaining:    0.0s\n",
      "building tree 56 of 100\n",
      "[Parallel(n_jobs=1)]: Done  56 out of  56 | elapsed:  8.5min remaining:    0.0s\n",
      "building tree 57 of 100\n",
      "[Parallel(n_jobs=1)]: Done  57 out of  57 | elapsed:  8.6min remaining:    0.0s\n",
      "building tree 58 of 100\n",
      "[Parallel(n_jobs=1)]: Done  58 out of  58 | elapsed:  8.8min remaining:    0.0s\n",
      "building tree 59 of 100\n",
      "[Parallel(n_jobs=1)]: Done  59 out of  59 | elapsed:  8.9min remaining:    0.0s\n",
      "building tree 60 of 100\n",
      "[Parallel(n_jobs=1)]: Done  60 out of  60 | elapsed:  9.1min remaining:    0.0s\n",
      "building tree 61 of 100\n",
      "[Parallel(n_jobs=1)]: Done  61 out of  61 | elapsed:  9.2min remaining:    0.0s\n",
      "building tree 62 of 100\n",
      "[Parallel(n_jobs=1)]: Done  62 out of  62 | elapsed:  9.4min remaining:    0.0s\n",
      "building tree 63 of 100\n",
      "[Parallel(n_jobs=1)]: Done  63 out of  63 | elapsed:  9.5min remaining:    0.0s\n",
      "building tree 64 of 100\n",
      "[Parallel(n_jobs=1)]: Done  64 out of  64 | elapsed:  9.7min remaining:    0.0s\n",
      "building tree 65 of 100\n",
      "[Parallel(n_jobs=1)]: Done  65 out of  65 | elapsed:  9.8min remaining:    0.0s\n",
      "building tree 66 of 100\n",
      "[Parallel(n_jobs=1)]: Done  66 out of  66 | elapsed: 10.0min remaining:    0.0s\n",
      "building tree 67 of 100\n",
      "[Parallel(n_jobs=1)]: Done  67 out of  67 | elapsed: 10.1min remaining:    0.0s\n",
      "building tree 68 of 100\n",
      "[Parallel(n_jobs=1)]: Done  68 out of  68 | elapsed: 10.3min remaining:    0.0s\n",
      "building tree 69 of 100\n",
      "[Parallel(n_jobs=1)]: Done  69 out of  69 | elapsed: 10.4min remaining:    0.0s\n",
      "building tree 70 of 100\n",
      "[Parallel(n_jobs=1)]: Done  70 out of  70 | elapsed: 10.6min remaining:    0.0s\n",
      "building tree 71 of 100\n",
      "[Parallel(n_jobs=1)]: Done  71 out of  71 | elapsed: 10.7min remaining:    0.0s\n",
      "building tree 72 of 100\n",
      "[Parallel(n_jobs=1)]: Done  72 out of  72 | elapsed: 10.9min remaining:    0.0s\n",
      "building tree 73 of 100\n",
      "[Parallel(n_jobs=1)]: Done  73 out of  73 | elapsed: 11.0min remaining:    0.0s\n",
      "building tree 74 of 100\n",
      "[Parallel(n_jobs=1)]: Done  74 out of  74 | elapsed: 11.2min remaining:    0.0s\n",
      "building tree 75 of 100\n",
      "[Parallel(n_jobs=1)]: Done  75 out of  75 | elapsed: 11.3min remaining:    0.0s\n",
      "building tree 76 of 100\n",
      "[Parallel(n_jobs=1)]: Done  76 out of  76 | elapsed: 11.5min remaining:    0.0s\n",
      "building tree 77 of 100\n",
      "[Parallel(n_jobs=1)]: Done  77 out of  77 | elapsed: 11.6min remaining:    0.0s\n",
      "building tree 78 of 100\n",
      "[Parallel(n_jobs=1)]: Done  78 out of  78 | elapsed: 11.8min remaining:    0.0s\n",
      "building tree 79 of 100\n"
     ]
    },
    {
     "name": "stdout",
     "output_type": "stream",
     "text": [
      "[Parallel(n_jobs=1)]: Done  79 out of  79 | elapsed: 11.9min remaining:    0.0s\n",
      "building tree 80 of 100\n",
      "[Parallel(n_jobs=1)]: Done  80 out of  80 | elapsed: 12.1min remaining:    0.0s\n",
      "building tree 81 of 100\n",
      "[Parallel(n_jobs=1)]: Done  81 out of  81 | elapsed: 12.2min remaining:    0.0s\n",
      "building tree 82 of 100\n",
      "[Parallel(n_jobs=1)]: Done  82 out of  82 | elapsed: 12.4min remaining:    0.0s\n",
      "building tree 83 of 100\n",
      "[Parallel(n_jobs=1)]: Done  83 out of  83 | elapsed: 12.5min remaining:    0.0s\n",
      "building tree 84 of 100\n",
      "[Parallel(n_jobs=1)]: Done  84 out of  84 | elapsed: 12.7min remaining:    0.0s\n",
      "building tree 85 of 100\n",
      "[Parallel(n_jobs=1)]: Done  85 out of  85 | elapsed: 12.8min remaining:    0.0s\n",
      "building tree 86 of 100\n",
      "[Parallel(n_jobs=1)]: Done  86 out of  86 | elapsed: 13.0min remaining:    0.0s\n",
      "building tree 87 of 100\n",
      "[Parallel(n_jobs=1)]: Done  87 out of  87 | elapsed: 13.2min remaining:    0.0s\n",
      "building tree 88 of 100\n",
      "[Parallel(n_jobs=1)]: Done  88 out of  88 | elapsed: 13.3min remaining:    0.0s\n",
      "building tree 89 of 100\n",
      "[Parallel(n_jobs=1)]: Done  89 out of  89 | elapsed: 13.5min remaining:    0.0s\n",
      "building tree 90 of 100\n",
      "[Parallel(n_jobs=1)]: Done  90 out of  90 | elapsed: 13.6min remaining:    0.0s\n",
      "building tree 91 of 100\n",
      "[Parallel(n_jobs=1)]: Done  91 out of  91 | elapsed: 13.8min remaining:    0.0s\n",
      "building tree 92 of 100\n",
      "[Parallel(n_jobs=1)]: Done  92 out of  92 | elapsed: 13.9min remaining:    0.0s\n",
      "building tree 93 of 100\n",
      "[Parallel(n_jobs=1)]: Done  93 out of  93 | elapsed: 14.1min remaining:    0.0s\n",
      "building tree 94 of 100\n",
      "[Parallel(n_jobs=1)]: Done  94 out of  94 | elapsed: 14.2min remaining:    0.0s\n",
      "building tree 95 of 100\n",
      "[Parallel(n_jobs=1)]: Done  95 out of  95 | elapsed: 14.4min remaining:    0.0s\n",
      "building tree 96 of 100\n",
      "[Parallel(n_jobs=1)]: Done  96 out of  96 | elapsed: 14.5min remaining:    0.0s\n",
      "building tree 97 of 100\n",
      "[Parallel(n_jobs=1)]: Done  97 out of  97 | elapsed: 14.7min remaining:    0.0s\n",
      "building tree 98 of 100\n",
      "[Parallel(n_jobs=1)]: Done  98 out of  98 | elapsed: 14.8min remaining:    0.0s\n",
      "building tree 99 of 100\n",
      "[Parallel(n_jobs=1)]: Done  99 out of  99 | elapsed: 15.0min remaining:    0.0s\n",
      "building tree 100 of 100\n",
      "[Parallel(n_jobs=1)]: Done 100 out of 100 | elapsed: 15.1min finished\n",
      "[Parallel(n_jobs=1)]: Using backend SequentialBackend with 1 concurrent workers.\n",
      "[Parallel(n_jobs=1)]: Done   1 out of   1 | elapsed:    0.0s remaining:    0.0s\n",
      "[Parallel(n_jobs=1)]: Done   2 out of   2 | elapsed:    0.0s remaining:    0.0s\n",
      "[Parallel(n_jobs=1)]: Done   3 out of   3 | elapsed:    0.1s remaining:    0.0s\n",
      "[Parallel(n_jobs=1)]: Done   4 out of   4 | elapsed:    0.1s remaining:    0.0s\n",
      "[Parallel(n_jobs=1)]: Done   5 out of   5 | elapsed:    0.1s remaining:    0.0s\n",
      "[Parallel(n_jobs=1)]: Done   6 out of   6 | elapsed:    0.2s remaining:    0.0s\n",
      "[Parallel(n_jobs=1)]: Done   7 out of   7 | elapsed:    0.2s remaining:    0.0s\n",
      "[Parallel(n_jobs=1)]: Done   8 out of   8 | elapsed:    0.3s remaining:    0.0s\n",
      "[Parallel(n_jobs=1)]: Done   9 out of   9 | elapsed:    0.4s remaining:    0.0s\n",
      "[Parallel(n_jobs=1)]: Done  10 out of  10 | elapsed:    0.4s remaining:    0.0s\n",
      "[Parallel(n_jobs=1)]: Done  11 out of  11 | elapsed:    0.5s remaining:    0.0s\n",
      "[Parallel(n_jobs=1)]: Done  12 out of  12 | elapsed:    0.5s remaining:    0.0s\n",
      "[Parallel(n_jobs=1)]: Done  13 out of  13 | elapsed:    0.6s remaining:    0.0s\n",
      "[Parallel(n_jobs=1)]: Done  14 out of  14 | elapsed:    0.6s remaining:    0.0s\n",
      "[Parallel(n_jobs=1)]: Done  15 out of  15 | elapsed:    0.7s remaining:    0.0s\n",
      "[Parallel(n_jobs=1)]: Done  16 out of  16 | elapsed:    0.7s remaining:    0.0s\n",
      "[Parallel(n_jobs=1)]: Done  17 out of  17 | elapsed:    0.8s remaining:    0.0s\n",
      "[Parallel(n_jobs=1)]: Done  18 out of  18 | elapsed:    0.8s remaining:    0.0s\n",
      "[Parallel(n_jobs=1)]: Done  19 out of  19 | elapsed:    0.9s remaining:    0.0s\n",
      "[Parallel(n_jobs=1)]: Done  20 out of  20 | elapsed:    0.9s remaining:    0.0s\n",
      "[Parallel(n_jobs=1)]: Done  21 out of  21 | elapsed:    1.0s remaining:    0.0s\n",
      "[Parallel(n_jobs=1)]: Done  22 out of  22 | elapsed:    1.0s remaining:    0.0s\n",
      "[Parallel(n_jobs=1)]: Done  23 out of  23 | elapsed:    1.1s remaining:    0.0s\n",
      "[Parallel(n_jobs=1)]: Done  24 out of  24 | elapsed:    1.1s remaining:    0.0s\n",
      "[Parallel(n_jobs=1)]: Done  25 out of  25 | elapsed:    1.2s remaining:    0.0s\n",
      "[Parallel(n_jobs=1)]: Done  26 out of  26 | elapsed:    1.2s remaining:    0.0s\n",
      "[Parallel(n_jobs=1)]: Done  27 out of  27 | elapsed:    1.3s remaining:    0.0s\n",
      "[Parallel(n_jobs=1)]: Done  28 out of  28 | elapsed:    1.3s remaining:    0.0s\n",
      "[Parallel(n_jobs=1)]: Done  29 out of  29 | elapsed:    1.4s remaining:    0.0s\n",
      "[Parallel(n_jobs=1)]: Done  30 out of  30 | elapsed:    1.4s remaining:    0.0s\n",
      "[Parallel(n_jobs=1)]: Done  31 out of  31 | elapsed:    1.5s remaining:    0.0s\n",
      "[Parallel(n_jobs=1)]: Done  32 out of  32 | elapsed:    1.5s remaining:    0.0s\n",
      "[Parallel(n_jobs=1)]: Done  33 out of  33 | elapsed:    1.6s remaining:    0.0s\n",
      "[Parallel(n_jobs=1)]: Done  34 out of  34 | elapsed:    1.6s remaining:    0.0s\n",
      "[Parallel(n_jobs=1)]: Done  35 out of  35 | elapsed:    1.7s remaining:    0.0s\n",
      "[Parallel(n_jobs=1)]: Done  36 out of  36 | elapsed:    1.7s remaining:    0.0s\n",
      "[Parallel(n_jobs=1)]: Done  37 out of  37 | elapsed:    1.8s remaining:    0.0s\n",
      "[Parallel(n_jobs=1)]: Done  38 out of  38 | elapsed:    1.8s remaining:    0.0s\n",
      "[Parallel(n_jobs=1)]: Done  39 out of  39 | elapsed:    1.9s remaining:    0.0s\n",
      "[Parallel(n_jobs=1)]: Done  40 out of  40 | elapsed:    1.9s remaining:    0.0s\n",
      "[Parallel(n_jobs=1)]: Done  41 out of  41 | elapsed:    2.0s remaining:    0.0s\n",
      "[Parallel(n_jobs=1)]: Done  42 out of  42 | elapsed:    2.0s remaining:    0.0s\n",
      "[Parallel(n_jobs=1)]: Done  43 out of  43 | elapsed:    2.1s remaining:    0.0s\n",
      "[Parallel(n_jobs=1)]: Done  44 out of  44 | elapsed:    2.1s remaining:    0.0s\n",
      "[Parallel(n_jobs=1)]: Done  45 out of  45 | elapsed:    2.2s remaining:    0.0s\n",
      "[Parallel(n_jobs=1)]: Done  46 out of  46 | elapsed:    2.3s remaining:    0.0s\n",
      "[Parallel(n_jobs=1)]: Done  47 out of  47 | elapsed:    2.3s remaining:    0.0s\n",
      "[Parallel(n_jobs=1)]: Done  48 out of  48 | elapsed:    2.4s remaining:    0.0s\n",
      "[Parallel(n_jobs=1)]: Done  49 out of  49 | elapsed:    2.4s remaining:    0.0s\n",
      "[Parallel(n_jobs=1)]: Done  50 out of  50 | elapsed:    2.5s remaining:    0.0s\n",
      "[Parallel(n_jobs=1)]: Done  51 out of  51 | elapsed:    2.5s remaining:    0.0s\n",
      "[Parallel(n_jobs=1)]: Done  52 out of  52 | elapsed:    2.6s remaining:    0.0s\n",
      "[Parallel(n_jobs=1)]: Done  53 out of  53 | elapsed:    2.6s remaining:    0.0s\n",
      "[Parallel(n_jobs=1)]: Done  54 out of  54 | elapsed:    2.7s remaining:    0.0s\n",
      "[Parallel(n_jobs=1)]: Done  55 out of  55 | elapsed:    2.7s remaining:    0.0s\n",
      "[Parallel(n_jobs=1)]: Done  56 out of  56 | elapsed:    2.8s remaining:    0.0s\n",
      "[Parallel(n_jobs=1)]: Done  57 out of  57 | elapsed:    2.8s remaining:    0.0s\n",
      "[Parallel(n_jobs=1)]: Done  58 out of  58 | elapsed:    2.9s remaining:    0.0s\n",
      "[Parallel(n_jobs=1)]: Done  59 out of  59 | elapsed:    2.9s remaining:    0.0s\n",
      "[Parallel(n_jobs=1)]: Done  60 out of  60 | elapsed:    3.0s remaining:    0.0s\n",
      "[Parallel(n_jobs=1)]: Done  61 out of  61 | elapsed:    3.0s remaining:    0.0s\n",
      "[Parallel(n_jobs=1)]: Done  62 out of  62 | elapsed:    3.1s remaining:    0.0s\n",
      "[Parallel(n_jobs=1)]: Done  63 out of  63 | elapsed:    3.1s remaining:    0.0s\n",
      "[Parallel(n_jobs=1)]: Done  64 out of  64 | elapsed:    3.2s remaining:    0.0s\n",
      "[Parallel(n_jobs=1)]: Done  65 out of  65 | elapsed:    3.2s remaining:    0.0s\n",
      "[Parallel(n_jobs=1)]: Done  66 out of  66 | elapsed:    3.3s remaining:    0.0s\n",
      "[Parallel(n_jobs=1)]: Done  67 out of  67 | elapsed:    3.3s remaining:    0.0s\n",
      "[Parallel(n_jobs=1)]: Done  68 out of  68 | elapsed:    3.4s remaining:    0.0s\n",
      "[Parallel(n_jobs=1)]: Done  69 out of  69 | elapsed:    3.4s remaining:    0.0s\n",
      "[Parallel(n_jobs=1)]: Done  70 out of  70 | elapsed:    3.5s remaining:    0.0s\n",
      "[Parallel(n_jobs=1)]: Done  71 out of  71 | elapsed:    3.5s remaining:    0.0s\n",
      "[Parallel(n_jobs=1)]: Done  72 out of  72 | elapsed:    3.6s remaining:    0.0s\n",
      "[Parallel(n_jobs=1)]: Done  73 out of  73 | elapsed:    3.6s remaining:    0.0s\n",
      "[Parallel(n_jobs=1)]: Done  74 out of  74 | elapsed:    3.7s remaining:    0.0s\n",
      "[Parallel(n_jobs=1)]: Done  75 out of  75 | elapsed:    3.7s remaining:    0.0s\n",
      "[Parallel(n_jobs=1)]: Done  76 out of  76 | elapsed:    3.8s remaining:    0.0s\n"
     ]
    },
    {
     "name": "stdout",
     "output_type": "stream",
     "text": [
      "[Parallel(n_jobs=1)]: Done  77 out of  77 | elapsed:    3.8s remaining:    0.0s\n",
      "[Parallel(n_jobs=1)]: Done  78 out of  78 | elapsed:    3.9s remaining:    0.0s\n",
      "[Parallel(n_jobs=1)]: Done  79 out of  79 | elapsed:    3.9s remaining:    0.0s\n",
      "[Parallel(n_jobs=1)]: Done  80 out of  80 | elapsed:    4.0s remaining:    0.0s\n",
      "[Parallel(n_jobs=1)]: Done  81 out of  81 | elapsed:    4.0s remaining:    0.0s\n",
      "[Parallel(n_jobs=1)]: Done  82 out of  82 | elapsed:    4.1s remaining:    0.0s\n",
      "[Parallel(n_jobs=1)]: Done  83 out of  83 | elapsed:    4.1s remaining:    0.0s\n",
      "[Parallel(n_jobs=1)]: Done  84 out of  84 | elapsed:    4.2s remaining:    0.0s\n",
      "[Parallel(n_jobs=1)]: Done  85 out of  85 | elapsed:    4.2s remaining:    0.0s\n",
      "[Parallel(n_jobs=1)]: Done  86 out of  86 | elapsed:    4.3s remaining:    0.0s\n",
      "[Parallel(n_jobs=1)]: Done  87 out of  87 | elapsed:    4.3s remaining:    0.0s\n",
      "[Parallel(n_jobs=1)]: Done  88 out of  88 | elapsed:    4.4s remaining:    0.0s\n",
      "[Parallel(n_jobs=1)]: Done  89 out of  89 | elapsed:    4.4s remaining:    0.0s\n",
      "[Parallel(n_jobs=1)]: Done  90 out of  90 | elapsed:    4.5s remaining:    0.0s\n",
      "[Parallel(n_jobs=1)]: Done  91 out of  91 | elapsed:    4.5s remaining:    0.0s\n",
      "[Parallel(n_jobs=1)]: Done  92 out of  92 | elapsed:    4.6s remaining:    0.0s\n",
      "[Parallel(n_jobs=1)]: Done  93 out of  93 | elapsed:    4.6s remaining:    0.0s\n",
      "[Parallel(n_jobs=1)]: Done  94 out of  94 | elapsed:    4.7s remaining:    0.0s\n",
      "[Parallel(n_jobs=1)]: Done  95 out of  95 | elapsed:    4.7s remaining:    0.0s\n",
      "[Parallel(n_jobs=1)]: Done  96 out of  96 | elapsed:    4.8s remaining:    0.0s\n",
      "[Parallel(n_jobs=1)]: Done  97 out of  97 | elapsed:    4.8s remaining:    0.0s\n",
      "[Parallel(n_jobs=1)]: Done  98 out of  98 | elapsed:    4.9s remaining:    0.0s\n",
      "[Parallel(n_jobs=1)]: Done  99 out of  99 | elapsed:    4.9s remaining:    0.0s\n",
      "[Parallel(n_jobs=1)]: Done 100 out of 100 | elapsed:    5.0s finished\n",
      "[Parallel(n_jobs=1)]: Using backend SequentialBackend with 1 concurrent workers.\n",
      "[Parallel(n_jobs=1)]: Done   1 out of   1 | elapsed:    0.1s remaining:    0.0s\n",
      "[Parallel(n_jobs=1)]: Done   2 out of   2 | elapsed:    0.2s remaining:    0.0s\n",
      "[Parallel(n_jobs=1)]: Done   3 out of   3 | elapsed:    0.4s remaining:    0.0s\n",
      "[Parallel(n_jobs=1)]: Done   4 out of   4 | elapsed:    0.6s remaining:    0.0s\n",
      "[Parallel(n_jobs=1)]: Done   5 out of   5 | elapsed:    0.7s remaining:    0.0s\n",
      "[Parallel(n_jobs=1)]: Done   6 out of   6 | elapsed:    0.9s remaining:    0.0s\n",
      "[Parallel(n_jobs=1)]: Done   7 out of   7 | elapsed:    1.1s remaining:    0.0s\n",
      "[Parallel(n_jobs=1)]: Done   8 out of   8 | elapsed:    1.2s remaining:    0.0s\n",
      "[Parallel(n_jobs=1)]: Done   9 out of   9 | elapsed:    1.4s remaining:    0.0s\n",
      "[Parallel(n_jobs=1)]: Done  10 out of  10 | elapsed:    1.5s remaining:    0.0s\n",
      "[Parallel(n_jobs=1)]: Done  11 out of  11 | elapsed:    1.7s remaining:    0.0s\n",
      "[Parallel(n_jobs=1)]: Done  12 out of  12 | elapsed:    1.8s remaining:    0.0s\n",
      "[Parallel(n_jobs=1)]: Done  13 out of  13 | elapsed:    2.0s remaining:    0.0s\n",
      "[Parallel(n_jobs=1)]: Done  14 out of  14 | elapsed:    2.2s remaining:    0.0s\n",
      "[Parallel(n_jobs=1)]: Done  15 out of  15 | elapsed:    2.3s remaining:    0.0s\n",
      "[Parallel(n_jobs=1)]: Done  16 out of  16 | elapsed:    2.5s remaining:    0.0s\n",
      "[Parallel(n_jobs=1)]: Done  17 out of  17 | elapsed:    2.7s remaining:    0.0s\n",
      "[Parallel(n_jobs=1)]: Done  18 out of  18 | elapsed:    2.9s remaining:    0.0s\n",
      "[Parallel(n_jobs=1)]: Done  19 out of  19 | elapsed:    3.0s remaining:    0.0s\n",
      "[Parallel(n_jobs=1)]: Done  20 out of  20 | elapsed:    3.2s remaining:    0.0s\n",
      "[Parallel(n_jobs=1)]: Done  21 out of  21 | elapsed:    3.4s remaining:    0.0s\n",
      "[Parallel(n_jobs=1)]: Done  22 out of  22 | elapsed:    3.5s remaining:    0.0s\n",
      "[Parallel(n_jobs=1)]: Done  23 out of  23 | elapsed:    3.7s remaining:    0.0s\n",
      "[Parallel(n_jobs=1)]: Done  24 out of  24 | elapsed:    3.9s remaining:    0.0s\n",
      "[Parallel(n_jobs=1)]: Done  25 out of  25 | elapsed:    4.0s remaining:    0.0s\n",
      "[Parallel(n_jobs=1)]: Done  26 out of  26 | elapsed:    4.2s remaining:    0.0s\n",
      "[Parallel(n_jobs=1)]: Done  27 out of  27 | elapsed:    4.3s remaining:    0.0s\n",
      "[Parallel(n_jobs=1)]: Done  28 out of  28 | elapsed:    4.5s remaining:    0.0s\n",
      "[Parallel(n_jobs=1)]: Done  29 out of  29 | elapsed:    4.7s remaining:    0.0s\n",
      "[Parallel(n_jobs=1)]: Done  30 out of  30 | elapsed:    4.8s remaining:    0.0s\n",
      "[Parallel(n_jobs=1)]: Done  31 out of  31 | elapsed:    5.0s remaining:    0.0s\n",
      "[Parallel(n_jobs=1)]: Done  32 out of  32 | elapsed:    5.2s remaining:    0.0s\n",
      "[Parallel(n_jobs=1)]: Done  33 out of  33 | elapsed:    5.4s remaining:    0.0s\n",
      "[Parallel(n_jobs=1)]: Done  34 out of  34 | elapsed:    5.6s remaining:    0.0s\n",
      "[Parallel(n_jobs=1)]: Done  35 out of  35 | elapsed:    5.8s remaining:    0.0s\n",
      "[Parallel(n_jobs=1)]: Done  36 out of  36 | elapsed:    6.0s remaining:    0.0s\n",
      "[Parallel(n_jobs=1)]: Done  37 out of  37 | elapsed:    6.2s remaining:    0.0s\n",
      "[Parallel(n_jobs=1)]: Done  38 out of  38 | elapsed:    6.4s remaining:    0.0s\n",
      "[Parallel(n_jobs=1)]: Done  39 out of  39 | elapsed:    6.6s remaining:    0.0s\n",
      "[Parallel(n_jobs=1)]: Done  40 out of  40 | elapsed:    6.7s remaining:    0.0s\n",
      "[Parallel(n_jobs=1)]: Done  41 out of  41 | elapsed:    6.9s remaining:    0.0s\n",
      "[Parallel(n_jobs=1)]: Done  42 out of  42 | elapsed:    7.1s remaining:    0.0s\n",
      "[Parallel(n_jobs=1)]: Done  43 out of  43 | elapsed:    7.2s remaining:    0.0s\n",
      "[Parallel(n_jobs=1)]: Done  44 out of  44 | elapsed:    7.4s remaining:    0.0s\n",
      "[Parallel(n_jobs=1)]: Done  45 out of  45 | elapsed:    7.5s remaining:    0.0s\n",
      "[Parallel(n_jobs=1)]: Done  46 out of  46 | elapsed:    7.7s remaining:    0.0s\n",
      "[Parallel(n_jobs=1)]: Done  47 out of  47 | elapsed:    7.9s remaining:    0.0s\n",
      "[Parallel(n_jobs=1)]: Done  48 out of  48 | elapsed:    8.0s remaining:    0.0s\n",
      "[Parallel(n_jobs=1)]: Done  49 out of  49 | elapsed:    8.2s remaining:    0.0s\n",
      "[Parallel(n_jobs=1)]: Done  50 out of  50 | elapsed:    8.3s remaining:    0.0s\n",
      "[Parallel(n_jobs=1)]: Done  51 out of  51 | elapsed:    8.5s remaining:    0.0s\n",
      "[Parallel(n_jobs=1)]: Done  52 out of  52 | elapsed:    8.7s remaining:    0.0s\n",
      "[Parallel(n_jobs=1)]: Done  53 out of  53 | elapsed:    8.8s remaining:    0.0s\n",
      "[Parallel(n_jobs=1)]: Done  54 out of  54 | elapsed:    9.0s remaining:    0.0s\n",
      "[Parallel(n_jobs=1)]: Done  55 out of  55 | elapsed:    9.1s remaining:    0.0s\n",
      "[Parallel(n_jobs=1)]: Done  56 out of  56 | elapsed:    9.3s remaining:    0.0s\n",
      "[Parallel(n_jobs=1)]: Done  57 out of  57 | elapsed:    9.5s remaining:    0.0s\n",
      "[Parallel(n_jobs=1)]: Done  58 out of  58 | elapsed:    9.6s remaining:    0.0s\n",
      "[Parallel(n_jobs=1)]: Done  59 out of  59 | elapsed:    9.8s remaining:    0.0s\n",
      "[Parallel(n_jobs=1)]: Done  60 out of  60 | elapsed:    9.9s remaining:    0.0s\n",
      "[Parallel(n_jobs=1)]: Done  61 out of  61 | elapsed:   10.1s remaining:    0.0s\n",
      "[Parallel(n_jobs=1)]: Done  62 out of  62 | elapsed:   10.3s remaining:    0.0s\n",
      "[Parallel(n_jobs=1)]: Done  63 out of  63 | elapsed:   10.4s remaining:    0.0s\n",
      "[Parallel(n_jobs=1)]: Done  64 out of  64 | elapsed:   10.6s remaining:    0.0s\n",
      "[Parallel(n_jobs=1)]: Done  65 out of  65 | elapsed:   10.7s remaining:    0.0s\n",
      "[Parallel(n_jobs=1)]: Done  66 out of  66 | elapsed:   10.9s remaining:    0.0s\n",
      "[Parallel(n_jobs=1)]: Done  67 out of  67 | elapsed:   11.1s remaining:    0.0s\n",
      "[Parallel(n_jobs=1)]: Done  68 out of  68 | elapsed:   11.2s remaining:    0.0s\n",
      "[Parallel(n_jobs=1)]: Done  69 out of  69 | elapsed:   11.4s remaining:    0.0s\n",
      "[Parallel(n_jobs=1)]: Done  70 out of  70 | elapsed:   11.5s remaining:    0.0s\n",
      "[Parallel(n_jobs=1)]: Done  71 out of  71 | elapsed:   11.7s remaining:    0.0s\n",
      "[Parallel(n_jobs=1)]: Done  72 out of  72 | elapsed:   11.9s remaining:    0.0s\n",
      "[Parallel(n_jobs=1)]: Done  73 out of  73 | elapsed:   12.0s remaining:    0.0s\n",
      "[Parallel(n_jobs=1)]: Done  74 out of  74 | elapsed:   12.2s remaining:    0.0s\n",
      "[Parallel(n_jobs=1)]: Done  75 out of  75 | elapsed:   12.4s remaining:    0.0s\n",
      "[Parallel(n_jobs=1)]: Done  76 out of  76 | elapsed:   12.5s remaining:    0.0s\n",
      "[Parallel(n_jobs=1)]: Done  77 out of  77 | elapsed:   12.7s remaining:    0.0s\n",
      "[Parallel(n_jobs=1)]: Done  78 out of  78 | elapsed:   12.8s remaining:    0.0s\n"
     ]
    },
    {
     "name": "stdout",
     "output_type": "stream",
     "text": [
      "[Parallel(n_jobs=1)]: Done  79 out of  79 | elapsed:   13.0s remaining:    0.0s\n",
      "[Parallel(n_jobs=1)]: Done  80 out of  80 | elapsed:   13.2s remaining:    0.0s\n",
      "[Parallel(n_jobs=1)]: Done  81 out of  81 | elapsed:   13.3s remaining:    0.0s\n",
      "[Parallel(n_jobs=1)]: Done  82 out of  82 | elapsed:   13.5s remaining:    0.0s\n",
      "[Parallel(n_jobs=1)]: Done  83 out of  83 | elapsed:   13.6s remaining:    0.0s\n",
      "[Parallel(n_jobs=1)]: Done  84 out of  84 | elapsed:   13.8s remaining:    0.0s\n",
      "[Parallel(n_jobs=1)]: Done  85 out of  85 | elapsed:   14.0s remaining:    0.0s\n",
      "[Parallel(n_jobs=1)]: Done  86 out of  86 | elapsed:   14.1s remaining:    0.0s\n",
      "[Parallel(n_jobs=1)]: Done  87 out of  87 | elapsed:   14.3s remaining:    0.0s\n",
      "[Parallel(n_jobs=1)]: Done  88 out of  88 | elapsed:   14.4s remaining:    0.0s\n",
      "[Parallel(n_jobs=1)]: Done  89 out of  89 | elapsed:   14.6s remaining:    0.0s\n",
      "[Parallel(n_jobs=1)]: Done  90 out of  90 | elapsed:   14.8s remaining:    0.0s\n",
      "[Parallel(n_jobs=1)]: Done  91 out of  91 | elapsed:   14.9s remaining:    0.0s\n",
      "[Parallel(n_jobs=1)]: Done  92 out of  92 | elapsed:   15.1s remaining:    0.0s\n",
      "[Parallel(n_jobs=1)]: Done  93 out of  93 | elapsed:   15.2s remaining:    0.0s\n",
      "[Parallel(n_jobs=1)]: Done  94 out of  94 | elapsed:   15.4s remaining:    0.0s\n",
      "[Parallel(n_jobs=1)]: Done  95 out of  95 | elapsed:   15.6s remaining:    0.0s\n",
      "[Parallel(n_jobs=1)]: Done  96 out of  96 | elapsed:   15.7s remaining:    0.0s\n",
      "[Parallel(n_jobs=1)]: Done  97 out of  97 | elapsed:   15.9s remaining:    0.0s\n",
      "[Parallel(n_jobs=1)]: Done  98 out of  98 | elapsed:   16.0s remaining:    0.0s\n",
      "[Parallel(n_jobs=1)]: Done  99 out of  99 | elapsed:   16.2s remaining:    0.0s\n",
      "[Parallel(n_jobs=1)]: Done 100 out of 100 | elapsed:   16.4s finished\n",
      "0 0.7335464977935544\n",
      "Encoding\n",
      "Training\n",
      "[Parallel(n_jobs=1)]: Using backend SequentialBackend with 1 concurrent workers.\n",
      "building tree 1 of 100\n",
      "[Parallel(n_jobs=1)]: Done   1 out of   1 | elapsed:    9.6s remaining:    0.0s\n",
      "building tree 2 of 100\n",
      "[Parallel(n_jobs=1)]: Done   2 out of   2 | elapsed:   20.2s remaining:    0.0s\n",
      "building tree 3 of 100\n",
      "[Parallel(n_jobs=1)]: Done   3 out of   3 | elapsed:   29.8s remaining:    0.0s\n",
      "building tree 4 of 100\n",
      "[Parallel(n_jobs=1)]: Done   4 out of   4 | elapsed:   38.9s remaining:    0.0s\n",
      "building tree 5 of 100\n",
      "[Parallel(n_jobs=1)]: Done   5 out of   5 | elapsed:   47.4s remaining:    0.0s\n",
      "building tree 6 of 100\n",
      "[Parallel(n_jobs=1)]: Done   6 out of   6 | elapsed:   56.5s remaining:    0.0s\n",
      "building tree 7 of 100\n",
      "[Parallel(n_jobs=1)]: Done   7 out of   7 | elapsed:  1.1min remaining:    0.0s\n",
      "building tree 8 of 100\n",
      "[Parallel(n_jobs=1)]: Done   8 out of   8 | elapsed:  1.2min remaining:    0.0s\n",
      "building tree 9 of 100\n",
      "[Parallel(n_jobs=1)]: Done   9 out of   9 | elapsed:  1.4min remaining:    0.0s\n",
      "building tree 10 of 100\n",
      "[Parallel(n_jobs=1)]: Done  10 out of  10 | elapsed:  1.5min remaining:    0.0s\n",
      "building tree 11 of 100\n",
      "[Parallel(n_jobs=1)]: Done  11 out of  11 | elapsed:  1.7min remaining:    0.0s\n",
      "building tree 12 of 100\n",
      "[Parallel(n_jobs=1)]: Done  12 out of  12 | elapsed:  1.8min remaining:    0.0s\n",
      "building tree 13 of 100\n",
      "[Parallel(n_jobs=1)]: Done  13 out of  13 | elapsed:  2.0min remaining:    0.0s\n",
      "building tree 14 of 100\n",
      "[Parallel(n_jobs=1)]: Done  14 out of  14 | elapsed:  2.1min remaining:    0.0s\n",
      "building tree 15 of 100\n",
      "[Parallel(n_jobs=1)]: Done  15 out of  15 | elapsed:  2.3min remaining:    0.0s\n",
      "building tree 16 of 100\n",
      "[Parallel(n_jobs=1)]: Done  16 out of  16 | elapsed:  2.4min remaining:    0.0s\n",
      "building tree 17 of 100\n",
      "[Parallel(n_jobs=1)]: Done  17 out of  17 | elapsed:  2.6min remaining:    0.0s\n",
      "building tree 18 of 100\n",
      "[Parallel(n_jobs=1)]: Done  18 out of  18 | elapsed:  2.7min remaining:    0.0s\n",
      "building tree 19 of 100\n",
      "[Parallel(n_jobs=1)]: Done  19 out of  19 | elapsed:  2.9min remaining:    0.0s\n",
      "building tree 20 of 100\n",
      "[Parallel(n_jobs=1)]: Done  20 out of  20 | elapsed:  3.0min remaining:    0.0s\n",
      "building tree 21 of 100\n",
      "[Parallel(n_jobs=1)]: Done  21 out of  21 | elapsed:  3.2min remaining:    0.0s\n",
      "building tree 22 of 100\n",
      "[Parallel(n_jobs=1)]: Done  22 out of  22 | elapsed:  3.3min remaining:    0.0s\n",
      "building tree 23 of 100\n",
      "[Parallel(n_jobs=1)]: Done  23 out of  23 | elapsed:  3.5min remaining:    0.0s\n",
      "building tree 24 of 100\n",
      "[Parallel(n_jobs=1)]: Done  24 out of  24 | elapsed:  3.6min remaining:    0.0s\n",
      "building tree 25 of 100\n",
      "[Parallel(n_jobs=1)]: Done  25 out of  25 | elapsed:  3.8min remaining:    0.0s\n",
      "building tree 26 of 100\n",
      "[Parallel(n_jobs=1)]: Done  26 out of  26 | elapsed:  3.9min remaining:    0.0s\n",
      "building tree 27 of 100\n",
      "[Parallel(n_jobs=1)]: Done  27 out of  27 | elapsed:  4.1min remaining:    0.0s\n",
      "building tree 28 of 100\n",
      "[Parallel(n_jobs=1)]: Done  28 out of  28 | elapsed:  4.2min remaining:    0.0s\n",
      "building tree 29 of 100\n",
      "[Parallel(n_jobs=1)]: Done  29 out of  29 | elapsed:  4.4min remaining:    0.0s\n",
      "building tree 30 of 100\n",
      "[Parallel(n_jobs=1)]: Done  30 out of  30 | elapsed:  4.5min remaining:    0.0s\n",
      "building tree 31 of 100\n",
      "[Parallel(n_jobs=1)]: Done  31 out of  31 | elapsed:  4.7min remaining:    0.0s\n",
      "building tree 32 of 100\n",
      "[Parallel(n_jobs=1)]: Done  32 out of  32 | elapsed:  4.8min remaining:    0.0s\n",
      "building tree 33 of 100\n",
      "[Parallel(n_jobs=1)]: Done  33 out of  33 | elapsed:  5.0min remaining:    0.0s\n",
      "building tree 34 of 100\n",
      "[Parallel(n_jobs=1)]: Done  34 out of  34 | elapsed:  5.1min remaining:    0.0s\n",
      "building tree 35 of 100\n",
      "[Parallel(n_jobs=1)]: Done  35 out of  35 | elapsed:  5.3min remaining:    0.0s\n",
      "building tree 36 of 100\n",
      "[Parallel(n_jobs=1)]: Done  36 out of  36 | elapsed:  5.4min remaining:    0.0s\n",
      "building tree 37 of 100\n",
      "[Parallel(n_jobs=1)]: Done  37 out of  37 | elapsed:  5.6min remaining:    0.0s\n",
      "building tree 38 of 100\n",
      "[Parallel(n_jobs=1)]: Done  38 out of  38 | elapsed:  5.7min remaining:    0.0s\n",
      "building tree 39 of 100\n",
      "[Parallel(n_jobs=1)]: Done  39 out of  39 | elapsed:  5.9min remaining:    0.0s\n",
      "building tree 40 of 100\n",
      "[Parallel(n_jobs=1)]: Done  40 out of  40 | elapsed:  6.0min remaining:    0.0s\n",
      "building tree 41 of 100\n",
      "[Parallel(n_jobs=1)]: Done  41 out of  41 | elapsed:  6.2min remaining:    0.0s\n",
      "building tree 42 of 100\n",
      "[Parallel(n_jobs=1)]: Done  42 out of  42 | elapsed:  6.3min remaining:    0.0s\n",
      "building tree 43 of 100\n",
      "[Parallel(n_jobs=1)]: Done  43 out of  43 | elapsed:  6.5min remaining:    0.0s\n",
      "building tree 44 of 100\n",
      "[Parallel(n_jobs=1)]: Done  44 out of  44 | elapsed:  6.6min remaining:    0.0s\n",
      "building tree 45 of 100\n",
      "[Parallel(n_jobs=1)]: Done  45 out of  45 | elapsed:  6.8min remaining:    0.0s\n",
      "building tree 46 of 100\n",
      "[Parallel(n_jobs=1)]: Done  46 out of  46 | elapsed:  6.9min remaining:    0.0s\n",
      "building tree 47 of 100\n",
      "[Parallel(n_jobs=1)]: Done  47 out of  47 | elapsed:  7.1min remaining:    0.0s\n",
      "building tree 48 of 100\n",
      "[Parallel(n_jobs=1)]: Done  48 out of  48 | elapsed:  7.2min remaining:    0.0s\n",
      "building tree 49 of 100\n",
      "[Parallel(n_jobs=1)]: Done  49 out of  49 | elapsed:  7.4min remaining:    0.0s\n",
      "building tree 50 of 100\n",
      "[Parallel(n_jobs=1)]: Done  50 out of  50 | elapsed:  7.5min remaining:    0.0s\n",
      "building tree 51 of 100\n",
      "[Parallel(n_jobs=1)]: Done  51 out of  51 | elapsed:  7.7min remaining:    0.0s\n",
      "building tree 52 of 100\n",
      "[Parallel(n_jobs=1)]: Done  52 out of  52 | elapsed:  7.8min remaining:    0.0s\n",
      "building tree 53 of 100\n",
      "[Parallel(n_jobs=1)]: Done  53 out of  53 | elapsed:  8.0min remaining:    0.0s\n",
      "building tree 54 of 100\n",
      "[Parallel(n_jobs=1)]: Done  54 out of  54 | elapsed:  8.2min remaining:    0.0s\n",
      "building tree 55 of 100\n",
      "[Parallel(n_jobs=1)]: Done  55 out of  55 | elapsed:  8.3min remaining:    0.0s\n",
      "building tree 56 of 100\n",
      "[Parallel(n_jobs=1)]: Done  56 out of  56 | elapsed:  8.5min remaining:    0.0s\n",
      "building tree 57 of 100\n",
      "[Parallel(n_jobs=1)]: Done  57 out of  57 | elapsed:  8.6min remaining:    0.0s\n",
      "building tree 58 of 100\n",
      "[Parallel(n_jobs=1)]: Done  58 out of  58 | elapsed:  8.8min remaining:    0.0s\n",
      "building tree 59 of 100\n",
      "[Parallel(n_jobs=1)]: Done  59 out of  59 | elapsed:  8.9min remaining:    0.0s\n",
      "building tree 60 of 100\n",
      "[Parallel(n_jobs=1)]: Done  60 out of  60 | elapsed:  9.1min remaining:    0.0s\n",
      "building tree 61 of 100\n",
      "[Parallel(n_jobs=1)]: Done  61 out of  61 | elapsed:  9.2min remaining:    0.0s\n",
      "building tree 62 of 100\n"
     ]
    },
    {
     "name": "stdout",
     "output_type": "stream",
     "text": [
      "[Parallel(n_jobs=1)]: Done  62 out of  62 | elapsed:  9.4min remaining:    0.0s\n",
      "building tree 63 of 100\n",
      "[Parallel(n_jobs=1)]: Done  63 out of  63 | elapsed:  9.5min remaining:    0.0s\n",
      "building tree 64 of 100\n",
      "[Parallel(n_jobs=1)]: Done  64 out of  64 | elapsed:  9.7min remaining:    0.0s\n",
      "building tree 65 of 100\n",
      "[Parallel(n_jobs=1)]: Done  65 out of  65 | elapsed:  9.8min remaining:    0.0s\n",
      "building tree 66 of 100\n",
      "[Parallel(n_jobs=1)]: Done  66 out of  66 | elapsed: 10.0min remaining:    0.0s\n",
      "building tree 67 of 100\n",
      "[Parallel(n_jobs=1)]: Done  67 out of  67 | elapsed: 10.1min remaining:    0.0s\n",
      "building tree 68 of 100\n",
      "[Parallel(n_jobs=1)]: Done  68 out of  68 | elapsed: 10.3min remaining:    0.0s\n",
      "building tree 69 of 100\n",
      "[Parallel(n_jobs=1)]: Done  69 out of  69 | elapsed: 10.4min remaining:    0.0s\n",
      "building tree 70 of 100\n",
      "[Parallel(n_jobs=1)]: Done  70 out of  70 | elapsed: 10.6min remaining:    0.0s\n",
      "building tree 71 of 100\n",
      "[Parallel(n_jobs=1)]: Done  71 out of  71 | elapsed: 10.7min remaining:    0.0s\n",
      "building tree 72 of 100\n",
      "[Parallel(n_jobs=1)]: Done  72 out of  72 | elapsed: 10.9min remaining:    0.0s\n",
      "building tree 73 of 100\n",
      "[Parallel(n_jobs=1)]: Done  73 out of  73 | elapsed: 11.0min remaining:    0.0s\n",
      "building tree 74 of 100\n",
      "[Parallel(n_jobs=1)]: Done  74 out of  74 | elapsed: 11.2min remaining:    0.0s\n",
      "building tree 75 of 100\n",
      "[Parallel(n_jobs=1)]: Done  75 out of  75 | elapsed: 11.3min remaining:    0.0s\n",
      "building tree 76 of 100\n",
      "[Parallel(n_jobs=1)]: Done  76 out of  76 | elapsed: 11.5min remaining:    0.0s\n",
      "building tree 77 of 100\n",
      "[Parallel(n_jobs=1)]: Done  77 out of  77 | elapsed: 11.7min remaining:    0.0s\n",
      "building tree 78 of 100\n",
      "[Parallel(n_jobs=1)]: Done  78 out of  78 | elapsed: 11.8min remaining:    0.0s\n",
      "building tree 79 of 100\n",
      "[Parallel(n_jobs=1)]: Done  79 out of  79 | elapsed: 12.0min remaining:    0.0s\n",
      "building tree 80 of 100\n",
      "[Parallel(n_jobs=1)]: Done  80 out of  80 | elapsed: 12.1min remaining:    0.0s\n",
      "building tree 81 of 100\n",
      "[Parallel(n_jobs=1)]: Done  81 out of  81 | elapsed: 12.3min remaining:    0.0s\n",
      "building tree 82 of 100\n",
      "[Parallel(n_jobs=1)]: Done  82 out of  82 | elapsed: 12.4min remaining:    0.0s\n",
      "building tree 83 of 100\n",
      "[Parallel(n_jobs=1)]: Done  83 out of  83 | elapsed: 12.6min remaining:    0.0s\n",
      "building tree 84 of 100\n",
      "[Parallel(n_jobs=1)]: Done  84 out of  84 | elapsed: 12.7min remaining:    0.0s\n",
      "building tree 85 of 100\n",
      "[Parallel(n_jobs=1)]: Done  85 out of  85 | elapsed: 12.9min remaining:    0.0s\n",
      "building tree 86 of 100\n",
      "[Parallel(n_jobs=1)]: Done  86 out of  86 | elapsed: 13.0min remaining:    0.0s\n",
      "building tree 87 of 100\n",
      "[Parallel(n_jobs=1)]: Done  87 out of  87 | elapsed: 13.2min remaining:    0.0s\n",
      "building tree 88 of 100\n",
      "[Parallel(n_jobs=1)]: Done  88 out of  88 | elapsed: 13.3min remaining:    0.0s\n",
      "building tree 89 of 100\n",
      "[Parallel(n_jobs=1)]: Done  89 out of  89 | elapsed: 13.5min remaining:    0.0s\n",
      "building tree 90 of 100\n",
      "[Parallel(n_jobs=1)]: Done  90 out of  90 | elapsed: 13.6min remaining:    0.0s\n",
      "building tree 91 of 100\n",
      "[Parallel(n_jobs=1)]: Done  91 out of  91 | elapsed: 13.8min remaining:    0.0s\n",
      "building tree 92 of 100\n",
      "[Parallel(n_jobs=1)]: Done  92 out of  92 | elapsed: 13.9min remaining:    0.0s\n",
      "building tree 93 of 100\n",
      "[Parallel(n_jobs=1)]: Done  93 out of  93 | elapsed: 14.1min remaining:    0.0s\n",
      "building tree 94 of 100\n",
      "[Parallel(n_jobs=1)]: Done  94 out of  94 | elapsed: 14.2min remaining:    0.0s\n",
      "building tree 95 of 100\n",
      "[Parallel(n_jobs=1)]: Done  95 out of  95 | elapsed: 14.4min remaining:    0.0s\n",
      "building tree 96 of 100\n",
      "[Parallel(n_jobs=1)]: Done  96 out of  96 | elapsed: 14.5min remaining:    0.0s\n",
      "building tree 97 of 100\n",
      "[Parallel(n_jobs=1)]: Done  97 out of  97 | elapsed: 14.7min remaining:    0.0s\n",
      "building tree 98 of 100\n",
      "[Parallel(n_jobs=1)]: Done  98 out of  98 | elapsed: 14.8min remaining:    0.0s\n",
      "building tree 99 of 100\n",
      "[Parallel(n_jobs=1)]: Done  99 out of  99 | elapsed: 15.0min remaining:    0.0s\n",
      "building tree 100 of 100\n",
      "[Parallel(n_jobs=1)]: Done 100 out of 100 | elapsed: 15.1min finished\n",
      "[Parallel(n_jobs=1)]: Using backend SequentialBackend with 1 concurrent workers.\n",
      "[Parallel(n_jobs=1)]: Done   1 out of   1 | elapsed:    0.0s remaining:    0.0s\n",
      "[Parallel(n_jobs=1)]: Done   2 out of   2 | elapsed:    0.0s remaining:    0.0s\n",
      "[Parallel(n_jobs=1)]: Done   3 out of   3 | elapsed:    0.1s remaining:    0.0s\n",
      "[Parallel(n_jobs=1)]: Done   4 out of   4 | elapsed:    0.1s remaining:    0.0s\n",
      "[Parallel(n_jobs=1)]: Done   5 out of   5 | elapsed:    0.2s remaining:    0.0s\n",
      "[Parallel(n_jobs=1)]: Done   6 out of   6 | elapsed:    0.2s remaining:    0.0s\n",
      "[Parallel(n_jobs=1)]: Done   7 out of   7 | elapsed:    0.3s remaining:    0.0s\n",
      "[Parallel(n_jobs=1)]: Done   8 out of   8 | elapsed:    0.3s remaining:    0.0s\n",
      "[Parallel(n_jobs=1)]: Done   9 out of   9 | elapsed:    0.4s remaining:    0.0s\n",
      "[Parallel(n_jobs=1)]: Done  10 out of  10 | elapsed:    0.4s remaining:    0.0s\n",
      "[Parallel(n_jobs=1)]: Done  11 out of  11 | elapsed:    0.5s remaining:    0.0s\n",
      "[Parallel(n_jobs=1)]: Done  12 out of  12 | elapsed:    0.5s remaining:    0.0s\n",
      "[Parallel(n_jobs=1)]: Done  13 out of  13 | elapsed:    0.6s remaining:    0.0s\n",
      "[Parallel(n_jobs=1)]: Done  14 out of  14 | elapsed:    0.6s remaining:    0.0s\n",
      "[Parallel(n_jobs=1)]: Done  15 out of  15 | elapsed:    0.7s remaining:    0.0s\n",
      "[Parallel(n_jobs=1)]: Done  16 out of  16 | elapsed:    0.7s remaining:    0.0s\n",
      "[Parallel(n_jobs=1)]: Done  17 out of  17 | elapsed:    0.8s remaining:    0.0s\n",
      "[Parallel(n_jobs=1)]: Done  18 out of  18 | elapsed:    0.8s remaining:    0.0s\n",
      "[Parallel(n_jobs=1)]: Done  19 out of  19 | elapsed:    0.9s remaining:    0.0s\n",
      "[Parallel(n_jobs=1)]: Done  20 out of  20 | elapsed:    0.9s remaining:    0.0s\n",
      "[Parallel(n_jobs=1)]: Done  21 out of  21 | elapsed:    1.0s remaining:    0.0s\n",
      "[Parallel(n_jobs=1)]: Done  22 out of  22 | elapsed:    1.0s remaining:    0.0s\n",
      "[Parallel(n_jobs=1)]: Done  23 out of  23 | elapsed:    1.1s remaining:    0.0s\n",
      "[Parallel(n_jobs=1)]: Done  24 out of  24 | elapsed:    1.1s remaining:    0.0s\n",
      "[Parallel(n_jobs=1)]: Done  25 out of  25 | elapsed:    1.2s remaining:    0.0s\n",
      "[Parallel(n_jobs=1)]: Done  26 out of  26 | elapsed:    1.2s remaining:    0.0s\n",
      "[Parallel(n_jobs=1)]: Done  27 out of  27 | elapsed:    1.3s remaining:    0.0s\n",
      "[Parallel(n_jobs=1)]: Done  28 out of  28 | elapsed:    1.3s remaining:    0.0s\n",
      "[Parallel(n_jobs=1)]: Done  29 out of  29 | elapsed:    1.4s remaining:    0.0s\n",
      "[Parallel(n_jobs=1)]: Done  30 out of  30 | elapsed:    1.4s remaining:    0.0s\n",
      "[Parallel(n_jobs=1)]: Done  31 out of  31 | elapsed:    1.5s remaining:    0.0s\n",
      "[Parallel(n_jobs=1)]: Done  32 out of  32 | elapsed:    1.6s remaining:    0.0s\n",
      "[Parallel(n_jobs=1)]: Done  33 out of  33 | elapsed:    1.6s remaining:    0.0s\n",
      "[Parallel(n_jobs=1)]: Done  34 out of  34 | elapsed:    1.7s remaining:    0.0s\n",
      "[Parallel(n_jobs=1)]: Done  35 out of  35 | elapsed:    1.7s remaining:    0.0s\n",
      "[Parallel(n_jobs=1)]: Done  36 out of  36 | elapsed:    1.8s remaining:    0.0s\n",
      "[Parallel(n_jobs=1)]: Done  37 out of  37 | elapsed:    1.8s remaining:    0.0s\n",
      "[Parallel(n_jobs=1)]: Done  38 out of  38 | elapsed:    1.9s remaining:    0.0s\n",
      "[Parallel(n_jobs=1)]: Done  39 out of  39 | elapsed:    1.9s remaining:    0.0s\n",
      "[Parallel(n_jobs=1)]: Done  40 out of  40 | elapsed:    2.0s remaining:    0.0s\n",
      "[Parallel(n_jobs=1)]: Done  41 out of  41 | elapsed:    2.0s remaining:    0.0s\n",
      "[Parallel(n_jobs=1)]: Done  42 out of  42 | elapsed:    2.1s remaining:    0.0s\n",
      "[Parallel(n_jobs=1)]: Done  43 out of  43 | elapsed:    2.1s remaining:    0.0s\n",
      "[Parallel(n_jobs=1)]: Done  44 out of  44 | elapsed:    2.2s remaining:    0.0s\n",
      "[Parallel(n_jobs=1)]: Done  45 out of  45 | elapsed:    2.2s remaining:    0.0s\n",
      "[Parallel(n_jobs=1)]: Done  46 out of  46 | elapsed:    2.3s remaining:    0.0s\n",
      "[Parallel(n_jobs=1)]: Done  47 out of  47 | elapsed:    2.3s remaining:    0.0s\n",
      "[Parallel(n_jobs=1)]: Done  48 out of  48 | elapsed:    2.4s remaining:    0.0s\n",
      "[Parallel(n_jobs=1)]: Done  49 out of  49 | elapsed:    2.4s remaining:    0.0s\n",
      "[Parallel(n_jobs=1)]: Done  50 out of  50 | elapsed:    2.5s remaining:    0.0s\n",
      "[Parallel(n_jobs=1)]: Done  51 out of  51 | elapsed:    2.5s remaining:    0.0s\n",
      "[Parallel(n_jobs=1)]: Done  52 out of  52 | elapsed:    2.6s remaining:    0.0s\n"
     ]
    },
    {
     "name": "stdout",
     "output_type": "stream",
     "text": [
      "[Parallel(n_jobs=1)]: Done  53 out of  53 | elapsed:    2.6s remaining:    0.0s\n",
      "[Parallel(n_jobs=1)]: Done  54 out of  54 | elapsed:    2.7s remaining:    0.0s\n",
      "[Parallel(n_jobs=1)]: Done  55 out of  55 | elapsed:    2.7s remaining:    0.0s\n",
      "[Parallel(n_jobs=1)]: Done  56 out of  56 | elapsed:    2.8s remaining:    0.0s\n",
      "[Parallel(n_jobs=1)]: Done  57 out of  57 | elapsed:    2.8s remaining:    0.0s\n",
      "[Parallel(n_jobs=1)]: Done  58 out of  58 | elapsed:    2.9s remaining:    0.0s\n",
      "[Parallel(n_jobs=1)]: Done  59 out of  59 | elapsed:    2.9s remaining:    0.0s\n",
      "[Parallel(n_jobs=1)]: Done  60 out of  60 | elapsed:    3.0s remaining:    0.0s\n",
      "[Parallel(n_jobs=1)]: Done  61 out of  61 | elapsed:    3.0s remaining:    0.0s\n",
      "[Parallel(n_jobs=1)]: Done  62 out of  62 | elapsed:    3.1s remaining:    0.0s\n",
      "[Parallel(n_jobs=1)]: Done  63 out of  63 | elapsed:    3.1s remaining:    0.0s\n",
      "[Parallel(n_jobs=1)]: Done  64 out of  64 | elapsed:    3.2s remaining:    0.0s\n",
      "[Parallel(n_jobs=1)]: Done  65 out of  65 | elapsed:    3.2s remaining:    0.0s\n",
      "[Parallel(n_jobs=1)]: Done  66 out of  66 | elapsed:    3.3s remaining:    0.0s\n",
      "[Parallel(n_jobs=1)]: Done  67 out of  67 | elapsed:    3.3s remaining:    0.0s\n",
      "[Parallel(n_jobs=1)]: Done  68 out of  68 | elapsed:    3.4s remaining:    0.0s\n",
      "[Parallel(n_jobs=1)]: Done  69 out of  69 | elapsed:    3.4s remaining:    0.0s\n",
      "[Parallel(n_jobs=1)]: Done  70 out of  70 | elapsed:    3.5s remaining:    0.0s\n",
      "[Parallel(n_jobs=1)]: Done  71 out of  71 | elapsed:    3.6s remaining:    0.0s\n",
      "[Parallel(n_jobs=1)]: Done  72 out of  72 | elapsed:    3.6s remaining:    0.0s\n",
      "[Parallel(n_jobs=1)]: Done  73 out of  73 | elapsed:    3.7s remaining:    0.0s\n",
      "[Parallel(n_jobs=1)]: Done  74 out of  74 | elapsed:    3.7s remaining:    0.0s\n",
      "[Parallel(n_jobs=1)]: Done  75 out of  75 | elapsed:    3.8s remaining:    0.0s\n",
      "[Parallel(n_jobs=1)]: Done  76 out of  76 | elapsed:    3.9s remaining:    0.0s\n",
      "[Parallel(n_jobs=1)]: Done  77 out of  77 | elapsed:    3.9s remaining:    0.0s\n",
      "[Parallel(n_jobs=1)]: Done  78 out of  78 | elapsed:    4.0s remaining:    0.0s\n",
      "[Parallel(n_jobs=1)]: Done  79 out of  79 | elapsed:    4.1s remaining:    0.0s\n",
      "[Parallel(n_jobs=1)]: Done  80 out of  80 | elapsed:    4.1s remaining:    0.0s\n",
      "[Parallel(n_jobs=1)]: Done  81 out of  81 | elapsed:    4.2s remaining:    0.0s\n",
      "[Parallel(n_jobs=1)]: Done  82 out of  82 | elapsed:    4.2s remaining:    0.0s\n",
      "[Parallel(n_jobs=1)]: Done  83 out of  83 | elapsed:    4.3s remaining:    0.0s\n",
      "[Parallel(n_jobs=1)]: Done  84 out of  84 | elapsed:    4.3s remaining:    0.0s\n",
      "[Parallel(n_jobs=1)]: Done  85 out of  85 | elapsed:    4.4s remaining:    0.0s\n",
      "[Parallel(n_jobs=1)]: Done  86 out of  86 | elapsed:    4.5s remaining:    0.0s\n",
      "[Parallel(n_jobs=1)]: Done  87 out of  87 | elapsed:    4.5s remaining:    0.0s\n",
      "[Parallel(n_jobs=1)]: Done  88 out of  88 | elapsed:    4.6s remaining:    0.0s\n",
      "[Parallel(n_jobs=1)]: Done  89 out of  89 | elapsed:    4.6s remaining:    0.0s\n",
      "[Parallel(n_jobs=1)]: Done  90 out of  90 | elapsed:    4.7s remaining:    0.0s\n",
      "[Parallel(n_jobs=1)]: Done  91 out of  91 | elapsed:    4.8s remaining:    0.0s\n",
      "[Parallel(n_jobs=1)]: Done  92 out of  92 | elapsed:    4.8s remaining:    0.0s\n",
      "[Parallel(n_jobs=1)]: Done  93 out of  93 | elapsed:    4.9s remaining:    0.0s\n",
      "[Parallel(n_jobs=1)]: Done  94 out of  94 | elapsed:    4.9s remaining:    0.0s\n",
      "[Parallel(n_jobs=1)]: Done  95 out of  95 | elapsed:    5.0s remaining:    0.0s\n",
      "[Parallel(n_jobs=1)]: Done  96 out of  96 | elapsed:    5.0s remaining:    0.0s\n",
      "[Parallel(n_jobs=1)]: Done  97 out of  97 | elapsed:    5.1s remaining:    0.0s\n",
      "[Parallel(n_jobs=1)]: Done  98 out of  98 | elapsed:    5.1s remaining:    0.0s\n",
      "[Parallel(n_jobs=1)]: Done  99 out of  99 | elapsed:    5.2s remaining:    0.0s\n",
      "[Parallel(n_jobs=1)]: Done 100 out of 100 | elapsed:    5.2s finished\n",
      "[Parallel(n_jobs=1)]: Using backend SequentialBackend with 1 concurrent workers.\n",
      "[Parallel(n_jobs=1)]: Done   1 out of   1 | elapsed:    0.1s remaining:    0.0s\n",
      "[Parallel(n_jobs=1)]: Done   2 out of   2 | elapsed:    0.2s remaining:    0.0s\n",
      "[Parallel(n_jobs=1)]: Done   3 out of   3 | elapsed:    0.4s remaining:    0.0s\n",
      "[Parallel(n_jobs=1)]: Done   4 out of   4 | elapsed:    0.6s remaining:    0.0s\n",
      "[Parallel(n_jobs=1)]: Done   5 out of   5 | elapsed:    0.7s remaining:    0.0s\n",
      "[Parallel(n_jobs=1)]: Done   6 out of   6 | elapsed:    0.9s remaining:    0.0s\n",
      "[Parallel(n_jobs=1)]: Done   7 out of   7 | elapsed:    1.0s remaining:    0.0s\n",
      "[Parallel(n_jobs=1)]: Done   8 out of   8 | elapsed:    1.2s remaining:    0.0s\n",
      "[Parallel(n_jobs=1)]: Done   9 out of   9 | elapsed:    1.4s remaining:    0.0s\n",
      "[Parallel(n_jobs=1)]: Done  10 out of  10 | elapsed:    1.5s remaining:    0.0s\n",
      "[Parallel(n_jobs=1)]: Done  11 out of  11 | elapsed:    1.7s remaining:    0.0s\n",
      "[Parallel(n_jobs=1)]: Done  12 out of  12 | elapsed:    1.8s remaining:    0.0s\n",
      "[Parallel(n_jobs=1)]: Done  13 out of  13 | elapsed:    2.0s remaining:    0.0s\n",
      "[Parallel(n_jobs=1)]: Done  14 out of  14 | elapsed:    2.2s remaining:    0.0s\n",
      "[Parallel(n_jobs=1)]: Done  15 out of  15 | elapsed:    2.4s remaining:    0.0s\n",
      "[Parallel(n_jobs=1)]: Done  16 out of  16 | elapsed:    2.5s remaining:    0.0s\n",
      "[Parallel(n_jobs=1)]: Done  17 out of  17 | elapsed:    2.7s remaining:    0.0s\n",
      "[Parallel(n_jobs=1)]: Done  18 out of  18 | elapsed:    2.8s remaining:    0.0s\n",
      "[Parallel(n_jobs=1)]: Done  19 out of  19 | elapsed:    3.0s remaining:    0.0s\n",
      "[Parallel(n_jobs=1)]: Done  20 out of  20 | elapsed:    3.2s remaining:    0.0s\n",
      "[Parallel(n_jobs=1)]: Done  21 out of  21 | elapsed:    3.3s remaining:    0.0s\n",
      "[Parallel(n_jobs=1)]: Done  22 out of  22 | elapsed:    3.5s remaining:    0.0s\n",
      "[Parallel(n_jobs=1)]: Done  23 out of  23 | elapsed:    3.7s remaining:    0.0s\n",
      "[Parallel(n_jobs=1)]: Done  24 out of  24 | elapsed:    3.8s remaining:    0.0s\n",
      "[Parallel(n_jobs=1)]: Done  25 out of  25 | elapsed:    4.0s remaining:    0.0s\n",
      "[Parallel(n_jobs=1)]: Done  26 out of  26 | elapsed:    4.2s remaining:    0.0s\n",
      "[Parallel(n_jobs=1)]: Done  27 out of  27 | elapsed:    4.3s remaining:    0.0s\n",
      "[Parallel(n_jobs=1)]: Done  28 out of  28 | elapsed:    4.5s remaining:    0.0s\n",
      "[Parallel(n_jobs=1)]: Done  29 out of  29 | elapsed:    4.6s remaining:    0.0s\n",
      "[Parallel(n_jobs=1)]: Done  30 out of  30 | elapsed:    4.8s remaining:    0.0s\n",
      "[Parallel(n_jobs=1)]: Done  31 out of  31 | elapsed:    5.0s remaining:    0.0s\n",
      "[Parallel(n_jobs=1)]: Done  32 out of  32 | elapsed:    5.1s remaining:    0.0s\n",
      "[Parallel(n_jobs=1)]: Done  33 out of  33 | elapsed:    5.3s remaining:    0.0s\n",
      "[Parallel(n_jobs=1)]: Done  34 out of  34 | elapsed:    5.4s remaining:    0.0s\n",
      "[Parallel(n_jobs=1)]: Done  35 out of  35 | elapsed:    5.6s remaining:    0.0s\n",
      "[Parallel(n_jobs=1)]: Done  36 out of  36 | elapsed:    5.7s remaining:    0.0s\n",
      "[Parallel(n_jobs=1)]: Done  37 out of  37 | elapsed:    5.9s remaining:    0.0s\n",
      "[Parallel(n_jobs=1)]: Done  38 out of  38 | elapsed:    6.1s remaining:    0.0s\n",
      "[Parallel(n_jobs=1)]: Done  39 out of  39 | elapsed:    6.2s remaining:    0.0s\n",
      "[Parallel(n_jobs=1)]: Done  40 out of  40 | elapsed:    6.4s remaining:    0.0s\n",
      "[Parallel(n_jobs=1)]: Done  41 out of  41 | elapsed:    6.6s remaining:    0.0s\n",
      "[Parallel(n_jobs=1)]: Done  42 out of  42 | elapsed:    6.7s remaining:    0.0s\n",
      "[Parallel(n_jobs=1)]: Done  43 out of  43 | elapsed:    6.9s remaining:    0.0s\n",
      "[Parallel(n_jobs=1)]: Done  44 out of  44 | elapsed:    7.1s remaining:    0.0s\n",
      "[Parallel(n_jobs=1)]: Done  45 out of  45 | elapsed:    7.2s remaining:    0.0s\n",
      "[Parallel(n_jobs=1)]: Done  46 out of  46 | elapsed:    7.4s remaining:    0.0s\n",
      "[Parallel(n_jobs=1)]: Done  47 out of  47 | elapsed:    7.5s remaining:    0.0s\n",
      "[Parallel(n_jobs=1)]: Done  48 out of  48 | elapsed:    7.7s remaining:    0.0s\n",
      "[Parallel(n_jobs=1)]: Done  49 out of  49 | elapsed:    7.9s remaining:    0.0s\n",
      "[Parallel(n_jobs=1)]: Done  50 out of  50 | elapsed:    8.0s remaining:    0.0s\n",
      "[Parallel(n_jobs=1)]: Done  51 out of  51 | elapsed:    8.2s remaining:    0.0s\n",
      "[Parallel(n_jobs=1)]: Done  52 out of  52 | elapsed:    8.4s remaining:    0.0s\n",
      "[Parallel(n_jobs=1)]: Done  53 out of  53 | elapsed:    8.5s remaining:    0.0s\n",
      "[Parallel(n_jobs=1)]: Done  54 out of  54 | elapsed:    8.7s remaining:    0.0s\n"
     ]
    },
    {
     "name": "stdout",
     "output_type": "stream",
     "text": [
      "[Parallel(n_jobs=1)]: Done  55 out of  55 | elapsed:    8.9s remaining:    0.0s\n",
      "[Parallel(n_jobs=1)]: Done  56 out of  56 | elapsed:    9.0s remaining:    0.0s\n",
      "[Parallel(n_jobs=1)]: Done  57 out of  57 | elapsed:    9.2s remaining:    0.0s\n",
      "[Parallel(n_jobs=1)]: Done  58 out of  58 | elapsed:    9.3s remaining:    0.0s\n",
      "[Parallel(n_jobs=1)]: Done  59 out of  59 | elapsed:    9.5s remaining:    0.0s\n",
      "[Parallel(n_jobs=1)]: Done  60 out of  60 | elapsed:    9.7s remaining:    0.0s\n",
      "[Parallel(n_jobs=1)]: Done  61 out of  61 | elapsed:    9.8s remaining:    0.0s\n",
      "[Parallel(n_jobs=1)]: Done  62 out of  62 | elapsed:   10.0s remaining:    0.0s\n",
      "[Parallel(n_jobs=1)]: Done  63 out of  63 | elapsed:   10.1s remaining:    0.0s\n",
      "[Parallel(n_jobs=1)]: Done  64 out of  64 | elapsed:   10.3s remaining:    0.0s\n",
      "[Parallel(n_jobs=1)]: Done  65 out of  65 | elapsed:   10.4s remaining:    0.0s\n",
      "[Parallel(n_jobs=1)]: Done  66 out of  66 | elapsed:   10.6s remaining:    0.0s\n",
      "[Parallel(n_jobs=1)]: Done  67 out of  67 | elapsed:   10.8s remaining:    0.0s\n",
      "[Parallel(n_jobs=1)]: Done  68 out of  68 | elapsed:   10.9s remaining:    0.0s\n",
      "[Parallel(n_jobs=1)]: Done  69 out of  69 | elapsed:   11.1s remaining:    0.0s\n",
      "[Parallel(n_jobs=1)]: Done  70 out of  70 | elapsed:   11.3s remaining:    0.0s\n",
      "[Parallel(n_jobs=1)]: Done  71 out of  71 | elapsed:   11.4s remaining:    0.0s\n",
      "[Parallel(n_jobs=1)]: Done  72 out of  72 | elapsed:   11.6s remaining:    0.0s\n",
      "[Parallel(n_jobs=1)]: Done  73 out of  73 | elapsed:   11.7s remaining:    0.0s\n",
      "[Parallel(n_jobs=1)]: Done  74 out of  74 | elapsed:   11.9s remaining:    0.0s\n",
      "[Parallel(n_jobs=1)]: Done  75 out of  75 | elapsed:   12.1s remaining:    0.0s\n",
      "[Parallel(n_jobs=1)]: Done  76 out of  76 | elapsed:   12.2s remaining:    0.0s\n",
      "[Parallel(n_jobs=1)]: Done  77 out of  77 | elapsed:   12.4s remaining:    0.0s\n",
      "[Parallel(n_jobs=1)]: Done  78 out of  78 | elapsed:   12.5s remaining:    0.0s\n",
      "[Parallel(n_jobs=1)]: Done  79 out of  79 | elapsed:   12.7s remaining:    0.0s\n",
      "[Parallel(n_jobs=1)]: Done  80 out of  80 | elapsed:   12.9s remaining:    0.0s\n",
      "[Parallel(n_jobs=1)]: Done  81 out of  81 | elapsed:   13.0s remaining:    0.0s\n",
      "[Parallel(n_jobs=1)]: Done  82 out of  82 | elapsed:   13.2s remaining:    0.0s\n",
      "[Parallel(n_jobs=1)]: Done  83 out of  83 | elapsed:   13.4s remaining:    0.0s\n",
      "[Parallel(n_jobs=1)]: Done  84 out of  84 | elapsed:   13.5s remaining:    0.0s\n",
      "[Parallel(n_jobs=1)]: Done  85 out of  85 | elapsed:   13.7s remaining:    0.0s\n",
      "[Parallel(n_jobs=1)]: Done  86 out of  86 | elapsed:   13.8s remaining:    0.0s\n",
      "[Parallel(n_jobs=1)]: Done  87 out of  87 | elapsed:   14.0s remaining:    0.0s\n",
      "[Parallel(n_jobs=1)]: Done  88 out of  88 | elapsed:   14.2s remaining:    0.0s\n",
      "[Parallel(n_jobs=1)]: Done  89 out of  89 | elapsed:   14.4s remaining:    0.0s\n",
      "[Parallel(n_jobs=1)]: Done  90 out of  90 | elapsed:   14.6s remaining:    0.0s\n",
      "[Parallel(n_jobs=1)]: Done  91 out of  91 | elapsed:   14.8s remaining:    0.0s\n",
      "[Parallel(n_jobs=1)]: Done  92 out of  92 | elapsed:   15.0s remaining:    0.0s\n",
      "[Parallel(n_jobs=1)]: Done  93 out of  93 | elapsed:   15.2s remaining:    0.0s\n",
      "[Parallel(n_jobs=1)]: Done  94 out of  94 | elapsed:   15.4s remaining:    0.0s\n",
      "[Parallel(n_jobs=1)]: Done  95 out of  95 | elapsed:   15.6s remaining:    0.0s\n",
      "[Parallel(n_jobs=1)]: Done  96 out of  96 | elapsed:   15.8s remaining:    0.0s\n",
      "[Parallel(n_jobs=1)]: Done  97 out of  97 | elapsed:   15.9s remaining:    0.0s\n",
      "[Parallel(n_jobs=1)]: Done  98 out of  98 | elapsed:   16.1s remaining:    0.0s\n",
      "[Parallel(n_jobs=1)]: Done  99 out of  99 | elapsed:   16.3s remaining:    0.0s\n",
      "[Parallel(n_jobs=1)]: Done 100 out of 100 | elapsed:   16.4s finished\n",
      "1 0.7409334332054861\n",
      "Encoding\n",
      "Training\n",
      "[Parallel(n_jobs=1)]: Using backend SequentialBackend with 1 concurrent workers.\n",
      "building tree 1 of 100\n",
      "[Parallel(n_jobs=1)]: Done   1 out of   1 | elapsed:    8.9s remaining:    0.0s\n",
      "building tree 2 of 100\n",
      "[Parallel(n_jobs=1)]: Done   2 out of   2 | elapsed:   18.5s remaining:    0.0s\n",
      "building tree 3 of 100\n",
      "[Parallel(n_jobs=1)]: Done   3 out of   3 | elapsed:   27.7s remaining:    0.0s\n",
      "building tree 4 of 100\n",
      "[Parallel(n_jobs=1)]: Done   4 out of   4 | elapsed:   36.6s remaining:    0.0s\n",
      "building tree 5 of 100\n",
      "[Parallel(n_jobs=1)]: Done   5 out of   5 | elapsed:   46.1s remaining:    0.0s\n",
      "building tree 6 of 100\n",
      "[Parallel(n_jobs=1)]: Done   6 out of   6 | elapsed:   54.9s remaining:    0.0s\n",
      "building tree 7 of 100\n",
      "[Parallel(n_jobs=1)]: Done   7 out of   7 | elapsed:  1.1min remaining:    0.0s\n",
      "building tree 8 of 100\n",
      "[Parallel(n_jobs=1)]: Done   8 out of   8 | elapsed:  1.2min remaining:    0.0s\n",
      "building tree 9 of 100\n",
      "[Parallel(n_jobs=1)]: Done   9 out of   9 | elapsed:  1.4min remaining:    0.0s\n",
      "building tree 10 of 100\n",
      "[Parallel(n_jobs=1)]: Done  10 out of  10 | elapsed:  1.5min remaining:    0.0s\n",
      "building tree 11 of 100\n",
      "[Parallel(n_jobs=1)]: Done  11 out of  11 | elapsed:  1.7min remaining:    0.0s\n",
      "building tree 12 of 100\n",
      "[Parallel(n_jobs=1)]: Done  12 out of  12 | elapsed:  1.8min remaining:    0.0s\n",
      "building tree 13 of 100\n",
      "[Parallel(n_jobs=1)]: Done  13 out of  13 | elapsed:  2.0min remaining:    0.0s\n",
      "building tree 14 of 100\n",
      "[Parallel(n_jobs=1)]: Done  14 out of  14 | elapsed:  2.1min remaining:    0.0s\n",
      "building tree 15 of 100\n",
      "[Parallel(n_jobs=1)]: Done  15 out of  15 | elapsed:  2.3min remaining:    0.0s\n",
      "building tree 16 of 100\n",
      "[Parallel(n_jobs=1)]: Done  16 out of  16 | elapsed:  2.4min remaining:    0.0s\n",
      "building tree 17 of 100\n",
      "[Parallel(n_jobs=1)]: Done  17 out of  17 | elapsed:  2.6min remaining:    0.0s\n",
      "building tree 18 of 100\n",
      "[Parallel(n_jobs=1)]: Done  18 out of  18 | elapsed:  2.7min remaining:    0.0s\n",
      "building tree 19 of 100\n",
      "[Parallel(n_jobs=1)]: Done  19 out of  19 | elapsed:  2.9min remaining:    0.0s\n",
      "building tree 20 of 100\n",
      "[Parallel(n_jobs=1)]: Done  20 out of  20 | elapsed:  3.0min remaining:    0.0s\n",
      "building tree 21 of 100\n",
      "[Parallel(n_jobs=1)]: Done  21 out of  21 | elapsed:  3.2min remaining:    0.0s\n",
      "building tree 22 of 100\n",
      "[Parallel(n_jobs=1)]: Done  22 out of  22 | elapsed:  3.4min remaining:    0.0s\n",
      "building tree 23 of 100\n",
      "[Parallel(n_jobs=1)]: Done  23 out of  23 | elapsed:  3.5min remaining:    0.0s\n",
      "building tree 24 of 100\n",
      "[Parallel(n_jobs=1)]: Done  24 out of  24 | elapsed:  3.7min remaining:    0.0s\n",
      "building tree 25 of 100\n",
      "[Parallel(n_jobs=1)]: Done  25 out of  25 | elapsed:  3.8min remaining:    0.0s\n",
      "building tree 26 of 100\n",
      "[Parallel(n_jobs=1)]: Done  26 out of  26 | elapsed:  4.0min remaining:    0.0s\n",
      "building tree 27 of 100\n",
      "[Parallel(n_jobs=1)]: Done  27 out of  27 | elapsed:  4.2min remaining:    0.0s\n",
      "building tree 28 of 100\n",
      "[Parallel(n_jobs=1)]: Done  28 out of  28 | elapsed:  4.3min remaining:    0.0s\n",
      "building tree 29 of 100\n",
      "[Parallel(n_jobs=1)]: Done  29 out of  29 | elapsed:  4.5min remaining:    0.0s\n",
      "building tree 30 of 100\n",
      "[Parallel(n_jobs=1)]: Done  30 out of  30 | elapsed:  4.6min remaining:    0.0s\n",
      "building tree 31 of 100\n",
      "[Parallel(n_jobs=1)]: Done  31 out of  31 | elapsed:  4.8min remaining:    0.0s\n",
      "building tree 32 of 100\n",
      "[Parallel(n_jobs=1)]: Done  32 out of  32 | elapsed:  5.0min remaining:    0.0s\n",
      "building tree 33 of 100\n",
      "[Parallel(n_jobs=1)]: Done  33 out of  33 | elapsed:  5.1min remaining:    0.0s\n",
      "building tree 34 of 100\n",
      "[Parallel(n_jobs=1)]: Done  34 out of  34 | elapsed:  5.3min remaining:    0.0s\n",
      "building tree 35 of 100\n",
      "[Parallel(n_jobs=1)]: Done  35 out of  35 | elapsed:  5.4min remaining:    0.0s\n",
      "building tree 36 of 100\n",
      "[Parallel(n_jobs=1)]: Done  36 out of  36 | elapsed:  5.6min remaining:    0.0s\n",
      "building tree 37 of 100\n",
      "[Parallel(n_jobs=1)]: Done  37 out of  37 | elapsed:  5.8min remaining:    0.0s\n",
      "building tree 38 of 100\n",
      "[Parallel(n_jobs=1)]: Done  38 out of  38 | elapsed:  5.9min remaining:    0.0s\n",
      "building tree 39 of 100\n",
      "[Parallel(n_jobs=1)]: Done  39 out of  39 | elapsed:  6.1min remaining:    0.0s\n",
      "building tree 40 of 100\n",
      "[Parallel(n_jobs=1)]: Done  40 out of  40 | elapsed:  6.2min remaining:    0.0s\n",
      "building tree 41 of 100\n",
      "[Parallel(n_jobs=1)]: Done  41 out of  41 | elapsed:  6.4min remaining:    0.0s\n",
      "building tree 42 of 100\n",
      "[Parallel(n_jobs=1)]: Done  42 out of  42 | elapsed:  6.5min remaining:    0.0s\n",
      "building tree 43 of 100\n",
      "[Parallel(n_jobs=1)]: Done  43 out of  43 | elapsed:  6.7min remaining:    0.0s\n",
      "building tree 44 of 100\n"
     ]
    },
    {
     "name": "stdout",
     "output_type": "stream",
     "text": [
      "[Parallel(n_jobs=1)]: Done  44 out of  44 | elapsed:  6.8min remaining:    0.0s\n",
      "building tree 45 of 100\n",
      "[Parallel(n_jobs=1)]: Done  45 out of  45 | elapsed:  7.0min remaining:    0.0s\n",
      "building tree 46 of 100\n",
      "[Parallel(n_jobs=1)]: Done  46 out of  46 | elapsed:  7.1min remaining:    0.0s\n",
      "building tree 47 of 100\n",
      "[Parallel(n_jobs=1)]: Done  47 out of  47 | elapsed:  7.3min remaining:    0.0s\n",
      "building tree 48 of 100\n",
      "[Parallel(n_jobs=1)]: Done  48 out of  48 | elapsed:  7.4min remaining:    0.0s\n",
      "building tree 49 of 100\n",
      "[Parallel(n_jobs=1)]: Done  49 out of  49 | elapsed:  7.6min remaining:    0.0s\n",
      "building tree 50 of 100\n",
      "[Parallel(n_jobs=1)]: Done  50 out of  50 | elapsed:  7.7min remaining:    0.0s\n",
      "building tree 51 of 100\n",
      "[Parallel(n_jobs=1)]: Done  51 out of  51 | elapsed:  7.9min remaining:    0.0s\n",
      "building tree 52 of 100\n",
      "[Parallel(n_jobs=1)]: Done  52 out of  52 | elapsed:  8.0min remaining:    0.0s\n",
      "building tree 53 of 100\n",
      "[Parallel(n_jobs=1)]: Done  53 out of  53 | elapsed:  8.2min remaining:    0.0s\n",
      "building tree 54 of 100\n",
      "[Parallel(n_jobs=1)]: Done  54 out of  54 | elapsed:  8.3min remaining:    0.0s\n",
      "building tree 55 of 100\n",
      "[Parallel(n_jobs=1)]: Done  55 out of  55 | elapsed:  8.5min remaining:    0.0s\n",
      "building tree 56 of 100\n",
      "[Parallel(n_jobs=1)]: Done  56 out of  56 | elapsed:  8.6min remaining:    0.0s\n",
      "building tree 57 of 100\n",
      "[Parallel(n_jobs=1)]: Done  57 out of  57 | elapsed:  8.8min remaining:    0.0s\n",
      "building tree 58 of 100\n",
      "[Parallel(n_jobs=1)]: Done  58 out of  58 | elapsed:  8.9min remaining:    0.0s\n",
      "building tree 59 of 100\n",
      "[Parallel(n_jobs=1)]: Done  59 out of  59 | elapsed:  9.1min remaining:    0.0s\n",
      "building tree 60 of 100\n",
      "[Parallel(n_jobs=1)]: Done  60 out of  60 | elapsed:  9.2min remaining:    0.0s\n",
      "building tree 61 of 100\n",
      "[Parallel(n_jobs=1)]: Done  61 out of  61 | elapsed:  9.4min remaining:    0.0s\n",
      "building tree 62 of 100\n",
      "[Parallel(n_jobs=1)]: Done  62 out of  62 | elapsed:  9.5min remaining:    0.0s\n",
      "building tree 63 of 100\n",
      "[Parallel(n_jobs=1)]: Done  63 out of  63 | elapsed:  9.7min remaining:    0.0s\n",
      "building tree 64 of 100\n",
      "[Parallel(n_jobs=1)]: Done  64 out of  64 | elapsed:  9.8min remaining:    0.0s\n",
      "building tree 65 of 100\n",
      "[Parallel(n_jobs=1)]: Done  65 out of  65 | elapsed: 10.0min remaining:    0.0s\n",
      "building tree 66 of 100\n",
      "[Parallel(n_jobs=1)]: Done  66 out of  66 | elapsed: 10.1min remaining:    0.0s\n",
      "building tree 67 of 100\n",
      "[Parallel(n_jobs=1)]: Done  67 out of  67 | elapsed: 10.3min remaining:    0.0s\n",
      "building tree 68 of 100\n",
      "[Parallel(n_jobs=1)]: Done  68 out of  68 | elapsed: 10.4min remaining:    0.0s\n",
      "building tree 69 of 100\n",
      "[Parallel(n_jobs=1)]: Done  69 out of  69 | elapsed: 10.6min remaining:    0.0s\n",
      "building tree 70 of 100\n",
      "[Parallel(n_jobs=1)]: Done  70 out of  70 | elapsed: 10.7min remaining:    0.0s\n",
      "building tree 71 of 100\n",
      "[Parallel(n_jobs=1)]: Done  71 out of  71 | elapsed: 10.9min remaining:    0.0s\n",
      "building tree 72 of 100\n",
      "[Parallel(n_jobs=1)]: Done  72 out of  72 | elapsed: 11.0min remaining:    0.0s\n",
      "building tree 73 of 100\n",
      "[Parallel(n_jobs=1)]: Done  73 out of  73 | elapsed: 11.2min remaining:    0.0s\n",
      "building tree 74 of 100\n",
      "[Parallel(n_jobs=1)]: Done  74 out of  74 | elapsed: 11.3min remaining:    0.0s\n",
      "building tree 75 of 100\n",
      "[Parallel(n_jobs=1)]: Done  75 out of  75 | elapsed: 11.5min remaining:    0.0s\n",
      "building tree 76 of 100\n",
      "[Parallel(n_jobs=1)]: Done  76 out of  76 | elapsed: 11.6min remaining:    0.0s\n",
      "building tree 77 of 100\n",
      "[Parallel(n_jobs=1)]: Done  77 out of  77 | elapsed: 11.8min remaining:    0.0s\n",
      "building tree 78 of 100\n",
      "[Parallel(n_jobs=1)]: Done  78 out of  78 | elapsed: 11.9min remaining:    0.0s\n",
      "building tree 79 of 100\n",
      "[Parallel(n_jobs=1)]: Done  79 out of  79 | elapsed: 12.1min remaining:    0.0s\n",
      "building tree 80 of 100\n",
      "[Parallel(n_jobs=1)]: Done  80 out of  80 | elapsed: 12.2min remaining:    0.0s\n",
      "building tree 81 of 100\n",
      "[Parallel(n_jobs=1)]: Done  81 out of  81 | elapsed: 12.4min remaining:    0.0s\n",
      "building tree 82 of 100\n",
      "[Parallel(n_jobs=1)]: Done  82 out of  82 | elapsed: 12.5min remaining:    0.0s\n",
      "building tree 83 of 100\n",
      "[Parallel(n_jobs=1)]: Done  83 out of  83 | elapsed: 12.7min remaining:    0.0s\n",
      "building tree 84 of 100\n",
      "[Parallel(n_jobs=1)]: Done  84 out of  84 | elapsed: 12.8min remaining:    0.0s\n",
      "building tree 85 of 100\n",
      "[Parallel(n_jobs=1)]: Done  85 out of  85 | elapsed: 13.0min remaining:    0.0s\n",
      "building tree 86 of 100\n",
      "[Parallel(n_jobs=1)]: Done  86 out of  86 | elapsed: 13.1min remaining:    0.0s\n",
      "building tree 87 of 100\n",
      "[Parallel(n_jobs=1)]: Done  87 out of  87 | elapsed: 13.3min remaining:    0.0s\n",
      "building tree 88 of 100\n",
      "[Parallel(n_jobs=1)]: Done  88 out of  88 | elapsed: 13.4min remaining:    0.0s\n",
      "building tree 89 of 100\n",
      "[Parallel(n_jobs=1)]: Done  89 out of  89 | elapsed: 13.6min remaining:    0.0s\n",
      "building tree 90 of 100\n",
      "[Parallel(n_jobs=1)]: Done  90 out of  90 | elapsed: 13.7min remaining:    0.0s\n",
      "building tree 91 of 100\n",
      "[Parallel(n_jobs=1)]: Done  91 out of  91 | elapsed: 13.9min remaining:    0.0s\n",
      "building tree 92 of 100\n",
      "[Parallel(n_jobs=1)]: Done  92 out of  92 | elapsed: 14.0min remaining:    0.0s\n",
      "building tree 93 of 100\n",
      "[Parallel(n_jobs=1)]: Done  93 out of  93 | elapsed: 14.2min remaining:    0.0s\n",
      "building tree 94 of 100\n",
      "[Parallel(n_jobs=1)]: Done  94 out of  94 | elapsed: 14.3min remaining:    0.0s\n",
      "building tree 95 of 100\n",
      "[Parallel(n_jobs=1)]: Done  95 out of  95 | elapsed: 14.5min remaining:    0.0s\n",
      "building tree 96 of 100\n",
      "[Parallel(n_jobs=1)]: Done  96 out of  96 | elapsed: 14.6min remaining:    0.0s\n",
      "building tree 97 of 100\n",
      "[Parallel(n_jobs=1)]: Done  97 out of  97 | elapsed: 14.8min remaining:    0.0s\n",
      "building tree 98 of 100\n",
      "[Parallel(n_jobs=1)]: Done  98 out of  98 | elapsed: 14.9min remaining:    0.0s\n",
      "building tree 99 of 100\n",
      "[Parallel(n_jobs=1)]: Done  99 out of  99 | elapsed: 15.1min remaining:    0.0s\n",
      "building tree 100 of 100\n",
      "[Parallel(n_jobs=1)]: Done 100 out of 100 | elapsed: 15.2min finished\n",
      "[Parallel(n_jobs=1)]: Using backend SequentialBackend with 1 concurrent workers.\n",
      "[Parallel(n_jobs=1)]: Done   1 out of   1 | elapsed:    0.0s remaining:    0.0s\n",
      "[Parallel(n_jobs=1)]: Done   2 out of   2 | elapsed:    0.0s remaining:    0.0s\n",
      "[Parallel(n_jobs=1)]: Done   3 out of   3 | elapsed:    0.1s remaining:    0.0s\n",
      "[Parallel(n_jobs=1)]: Done   4 out of   4 | elapsed:    0.1s remaining:    0.0s\n",
      "[Parallel(n_jobs=1)]: Done   5 out of   5 | elapsed:    0.2s remaining:    0.0s\n",
      "[Parallel(n_jobs=1)]: Done   6 out of   6 | elapsed:    0.2s remaining:    0.0s\n",
      "[Parallel(n_jobs=1)]: Done   7 out of   7 | elapsed:    0.3s remaining:    0.0s\n",
      "[Parallel(n_jobs=1)]: Done   8 out of   8 | elapsed:    0.3s remaining:    0.0s\n",
      "[Parallel(n_jobs=1)]: Done   9 out of   9 | elapsed:    0.4s remaining:    0.0s\n",
      "[Parallel(n_jobs=1)]: Done  10 out of  10 | elapsed:    0.4s remaining:    0.0s\n",
      "[Parallel(n_jobs=1)]: Done  11 out of  11 | elapsed:    0.5s remaining:    0.0s\n",
      "[Parallel(n_jobs=1)]: Done  12 out of  12 | elapsed:    0.5s remaining:    0.0s\n",
      "[Parallel(n_jobs=1)]: Done  13 out of  13 | elapsed:    0.6s remaining:    0.0s\n",
      "[Parallel(n_jobs=1)]: Done  14 out of  14 | elapsed:    0.6s remaining:    0.0s\n",
      "[Parallel(n_jobs=1)]: Done  15 out of  15 | elapsed:    0.7s remaining:    0.0s\n",
      "[Parallel(n_jobs=1)]: Done  16 out of  16 | elapsed:    0.7s remaining:    0.0s\n",
      "[Parallel(n_jobs=1)]: Done  17 out of  17 | elapsed:    0.8s remaining:    0.0s\n",
      "[Parallel(n_jobs=1)]: Done  18 out of  18 | elapsed:    0.8s remaining:    0.0s\n",
      "[Parallel(n_jobs=1)]: Done  19 out of  19 | elapsed:    0.9s remaining:    0.0s\n",
      "[Parallel(n_jobs=1)]: Done  20 out of  20 | elapsed:    0.9s remaining:    0.0s\n",
      "[Parallel(n_jobs=1)]: Done  21 out of  21 | elapsed:    1.0s remaining:    0.0s\n",
      "[Parallel(n_jobs=1)]: Done  22 out of  22 | elapsed:    1.0s remaining:    0.0s\n",
      "[Parallel(n_jobs=1)]: Done  23 out of  23 | elapsed:    1.1s remaining:    0.0s\n",
      "[Parallel(n_jobs=1)]: Done  24 out of  24 | elapsed:    1.1s remaining:    0.0s\n",
      "[Parallel(n_jobs=1)]: Done  25 out of  25 | elapsed:    1.2s remaining:    0.0s\n",
      "[Parallel(n_jobs=1)]: Done  26 out of  26 | elapsed:    1.2s remaining:    0.0s\n",
      "[Parallel(n_jobs=1)]: Done  27 out of  27 | elapsed:    1.3s remaining:    0.0s\n",
      "[Parallel(n_jobs=1)]: Done  28 out of  28 | elapsed:    1.3s remaining:    0.0s\n"
     ]
    },
    {
     "name": "stdout",
     "output_type": "stream",
     "text": [
      "[Parallel(n_jobs=1)]: Done  29 out of  29 | elapsed:    1.4s remaining:    0.0s\n",
      "[Parallel(n_jobs=1)]: Done  30 out of  30 | elapsed:    1.4s remaining:    0.0s\n",
      "[Parallel(n_jobs=1)]: Done  31 out of  31 | elapsed:    1.5s remaining:    0.0s\n",
      "[Parallel(n_jobs=1)]: Done  32 out of  32 | elapsed:    1.5s remaining:    0.0s\n",
      "[Parallel(n_jobs=1)]: Done  33 out of  33 | elapsed:    1.6s remaining:    0.0s\n",
      "[Parallel(n_jobs=1)]: Done  34 out of  34 | elapsed:    1.6s remaining:    0.0s\n",
      "[Parallel(n_jobs=1)]: Done  35 out of  35 | elapsed:    1.7s remaining:    0.0s\n",
      "[Parallel(n_jobs=1)]: Done  36 out of  36 | elapsed:    1.7s remaining:    0.0s\n",
      "[Parallel(n_jobs=1)]: Done  37 out of  37 | elapsed:    1.8s remaining:    0.0s\n",
      "[Parallel(n_jobs=1)]: Done  38 out of  38 | elapsed:    1.8s remaining:    0.0s\n",
      "[Parallel(n_jobs=1)]: Done  39 out of  39 | elapsed:    1.9s remaining:    0.0s\n",
      "[Parallel(n_jobs=1)]: Done  40 out of  40 | elapsed:    1.9s remaining:    0.0s\n",
      "[Parallel(n_jobs=1)]: Done  41 out of  41 | elapsed:    2.0s remaining:    0.0s\n",
      "[Parallel(n_jobs=1)]: Done  42 out of  42 | elapsed:    2.0s remaining:    0.0s\n",
      "[Parallel(n_jobs=1)]: Done  43 out of  43 | elapsed:    2.1s remaining:    0.0s\n",
      "[Parallel(n_jobs=1)]: Done  44 out of  44 | elapsed:    2.1s remaining:    0.0s\n",
      "[Parallel(n_jobs=1)]: Done  45 out of  45 | elapsed:    2.2s remaining:    0.0s\n",
      "[Parallel(n_jobs=1)]: Done  46 out of  46 | elapsed:    2.2s remaining:    0.0s\n",
      "[Parallel(n_jobs=1)]: Done  47 out of  47 | elapsed:    2.3s remaining:    0.0s\n",
      "[Parallel(n_jobs=1)]: Done  48 out of  48 | elapsed:    2.4s remaining:    0.0s\n",
      "[Parallel(n_jobs=1)]: Done  49 out of  49 | elapsed:    2.4s remaining:    0.0s\n",
      "[Parallel(n_jobs=1)]: Done  50 out of  50 | elapsed:    2.5s remaining:    0.0s\n",
      "[Parallel(n_jobs=1)]: Done  51 out of  51 | elapsed:    2.5s remaining:    0.0s\n",
      "[Parallel(n_jobs=1)]: Done  52 out of  52 | elapsed:    2.6s remaining:    0.0s\n",
      "[Parallel(n_jobs=1)]: Done  53 out of  53 | elapsed:    2.6s remaining:    0.0s\n",
      "[Parallel(n_jobs=1)]: Done  54 out of  54 | elapsed:    2.7s remaining:    0.0s\n",
      "[Parallel(n_jobs=1)]: Done  55 out of  55 | elapsed:    2.7s remaining:    0.0s\n",
      "[Parallel(n_jobs=1)]: Done  56 out of  56 | elapsed:    2.8s remaining:    0.0s\n",
      "[Parallel(n_jobs=1)]: Done  57 out of  57 | elapsed:    2.8s remaining:    0.0s\n",
      "[Parallel(n_jobs=1)]: Done  58 out of  58 | elapsed:    2.9s remaining:    0.0s\n",
      "[Parallel(n_jobs=1)]: Done  59 out of  59 | elapsed:    2.9s remaining:    0.0s\n",
      "[Parallel(n_jobs=1)]: Done  60 out of  60 | elapsed:    3.0s remaining:    0.0s\n",
      "[Parallel(n_jobs=1)]: Done  61 out of  61 | elapsed:    3.0s remaining:    0.0s\n",
      "[Parallel(n_jobs=1)]: Done  62 out of  62 | elapsed:    3.1s remaining:    0.0s\n",
      "[Parallel(n_jobs=1)]: Done  63 out of  63 | elapsed:    3.1s remaining:    0.0s\n",
      "[Parallel(n_jobs=1)]: Done  64 out of  64 | elapsed:    3.2s remaining:    0.0s\n",
      "[Parallel(n_jobs=1)]: Done  65 out of  65 | elapsed:    3.2s remaining:    0.0s\n",
      "[Parallel(n_jobs=1)]: Done  66 out of  66 | elapsed:    3.3s remaining:    0.0s\n",
      "[Parallel(n_jobs=1)]: Done  67 out of  67 | elapsed:    3.3s remaining:    0.0s\n",
      "[Parallel(n_jobs=1)]: Done  68 out of  68 | elapsed:    3.4s remaining:    0.0s\n",
      "[Parallel(n_jobs=1)]: Done  69 out of  69 | elapsed:    3.4s remaining:    0.0s\n",
      "[Parallel(n_jobs=1)]: Done  70 out of  70 | elapsed:    3.5s remaining:    0.0s\n",
      "[Parallel(n_jobs=1)]: Done  71 out of  71 | elapsed:    3.5s remaining:    0.0s\n",
      "[Parallel(n_jobs=1)]: Done  72 out of  72 | elapsed:    3.6s remaining:    0.0s\n",
      "[Parallel(n_jobs=1)]: Done  73 out of  73 | elapsed:    3.6s remaining:    0.0s\n",
      "[Parallel(n_jobs=1)]: Done  74 out of  74 | elapsed:    3.7s remaining:    0.0s\n",
      "[Parallel(n_jobs=1)]: Done  75 out of  75 | elapsed:    3.7s remaining:    0.0s\n",
      "[Parallel(n_jobs=1)]: Done  76 out of  76 | elapsed:    3.8s remaining:    0.0s\n",
      "[Parallel(n_jobs=1)]: Done  77 out of  77 | elapsed:    3.8s remaining:    0.0s\n",
      "[Parallel(n_jobs=1)]: Done  78 out of  78 | elapsed:    3.9s remaining:    0.0s\n",
      "[Parallel(n_jobs=1)]: Done  79 out of  79 | elapsed:    3.9s remaining:    0.0s\n",
      "[Parallel(n_jobs=1)]: Done  80 out of  80 | elapsed:    4.0s remaining:    0.0s\n",
      "[Parallel(n_jobs=1)]: Done  81 out of  81 | elapsed:    4.0s remaining:    0.0s\n",
      "[Parallel(n_jobs=1)]: Done  82 out of  82 | elapsed:    4.1s remaining:    0.0s\n",
      "[Parallel(n_jobs=1)]: Done  83 out of  83 | elapsed:    4.1s remaining:    0.0s\n",
      "[Parallel(n_jobs=1)]: Done  84 out of  84 | elapsed:    4.2s remaining:    0.0s\n",
      "[Parallel(n_jobs=1)]: Done  85 out of  85 | elapsed:    4.2s remaining:    0.0s\n",
      "[Parallel(n_jobs=1)]: Done  86 out of  86 | elapsed:    4.3s remaining:    0.0s\n",
      "[Parallel(n_jobs=1)]: Done  87 out of  87 | elapsed:    4.3s remaining:    0.0s\n",
      "[Parallel(n_jobs=1)]: Done  88 out of  88 | elapsed:    4.4s remaining:    0.0s\n",
      "[Parallel(n_jobs=1)]: Done  89 out of  89 | elapsed:    4.4s remaining:    0.0s\n",
      "[Parallel(n_jobs=1)]: Done  90 out of  90 | elapsed:    4.5s remaining:    0.0s\n",
      "[Parallel(n_jobs=1)]: Done  91 out of  91 | elapsed:    4.5s remaining:    0.0s\n",
      "[Parallel(n_jobs=1)]: Done  92 out of  92 | elapsed:    4.6s remaining:    0.0s\n",
      "[Parallel(n_jobs=1)]: Done  93 out of  93 | elapsed:    4.6s remaining:    0.0s\n",
      "[Parallel(n_jobs=1)]: Done  94 out of  94 | elapsed:    4.7s remaining:    0.0s\n",
      "[Parallel(n_jobs=1)]: Done  95 out of  95 | elapsed:    4.7s remaining:    0.0s\n",
      "[Parallel(n_jobs=1)]: Done  96 out of  96 | elapsed:    4.8s remaining:    0.0s\n",
      "[Parallel(n_jobs=1)]: Done  97 out of  97 | elapsed:    4.8s remaining:    0.0s\n",
      "[Parallel(n_jobs=1)]: Done  98 out of  98 | elapsed:    4.9s remaining:    0.0s\n",
      "[Parallel(n_jobs=1)]: Done  99 out of  99 | elapsed:    4.9s remaining:    0.0s\n",
      "[Parallel(n_jobs=1)]: Done 100 out of 100 | elapsed:    5.0s finished\n",
      "[Parallel(n_jobs=1)]: Using backend SequentialBackend with 1 concurrent workers.\n",
      "[Parallel(n_jobs=1)]: Done   1 out of   1 | elapsed:    0.1s remaining:    0.0s\n",
      "[Parallel(n_jobs=1)]: Done   2 out of   2 | elapsed:    0.2s remaining:    0.0s\n",
      "[Parallel(n_jobs=1)]: Done   3 out of   3 | elapsed:    0.4s remaining:    0.0s\n",
      "[Parallel(n_jobs=1)]: Done   4 out of   4 | elapsed:    0.5s remaining:    0.0s\n",
      "[Parallel(n_jobs=1)]: Done   5 out of   5 | elapsed:    0.7s remaining:    0.0s\n",
      "[Parallel(n_jobs=1)]: Done   6 out of   6 | elapsed:    0.9s remaining:    0.0s\n",
      "[Parallel(n_jobs=1)]: Done   7 out of   7 | elapsed:    1.0s remaining:    0.0s\n",
      "[Parallel(n_jobs=1)]: Done   8 out of   8 | elapsed:    1.2s remaining:    0.0s\n",
      "[Parallel(n_jobs=1)]: Done   9 out of   9 | elapsed:    1.4s remaining:    0.0s\n",
      "[Parallel(n_jobs=1)]: Done  10 out of  10 | elapsed:    1.5s remaining:    0.0s\n",
      "[Parallel(n_jobs=1)]: Done  11 out of  11 | elapsed:    1.7s remaining:    0.0s\n",
      "[Parallel(n_jobs=1)]: Done  12 out of  12 | elapsed:    1.8s remaining:    0.0s\n",
      "[Parallel(n_jobs=1)]: Done  13 out of  13 | elapsed:    2.0s remaining:    0.0s\n",
      "[Parallel(n_jobs=1)]: Done  14 out of  14 | elapsed:    2.2s remaining:    0.0s\n",
      "[Parallel(n_jobs=1)]: Done  15 out of  15 | elapsed:    2.3s remaining:    0.0s\n",
      "[Parallel(n_jobs=1)]: Done  16 out of  16 | elapsed:    2.5s remaining:    0.0s\n",
      "[Parallel(n_jobs=1)]: Done  17 out of  17 | elapsed:    2.6s remaining:    0.0s\n",
      "[Parallel(n_jobs=1)]: Done  18 out of  18 | elapsed:    2.8s remaining:    0.0s\n",
      "[Parallel(n_jobs=1)]: Done  19 out of  19 | elapsed:    3.0s remaining:    0.0s\n",
      "[Parallel(n_jobs=1)]: Done  20 out of  20 | elapsed:    3.1s remaining:    0.0s\n",
      "[Parallel(n_jobs=1)]: Done  21 out of  21 | elapsed:    3.3s remaining:    0.0s\n",
      "[Parallel(n_jobs=1)]: Done  22 out of  22 | elapsed:    3.5s remaining:    0.0s\n",
      "[Parallel(n_jobs=1)]: Done  23 out of  23 | elapsed:    3.7s remaining:    0.0s\n",
      "[Parallel(n_jobs=1)]: Done  24 out of  24 | elapsed:    3.9s remaining:    0.0s\n",
      "[Parallel(n_jobs=1)]: Done  25 out of  25 | elapsed:    4.1s remaining:    0.0s\n",
      "[Parallel(n_jobs=1)]: Done  26 out of  26 | elapsed:    4.2s remaining:    0.0s\n",
      "[Parallel(n_jobs=1)]: Done  27 out of  27 | elapsed:    4.4s remaining:    0.0s\n",
      "[Parallel(n_jobs=1)]: Done  28 out of  28 | elapsed:    4.6s remaining:    0.0s\n",
      "[Parallel(n_jobs=1)]: Done  29 out of  29 | elapsed:    4.8s remaining:    0.0s\n",
      "[Parallel(n_jobs=1)]: Done  30 out of  30 | elapsed:    5.0s remaining:    0.0s\n",
      "[Parallel(n_jobs=1)]: Done  31 out of  31 | elapsed:    5.1s remaining:    0.0s\n"
     ]
    },
    {
     "name": "stdout",
     "output_type": "stream",
     "text": [
      "[Parallel(n_jobs=1)]: Done  32 out of  32 | elapsed:    5.3s remaining:    0.0s\n",
      "[Parallel(n_jobs=1)]: Done  33 out of  33 | elapsed:    5.5s remaining:    0.0s\n",
      "[Parallel(n_jobs=1)]: Done  34 out of  34 | elapsed:    5.6s remaining:    0.0s\n",
      "[Parallel(n_jobs=1)]: Done  35 out of  35 | elapsed:    5.8s remaining:    0.0s\n",
      "[Parallel(n_jobs=1)]: Done  36 out of  36 | elapsed:    5.9s remaining:    0.0s\n",
      "[Parallel(n_jobs=1)]: Done  37 out of  37 | elapsed:    6.1s remaining:    0.0s\n",
      "[Parallel(n_jobs=1)]: Done  38 out of  38 | elapsed:    6.3s remaining:    0.0s\n",
      "[Parallel(n_jobs=1)]: Done  39 out of  39 | elapsed:    6.4s remaining:    0.0s\n",
      "[Parallel(n_jobs=1)]: Done  40 out of  40 | elapsed:    6.6s remaining:    0.0s\n",
      "[Parallel(n_jobs=1)]: Done  41 out of  41 | elapsed:    6.7s remaining:    0.0s\n",
      "[Parallel(n_jobs=1)]: Done  42 out of  42 | elapsed:    6.9s remaining:    0.0s\n",
      "[Parallel(n_jobs=1)]: Done  43 out of  43 | elapsed:    7.1s remaining:    0.0s\n",
      "[Parallel(n_jobs=1)]: Done  44 out of  44 | elapsed:    7.2s remaining:    0.0s\n",
      "[Parallel(n_jobs=1)]: Done  45 out of  45 | elapsed:    7.4s remaining:    0.0s\n",
      "[Parallel(n_jobs=1)]: Done  46 out of  46 | elapsed:    7.6s remaining:    0.0s\n",
      "[Parallel(n_jobs=1)]: Done  47 out of  47 | elapsed:    7.7s remaining:    0.0s\n",
      "[Parallel(n_jobs=1)]: Done  48 out of  48 | elapsed:    7.9s remaining:    0.0s\n",
      "[Parallel(n_jobs=1)]: Done  49 out of  49 | elapsed:    8.0s remaining:    0.0s\n",
      "[Parallel(n_jobs=1)]: Done  50 out of  50 | elapsed:    8.2s remaining:    0.0s\n",
      "[Parallel(n_jobs=1)]: Done  51 out of  51 | elapsed:    8.4s remaining:    0.0s\n",
      "[Parallel(n_jobs=1)]: Done  52 out of  52 | elapsed:    8.5s remaining:    0.0s\n",
      "[Parallel(n_jobs=1)]: Done  53 out of  53 | elapsed:    8.7s remaining:    0.0s\n",
      "[Parallel(n_jobs=1)]: Done  54 out of  54 | elapsed:    8.8s remaining:    0.0s\n",
      "[Parallel(n_jobs=1)]: Done  55 out of  55 | elapsed:    9.0s remaining:    0.0s\n",
      "[Parallel(n_jobs=1)]: Done  56 out of  56 | elapsed:    9.2s remaining:    0.0s\n",
      "[Parallel(n_jobs=1)]: Done  57 out of  57 | elapsed:    9.3s remaining:    0.0s\n",
      "[Parallel(n_jobs=1)]: Done  58 out of  58 | elapsed:    9.5s remaining:    0.0s\n",
      "[Parallel(n_jobs=1)]: Done  59 out of  59 | elapsed:    9.6s remaining:    0.0s\n",
      "[Parallel(n_jobs=1)]: Done  60 out of  60 | elapsed:    9.8s remaining:    0.0s\n",
      "[Parallel(n_jobs=1)]: Done  61 out of  61 | elapsed:   10.0s remaining:    0.0s\n",
      "[Parallel(n_jobs=1)]: Done  62 out of  62 | elapsed:   10.1s remaining:    0.0s\n",
      "[Parallel(n_jobs=1)]: Done  63 out of  63 | elapsed:   10.3s remaining:    0.0s\n",
      "[Parallel(n_jobs=1)]: Done  64 out of  64 | elapsed:   10.4s remaining:    0.0s\n",
      "[Parallel(n_jobs=1)]: Done  65 out of  65 | elapsed:   10.6s remaining:    0.0s\n",
      "[Parallel(n_jobs=1)]: Done  66 out of  66 | elapsed:   10.8s remaining:    0.0s\n",
      "[Parallel(n_jobs=1)]: Done  67 out of  67 | elapsed:   10.9s remaining:    0.0s\n",
      "[Parallel(n_jobs=1)]: Done  68 out of  68 | elapsed:   11.1s remaining:    0.0s\n",
      "[Parallel(n_jobs=1)]: Done  69 out of  69 | elapsed:   11.3s remaining:    0.0s\n",
      "[Parallel(n_jobs=1)]: Done  70 out of  70 | elapsed:   11.4s remaining:    0.0s\n",
      "[Parallel(n_jobs=1)]: Done  71 out of  71 | elapsed:   11.6s remaining:    0.0s\n",
      "[Parallel(n_jobs=1)]: Done  72 out of  72 | elapsed:   11.8s remaining:    0.0s\n",
      "[Parallel(n_jobs=1)]: Done  73 out of  73 | elapsed:   11.9s remaining:    0.0s\n",
      "[Parallel(n_jobs=1)]: Done  74 out of  74 | elapsed:   12.1s remaining:    0.0s\n",
      "[Parallel(n_jobs=1)]: Done  75 out of  75 | elapsed:   12.2s remaining:    0.0s\n",
      "[Parallel(n_jobs=1)]: Done  76 out of  76 | elapsed:   12.4s remaining:    0.0s\n",
      "[Parallel(n_jobs=1)]: Done  77 out of  77 | elapsed:   12.5s remaining:    0.0s\n",
      "[Parallel(n_jobs=1)]: Done  78 out of  78 | elapsed:   12.7s remaining:    0.0s\n",
      "[Parallel(n_jobs=1)]: Done  79 out of  79 | elapsed:   12.9s remaining:    0.0s\n",
      "[Parallel(n_jobs=1)]: Done  80 out of  80 | elapsed:   13.0s remaining:    0.0s\n",
      "[Parallel(n_jobs=1)]: Done  81 out of  81 | elapsed:   13.2s remaining:    0.0s\n",
      "[Parallel(n_jobs=1)]: Done  82 out of  82 | elapsed:   13.4s remaining:    0.0s\n",
      "[Parallel(n_jobs=1)]: Done  83 out of  83 | elapsed:   13.5s remaining:    0.0s\n",
      "[Parallel(n_jobs=1)]: Done  84 out of  84 | elapsed:   13.7s remaining:    0.0s\n",
      "[Parallel(n_jobs=1)]: Done  85 out of  85 | elapsed:   13.8s remaining:    0.0s\n",
      "[Parallel(n_jobs=1)]: Done  86 out of  86 | elapsed:   14.0s remaining:    0.0s\n",
      "[Parallel(n_jobs=1)]: Done  87 out of  87 | elapsed:   14.2s remaining:    0.0s\n",
      "[Parallel(n_jobs=1)]: Done  88 out of  88 | elapsed:   14.3s remaining:    0.0s\n",
      "[Parallel(n_jobs=1)]: Done  89 out of  89 | elapsed:   14.5s remaining:    0.0s\n",
      "[Parallel(n_jobs=1)]: Done  90 out of  90 | elapsed:   14.7s remaining:    0.0s\n",
      "[Parallel(n_jobs=1)]: Done  91 out of  91 | elapsed:   14.8s remaining:    0.0s\n",
      "[Parallel(n_jobs=1)]: Done  92 out of  92 | elapsed:   15.0s remaining:    0.0s\n",
      "[Parallel(n_jobs=1)]: Done  93 out of  93 | elapsed:   15.1s remaining:    0.0s\n",
      "[Parallel(n_jobs=1)]: Done  94 out of  94 | elapsed:   15.3s remaining:    0.0s\n",
      "[Parallel(n_jobs=1)]: Done  95 out of  95 | elapsed:   15.4s remaining:    0.0s\n",
      "[Parallel(n_jobs=1)]: Done  96 out of  96 | elapsed:   15.6s remaining:    0.0s\n",
      "[Parallel(n_jobs=1)]: Done  97 out of  97 | elapsed:   15.8s remaining:    0.0s\n",
      "[Parallel(n_jobs=1)]: Done  98 out of  98 | elapsed:   15.9s remaining:    0.0s\n",
      "[Parallel(n_jobs=1)]: Done  99 out of  99 | elapsed:   16.1s remaining:    0.0s\n",
      "[Parallel(n_jobs=1)]: Done 100 out of 100 | elapsed:   16.3s finished\n",
      "2 0.7363240030159416\n",
      "Encoding\n",
      "Training\n",
      "[Parallel(n_jobs=1)]: Using backend SequentialBackend with 1 concurrent workers.\n",
      "building tree 1 of 100\n",
      "[Parallel(n_jobs=1)]: Done   1 out of   1 | elapsed:    9.3s remaining:    0.0s\n",
      "building tree 2 of 100\n",
      "[Parallel(n_jobs=1)]: Done   2 out of   2 | elapsed:   18.8s remaining:    0.0s\n",
      "building tree 3 of 100\n",
      "[Parallel(n_jobs=1)]: Done   3 out of   3 | elapsed:   27.9s remaining:    0.0s\n",
      "building tree 4 of 100\n",
      "[Parallel(n_jobs=1)]: Done   4 out of   4 | elapsed:   37.7s remaining:    0.0s\n",
      "building tree 5 of 100\n",
      "[Parallel(n_jobs=1)]: Done   5 out of   5 | elapsed:   47.2s remaining:    0.0s\n",
      "building tree 6 of 100\n",
      "[Parallel(n_jobs=1)]: Done   6 out of   6 | elapsed:   56.3s remaining:    0.0s\n",
      "building tree 7 of 100\n",
      "[Parallel(n_jobs=1)]: Done   7 out of   7 | elapsed:  1.1min remaining:    0.0s\n",
      "building tree 8 of 100\n",
      "[Parallel(n_jobs=1)]: Done   8 out of   8 | elapsed:  1.2min remaining:    0.0s\n",
      "building tree 9 of 100\n",
      "[Parallel(n_jobs=1)]: Done   9 out of   9 | elapsed:  1.4min remaining:    0.0s\n",
      "building tree 10 of 100\n",
      "[Parallel(n_jobs=1)]: Done  10 out of  10 | elapsed:  1.5min remaining:    0.0s\n",
      "building tree 11 of 100\n",
      "[Parallel(n_jobs=1)]: Done  11 out of  11 | elapsed:  1.7min remaining:    0.0s\n",
      "building tree 12 of 100\n",
      "[Parallel(n_jobs=1)]: Done  12 out of  12 | elapsed:  1.8min remaining:    0.0s\n",
      "building tree 13 of 100\n",
      "[Parallel(n_jobs=1)]: Done  13 out of  13 | elapsed:  2.0min remaining:    0.0s\n",
      "building tree 14 of 100\n",
      "[Parallel(n_jobs=1)]: Done  14 out of  14 | elapsed:  2.1min remaining:    0.0s\n",
      "building tree 15 of 100\n",
      "[Parallel(n_jobs=1)]: Done  15 out of  15 | elapsed:  2.3min remaining:    0.0s\n",
      "building tree 16 of 100\n",
      "[Parallel(n_jobs=1)]: Done  16 out of  16 | elapsed:  2.4min remaining:    0.0s\n",
      "building tree 17 of 100\n",
      "[Parallel(n_jobs=1)]: Done  17 out of  17 | elapsed:  2.6min remaining:    0.0s\n",
      "building tree 18 of 100\n",
      "[Parallel(n_jobs=1)]: Done  18 out of  18 | elapsed:  2.7min remaining:    0.0s\n",
      "building tree 19 of 100\n",
      "[Parallel(n_jobs=1)]: Done  19 out of  19 | elapsed:  2.9min remaining:    0.0s\n",
      "building tree 20 of 100\n",
      "[Parallel(n_jobs=1)]: Done  20 out of  20 | elapsed:  3.1min remaining:    0.0s\n",
      "building tree 21 of 100\n",
      "[Parallel(n_jobs=1)]: Done  21 out of  21 | elapsed:  3.2min remaining:    0.0s\n",
      "building tree 22 of 100\n",
      "[Parallel(n_jobs=1)]: Done  22 out of  22 | elapsed:  3.3min remaining:    0.0s\n",
      "building tree 23 of 100\n",
      "[Parallel(n_jobs=1)]: Done  23 out of  23 | elapsed:  3.5min remaining:    0.0s\n",
      "building tree 24 of 100\n",
      "[Parallel(n_jobs=1)]: Done  24 out of  24 | elapsed:  3.6min remaining:    0.0s\n",
      "building tree 25 of 100\n",
      "[Parallel(n_jobs=1)]: Done  25 out of  25 | elapsed:  3.8min remaining:    0.0s\n",
      "building tree 26 of 100\n"
     ]
    },
    {
     "name": "stdout",
     "output_type": "stream",
     "text": [
      "[Parallel(n_jobs=1)]: Done  26 out of  26 | elapsed:  3.9min remaining:    0.0s\n",
      "building tree 27 of 100\n",
      "[Parallel(n_jobs=1)]: Done  27 out of  27 | elapsed:  4.1min remaining:    0.0s\n",
      "building tree 28 of 100\n",
      "[Parallel(n_jobs=1)]: Done  28 out of  28 | elapsed:  4.2min remaining:    0.0s\n",
      "building tree 29 of 100\n",
      "[Parallel(n_jobs=1)]: Done  29 out of  29 | elapsed:  4.4min remaining:    0.0s\n",
      "building tree 30 of 100\n",
      "[Parallel(n_jobs=1)]: Done  30 out of  30 | elapsed:  4.6min remaining:    0.0s\n",
      "building tree 31 of 100\n",
      "[Parallel(n_jobs=1)]: Done  31 out of  31 | elapsed:  4.7min remaining:    0.0s\n",
      "building tree 32 of 100\n",
      "[Parallel(n_jobs=1)]: Done  32 out of  32 | elapsed:  4.9min remaining:    0.0s\n",
      "building tree 33 of 100\n",
      "[Parallel(n_jobs=1)]: Done  33 out of  33 | elapsed:  5.0min remaining:    0.0s\n",
      "building tree 34 of 100\n",
      "[Parallel(n_jobs=1)]: Done  34 out of  34 | elapsed:  5.2min remaining:    0.0s\n",
      "building tree 35 of 100\n",
      "[Parallel(n_jobs=1)]: Done  35 out of  35 | elapsed:  5.3min remaining:    0.0s\n",
      "building tree 36 of 100\n",
      "[Parallel(n_jobs=1)]: Done  36 out of  36 | elapsed:  5.5min remaining:    0.0s\n",
      "building tree 37 of 100\n",
      "[Parallel(n_jobs=1)]: Done  37 out of  37 | elapsed:  5.6min remaining:    0.0s\n",
      "building tree 38 of 100\n",
      "[Parallel(n_jobs=1)]: Done  38 out of  38 | elapsed:  5.8min remaining:    0.0s\n",
      "building tree 39 of 100\n",
      "[Parallel(n_jobs=1)]: Done  39 out of  39 | elapsed:  5.9min remaining:    0.0s\n",
      "building tree 40 of 100\n",
      "[Parallel(n_jobs=1)]: Done  40 out of  40 | elapsed:  6.1min remaining:    0.0s\n",
      "building tree 41 of 100\n",
      "[Parallel(n_jobs=1)]: Done  41 out of  41 | elapsed:  6.2min remaining:    0.0s\n",
      "building tree 42 of 100\n",
      "[Parallel(n_jobs=1)]: Done  42 out of  42 | elapsed:  6.4min remaining:    0.0s\n",
      "building tree 43 of 100\n",
      "[Parallel(n_jobs=1)]: Done  43 out of  43 | elapsed:  6.5min remaining:    0.0s\n",
      "building tree 44 of 100\n",
      "[Parallel(n_jobs=1)]: Done  44 out of  44 | elapsed:  6.7min remaining:    0.0s\n",
      "building tree 45 of 100\n",
      "[Parallel(n_jobs=1)]: Done  45 out of  45 | elapsed:  6.8min remaining:    0.0s\n",
      "building tree 46 of 100\n",
      "[Parallel(n_jobs=1)]: Done  46 out of  46 | elapsed:  7.0min remaining:    0.0s\n",
      "building tree 47 of 100\n",
      "[Parallel(n_jobs=1)]: Done  47 out of  47 | elapsed:  7.1min remaining:    0.0s\n",
      "building tree 48 of 100\n",
      "[Parallel(n_jobs=1)]: Done  48 out of  48 | elapsed:  7.3min remaining:    0.0s\n",
      "building tree 49 of 100\n",
      "[Parallel(n_jobs=1)]: Done  49 out of  49 | elapsed:  7.4min remaining:    0.0s\n",
      "building tree 50 of 100\n",
      "[Parallel(n_jobs=1)]: Done  50 out of  50 | elapsed:  7.6min remaining:    0.0s\n",
      "building tree 51 of 100\n",
      "[Parallel(n_jobs=1)]: Done  51 out of  51 | elapsed:  7.7min remaining:    0.0s\n",
      "building tree 52 of 100\n",
      "[Parallel(n_jobs=1)]: Done  52 out of  52 | elapsed:  7.9min remaining:    0.0s\n",
      "building tree 53 of 100\n",
      "[Parallel(n_jobs=1)]: Done  53 out of  53 | elapsed:  8.0min remaining:    0.0s\n",
      "building tree 54 of 100\n",
      "[Parallel(n_jobs=1)]: Done  54 out of  54 | elapsed:  8.2min remaining:    0.0s\n",
      "building tree 55 of 100\n",
      "[Parallel(n_jobs=1)]: Done  55 out of  55 | elapsed:  8.3min remaining:    0.0s\n",
      "building tree 56 of 100\n",
      "[Parallel(n_jobs=1)]: Done  56 out of  56 | elapsed:  8.5min remaining:    0.0s\n",
      "building tree 57 of 100\n",
      "[Parallel(n_jobs=1)]: Done  57 out of  57 | elapsed:  8.6min remaining:    0.0s\n",
      "building tree 58 of 100\n",
      "[Parallel(n_jobs=1)]: Done  58 out of  58 | elapsed:  8.8min remaining:    0.0s\n",
      "building tree 59 of 100\n",
      "[Parallel(n_jobs=1)]: Done  59 out of  59 | elapsed:  8.9min remaining:    0.0s\n",
      "building tree 60 of 100\n",
      "[Parallel(n_jobs=1)]: Done  60 out of  60 | elapsed:  9.1min remaining:    0.0s\n",
      "building tree 61 of 100\n",
      "[Parallel(n_jobs=1)]: Done  61 out of  61 | elapsed:  9.2min remaining:    0.0s\n",
      "building tree 62 of 100\n",
      "[Parallel(n_jobs=1)]: Done  62 out of  62 | elapsed:  9.4min remaining:    0.0s\n",
      "building tree 63 of 100\n",
      "[Parallel(n_jobs=1)]: Done  63 out of  63 | elapsed:  9.5min remaining:    0.0s\n",
      "building tree 64 of 100\n",
      "[Parallel(n_jobs=1)]: Done  64 out of  64 | elapsed:  9.7min remaining:    0.0s\n",
      "building tree 65 of 100\n",
      "[Parallel(n_jobs=1)]: Done  65 out of  65 | elapsed:  9.8min remaining:    0.0s\n",
      "building tree 66 of 100\n",
      "[Parallel(n_jobs=1)]: Done  66 out of  66 | elapsed: 10.0min remaining:    0.0s\n",
      "building tree 67 of 100\n",
      "[Parallel(n_jobs=1)]: Done  67 out of  67 | elapsed: 10.1min remaining:    0.0s\n",
      "building tree 68 of 100\n",
      "[Parallel(n_jobs=1)]: Done  68 out of  68 | elapsed: 10.3min remaining:    0.0s\n",
      "building tree 69 of 100\n",
      "[Parallel(n_jobs=1)]: Done  69 out of  69 | elapsed: 10.4min remaining:    0.0s\n",
      "building tree 70 of 100\n",
      "[Parallel(n_jobs=1)]: Done  70 out of  70 | elapsed: 10.6min remaining:    0.0s\n",
      "building tree 71 of 100\n",
      "[Parallel(n_jobs=1)]: Done  71 out of  71 | elapsed: 10.7min remaining:    0.0s\n",
      "building tree 72 of 100\n",
      "[Parallel(n_jobs=1)]: Done  72 out of  72 | elapsed: 10.9min remaining:    0.0s\n",
      "building tree 73 of 100\n",
      "[Parallel(n_jobs=1)]: Done  73 out of  73 | elapsed: 11.1min remaining:    0.0s\n",
      "building tree 74 of 100\n",
      "[Parallel(n_jobs=1)]: Done  74 out of  74 | elapsed: 11.2min remaining:    0.0s\n",
      "building tree 75 of 100\n",
      "[Parallel(n_jobs=1)]: Done  75 out of  75 | elapsed: 11.4min remaining:    0.0s\n",
      "building tree 76 of 100\n",
      "[Parallel(n_jobs=1)]: Done  76 out of  76 | elapsed: 11.5min remaining:    0.0s\n",
      "building tree 77 of 100\n",
      "[Parallel(n_jobs=1)]: Done  77 out of  77 | elapsed: 11.7min remaining:    0.0s\n",
      "building tree 78 of 100\n",
      "[Parallel(n_jobs=1)]: Done  78 out of  78 | elapsed: 11.8min remaining:    0.0s\n",
      "building tree 79 of 100\n",
      "[Parallel(n_jobs=1)]: Done  79 out of  79 | elapsed: 12.0min remaining:    0.0s\n",
      "building tree 80 of 100\n"
     ]
    },
    {
     "ename": "KeyboardInterrupt",
     "evalue": "",
     "output_type": "error",
     "traceback": [
      "\u001b[1;31m---------------------------------------------------------------------------\u001b[0m",
      "\u001b[1;31mKeyboardInterrupt\u001b[0m                         Traceback (most recent call last)",
      "\u001b[1;32m<ipython-input-18-6ef01747071e>\u001b[0m in \u001b[0;36m<module>\u001b[1;34m\u001b[0m\n\u001b[0;32m     21\u001b[0m     \u001b[0mprint\u001b[0m\u001b[1;33m(\u001b[0m\u001b[1;34m'Training'\u001b[0m\u001b[1;33m)\u001b[0m\u001b[1;33m\u001b[0m\u001b[1;33m\u001b[0m\u001b[0m\n\u001b[0;32m     22\u001b[0m     \u001b[0mmodel\u001b[0m \u001b[1;33m=\u001b[0m \u001b[0mRandomForestRegressor\u001b[0m\u001b[1;33m(\u001b[0m\u001b[0mrandom_state\u001b[0m\u001b[1;33m=\u001b[0m\u001b[0mfold\u001b[0m\u001b[1;33m,\u001b[0m \u001b[0mverbose\u001b[0m\u001b[1;33m=\u001b[0m\u001b[1;36m100\u001b[0m\u001b[1;33m)\u001b[0m\u001b[1;33m\u001b[0m\u001b[1;33m\u001b[0m\u001b[0m\n\u001b[1;32m---> 23\u001b[1;33m     \u001b[0mmodel\u001b[0m\u001b[1;33m.\u001b[0m\u001b[0mfit\u001b[0m\u001b[1;33m(\u001b[0m\u001b[0mX_train\u001b[0m\u001b[1;33m,\u001b[0m\u001b[0my_train\u001b[0m\u001b[1;33m)\u001b[0m\u001b[1;33m\u001b[0m\u001b[1;33m\u001b[0m\u001b[0m\n\u001b[0m\u001b[0;32m     24\u001b[0m     \u001b[0mpredictions\u001b[0m\u001b[1;33m=\u001b[0m\u001b[0mmodel\u001b[0m\u001b[1;33m.\u001b[0m\u001b[0mpredict\u001b[0m\u001b[1;33m(\u001b[0m\u001b[0mX_valid\u001b[0m\u001b[1;33m)\u001b[0m\u001b[1;33m\u001b[0m\u001b[1;33m\u001b[0m\u001b[0m\n\u001b[0;32m     25\u001b[0m     \u001b[0mpredictions_test\u001b[0m\u001b[1;33m=\u001b[0m\u001b[0mmodel\u001b[0m\u001b[1;33m.\u001b[0m\u001b[0mpredict\u001b[0m\u001b[1;33m(\u001b[0m\u001b[0mX_test\u001b[0m\u001b[1;33m)\u001b[0m\u001b[1;33m\u001b[0m\u001b[1;33m\u001b[0m\u001b[0m\n",
      "\u001b[1;32m~\\anaconda3\\lib\\site-packages\\sklearn\\ensemble\\_forest.py\u001b[0m in \u001b[0;36mfit\u001b[1;34m(self, X, y, sample_weight)\u001b[0m\n\u001b[0;32m    385\u001b[0m             \u001b[1;31m# parallel_backend contexts set at a higher level,\u001b[0m\u001b[1;33m\u001b[0m\u001b[1;33m\u001b[0m\u001b[1;33m\u001b[0m\u001b[0m\n\u001b[0;32m    386\u001b[0m             \u001b[1;31m# since correctness does not rely on using threads.\u001b[0m\u001b[1;33m\u001b[0m\u001b[1;33m\u001b[0m\u001b[1;33m\u001b[0m\u001b[0m\n\u001b[1;32m--> 387\u001b[1;33m             trees = Parallel(n_jobs=self.n_jobs, verbose=self.verbose,\n\u001b[0m\u001b[0;32m    388\u001b[0m                              \u001b[1;33m**\u001b[0m\u001b[0m_joblib_parallel_args\u001b[0m\u001b[1;33m(\u001b[0m\u001b[0mprefer\u001b[0m\u001b[1;33m=\u001b[0m\u001b[1;34m'threads'\u001b[0m\u001b[1;33m)\u001b[0m\u001b[1;33m)\u001b[0m\u001b[1;33m(\u001b[0m\u001b[1;33m\u001b[0m\u001b[1;33m\u001b[0m\u001b[0m\n\u001b[0;32m    389\u001b[0m                 delayed(_parallel_build_trees)(\n",
      "\u001b[1;32m~\\anaconda3\\lib\\site-packages\\joblib\\parallel.py\u001b[0m in \u001b[0;36m__call__\u001b[1;34m(self, iterable)\u001b[0m\n\u001b[0;32m   1042\u001b[0m                 \u001b[0mself\u001b[0m\u001b[1;33m.\u001b[0m\u001b[0m_iterating\u001b[0m \u001b[1;33m=\u001b[0m \u001b[0mself\u001b[0m\u001b[1;33m.\u001b[0m\u001b[0m_original_iterator\u001b[0m \u001b[1;32mis\u001b[0m \u001b[1;32mnot\u001b[0m \u001b[1;32mNone\u001b[0m\u001b[1;33m\u001b[0m\u001b[1;33m\u001b[0m\u001b[0m\n\u001b[0;32m   1043\u001b[0m \u001b[1;33m\u001b[0m\u001b[0m\n\u001b[1;32m-> 1044\u001b[1;33m             \u001b[1;32mwhile\u001b[0m \u001b[0mself\u001b[0m\u001b[1;33m.\u001b[0m\u001b[0mdispatch_one_batch\u001b[0m\u001b[1;33m(\u001b[0m\u001b[0miterator\u001b[0m\u001b[1;33m)\u001b[0m\u001b[1;33m:\u001b[0m\u001b[1;33m\u001b[0m\u001b[1;33m\u001b[0m\u001b[0m\n\u001b[0m\u001b[0;32m   1045\u001b[0m                 \u001b[1;32mpass\u001b[0m\u001b[1;33m\u001b[0m\u001b[1;33m\u001b[0m\u001b[0m\n\u001b[0;32m   1046\u001b[0m \u001b[1;33m\u001b[0m\u001b[0m\n",
      "\u001b[1;32m~\\anaconda3\\lib\\site-packages\\joblib\\parallel.py\u001b[0m in \u001b[0;36mdispatch_one_batch\u001b[1;34m(self, iterator)\u001b[0m\n\u001b[0;32m    857\u001b[0m                 \u001b[1;32mreturn\u001b[0m \u001b[1;32mFalse\u001b[0m\u001b[1;33m\u001b[0m\u001b[1;33m\u001b[0m\u001b[0m\n\u001b[0;32m    858\u001b[0m             \u001b[1;32melse\u001b[0m\u001b[1;33m:\u001b[0m\u001b[1;33m\u001b[0m\u001b[1;33m\u001b[0m\u001b[0m\n\u001b[1;32m--> 859\u001b[1;33m                 \u001b[0mself\u001b[0m\u001b[1;33m.\u001b[0m\u001b[0m_dispatch\u001b[0m\u001b[1;33m(\u001b[0m\u001b[0mtasks\u001b[0m\u001b[1;33m)\u001b[0m\u001b[1;33m\u001b[0m\u001b[1;33m\u001b[0m\u001b[0m\n\u001b[0m\u001b[0;32m    860\u001b[0m                 \u001b[1;32mreturn\u001b[0m \u001b[1;32mTrue\u001b[0m\u001b[1;33m\u001b[0m\u001b[1;33m\u001b[0m\u001b[0m\n\u001b[0;32m    861\u001b[0m \u001b[1;33m\u001b[0m\u001b[0m\n",
      "\u001b[1;32m~\\anaconda3\\lib\\site-packages\\joblib\\parallel.py\u001b[0m in \u001b[0;36m_dispatch\u001b[1;34m(self, batch)\u001b[0m\n\u001b[0;32m    775\u001b[0m         \u001b[1;32mwith\u001b[0m \u001b[0mself\u001b[0m\u001b[1;33m.\u001b[0m\u001b[0m_lock\u001b[0m\u001b[1;33m:\u001b[0m\u001b[1;33m\u001b[0m\u001b[1;33m\u001b[0m\u001b[0m\n\u001b[0;32m    776\u001b[0m             \u001b[0mjob_idx\u001b[0m \u001b[1;33m=\u001b[0m \u001b[0mlen\u001b[0m\u001b[1;33m(\u001b[0m\u001b[0mself\u001b[0m\u001b[1;33m.\u001b[0m\u001b[0m_jobs\u001b[0m\u001b[1;33m)\u001b[0m\u001b[1;33m\u001b[0m\u001b[1;33m\u001b[0m\u001b[0m\n\u001b[1;32m--> 777\u001b[1;33m             \u001b[0mjob\u001b[0m \u001b[1;33m=\u001b[0m \u001b[0mself\u001b[0m\u001b[1;33m.\u001b[0m\u001b[0m_backend\u001b[0m\u001b[1;33m.\u001b[0m\u001b[0mapply_async\u001b[0m\u001b[1;33m(\u001b[0m\u001b[0mbatch\u001b[0m\u001b[1;33m,\u001b[0m \u001b[0mcallback\u001b[0m\u001b[1;33m=\u001b[0m\u001b[0mcb\u001b[0m\u001b[1;33m)\u001b[0m\u001b[1;33m\u001b[0m\u001b[1;33m\u001b[0m\u001b[0m\n\u001b[0m\u001b[0;32m    778\u001b[0m             \u001b[1;31m# A job can complete so quickly than its callback is\u001b[0m\u001b[1;33m\u001b[0m\u001b[1;33m\u001b[0m\u001b[1;33m\u001b[0m\u001b[0m\n\u001b[0;32m    779\u001b[0m             \u001b[1;31m# called before we get here, causing self._jobs to\u001b[0m\u001b[1;33m\u001b[0m\u001b[1;33m\u001b[0m\u001b[1;33m\u001b[0m\u001b[0m\n",
      "\u001b[1;32m~\\anaconda3\\lib\\site-packages\\joblib\\_parallel_backends.py\u001b[0m in \u001b[0;36mapply_async\u001b[1;34m(self, func, callback)\u001b[0m\n\u001b[0;32m    206\u001b[0m     \u001b[1;32mdef\u001b[0m \u001b[0mapply_async\u001b[0m\u001b[1;33m(\u001b[0m\u001b[0mself\u001b[0m\u001b[1;33m,\u001b[0m \u001b[0mfunc\u001b[0m\u001b[1;33m,\u001b[0m \u001b[0mcallback\u001b[0m\u001b[1;33m=\u001b[0m\u001b[1;32mNone\u001b[0m\u001b[1;33m)\u001b[0m\u001b[1;33m:\u001b[0m\u001b[1;33m\u001b[0m\u001b[1;33m\u001b[0m\u001b[0m\n\u001b[0;32m    207\u001b[0m         \u001b[1;34m\"\"\"Schedule a func to be run\"\"\"\u001b[0m\u001b[1;33m\u001b[0m\u001b[1;33m\u001b[0m\u001b[0m\n\u001b[1;32m--> 208\u001b[1;33m         \u001b[0mresult\u001b[0m \u001b[1;33m=\u001b[0m \u001b[0mImmediateResult\u001b[0m\u001b[1;33m(\u001b[0m\u001b[0mfunc\u001b[0m\u001b[1;33m)\u001b[0m\u001b[1;33m\u001b[0m\u001b[1;33m\u001b[0m\u001b[0m\n\u001b[0m\u001b[0;32m    209\u001b[0m         \u001b[1;32mif\u001b[0m \u001b[0mcallback\u001b[0m\u001b[1;33m:\u001b[0m\u001b[1;33m\u001b[0m\u001b[1;33m\u001b[0m\u001b[0m\n\u001b[0;32m    210\u001b[0m             \u001b[0mcallback\u001b[0m\u001b[1;33m(\u001b[0m\u001b[0mresult\u001b[0m\u001b[1;33m)\u001b[0m\u001b[1;33m\u001b[0m\u001b[1;33m\u001b[0m\u001b[0m\n",
      "\u001b[1;32m~\\anaconda3\\lib\\site-packages\\joblib\\_parallel_backends.py\u001b[0m in \u001b[0;36m__init__\u001b[1;34m(self, batch)\u001b[0m\n\u001b[0;32m    570\u001b[0m         \u001b[1;31m# Don't delay the application, to avoid keeping the input\u001b[0m\u001b[1;33m\u001b[0m\u001b[1;33m\u001b[0m\u001b[1;33m\u001b[0m\u001b[0m\n\u001b[0;32m    571\u001b[0m         \u001b[1;31m# arguments in memory\u001b[0m\u001b[1;33m\u001b[0m\u001b[1;33m\u001b[0m\u001b[1;33m\u001b[0m\u001b[0m\n\u001b[1;32m--> 572\u001b[1;33m         \u001b[0mself\u001b[0m\u001b[1;33m.\u001b[0m\u001b[0mresults\u001b[0m \u001b[1;33m=\u001b[0m \u001b[0mbatch\u001b[0m\u001b[1;33m(\u001b[0m\u001b[1;33m)\u001b[0m\u001b[1;33m\u001b[0m\u001b[1;33m\u001b[0m\u001b[0m\n\u001b[0m\u001b[0;32m    573\u001b[0m \u001b[1;33m\u001b[0m\u001b[0m\n\u001b[0;32m    574\u001b[0m     \u001b[1;32mdef\u001b[0m \u001b[0mget\u001b[0m\u001b[1;33m(\u001b[0m\u001b[0mself\u001b[0m\u001b[1;33m)\u001b[0m\u001b[1;33m:\u001b[0m\u001b[1;33m\u001b[0m\u001b[1;33m\u001b[0m\u001b[0m\n",
      "\u001b[1;32m~\\anaconda3\\lib\\site-packages\\joblib\\parallel.py\u001b[0m in \u001b[0;36m__call__\u001b[1;34m(self)\u001b[0m\n\u001b[0;32m    260\u001b[0m         \u001b[1;31m# change the default number of processes to -1\u001b[0m\u001b[1;33m\u001b[0m\u001b[1;33m\u001b[0m\u001b[1;33m\u001b[0m\u001b[0m\n\u001b[0;32m    261\u001b[0m         \u001b[1;32mwith\u001b[0m \u001b[0mparallel_backend\u001b[0m\u001b[1;33m(\u001b[0m\u001b[0mself\u001b[0m\u001b[1;33m.\u001b[0m\u001b[0m_backend\u001b[0m\u001b[1;33m,\u001b[0m \u001b[0mn_jobs\u001b[0m\u001b[1;33m=\u001b[0m\u001b[0mself\u001b[0m\u001b[1;33m.\u001b[0m\u001b[0m_n_jobs\u001b[0m\u001b[1;33m)\u001b[0m\u001b[1;33m:\u001b[0m\u001b[1;33m\u001b[0m\u001b[1;33m\u001b[0m\u001b[0m\n\u001b[1;32m--> 262\u001b[1;33m             return [func(*args, **kwargs)\n\u001b[0m\u001b[0;32m    263\u001b[0m                     for func, args, kwargs in self.items]\n\u001b[0;32m    264\u001b[0m \u001b[1;33m\u001b[0m\u001b[0m\n",
      "\u001b[1;32m~\\anaconda3\\lib\\site-packages\\joblib\\parallel.py\u001b[0m in \u001b[0;36m<listcomp>\u001b[1;34m(.0)\u001b[0m\n\u001b[0;32m    260\u001b[0m         \u001b[1;31m# change the default number of processes to -1\u001b[0m\u001b[1;33m\u001b[0m\u001b[1;33m\u001b[0m\u001b[1;33m\u001b[0m\u001b[0m\n\u001b[0;32m    261\u001b[0m         \u001b[1;32mwith\u001b[0m \u001b[0mparallel_backend\u001b[0m\u001b[1;33m(\u001b[0m\u001b[0mself\u001b[0m\u001b[1;33m.\u001b[0m\u001b[0m_backend\u001b[0m\u001b[1;33m,\u001b[0m \u001b[0mn_jobs\u001b[0m\u001b[1;33m=\u001b[0m\u001b[0mself\u001b[0m\u001b[1;33m.\u001b[0m\u001b[0m_n_jobs\u001b[0m\u001b[1;33m)\u001b[0m\u001b[1;33m:\u001b[0m\u001b[1;33m\u001b[0m\u001b[1;33m\u001b[0m\u001b[0m\n\u001b[1;32m--> 262\u001b[1;33m             return [func(*args, **kwargs)\n\u001b[0m\u001b[0;32m    263\u001b[0m                     for func, args, kwargs in self.items]\n\u001b[0;32m    264\u001b[0m \u001b[1;33m\u001b[0m\u001b[0m\n",
      "\u001b[1;32m~\\anaconda3\\lib\\site-packages\\sklearn\\utils\\fixes.py\u001b[0m in \u001b[0;36m__call__\u001b[1;34m(self, *args, **kwargs)\u001b[0m\n\u001b[0;32m    220\u001b[0m     \u001b[1;32mdef\u001b[0m \u001b[0m__call__\u001b[0m\u001b[1;33m(\u001b[0m\u001b[0mself\u001b[0m\u001b[1;33m,\u001b[0m \u001b[1;33m*\u001b[0m\u001b[0margs\u001b[0m\u001b[1;33m,\u001b[0m \u001b[1;33m**\u001b[0m\u001b[0mkwargs\u001b[0m\u001b[1;33m)\u001b[0m\u001b[1;33m:\u001b[0m\u001b[1;33m\u001b[0m\u001b[1;33m\u001b[0m\u001b[0m\n\u001b[0;32m    221\u001b[0m         \u001b[1;32mwith\u001b[0m \u001b[0mconfig_context\u001b[0m\u001b[1;33m(\u001b[0m\u001b[1;33m**\u001b[0m\u001b[0mself\u001b[0m\u001b[1;33m.\u001b[0m\u001b[0mconfig\u001b[0m\u001b[1;33m)\u001b[0m\u001b[1;33m:\u001b[0m\u001b[1;33m\u001b[0m\u001b[1;33m\u001b[0m\u001b[0m\n\u001b[1;32m--> 222\u001b[1;33m             \u001b[1;32mreturn\u001b[0m \u001b[0mself\u001b[0m\u001b[1;33m.\u001b[0m\u001b[0mfunction\u001b[0m\u001b[1;33m(\u001b[0m\u001b[1;33m*\u001b[0m\u001b[0margs\u001b[0m\u001b[1;33m,\u001b[0m \u001b[1;33m**\u001b[0m\u001b[0mkwargs\u001b[0m\u001b[1;33m)\u001b[0m\u001b[1;33m\u001b[0m\u001b[1;33m\u001b[0m\u001b[0m\n\u001b[0m",
      "\u001b[1;32m~\\anaconda3\\lib\\site-packages\\sklearn\\ensemble\\_forest.py\u001b[0m in \u001b[0;36m_parallel_build_trees\u001b[1;34m(tree, forest, X, y, sample_weight, tree_idx, n_trees, verbose, class_weight, n_samples_bootstrap)\u001b[0m\n\u001b[0;32m    167\u001b[0m                                                         indices=indices)\n\u001b[0;32m    168\u001b[0m \u001b[1;33m\u001b[0m\u001b[0m\n\u001b[1;32m--> 169\u001b[1;33m         \u001b[0mtree\u001b[0m\u001b[1;33m.\u001b[0m\u001b[0mfit\u001b[0m\u001b[1;33m(\u001b[0m\u001b[0mX\u001b[0m\u001b[1;33m,\u001b[0m \u001b[0my\u001b[0m\u001b[1;33m,\u001b[0m \u001b[0msample_weight\u001b[0m\u001b[1;33m=\u001b[0m\u001b[0mcurr_sample_weight\u001b[0m\u001b[1;33m,\u001b[0m \u001b[0mcheck_input\u001b[0m\u001b[1;33m=\u001b[0m\u001b[1;32mFalse\u001b[0m\u001b[1;33m)\u001b[0m\u001b[1;33m\u001b[0m\u001b[1;33m\u001b[0m\u001b[0m\n\u001b[0m\u001b[0;32m    170\u001b[0m     \u001b[1;32melse\u001b[0m\u001b[1;33m:\u001b[0m\u001b[1;33m\u001b[0m\u001b[1;33m\u001b[0m\u001b[0m\n\u001b[0;32m    171\u001b[0m         \u001b[0mtree\u001b[0m\u001b[1;33m.\u001b[0m\u001b[0mfit\u001b[0m\u001b[1;33m(\u001b[0m\u001b[0mX\u001b[0m\u001b[1;33m,\u001b[0m \u001b[0my\u001b[0m\u001b[1;33m,\u001b[0m \u001b[0msample_weight\u001b[0m\u001b[1;33m=\u001b[0m\u001b[0msample_weight\u001b[0m\u001b[1;33m,\u001b[0m \u001b[0mcheck_input\u001b[0m\u001b[1;33m=\u001b[0m\u001b[1;32mFalse\u001b[0m\u001b[1;33m)\u001b[0m\u001b[1;33m\u001b[0m\u001b[1;33m\u001b[0m\u001b[0m\n",
      "\u001b[1;32m~\\anaconda3\\lib\\site-packages\\sklearn\\tree\\_classes.py\u001b[0m in \u001b[0;36mfit\u001b[1;34m(self, X, y, sample_weight, check_input, X_idx_sorted)\u001b[0m\n\u001b[0;32m   1245\u001b[0m         \"\"\"\n\u001b[0;32m   1246\u001b[0m \u001b[1;33m\u001b[0m\u001b[0m\n\u001b[1;32m-> 1247\u001b[1;33m         super().fit(\n\u001b[0m\u001b[0;32m   1248\u001b[0m             \u001b[0mX\u001b[0m\u001b[1;33m,\u001b[0m \u001b[0my\u001b[0m\u001b[1;33m,\u001b[0m\u001b[1;33m\u001b[0m\u001b[1;33m\u001b[0m\u001b[0m\n\u001b[0;32m   1249\u001b[0m             \u001b[0msample_weight\u001b[0m\u001b[1;33m=\u001b[0m\u001b[0msample_weight\u001b[0m\u001b[1;33m,\u001b[0m\u001b[1;33m\u001b[0m\u001b[1;33m\u001b[0m\u001b[0m\n",
      "\u001b[1;32m~\\anaconda3\\lib\\site-packages\\sklearn\\tree\\_classes.py\u001b[0m in \u001b[0;36mfit\u001b[1;34m(self, X, y, sample_weight, check_input, X_idx_sorted)\u001b[0m\n\u001b[0;32m    387\u001b[0m                                            min_impurity_split)\n\u001b[0;32m    388\u001b[0m \u001b[1;33m\u001b[0m\u001b[0m\n\u001b[1;32m--> 389\u001b[1;33m         \u001b[0mbuilder\u001b[0m\u001b[1;33m.\u001b[0m\u001b[0mbuild\u001b[0m\u001b[1;33m(\u001b[0m\u001b[0mself\u001b[0m\u001b[1;33m.\u001b[0m\u001b[0mtree_\u001b[0m\u001b[1;33m,\u001b[0m \u001b[0mX\u001b[0m\u001b[1;33m,\u001b[0m \u001b[0my\u001b[0m\u001b[1;33m,\u001b[0m \u001b[0msample_weight\u001b[0m\u001b[1;33m)\u001b[0m\u001b[1;33m\u001b[0m\u001b[1;33m\u001b[0m\u001b[0m\n\u001b[0m\u001b[0;32m    390\u001b[0m \u001b[1;33m\u001b[0m\u001b[0m\n\u001b[0;32m    391\u001b[0m         \u001b[1;32mif\u001b[0m \u001b[0mself\u001b[0m\u001b[1;33m.\u001b[0m\u001b[0mn_outputs_\u001b[0m \u001b[1;33m==\u001b[0m \u001b[1;36m1\u001b[0m \u001b[1;32mand\u001b[0m \u001b[0mis_classifier\u001b[0m\u001b[1;33m(\u001b[0m\u001b[0mself\u001b[0m\u001b[1;33m)\u001b[0m\u001b[1;33m:\u001b[0m\u001b[1;33m\u001b[0m\u001b[1;33m\u001b[0m\u001b[0m\n",
      "\u001b[1;31mKeyboardInterrupt\u001b[0m: "
     ]
    }
   ],
   "source": [
    "last_scores=[]\n",
    "for fold in range(5):\n",
    "    X_train = train[train.kfold!=fold].reset_index(drop=True)\n",
    "    X_valid= train[train.kfold==fold].reset_index(drop=True)\n",
    "    X_test=test.copy()\n",
    "    \n",
    "    y_train=X_train.target\n",
    "    y_valid=X_valid.target\n",
    "    \n",
    "    X_train=X_train[useful_cols]\n",
    "    X_valid=X_valid[useful_cols]\n",
    "   \n",
    "    # ordinal-encode categorical columns\n",
    "    print('Encoding')\n",
    "    ordinal_encoder = OrdinalEncoder()\n",
    "    \n",
    "    X_train[object_cols]=ordinal_encoder.fit_transform(X_train[object_cols])\n",
    "    X_valid[object_cols]=ordinal_encoder.transform(X_valid[object_cols])\n",
    "    X_test[object_cols] = ordinal_encoder.transform(X_test[object_cols])\n",
    "    \n",
    "    print('Training') \n",
    "    model = RandomForestRegressor(random_state=fold, verbose=100)\n",
    "    model.fit(X_train,y_train)\n",
    "    predictions=model.predict(X_valid)\n",
    "    predictions_test=model.predict(X_test)\n",
    "    last_scores.append(predictions_test)\n",
    "    print(fold, mean_squared_error(y_valid,predictions,squared=False))"
   ]
  },
  {
   "cell_type": "markdown",
   "id": "a1b57bab",
   "metadata": {},
   "source": [
    "# Light GBMTunned"
   ]
  },
  {
   "cell_type": "code",
   "execution_count": null,
   "id": "addddd3a",
   "metadata": {},
   "outputs": [],
   "source": []
  },
  {
   "cell_type": "code",
   "execution_count": 6,
   "id": "706f09a7",
   "metadata": {},
   "outputs": [],
   "source": [
    "lgbm_parameters = {\n",
    "   'metric': 'rmse',\n",
    "    'learning_rate':.008,\n",
    "    'n_estimators': 50000,\n",
    "    'reg_alpha': 9.56,\n",
    "    'reg_lambda': 9.35,\n",
    "    'colsample_bytree': 0.21497646795452627,\n",
    "    'subsample': 0.7582562557431147,\n",
    "    'learning_rate': 0.009985133666265425,\n",
    "    'max_depth': 77,\n",
    "    'num_leaves': 77,\n",
    "    'min_child_samples': 290,\n",
    "    'max_bin': 772,\n",
    "    'cat_l2': 17,\n",
    "    'cat_smoth':96,\n",
    "    'seed': 2\n",
    "}\n"
   ]
  },
  {
   "cell_type": "code",
   "execution_count": 8,
   "id": "8be89bdf",
   "metadata": {},
   "outputs": [
    {
     "name": "stdout",
     "output_type": "stream",
     "text": [
      "Encoding\n",
      "Training\n",
      "[LightGBM] [Warning] Unknown parameter: cat_smoth\n"
     ]
    },
    {
     "name": "stderr",
     "output_type": "stream",
     "text": [
      "C:\\Users\\celes\\anaconda3\\lib\\site-packages\\lightgbm\\basic.py:1702: UserWarning: Using categorical_feature in Dataset.\n",
      "  _log_warning('Using categorical_feature in Dataset.')\n",
      "C:\\Users\\celes\\anaconda3\\lib\\site-packages\\lightgbm\\basic.py:1705: UserWarning: categorical_feature in Dataset is overridden.\n",
      "New categorical_feature is ['cat0', 'cat1', 'cat2', 'cat3', 'cat4', 'cat5', 'cat6', 'cat7', 'cat8', 'cat9']\n",
      "  _log_warning('categorical_feature in Dataset is overridden.\\n'\n",
      "C:\\Users\\celes\\anaconda3\\lib\\site-packages\\lightgbm\\basic.py:1433: UserWarning: Overriding the parameters from Reference Dataset.\n",
      "  _log_warning('Overriding the parameters from Reference Dataset.')\n",
      "C:\\Users\\celes\\anaconda3\\lib\\site-packages\\lightgbm\\basic.py:1245: UserWarning: categorical_column in param dict is overridden.\n",
      "  _log_warning('{} in param dict is overridden.'.format(cat_alias))\n"
     ]
    },
    {
     "name": "stdout",
     "output_type": "stream",
     "text": [
      "Training until validation scores don't improve for 200 rounds\n",
      "[1000]\tvalid_0's rmse: 0.71917\n",
      "[2000]\tvalid_0's rmse: 0.715942\n",
      "[3000]\tvalid_0's rmse: 0.715338\n",
      "Early stopping, best iteration is:\n",
      "[3299]\tvalid_0's rmse: 0.715289\n",
      "0 0.7152890254212041\n",
      "Encoding\n",
      "Training\n",
      "[LightGBM] [Warning] Unknown parameter: cat_smoth\n"
     ]
    },
    {
     "name": "stderr",
     "output_type": "stream",
     "text": [
      "C:\\Users\\celes\\anaconda3\\lib\\site-packages\\lightgbm\\basic.py:1702: UserWarning: Using categorical_feature in Dataset.\n",
      "  _log_warning('Using categorical_feature in Dataset.')\n",
      "C:\\Users\\celes\\anaconda3\\lib\\site-packages\\lightgbm\\basic.py:1705: UserWarning: categorical_feature in Dataset is overridden.\n",
      "New categorical_feature is ['cat0', 'cat1', 'cat2', 'cat3', 'cat4', 'cat5', 'cat6', 'cat7', 'cat8', 'cat9']\n",
      "  _log_warning('categorical_feature in Dataset is overridden.\\n'\n",
      "C:\\Users\\celes\\anaconda3\\lib\\site-packages\\lightgbm\\basic.py:1433: UserWarning: Overriding the parameters from Reference Dataset.\n",
      "  _log_warning('Overriding the parameters from Reference Dataset.')\n",
      "C:\\Users\\celes\\anaconda3\\lib\\site-packages\\lightgbm\\basic.py:1245: UserWarning: categorical_column in param dict is overridden.\n",
      "  _log_warning('{} in param dict is overridden.'.format(cat_alias))\n"
     ]
    },
    {
     "name": "stdout",
     "output_type": "stream",
     "text": [
      "Training until validation scores don't improve for 200 rounds\n",
      "[1000]\tvalid_0's rmse: 0.727117\n",
      "[2000]\tvalid_0's rmse: 0.723855\n",
      "[3000]\tvalid_0's rmse: 0.723238\n",
      "Early stopping, best iteration is:\n",
      "[3183]\tvalid_0's rmse: 0.723219\n",
      "1 0.7232186600094757\n",
      "Encoding\n",
      "Training\n",
      "[LightGBM] [Warning] Unknown parameter: cat_smoth\n"
     ]
    },
    {
     "name": "stderr",
     "output_type": "stream",
     "text": [
      "C:\\Users\\celes\\anaconda3\\lib\\site-packages\\lightgbm\\basic.py:1702: UserWarning: Using categorical_feature in Dataset.\n",
      "  _log_warning('Using categorical_feature in Dataset.')\n",
      "C:\\Users\\celes\\anaconda3\\lib\\site-packages\\lightgbm\\basic.py:1705: UserWarning: categorical_feature in Dataset is overridden.\n",
      "New categorical_feature is ['cat0', 'cat1', 'cat2', 'cat3', 'cat4', 'cat5', 'cat6', 'cat7', 'cat8', 'cat9']\n",
      "  _log_warning('categorical_feature in Dataset is overridden.\\n'\n",
      "C:\\Users\\celes\\anaconda3\\lib\\site-packages\\lightgbm\\basic.py:1433: UserWarning: Overriding the parameters from Reference Dataset.\n",
      "  _log_warning('Overriding the parameters from Reference Dataset.')\n",
      "C:\\Users\\celes\\anaconda3\\lib\\site-packages\\lightgbm\\basic.py:1245: UserWarning: categorical_column in param dict is overridden.\n",
      "  _log_warning('{} in param dict is overridden.'.format(cat_alias))\n"
     ]
    },
    {
     "name": "stdout",
     "output_type": "stream",
     "text": [
      "Training until validation scores don't improve for 200 rounds\n",
      "[1000]\tvalid_0's rmse: 0.722435\n",
      "[2000]\tvalid_0's rmse: 0.719259\n",
      "[3000]\tvalid_0's rmse: 0.718583\n",
      "[4000]\tvalid_0's rmse: 0.718441\n",
      "Early stopping, best iteration is:\n",
      "[4008]\tvalid_0's rmse: 0.71844\n",
      "2 0.7184400074692084\n",
      "Encoding\n",
      "Training\n",
      "[LightGBM] [Warning] Unknown parameter: cat_smoth\n"
     ]
    },
    {
     "name": "stderr",
     "output_type": "stream",
     "text": [
      "C:\\Users\\celes\\anaconda3\\lib\\site-packages\\lightgbm\\basic.py:1702: UserWarning: Using categorical_feature in Dataset.\n",
      "  _log_warning('Using categorical_feature in Dataset.')\n",
      "C:\\Users\\celes\\anaconda3\\lib\\site-packages\\lightgbm\\basic.py:1705: UserWarning: categorical_feature in Dataset is overridden.\n",
      "New categorical_feature is ['cat0', 'cat1', 'cat2', 'cat3', 'cat4', 'cat5', 'cat6', 'cat7', 'cat8', 'cat9']\n",
      "  _log_warning('categorical_feature in Dataset is overridden.\\n'\n",
      "C:\\Users\\celes\\anaconda3\\lib\\site-packages\\lightgbm\\basic.py:1433: UserWarning: Overriding the parameters from Reference Dataset.\n",
      "  _log_warning('Overriding the parameters from Reference Dataset.')\n",
      "C:\\Users\\celes\\anaconda3\\lib\\site-packages\\lightgbm\\basic.py:1245: UserWarning: categorical_column in param dict is overridden.\n",
      "  _log_warning('{} in param dict is overridden.'.format(cat_alias))\n"
     ]
    },
    {
     "name": "stdout",
     "output_type": "stream",
     "text": [
      "Training until validation scores don't improve for 200 rounds\n",
      "[1000]\tvalid_0's rmse: 0.72146\n",
      "[2000]\tvalid_0's rmse: 0.718539\n",
      "[3000]\tvalid_0's rmse: 0.718017\n",
      "Early stopping, best iteration is:\n",
      "[3687]\tvalid_0's rmse: 0.717952\n",
      "3 0.7179519662088705\n",
      "Encoding\n",
      "Training\n",
      "[LightGBM] [Warning] Unknown parameter: cat_smoth\n"
     ]
    },
    {
     "name": "stderr",
     "output_type": "stream",
     "text": [
      "C:\\Users\\celes\\anaconda3\\lib\\site-packages\\lightgbm\\basic.py:1702: UserWarning: Using categorical_feature in Dataset.\n",
      "  _log_warning('Using categorical_feature in Dataset.')\n",
      "C:\\Users\\celes\\anaconda3\\lib\\site-packages\\lightgbm\\basic.py:1705: UserWarning: categorical_feature in Dataset is overridden.\n",
      "New categorical_feature is ['cat0', 'cat1', 'cat2', 'cat3', 'cat4', 'cat5', 'cat6', 'cat7', 'cat8', 'cat9']\n",
      "  _log_warning('categorical_feature in Dataset is overridden.\\n'\n",
      "C:\\Users\\celes\\anaconda3\\lib\\site-packages\\lightgbm\\basic.py:1433: UserWarning: Overriding the parameters from Reference Dataset.\n",
      "  _log_warning('Overriding the parameters from Reference Dataset.')\n",
      "C:\\Users\\celes\\anaconda3\\lib\\site-packages\\lightgbm\\basic.py:1245: UserWarning: categorical_column in param dict is overridden.\n",
      "  _log_warning('{} in param dict is overridden.'.format(cat_alias))\n"
     ]
    },
    {
     "name": "stdout",
     "output_type": "stream",
     "text": [
      "Training until validation scores don't improve for 200 rounds\n",
      "[1000]\tvalid_0's rmse: 0.717228\n",
      "[2000]\tvalid_0's rmse: 0.714087\n",
      "[3000]\tvalid_0's rmse: 0.713509\n",
      "Early stopping, best iteration is:\n",
      "[3376]\tvalid_0's rmse: 0.713436\n",
      "4 0.7134359170022957\n"
     ]
    }
   ],
   "source": [
    "last_scores=[]\n",
    "rmse_scores=[]\n",
    "for fold in range(5):\n",
    "    X_train = train[train.kfold!=fold].reset_index(drop=True)\n",
    "    X_valid= train[train.kfold==fold].reset_index(drop=True)\n",
    "    X_test=test.copy()\n",
    "    \n",
    "    y_train=X_train.target\n",
    "    y_valid=X_valid.target\n",
    "    \n",
    "    X_train=X_train[useful_cols]\n",
    "    X_valid=X_valid[useful_cols]\n",
    "   \n",
    "    # ordinal-encode categorical columns\n",
    "    print('Encoding')\n",
    "    ordinal_encoder = OrdinalEncoder()\n",
    "    \n",
    "    X_train[object_cols]=ordinal_encoder.fit_transform(X_train[object_cols])\n",
    "    X_valid[object_cols]=ordinal_encoder.transform(X_valid[object_cols])\n",
    "    X_test[object_cols] = ordinal_encoder.transform(X_test[object_cols])\n",
    "    \n",
    "    print('Training') \n",
    "    model =LGBMRegressor(**lgbm_parameters)\n",
    "    model.fit(X_train, y_train, eval_set = ((X_valid,y_valid)), early_stopping_rounds = 200,verbose=1000,\n",
    "              categorical_feature=object_cols)\n",
    "    predictions=model.predict(X_valid)\n",
    "    predictions_test=model.predict(X_test)\n",
    "    last_scores.append(predictions_test)\n",
    "    rmse=mean_squared_error(y_valid,predictions,squared=False)\n",
    "    print(fold, rmse)\n",
    "    rmse_scores.append(rmse)"
   ]
  },
  {
   "cell_type": "code",
   "execution_count": null,
   "id": "cfcb940b",
   "metadata": {},
   "outputs": [],
   "source": [
    "print(np.mean(rmse_scores), np.std(rmse_scores))\n",
    "#0.71766711522221088"
   ]
  },
  {
   "cell_type": "code",
   "execution_count": 10,
   "id": "b95d2194",
   "metadata": {},
   "outputs": [
    {
     "data": {
      "text/plain": [
       "(200000, 5)"
      ]
     },
     "execution_count": 10,
     "metadata": {},
     "output_type": "execute_result"
    }
   ],
   "source": [
    "np.column_stack(last_scores).shape\n",
    "#the five arrays are for every fold"
   ]
  },
  {
   "cell_type": "code",
   "execution_count": 22,
   "id": "9197aa6d",
   "metadata": {},
   "outputs": [
    {
     "data": {
      "text/plain": [
       "[array([8.05848806, 8.36995011, 8.42735571, ..., 8.49073457, 8.18897189,\n",
       "        8.04246291]),\n",
       " array([8.03001228, 8.28199395, 8.40922208, ..., 8.46566595, 8.13418058,\n",
       "        7.90576582]),\n",
       " array([7.9932608 , 8.33373381, 8.35507225, ..., 8.4573602 , 8.06991463,\n",
       "        7.9837623 ]),\n",
       " array([8.01472017, 8.39058241, 8.35813248, ..., 8.45091867, 8.08682882,\n",
       "        7.86114897]),\n",
       " array([8.07038851, 8.35901012, 8.35926018, ..., 8.49227046, 8.13488447,\n",
       "        7.98448404])]"
      ]
     },
     "execution_count": 22,
     "metadata": {},
     "output_type": "execute_result"
    }
   ],
   "source": [
    "last_scores"
   ]
  },
  {
   "cell_type": "code",
   "execution_count": 16,
   "id": "86c1357f",
   "metadata": {},
   "outputs": [
    {
     "data": {
      "text/plain": [
       "array([8.03337397, 8.34705408, 8.38180854, ..., 8.47138997, 8.12295608,\n",
       "       7.95552481])"
      ]
     },
     "execution_count": 16,
     "metadata": {},
     "output_type": "execute_result"
    }
   ],
   "source": [
    "np.mean(np.column_stack(last_scores),axis=1)"
   ]
  },
  {
   "cell_type": "code",
   "execution_count": 12,
   "id": "84eb486c",
   "metadata": {},
   "outputs": [],
   "source": [
    "preds=np.mean(np.column_stack(last_scores),axis=1)"
   ]
  },
  {
   "cell_type": "code",
   "execution_count": 19,
   "id": "3140199f",
   "metadata": {},
   "outputs": [
    {
     "data": {
      "text/html": [
       "<div>\n",
       "<style scoped>\n",
       "    .dataframe tbody tr th:only-of-type {\n",
       "        vertical-align: middle;\n",
       "    }\n",
       "\n",
       "    .dataframe tbody tr th {\n",
       "        vertical-align: top;\n",
       "    }\n",
       "\n",
       "    .dataframe thead th {\n",
       "        text-align: right;\n",
       "    }\n",
       "</style>\n",
       "<table border=\"1\" class=\"dataframe\">\n",
       "  <thead>\n",
       "    <tr style=\"text-align: right;\">\n",
       "      <th></th>\n",
       "      <th>id</th>\n",
       "      <th>target</th>\n",
       "    </tr>\n",
       "  </thead>\n",
       "  <tbody>\n",
       "    <tr>\n",
       "      <th>0</th>\n",
       "      <td>0</td>\n",
       "      <td>8.033374</td>\n",
       "    </tr>\n",
       "    <tr>\n",
       "      <th>1</th>\n",
       "      <td>5</td>\n",
       "      <td>8.347054</td>\n",
       "    </tr>\n",
       "    <tr>\n",
       "      <th>2</th>\n",
       "      <td>15</td>\n",
       "      <td>8.381809</td>\n",
       "    </tr>\n",
       "    <tr>\n",
       "      <th>3</th>\n",
       "      <td>16</td>\n",
       "      <td>8.460419</td>\n",
       "    </tr>\n",
       "    <tr>\n",
       "      <th>4</th>\n",
       "      <td>17</td>\n",
       "      <td>8.145011</td>\n",
       "    </tr>\n",
       "    <tr>\n",
       "      <th>...</th>\n",
       "      <td>...</td>\n",
       "      <td>...</td>\n",
       "    </tr>\n",
       "    <tr>\n",
       "      <th>199995</th>\n",
       "      <td>499987</td>\n",
       "      <td>8.058993</td>\n",
       "    </tr>\n",
       "    <tr>\n",
       "      <th>199996</th>\n",
       "      <td>499990</td>\n",
       "      <td>8.447804</td>\n",
       "    </tr>\n",
       "    <tr>\n",
       "      <th>199997</th>\n",
       "      <td>499991</td>\n",
       "      <td>8.471390</td>\n",
       "    </tr>\n",
       "    <tr>\n",
       "      <th>199998</th>\n",
       "      <td>499994</td>\n",
       "      <td>8.122956</td>\n",
       "    </tr>\n",
       "    <tr>\n",
       "      <th>199999</th>\n",
       "      <td>499995</td>\n",
       "      <td>7.955525</td>\n",
       "    </tr>\n",
       "  </tbody>\n",
       "</table>\n",
       "<p>200000 rows × 2 columns</p>\n",
       "</div>"
      ],
      "text/plain": [
       "            id    target\n",
       "0            0  8.033374\n",
       "1            5  8.347054\n",
       "2           15  8.381809\n",
       "3           16  8.460419\n",
       "4           17  8.145011\n",
       "...        ...       ...\n",
       "199995  499987  8.058993\n",
       "199996  499990  8.447804\n",
       "199997  499991  8.471390\n",
       "199998  499994  8.122956\n",
       "199999  499995  7.955525\n",
       "\n",
       "[200000 rows x 2 columns]"
      ]
     },
     "execution_count": 19,
     "metadata": {},
     "output_type": "execute_result"
    }
   ],
   "source": [
    "sample_submission.target=preds\n",
    "sample_submission"
   ]
  },
  {
   "cell_type": "code",
   "execution_count": 20,
   "id": "59dee8cd",
   "metadata": {},
   "outputs": [],
   "source": [
    "sample_submission.to_csv('submission_lgb1.csv',index=False)"
   ]
  },
  {
   "cell_type": "markdown",
   "id": "1836078a",
   "metadata": {},
   "source": [
    "# LGBM Standarization "
   ]
  },
  {
   "cell_type": "code",
   "execution_count": 24,
   "id": "ef385905",
   "metadata": {},
   "outputs": [],
   "source": [
    "useful_cols=[column for column in train.columns if column not in ('id', 'target', 'kfold')]"
   ]
  },
  {
   "cell_type": "code",
   "execution_count": 25,
   "id": "4f1042d0",
   "metadata": {},
   "outputs": [],
   "source": [
    " # List of categorical columns\n",
    "object_cols = [col for col in useful_cols if 'cat' in col]\n",
    "numerical_cols = [col for col in useful_cols if 'cont' in col]\n",
    "test=test[useful_cols]"
   ]
  },
  {
   "cell_type": "code",
   "execution_count": 27,
   "id": "929c05b7",
   "metadata": {},
   "outputs": [],
   "source": [
    "lgbm_parameters = {\n",
    "   'metric': 'rmse',\n",
    "    'learning_rate':.008,\n",
    "    'n_estimators': 50000,\n",
    "    'reg_alpha': 9.56,\n",
    "    'reg_lambda': 9.35,\n",
    "    'colsample_bytree': 0.21497646795452627,\n",
    "    'subsample': 0.7582562557431147,\n",
    "    'learning_rate': 0.009985133666265425,\n",
    "    'max_depth': 77,\n",
    "    'num_leaves': 77,\n",
    "    'min_child_samples': 290,\n",
    "    'max_bin': 772,\n",
    "    'cat_l2': 17,\n",
    "    'cat_smoth':96,\n",
    "    'seed': 2\n",
    "}"
   ]
  },
  {
   "cell_type": "code",
   "execution_count": 28,
   "id": "dcb9c3b0",
   "metadata": {},
   "outputs": [
    {
     "name": "stdout",
     "output_type": "stream",
     "text": [
      "Encoding\n",
      "Training\n",
      "[LightGBM] [Warning] Unknown parameter: cat_smoth\n"
     ]
    },
    {
     "name": "stderr",
     "output_type": "stream",
     "text": [
      "C:\\Users\\celes\\anaconda3\\lib\\site-packages\\lightgbm\\basic.py:1702: UserWarning: Using categorical_feature in Dataset.\n",
      "  _log_warning('Using categorical_feature in Dataset.')\n",
      "C:\\Users\\celes\\anaconda3\\lib\\site-packages\\lightgbm\\basic.py:1705: UserWarning: categorical_feature in Dataset is overridden.\n",
      "New categorical_feature is ['cat0', 'cat1', 'cat2', 'cat3', 'cat4', 'cat5', 'cat6', 'cat7', 'cat8', 'cat9']\n",
      "  _log_warning('categorical_feature in Dataset is overridden.\\n'\n",
      "C:\\Users\\celes\\anaconda3\\lib\\site-packages\\lightgbm\\basic.py:1433: UserWarning: Overriding the parameters from Reference Dataset.\n",
      "  _log_warning('Overriding the parameters from Reference Dataset.')\n",
      "C:\\Users\\celes\\anaconda3\\lib\\site-packages\\lightgbm\\basic.py:1245: UserWarning: categorical_column in param dict is overridden.\n",
      "  _log_warning('{} in param dict is overridden.'.format(cat_alias))\n"
     ]
    },
    {
     "name": "stdout",
     "output_type": "stream",
     "text": [
      "Training until validation scores don't improve for 200 rounds\n",
      "[1000]\tvalid_0's rmse: 0.719228\n",
      "[2000]\tvalid_0's rmse: 0.715967\n",
      "[3000]\tvalid_0's rmse: 0.71534\n",
      "Early stopping, best iteration is:\n",
      "[3752]\tvalid_0's rmse: 0.715285\n",
      "0 0.7152850409432048\n",
      "Encoding\n",
      "Training\n",
      "[LightGBM] [Warning] Unknown parameter: cat_smoth\n"
     ]
    },
    {
     "name": "stderr",
     "output_type": "stream",
     "text": [
      "C:\\Users\\celes\\anaconda3\\lib\\site-packages\\lightgbm\\basic.py:1702: UserWarning: Using categorical_feature in Dataset.\n",
      "  _log_warning('Using categorical_feature in Dataset.')\n",
      "C:\\Users\\celes\\anaconda3\\lib\\site-packages\\lightgbm\\basic.py:1705: UserWarning: categorical_feature in Dataset is overridden.\n",
      "New categorical_feature is ['cat0', 'cat1', 'cat2', 'cat3', 'cat4', 'cat5', 'cat6', 'cat7', 'cat8', 'cat9']\n",
      "  _log_warning('categorical_feature in Dataset is overridden.\\n'\n",
      "C:\\Users\\celes\\anaconda3\\lib\\site-packages\\lightgbm\\basic.py:1433: UserWarning: Overriding the parameters from Reference Dataset.\n",
      "  _log_warning('Overriding the parameters from Reference Dataset.')\n",
      "C:\\Users\\celes\\anaconda3\\lib\\site-packages\\lightgbm\\basic.py:1245: UserWarning: categorical_column in param dict is overridden.\n",
      "  _log_warning('{} in param dict is overridden.'.format(cat_alias))\n"
     ]
    },
    {
     "name": "stdout",
     "output_type": "stream",
     "text": [
      "Training until validation scores don't improve for 200 rounds\n",
      "[1000]\tvalid_0's rmse: 0.727106\n",
      "[2000]\tvalid_0's rmse: 0.723789\n",
      "[3000]\tvalid_0's rmse: 0.72319\n",
      "Early stopping, best iteration is:\n",
      "[3164]\tvalid_0's rmse: 0.723168\n",
      "1 0.7231680926003768\n",
      "Encoding\n",
      "Training\n",
      "[LightGBM] [Warning] Unknown parameter: cat_smoth\n"
     ]
    },
    {
     "name": "stderr",
     "output_type": "stream",
     "text": [
      "C:\\Users\\celes\\anaconda3\\lib\\site-packages\\lightgbm\\basic.py:1702: UserWarning: Using categorical_feature in Dataset.\n",
      "  _log_warning('Using categorical_feature in Dataset.')\n",
      "C:\\Users\\celes\\anaconda3\\lib\\site-packages\\lightgbm\\basic.py:1705: UserWarning: categorical_feature in Dataset is overridden.\n",
      "New categorical_feature is ['cat0', 'cat1', 'cat2', 'cat3', 'cat4', 'cat5', 'cat6', 'cat7', 'cat8', 'cat9']\n",
      "  _log_warning('categorical_feature in Dataset is overridden.\\n'\n",
      "C:\\Users\\celes\\anaconda3\\lib\\site-packages\\lightgbm\\basic.py:1433: UserWarning: Overriding the parameters from Reference Dataset.\n",
      "  _log_warning('Overriding the parameters from Reference Dataset.')\n",
      "C:\\Users\\celes\\anaconda3\\lib\\site-packages\\lightgbm\\basic.py:1245: UserWarning: categorical_column in param dict is overridden.\n",
      "  _log_warning('{} in param dict is overridden.'.format(cat_alias))\n"
     ]
    },
    {
     "name": "stdout",
     "output_type": "stream",
     "text": [
      "Training until validation scores don't improve for 200 rounds\n",
      "[1000]\tvalid_0's rmse: 0.722376\n",
      "[2000]\tvalid_0's rmse: 0.71917\n",
      "[3000]\tvalid_0's rmse: 0.718503\n",
      "Early stopping, best iteration is:\n",
      "[3741]\tvalid_0's rmse: 0.718363\n",
      "2 0.718363133332485\n",
      "Encoding\n",
      "Training\n",
      "[LightGBM] [Warning] Unknown parameter: cat_smoth\n"
     ]
    },
    {
     "name": "stderr",
     "output_type": "stream",
     "text": [
      "C:\\Users\\celes\\anaconda3\\lib\\site-packages\\lightgbm\\basic.py:1702: UserWarning: Using categorical_feature in Dataset.\n",
      "  _log_warning('Using categorical_feature in Dataset.')\n",
      "C:\\Users\\celes\\anaconda3\\lib\\site-packages\\lightgbm\\basic.py:1705: UserWarning: categorical_feature in Dataset is overridden.\n",
      "New categorical_feature is ['cat0', 'cat1', 'cat2', 'cat3', 'cat4', 'cat5', 'cat6', 'cat7', 'cat8', 'cat9']\n",
      "  _log_warning('categorical_feature in Dataset is overridden.\\n'\n",
      "C:\\Users\\celes\\anaconda3\\lib\\site-packages\\lightgbm\\basic.py:1433: UserWarning: Overriding the parameters from Reference Dataset.\n",
      "  _log_warning('Overriding the parameters from Reference Dataset.')\n",
      "C:\\Users\\celes\\anaconda3\\lib\\site-packages\\lightgbm\\basic.py:1245: UserWarning: categorical_column in param dict is overridden.\n",
      "  _log_warning('{} in param dict is overridden.'.format(cat_alias))\n"
     ]
    },
    {
     "name": "stdout",
     "output_type": "stream",
     "text": [
      "Training until validation scores don't improve for 200 rounds\n",
      "[1000]\tvalid_0's rmse: 0.721429\n",
      "[2000]\tvalid_0's rmse: 0.718527\n",
      "[3000]\tvalid_0's rmse: 0.717976\n",
      "Early stopping, best iteration is:\n",
      "[3435]\tvalid_0's rmse: 0.717921\n",
      "3 0.7179209441906655\n",
      "Encoding\n",
      "Training\n",
      "[LightGBM] [Warning] Unknown parameter: cat_smoth\n"
     ]
    },
    {
     "name": "stderr",
     "output_type": "stream",
     "text": [
      "C:\\Users\\celes\\anaconda3\\lib\\site-packages\\lightgbm\\basic.py:1702: UserWarning: Using categorical_feature in Dataset.\n",
      "  _log_warning('Using categorical_feature in Dataset.')\n",
      "C:\\Users\\celes\\anaconda3\\lib\\site-packages\\lightgbm\\basic.py:1705: UserWarning: categorical_feature in Dataset is overridden.\n",
      "New categorical_feature is ['cat0', 'cat1', 'cat2', 'cat3', 'cat4', 'cat5', 'cat6', 'cat7', 'cat8', 'cat9']\n",
      "  _log_warning('categorical_feature in Dataset is overridden.\\n'\n",
      "C:\\Users\\celes\\anaconda3\\lib\\site-packages\\lightgbm\\basic.py:1433: UserWarning: Overriding the parameters from Reference Dataset.\n",
      "  _log_warning('Overriding the parameters from Reference Dataset.')\n",
      "C:\\Users\\celes\\anaconda3\\lib\\site-packages\\lightgbm\\basic.py:1245: UserWarning: categorical_column in param dict is overridden.\n",
      "  _log_warning('{} in param dict is overridden.'.format(cat_alias))\n"
     ]
    },
    {
     "name": "stdout",
     "output_type": "stream",
     "text": [
      "Training until validation scores don't improve for 200 rounds\n",
      "[1000]\tvalid_0's rmse: 0.717252\n",
      "[2000]\tvalid_0's rmse: 0.714073\n",
      "[3000]\tvalid_0's rmse: 0.713494\n",
      "Early stopping, best iteration is:\n",
      "[3191]\tvalid_0's rmse: 0.713465\n",
      "4 0.7134645341782053\n"
     ]
    }
   ],
   "source": [
    "last_scores=[]\n",
    "rmse_scores=[]\n",
    "for fold in range(5):\n",
    "    X_train = train[train.kfold!=fold].reset_index(drop=True)\n",
    "    X_valid= train[train.kfold==fold].reset_index(drop=True)\n",
    "    X_test=test.copy()\n",
    "    \n",
    "    y_train=X_train.target\n",
    "    y_valid=X_valid.target\n",
    "    \n",
    "    X_train=X_train[useful_cols]\n",
    "    X_valid=X_valid[useful_cols]\n",
    "   \n",
    "    # ordinal-encode categorical columns\n",
    "    print('Encoding')\n",
    "    ordinal_encoder = OrdinalEncoder()\n",
    "    #for object cols\n",
    "    X_train[object_cols]=ordinal_encoder.fit_transform(X_train[object_cols])\n",
    "    X_valid[object_cols]=ordinal_encoder.transform(X_valid[object_cols])\n",
    "    X_test[object_cols] = ordinal_encoder.transform(X_test[object_cols])\n",
    "    \n",
    "    #for numerical cols\n",
    "    scaler =StandardScaler()\n",
    "    X_train[numerical_cols]=scaler.fit_transform(X_train[numerical_cols])\n",
    "    X_valid[numerical_cols]=scaler.transform(X_valid[numerical_cols])\n",
    "    X_test[numerical_cols] = scaler.transform(X_test[numerical_cols])\n",
    "    \n",
    "    print('Training') \n",
    "    model =LGBMRegressor(**lgbm_parameters)\n",
    "    model.fit(X_train, y_train, eval_set = ((X_valid,y_valid)), early_stopping_rounds = 200,verbose=1000,\n",
    "              categorical_feature=object_cols)\n",
    "    predictions=model.predict(X_valid)\n",
    "    predictions_test=model.predict(X_test)\n",
    "    last_scores.append(predictions_test)\n",
    "    rmse=mean_squared_error(y_valid,predictions,squared=False)\n",
    "    print(fold, rmse)\n",
    "    rmse_scores.append(rmse)"
   ]
  },
  {
   "cell_type": "code",
   "execution_count": 29,
   "id": "ec080edc",
   "metadata": {},
   "outputs": [
    {
     "name": "stdout",
     "output_type": "stream",
     "text": [
      "0.7176403490489875 0.0032906536017071808\n"
     ]
    }
   ],
   "source": [
    "print(np.mean(rmse_scores), np.std(rmse_scores))"
   ]
  },
  {
   "cell_type": "markdown",
   "id": "13a00e17",
   "metadata": {},
   "source": [
    "# LGBM Standarization and hot encoder"
   ]
  },
  {
   "cell_type": "code",
   "execution_count": 30,
   "id": "1aba06f7",
   "metadata": {},
   "outputs": [],
   "source": [
    "useful_cols=[column for column in train.columns if column not in ('id', 'target', 'kfold')]\n",
    " # List of categorical columns\n",
    "object_cols = [col for col in useful_cols if 'cat' in col]\n",
    "numerical_cols = [col for col in useful_cols if 'cont' in col]\n",
    "test=test[useful_cols]"
   ]
  },
  {
   "cell_type": "code",
   "execution_count": 31,
   "id": "0183faa3",
   "metadata": {},
   "outputs": [],
   "source": [
    "lgbm_parameters = {\n",
    "   'metric': 'rmse',\n",
    "    'learning_rate':.008,\n",
    "    'n_estimators': 50000,\n",
    "    'reg_alpha': 9.56,\n",
    "    'reg_lambda': 9.35,\n",
    "    'colsample_bytree': 0.21497646795452627,\n",
    "    'subsample': 0.7582562557431147,\n",
    "    'learning_rate': 0.009985133666265425,\n",
    "    'max_depth': 77,\n",
    "    'num_leaves': 77,\n",
    "    'min_child_samples': 290,\n",
    "    'max_bin': 772,\n",
    "    'cat_l2': 17,\n",
    "    'cat_smoth':96,\n",
    "    'seed': 42\n",
    "}"
   ]
  },
  {
   "cell_type": "code",
   "execution_count": 48,
   "id": "4437ab77",
   "metadata": {},
   "outputs": [
    {
     "name": "stdout",
     "output_type": "stream",
     "text": [
      "Encoding\n",
      "Training\n",
      "[LightGBM] [Warning] Unknown parameter: cat_smoth\n",
      "Training until validation scores don't improve for 200 rounds\n",
      "[1000]\tvalid_0's rmse: 0.718989\n",
      "[2000]\tvalid_0's rmse: 0.715893\n",
      "[3000]\tvalid_0's rmse: 0.715266\n",
      "Early stopping, best iteration is:\n",
      "[3706]\tvalid_0's rmse: 0.715174\n",
      "0 0.7151735211244796\n",
      "Encoding\n",
      "Training\n",
      "[LightGBM] [Warning] Unknown parameter: cat_smoth\n",
      "Training until validation scores don't improve for 200 rounds\n",
      "[1000]\tvalid_0's rmse: 0.726796\n",
      "[2000]\tvalid_0's rmse: 0.723509\n",
      "[3000]\tvalid_0's rmse: 0.722881\n",
      "Early stopping, best iteration is:\n",
      "[3743]\tvalid_0's rmse: 0.722806\n",
      "1 0.7228064131919003\n",
      "Encoding\n",
      "Training\n",
      "[LightGBM] [Warning] Unknown parameter: cat_smoth\n",
      "Training until validation scores don't improve for 200 rounds\n",
      "[1000]\tvalid_0's rmse: 0.722138\n",
      "[2000]\tvalid_0's rmse: 0.71897\n",
      "[3000]\tvalid_0's rmse: 0.71829\n",
      "Early stopping, best iteration is:\n",
      "[3794]\tvalid_0's rmse: 0.718173\n",
      "2 0.7181730818268607\n",
      "Encoding\n",
      "Training\n",
      "[LightGBM] [Warning] Unknown parameter: cat_smoth\n",
      "Training until validation scores don't improve for 200 rounds\n",
      "[1000]\tvalid_0's rmse: 0.721298\n",
      "[2000]\tvalid_0's rmse: 0.718414\n",
      "[3000]\tvalid_0's rmse: 0.717928\n",
      "Early stopping, best iteration is:\n",
      "[3417]\tvalid_0's rmse: 0.71786\n",
      "3 0.7178597652250092\n",
      "Encoding\n",
      "Training\n",
      "[LightGBM] [Warning] Unknown parameter: cat_smoth\n",
      "Training until validation scores don't improve for 200 rounds\n",
      "[1000]\tvalid_0's rmse: 0.717054\n",
      "[2000]\tvalid_0's rmse: 0.713999\n",
      "[3000]\tvalid_0's rmse: 0.713404\n",
      "Early stopping, best iteration is:\n",
      "[3394]\tvalid_0's rmse: 0.713358\n",
      "4 0.7133581807744195\n"
     ]
    }
   ],
   "source": [
    "last_scores=[]\n",
    "rmse_scores=[]\n",
    "for fold in range(5):\n",
    "    X_train = train[train.kfold!=fold].reset_index(drop=True)\n",
    "    X_valid= train[train.kfold==fold].reset_index(drop=True)\n",
    "    X_test=test.copy()\n",
    "    \n",
    "    y_train=X_train.target\n",
    "    y_valid=X_valid.target\n",
    "    \n",
    "    X_train=X_train[useful_cols]\n",
    "    X_valid=X_valid[useful_cols]\n",
    "   \n",
    "    # ordinal-encode categorical columns\n",
    "    print('Encoding')\n",
    "    ohe = preprocessing.OneHotEncoder(sparse=False, handle_unknown='ignore')\n",
    "    #for object cols\n",
    "    X_train_ohe=ohe.fit_transform(X_train[object_cols])\n",
    "    X_valid_ohe=ohe.transform(X_valid[object_cols])\n",
    "    X_test_ohe = ohe.transform(X_test[object_cols])\n",
    "    \n",
    "    X_train_ohe=pd.DataFrame(X_train_ohe, columns=[f\"ohe_{i}\" for i in range(X_train_ohe.shape[1])])\n",
    "    X_valid_ohe=pd.DataFrame(X_valid_ohe, columns=[f\"ohe_{i}\" for i in range(X_valid_ohe.shape[1])])\n",
    "    X_test_ohe=pd.DataFrame(X_test_ohe, columns=[f\"ohe_{i}\" for i in range(X_test_ohe.shape[1])])\n",
    "    \n",
    "    X_train=pd.concat([X_train,X_train_ohe], axis=1)\n",
    "    X_valid=pd.concat([X_valid,X_valid_ohe], axis=1)\n",
    "    X_test=pd.concat([X_test,X_test_ohe], axis=1)\n",
    "    \n",
    "    # Remove categorical columns (will replace with one-hot encoding)\n",
    "    X_train = X_train.drop(object_cols, axis=1)\n",
    "    X_valid = X_valid.drop(object_cols,axis=1)\n",
    "    X_test=X_test.drop(object_cols,axis=1)\n",
    "    #for numerical cols\n",
    "    scaler =StandardScaler()\n",
    "    X_train[numerical_cols]=scaler.fit_transform(X_train[numerical_cols])\n",
    "    X_valid[numerical_cols]=scaler.transform(X_valid[numerical_cols])\n",
    "    X_test[numerical_cols] = scaler.transform(X_test[numerical_cols])\n",
    "    \n",
    "    print('Training') \n",
    "    model =LGBMRegressor(**lgbm_parameters)\n",
    "    model.fit(X_train, y_train, eval_set = ((X_valid,y_valid)), early_stopping_rounds = 200,verbose=1000)\n",
    "    predictions=model.predict(X_valid)\n",
    "    predictions_test=model.predict(X_test)\n",
    "    last_scores.append(predictions_test)\n",
    "    rmse=mean_squared_error(y_valid,predictions,squared=False)\n",
    "    print(fold, rmse)\n",
    "    rmse_scores.append(rmse)\n",
    "    "
   ]
  },
  {
   "cell_type": "code",
   "execution_count": 49,
   "id": "ff3d24ef",
   "metadata": {},
   "outputs": [
    {
     "name": "stdout",
     "output_type": "stream",
     "text": [
      "0.7174741924285338 0.0032032586978842557\n"
     ]
    }
   ],
   "source": [
    "print(np.mean(rmse_scores), np.std(rmse_scores))"
   ]
  },
  {
   "cell_type": "code",
   "execution_count": null,
   "id": "e2369b8b",
   "metadata": {},
   "outputs": [],
   "source": []
  },
  {
   "cell_type": "code",
   "execution_count": null,
   "id": "f46e1cb9",
   "metadata": {},
   "outputs": [],
   "source": []
  },
  {
   "cell_type": "code",
   "execution_count": null,
   "id": "aa26d266",
   "metadata": {},
   "outputs": [],
   "source": []
  },
  {
   "cell_type": "code",
   "execution_count": 5,
   "id": "1fbc73d8",
   "metadata": {},
   "outputs": [],
   "source": [
    "useful_cols=[column for column in train.columns if column not in ('id', 'target', 'kfold')]\n",
    " # List of categorical columns\n",
    "object_cols = [col for col in useful_cols if 'cat' in col]\n",
    "numerical_cols = [col for col in useful_cols if 'cont' in col]\n",
    "test=test[useful_cols]"
   ]
  },
  {
   "cell_type": "code",
   "execution_count": 6,
   "id": "8d7d44b8",
   "metadata": {},
   "outputs": [],
   "source": [
    "def run(trial):\n",
    "    #last_scores=[]\n",
    "    #rmse_scores=[]\n",
    "    fold=0\n",
    "    learning_rate=trial.suggest_float('learning_rate', .008,.25, log=True)\n",
    "    reg_lambda=trial.suggest_loguniform('reg_lambda', 1e-8, 100.0)\n",
    "    reg_alpha=trial.suggest_loguniform('reg_alpha', 1e-8, 100.0)\n",
    "    subsample=trial.suggest_float('subsamble', .1, 1.0)\n",
    "    colsample_bytree=trial.suggest_float('colsample_bytree', .1, 1.0)\n",
    "    max_depth=trial.suggest_int('max_depth',10,77)\n",
    "    num_leaves=trial.suggest_int('num_leaves',10,77)\n",
    "    min_child_samples=trial.suggest_int('min_child_samples',10,100)\n",
    "        \n",
    "    X_train = train[train.kfold!=fold].reset_index(drop=True)\n",
    "    X_valid= train[train.kfold==fold].reset_index(drop=True)\n",
    "    #X_test=test.copy()\n",
    "\n",
    "    y_train=X_train.target\n",
    "    y_valid=X_valid.target\n",
    "\n",
    "    X_train=X_train[useful_cols]\n",
    "    X_valid=X_valid[useful_cols]\n",
    "\n",
    "        # ordinal-encode categorical columns\n",
    "    print('Encoding')\n",
    "    ohe = preprocessing.OneHotEncoder(sparse=False, handle_unknown='ignore')\n",
    "        #for object cols\n",
    "    X_train_ohe=ohe.fit_transform(X_train[object_cols])\n",
    "    X_valid_ohe=ohe.transform(X_valid[object_cols])\n",
    "        #X_test_ohe = ohe.transform(X_test[object_cols])\n",
    "\n",
    "    X_train_ohe=pd.DataFrame(X_train_ohe, columns=[f\"ohe_{i}\" for i in range(X_train_ohe.shape[1])])\n",
    "    X_valid_ohe=pd.DataFrame(X_valid_ohe, columns=[f\"ohe_{i}\" for i in range(X_valid_ohe.shape[1])])\n",
    "        #X_test_ohe=pd.DataFrame(X_test_ohe, columns=[f\"ohe_{i}\" for i in range(X_test_ohe.shape[1])])\n",
    "\n",
    "    X_train=pd.concat([X_train,X_train_ohe], axis=1)\n",
    "    X_valid=pd.concat([X_valid,X_valid_ohe], axis=1)\n",
    "        #X_test=pd.concat([X_test,X_test_ohe], axis=1)\n",
    "\n",
    "        # Remove categorical columns (will replace with one-hot encoding)\n",
    "    X_train = X_train.drop(object_cols, axis=1)\n",
    "    X_valid = X_valid.drop(object_cols,axis=1)\n",
    "        #X_test=X_test.drop(object_cols,axis=1)\n",
    "        #for numerical cols\n",
    "    scaler =StandardScaler()\n",
    "    X_train[numerical_cols]=scaler.fit_transform(X_train[numerical_cols])\n",
    "    X_valid[numerical_cols]=scaler.transform(X_valid[numerical_cols])\n",
    "        #X_test[numerical_cols] = scaler.transform(X_test[numerical_cols])\n",
    "\n",
    "    print('Training') \n",
    "    model =LGBMRegressor(random_state=42,\n",
    "                            learning_rate=learning_rate, \n",
    "                            reg_lambda=reg_lambda,\n",
    "                            reg_alpha=reg_alpha,\n",
    "                            subsample=subsample,\n",
    "                            colsample_bytree=colsample_bytree,\n",
    "                            max_depth=max_depth,\n",
    "                            num_leaves=num_leaves,\n",
    "                            min_child_samples=min_child_samples,\n",
    "                             n_estimators=7000\n",
    "                            )\n",
    "    model.fit(X_train, y_train, eval_set = ((X_valid,y_valid)), early_stopping_rounds = 200,verbose=1000)\n",
    "    predictions=model.predict(X_valid)\n",
    "        #predictions_test=model.predict(X_test)\n",
    "        #last_scores.append(predictions_test)\n",
    "    rmse=mean_squared_error(y_valid,predictions,squared=False)\n",
    "    print(fold, rmse)\n",
    "    return rmse   \n",
    "    "
   ]
  },
  {
   "cell_type": "code",
   "execution_count": 7,
   "id": "ff60be2c",
   "metadata": {},
   "outputs": [
    {
     "name": "stderr",
     "output_type": "stream",
     "text": [
      "\u001b[32m[I 2021-08-31 05:40:09,169]\u001b[0m A new study created in memory with name: no-name-c7451d32-c7d3-4c69-9264-0261fbd98c59\u001b[0m\n"
     ]
    },
    {
     "name": "stdout",
     "output_type": "stream",
     "text": [
      "Encoding\n",
      "Training\n",
      "Training until validation scores don't improve for 200 rounds\n",
      "Early stopping, best iteration is:\n",
      "[265]\tvalid_0's l2: 0.516758\n"
     ]
    },
    {
     "name": "stderr",
     "output_type": "stream",
     "text": [
      "\u001b[32m[I 2021-08-31 05:40:18,334]\u001b[0m Trial 0 finished with value: 0.7188586717929577 and parameters: {'learning_rate': 0.19185444850119765, 'reg_lambda': 7.254606589829645, 'reg_alpha': 5.325796952954004e-08, 'subsamble': 0.5165904606780625, 'colsample_bytree': 0.7880680141138762, 'max_depth': 53, 'num_leaves': 17, 'min_child_samples': 52}. Best is trial 0 with value: 0.7188586717929577.\u001b[0m\n"
     ]
    },
    {
     "name": "stdout",
     "output_type": "stream",
     "text": [
      "0 0.7188586717929577\n",
      "Encoding\n",
      "Training\n",
      "Training until validation scores don't improve for 200 rounds\n",
      "Early stopping, best iteration is:\n",
      "[581]\tvalid_0's l2: 0.515577\n"
     ]
    },
    {
     "name": "stderr",
     "output_type": "stream",
     "text": [
      "\u001b[32m[I 2021-08-31 05:40:34,291]\u001b[0m Trial 1 finished with value: 0.7180365596310633 and parameters: {'learning_rate': 0.09940899072455849, 'reg_lambda': 6.672585616147851e-07, 'reg_alpha': 9.688706189916708, 'subsamble': 0.4691578019300532, 'colsample_bytree': 0.7441597659589874, 'max_depth': 44, 'num_leaves': 23, 'min_child_samples': 89}. Best is trial 1 with value: 0.7180365596310633.\u001b[0m\n"
     ]
    },
    {
     "name": "stdout",
     "output_type": "stream",
     "text": [
      "0 0.7180365596310633\n",
      "Encoding\n",
      "Training\n",
      "Training until validation scores don't improve for 200 rounds\n",
      "Early stopping, best iteration is:\n",
      "[241]\tvalid_0's l2: 0.51407\n"
     ]
    },
    {
     "name": "stderr",
     "output_type": "stream",
     "text": [
      "\u001b[32m[I 2021-08-31 05:40:44,495]\u001b[0m Trial 2 finished with value: 0.7169866121227203 and parameters: {'learning_rate': 0.18018484852080524, 'reg_lambda': 3.412190788033858e-08, 'reg_alpha': 2.3716307745039355e-08, 'subsamble': 0.856034571336129, 'colsample_bytree': 0.10992351576848298, 'max_depth': 30, 'num_leaves': 29, 'min_child_samples': 94}. Best is trial 2 with value: 0.7169866121227203.\u001b[0m\n"
     ]
    },
    {
     "name": "stdout",
     "output_type": "stream",
     "text": [
      "0 0.7169866121227203\n",
      "Encoding\n",
      "Training\n",
      "Training until validation scores don't improve for 200 rounds\n",
      "Early stopping, best iteration is:\n",
      "[93]\tvalid_0's l2: 0.518004\n"
     ]
    },
    {
     "name": "stderr",
     "output_type": "stream",
     "text": [
      "\u001b[32m[I 2021-08-31 05:40:53,772]\u001b[0m Trial 3 finished with value: 0.7197250551967326 and parameters: {'learning_rate': 0.23217652940268174, 'reg_lambda': 2.3129637117974147e-05, 'reg_alpha': 7.77343969385137, 'subsamble': 0.6716906977659317, 'colsample_bytree': 0.8675267438584352, 'max_depth': 29, 'num_leaves': 46, 'min_child_samples': 14}. Best is trial 2 with value: 0.7169866121227203.\u001b[0m\n"
     ]
    },
    {
     "name": "stdout",
     "output_type": "stream",
     "text": [
      "0 0.7197250551967326\n",
      "Encoding\n",
      "Training\n",
      "Training until validation scores don't improve for 200 rounds\n",
      "Early stopping, best iteration is:\n",
      "[507]\tvalid_0's l2: 0.515246\n"
     ]
    },
    {
     "name": "stderr",
     "output_type": "stream",
     "text": [
      "\u001b[32m[I 2021-08-31 05:41:11,393]\u001b[0m Trial 4 finished with value: 0.717806097893518 and parameters: {'learning_rate': 0.08083195547934452, 'reg_lambda': 6.961961429009591e-07, 'reg_alpha': 4.2045697614049625e-06, 'subsamble': 0.7396024655420042, 'colsample_bytree': 0.2703601131671033, 'max_depth': 36, 'num_leaves': 55, 'min_child_samples': 50}. Best is trial 2 with value: 0.7169866121227203.\u001b[0m\n"
     ]
    },
    {
     "name": "stdout",
     "output_type": "stream",
     "text": [
      "0 0.717806097893518\n",
      "Encoding\n",
      "Training\n",
      "Training until validation scores don't improve for 200 rounds\n",
      "Early stopping, best iteration is:\n",
      "[353]\tvalid_0's l2: 0.51684\n"
     ]
    },
    {
     "name": "stderr",
     "output_type": "stream",
     "text": [
      "\u001b[32m[I 2021-08-31 05:41:30,403]\u001b[0m Trial 5 finished with value: 0.7189155840909945 and parameters: {'learning_rate': 0.06701374791889882, 'reg_lambda': 8.389393747792923e-08, 'reg_alpha': 2.0066091483464708, 'subsamble': 0.5142026881390583, 'colsample_bytree': 0.5117266312992441, 'max_depth': 16, 'num_leaves': 71, 'min_child_samples': 12}. Best is trial 2 with value: 0.7169866121227203.\u001b[0m\n"
     ]
    },
    {
     "name": "stdout",
     "output_type": "stream",
     "text": [
      "0 0.7189155840909945\n",
      "Encoding\n",
      "Training\n",
      "Training until validation scores don't improve for 200 rounds\n",
      "Early stopping, best iteration is:\n",
      "[270]\tvalid_0's l2: 0.517341\n"
     ]
    },
    {
     "name": "stderr",
     "output_type": "stream",
     "text": [
      "\u001b[32m[I 2021-08-31 05:41:44,219]\u001b[0m Trial 6 finished with value: 0.7192641120882689 and parameters: {'learning_rate': 0.11710137024472739, 'reg_lambda': 8.102438251142218e-05, 'reg_alpha': 3.196012452517953e-08, 'subsamble': 0.256555332933312, 'colsample_bytree': 0.43940699218810264, 'max_depth': 50, 'num_leaves': 65, 'min_child_samples': 49}. Best is trial 2 with value: 0.7169866121227203.\u001b[0m\n"
     ]
    },
    {
     "name": "stdout",
     "output_type": "stream",
     "text": [
      "0 0.7192641120882689\n",
      "Encoding\n",
      "Training\n",
      "Training until validation scores don't improve for 200 rounds\n",
      "[1000]\tvalid_0's l2: 0.516897\n",
      "Early stopping, best iteration is:\n",
      "[1745]\tvalid_0's l2: 0.516457\n"
     ]
    },
    {
     "name": "stderr",
     "output_type": "stream",
     "text": [
      "\u001b[32m[I 2021-08-31 05:42:28,732]\u001b[0m Trial 7 finished with value: 0.7186495051150484 and parameters: {'learning_rate': 0.024165388744867573, 'reg_lambda': 0.0029524882282712258, 'reg_alpha': 4.121793198672161e-05, 'subsamble': 0.40893367129102065, 'colsample_bytree': 0.7143568654371925, 'max_depth': 58, 'num_leaves': 53, 'min_child_samples': 91}. Best is trial 2 with value: 0.7169866121227203.\u001b[0m\n"
     ]
    },
    {
     "name": "stdout",
     "output_type": "stream",
     "text": [
      "0 0.7186495051150484\n",
      "Encoding\n",
      "Training\n",
      "Training until validation scores don't improve for 200 rounds\n",
      "[1000]\tvalid_0's l2: 0.515533\n",
      "Early stopping, best iteration is:\n",
      "[1037]\tvalid_0's l2: 0.515492\n"
     ]
    },
    {
     "name": "stderr",
     "output_type": "stream",
     "text": [
      "\u001b[32m[I 2021-08-31 05:42:51,296]\u001b[0m Trial 8 finished with value: 0.717977727434254 and parameters: {'learning_rate': 0.07713458989506049, 'reg_lambda': 0.0057026204618624305, 'reg_alpha': 4.262089161215132e-07, 'subsamble': 0.2366972227467502, 'colsample_bytree': 0.38007548578169237, 'max_depth': 27, 'num_leaves': 22, 'min_child_samples': 20}. Best is trial 2 with value: 0.7169866121227203.\u001b[0m\n"
     ]
    },
    {
     "name": "stdout",
     "output_type": "stream",
     "text": [
      "0 0.717977727434254\n",
      "Encoding\n",
      "Training\n",
      "Training until validation scores don't improve for 200 rounds\n",
      "[1000]\tvalid_0's l2: 0.516287\n",
      "Early stopping, best iteration is:\n",
      "[1451]\tvalid_0's l2: 0.515846\n"
     ]
    },
    {
     "name": "stderr",
     "output_type": "stream",
     "text": [
      "\u001b[32m[I 2021-08-31 05:43:16,433]\u001b[0m Trial 9 finished with value: 0.7182244459758703 and parameters: {'learning_rate': 0.05208347461110538, 'reg_lambda': 3.5644646791133874, 'reg_alpha': 0.15268107785184498, 'subsamble': 0.30860886436159873, 'colsample_bytree': 0.8365660454339663, 'max_depth': 62, 'num_leaves': 18, 'min_child_samples': 49}. Best is trial 2 with value: 0.7169866121227203.\u001b[0m\n"
     ]
    },
    {
     "name": "stdout",
     "output_type": "stream",
     "text": [
      "0 0.7182244459758703\n",
      "Encoding\n",
      "Training\n",
      "Training until validation scores don't improve for 200 rounds\n",
      "[1000]\tvalid_0's l2: 0.516647\n",
      "[2000]\tvalid_0's l2: 0.513567\n",
      "[3000]\tvalid_0's l2: 0.512866\n",
      "[4000]\tvalid_0's l2: 0.512632\n",
      "Early stopping, best iteration is:\n",
      "[4483]\tvalid_0's l2: 0.512587\n"
     ]
    },
    {
     "name": "stderr",
     "output_type": "stream",
     "text": [
      "\u001b[32m[I 2021-08-31 05:44:52,026]\u001b[0m Trial 10 finished with value: 0.7159515116565125 and parameters: {'learning_rate': 0.015275397700720858, 'reg_lambda': 0.04051328162729846, 'reg_alpha': 0.004981663402480902, 'subsamble': 0.9334867970909132, 'colsample_bytree': 0.14538517418056326, 'max_depth': 71, 'num_leaves': 36, 'min_child_samples': 74}. Best is trial 10 with value: 0.7159515116565125.\u001b[0m\n"
     ]
    },
    {
     "name": "stdout",
     "output_type": "stream",
     "text": [
      "0 0.7159515116565125\n",
      "Encoding\n",
      "Training\n",
      "Training until validation scores don't improve for 200 rounds\n",
      "[1000]\tvalid_0's l2: 0.524953\n",
      "[2000]\tvalid_0's l2: 0.517\n",
      "[3000]\tvalid_0's l2: 0.514287\n",
      "[4000]\tvalid_0's l2: 0.51331\n",
      "[5000]\tvalid_0's l2: 0.512823\n",
      "[6000]\tvalid_0's l2: 0.51257\n",
      "[7000]\tvalid_0's l2: 0.5124\n",
      "Did not meet early stopping. Best iteration is:\n",
      "[6999]\tvalid_0's l2: 0.512399\n"
     ]
    },
    {
     "name": "stderr",
     "output_type": "stream",
     "text": [
      "\u001b[32m[I 2021-08-31 05:47:14,382]\u001b[0m Trial 11 finished with value: 0.7158202059739815 and parameters: {'learning_rate': 0.008179932732379826, 'reg_lambda': 0.05749798927514922, 'reg_alpha': 0.00494264412757278, 'subsamble': 0.9979189702743186, 'colsample_bytree': 0.10382162980223705, 'max_depth': 75, 'num_leaves': 35, 'min_child_samples': 75}. Best is trial 11 with value: 0.7158202059739815.\u001b[0m\n"
     ]
    },
    {
     "name": "stdout",
     "output_type": "stream",
     "text": [
      "0 0.7158202059739815\n",
      "Encoding\n",
      "Training\n",
      "Training until validation scores don't improve for 200 rounds\n",
      "[1000]\tvalid_0's l2: 0.526274\n",
      "[2000]\tvalid_0's l2: 0.517991\n",
      "[3000]\tvalid_0's l2: 0.514902\n",
      "[4000]\tvalid_0's l2: 0.513801\n",
      "[5000]\tvalid_0's l2: 0.513337\n",
      "[6000]\tvalid_0's l2: 0.513064\n",
      "[7000]\tvalid_0's l2: 0.512903\n",
      "Did not meet early stopping. Best iteration is:\n",
      "[6992]\tvalid_0's l2: 0.5129\n"
     ]
    },
    {
     "name": "stderr",
     "output_type": "stream",
     "text": [
      "\u001b[32m[I 2021-08-31 05:49:39,931]\u001b[0m Trial 12 finished with value: 0.7161706815638756 and parameters: {'learning_rate': 0.008353180057531495, 'reg_lambda': 0.09144940904691663, 'reg_alpha': 0.005140052350668941, 'subsamble': 0.9850256031134061, 'colsample_bytree': 0.15929775395895784, 'max_depth': 72, 'num_leaves': 35, 'min_child_samples': 73}. Best is trial 11 with value: 0.7158202059739815.\u001b[0m\n"
     ]
    },
    {
     "name": "stdout",
     "output_type": "stream",
     "text": [
      "0 0.7161706815638756\n",
      "Encoding\n",
      "Training\n",
      "Training until validation scores don't improve for 200 rounds\n",
      "[1000]\tvalid_0's l2: 0.52143\n",
      "[2000]\tvalid_0's l2: 0.516211\n",
      "[3000]\tvalid_0's l2: 0.514859\n",
      "[4000]\tvalid_0's l2: 0.514226\n",
      "[5000]\tvalid_0's l2: 0.513807\n",
      "[6000]\tvalid_0's l2: 0.51358\n",
      "Early stopping, best iteration is:\n",
      "[6154]\tvalid_0's l2: 0.513531\n"
     ]
    },
    {
     "name": "stderr",
     "output_type": "stream",
     "text": [
      "\u001b[32m[I 2021-08-31 05:52:01,463]\u001b[0m Trial 13 finished with value: 0.7166110614517803 and parameters: {'learning_rate': 0.008157956715742046, 'reg_lambda': 0.16179113034985734, 'reg_alpha': 0.0011416366301700714, 'subsamble': 0.9996861789269823, 'colsample_bytree': 0.2644835492442019, 'max_depth': 76, 'num_leaves': 38, 'min_child_samples': 73}. Best is trial 11 with value: 0.7158202059739815.\u001b[0m\n"
     ]
    },
    {
     "name": "stdout",
     "output_type": "stream",
     "text": [
      "0 0.7166110614517803\n",
      "Encoding\n",
      "Training\n",
      "Training until validation scores don't improve for 200 rounds\n",
      "[1000]\tvalid_0's l2: 0.52261\n",
      "[2000]\tvalid_0's l2: 0.517658\n",
      "[3000]\tvalid_0's l2: 0.515904\n",
      "[4000]\tvalid_0's l2: 0.514959\n",
      "[5000]\tvalid_0's l2: 0.514351\n",
      "[6000]\tvalid_0's l2: 0.513957\n",
      "[7000]\tvalid_0's l2: 0.513627\n",
      "Did not meet early stopping. Best iteration is:\n",
      "[6980]\tvalid_0's l2: 0.513627\n"
     ]
    },
    {
     "name": "stderr",
     "output_type": "stream",
     "text": [
      "\u001b[32m[I 2021-08-31 05:53:53,111]\u001b[0m Trial 14 finished with value: 0.7166775303460284 and parameters: {'learning_rate': 0.016379786299010362, 'reg_lambda': 0.21361795406000902, 'reg_alpha': 0.03460827054816429, 'subsamble': 0.8287424708632956, 'colsample_bytree': 0.24899539909328783, 'max_depth': 67, 'num_leaves': 10, 'min_child_samples': 72}. Best is trial 11 with value: 0.7158202059739815.\u001b[0m\n"
     ]
    },
    {
     "name": "stdout",
     "output_type": "stream",
     "text": [
      "0 0.7166775303460284\n",
      "Encoding\n",
      "Training\n",
      "Training until validation scores don't improve for 200 rounds\n",
      "[1000]\tvalid_0's l2: 0.51764\n",
      "[2000]\tvalid_0's l2: 0.516133\n",
      "[3000]\tvalid_0's l2: 0.515877\n",
      "Early stopping, best iteration is:\n",
      "[2848]\tvalid_0's l2: 0.515851\n"
     ]
    },
    {
     "name": "stderr",
     "output_type": "stream",
     "text": [
      "\u001b[32m[I 2021-08-31 05:55:01,892]\u001b[0m Trial 15 finished with value: 0.7182279345890473 and parameters: {'learning_rate': 0.01489406286619189, 'reg_lambda': 0.018083336124271036, 'reg_alpha': 9.652630863664348e-05, 'subsamble': 0.1119527636715496, 'colsample_bytree': 0.616080853795151, 'max_depth': 68, 'num_leaves': 44, 'min_child_samples': 64}. Best is trial 11 with value: 0.7158202059739815.\u001b[0m\n"
     ]
    },
    {
     "name": "stdout",
     "output_type": "stream",
     "text": [
      "0 0.7182279345890473\n",
      "Encoding\n",
      "Training\n",
      "Training until validation scores don't improve for 200 rounds\n",
      "[1000]\tvalid_0's l2: 0.515387\n",
      "[2000]\tvalid_0's l2: 0.514324\n",
      "Early stopping, best iteration is:\n",
      "[2611]\tvalid_0's l2: 0.514175\n"
     ]
    },
    {
     "name": "stderr",
     "output_type": "stream",
     "text": [
      "\u001b[32m[I 2021-08-31 05:56:02,828]\u001b[0m Trial 16 finished with value: 0.7170598490579965 and parameters: {'learning_rate': 0.02659547270872434, 'reg_lambda': 51.91151670064337, 'reg_alpha': 0.0477476610288203, 'subsamble': 0.8898445235173967, 'colsample_bytree': 0.3519824443957724, 'max_depth': 75, 'num_leaves': 32, 'min_child_samples': 82}. Best is trial 11 with value: 0.7158202059739815.\u001b[0m\n"
     ]
    },
    {
     "name": "stdout",
     "output_type": "stream",
     "text": [
      "0 0.7170598490579965\n",
      "Encoding\n",
      "Training\n",
      "Training until validation scores don't improve for 200 rounds\n",
      "[1000]\tvalid_0's l2: 0.51722\n",
      "[2000]\tvalid_0's l2: 0.513646\n",
      "[3000]\tvalid_0's l2: 0.512901\n",
      "[4000]\tvalid_0's l2: 0.512647\n",
      "Early stopping, best iteration is:\n",
      "[4148]\tvalid_0's l2: 0.512631\n"
     ]
    },
    {
     "name": "stderr",
     "output_type": "stream",
     "text": [
      "\u001b[32m[I 2021-08-31 05:57:41,823]\u001b[0m Trial 17 finished with value: 0.7159823297955741 and parameters: {'learning_rate': 0.01241845962044518, 'reg_lambda': 9.732147330312353e-05, 'reg_alpha': 0.00013931646267277385, 'subsamble': 0.6538333960361242, 'colsample_bytree': 0.16025400413254196, 'max_depth': 63, 'num_leaves': 52, 'min_child_samples': 32}. Best is trial 11 with value: 0.7158202059739815.\u001b[0m\n"
     ]
    },
    {
     "name": "stdout",
     "output_type": "stream",
     "text": [
      "0 0.7159823297955741\n",
      "Encoding\n",
      "Training\n",
      "Training until validation scores don't improve for 200 rounds\n",
      "[1000]\tvalid_0's l2: 0.516312\n",
      "Early stopping, best iteration is:\n",
      "[1691]\tvalid_0's l2: 0.516016\n"
     ]
    },
    {
     "name": "stderr",
     "output_type": "stream",
     "text": [
      "\u001b[32m[I 2021-08-31 05:58:20,577]\u001b[0m Trial 18 finished with value: 0.7183426282126292 and parameters: {'learning_rate': 0.031129411604237843, 'reg_lambda': 0.0003847647296127531, 'reg_alpha': 0.8020738157388616, 'subsamble': 0.768283031229207, 'colsample_bytree': 0.6079431744649894, 'max_depth': 77, 'num_leaves': 42, 'min_child_samples': 63}. Best is trial 11 with value: 0.7158202059739815.\u001b[0m\n"
     ]
    },
    {
     "name": "stdout",
     "output_type": "stream",
     "text": [
      "0 0.7183426282126292\n",
      "Encoding\n",
      "Training\n",
      "Training until validation scores don't improve for 200 rounds\n",
      "[1000]\tvalid_0's l2: 0.520816\n",
      "[2000]\tvalid_0's l2: 0.517742\n",
      "[3000]\tvalid_0's l2: 0.516949\n",
      "[4000]\tvalid_0's l2: 0.516561\n",
      "[5000]\tvalid_0's l2: 0.516469\n",
      "[6000]\tvalid_0's l2: 0.516393\n",
      "Early stopping, best iteration is:\n",
      "[5819]\tvalid_0's l2: 0.516373\n"
     ]
    },
    {
     "name": "stderr",
     "output_type": "stream",
     "text": [
      "\u001b[32m[I 2021-08-31 06:00:16,136]\u001b[0m Trial 19 finished with value: 0.7185910678811016 and parameters: {'learning_rate': 0.011028823280376574, 'reg_lambda': 2.2618801822969914, 'reg_alpha': 0.0017647417284615812, 'subsamble': 0.9192875266529357, 'colsample_bytree': 0.9661248671217828, 'max_depth': 56, 'num_leaves': 28, 'min_child_samples': 99}. Best is trial 11 with value: 0.7158202059739815.\u001b[0m\n"
     ]
    },
    {
     "name": "stdout",
     "output_type": "stream",
     "text": [
      "0 0.7185910678811016\n",
      "Encoding\n",
      "Training\n",
      "Training until validation scores don't improve for 200 rounds\n",
      "[1000]\tvalid_0's l2: 0.514684\n",
      "[2000]\tvalid_0's l2: 0.512845\n",
      "Early stopping, best iteration is:\n",
      "[2293]\tvalid_0's l2: 0.51273\n"
     ]
    },
    {
     "name": "stderr",
     "output_type": "stream",
     "text": [
      "\u001b[32m[I 2021-08-31 06:01:13,763]\u001b[0m Trial 20 finished with value: 0.716051907280016 and parameters: {'learning_rate': 0.020102581570435075, 'reg_lambda': 0.02906558389067836, 'reg_alpha': 0.009958440327820001, 'subsamble': 0.6687828133361031, 'colsample_bytree': 0.10715041707083375, 'max_depth': 43, 'num_leaves': 62, 'min_child_samples': 37}. Best is trial 11 with value: 0.7158202059739815.\u001b[0m\n"
     ]
    },
    {
     "name": "stdout",
     "output_type": "stream",
     "text": [
      "0 0.716051907280016\n",
      "Encoding\n",
      "Training\n",
      "Training until validation scores don't improve for 200 rounds\n",
      "[1000]\tvalid_0's l2: 0.517891\n",
      "[2000]\tvalid_0's l2: 0.5145\n",
      "[3000]\tvalid_0's l2: 0.513679\n",
      "[4000]\tvalid_0's l2: 0.513416\n",
      "Early stopping, best iteration is:\n",
      "[4247]\tvalid_0's l2: 0.513357\n"
     ]
    },
    {
     "name": "stderr",
     "output_type": "stream",
     "text": [
      "\u001b[32m[I 2021-08-31 06:02:53,584]\u001b[0m Trial 21 finished with value: 0.716489313731704 and parameters: {'learning_rate': 0.012874298200676435, 'reg_lambda': 0.00034528377419125044, 'reg_alpha': 0.00011545973266831596, 'subsamble': 0.5939360937330944, 'colsample_bytree': 0.20720450132040352, 'max_depth': 64, 'num_leaves': 50, 'min_child_samples': 33}. Best is trial 11 with value: 0.7158202059739815.\u001b[0m\n"
     ]
    },
    {
     "name": "stdout",
     "output_type": "stream",
     "text": [
      "0 0.716489313731704\n",
      "Encoding\n",
      "Training\n",
      "Training until validation scores don't improve for 200 rounds\n",
      "[1000]\tvalid_0's l2: 0.514898\n",
      "Early stopping, best iteration is:\n",
      "[1488]\tvalid_0's l2: 0.514145\n"
     ]
    },
    {
     "name": "stderr",
     "output_type": "stream",
     "text": [
      "\u001b[32m[I 2021-08-31 06:03:35,704]\u001b[0m Trial 22 finished with value: 0.7170390004788946 and parameters: {'learning_rate': 0.03678787703535251, 'reg_lambda': 1.8083615915853925e-05, 'reg_alpha': 85.96125506089835, 'subsamble': 0.7839816185108888, 'colsample_bytree': 0.3196693553436596, 'max_depth': 69, 'num_leaves': 39, 'min_child_samples': 39}. Best is trial 11 with value: 0.7158202059739815.\u001b[0m\n"
     ]
    },
    {
     "name": "stdout",
     "output_type": "stream",
     "text": [
      "0 0.7170390004788946\n",
      "Encoding\n",
      "Training\n",
      "Training until validation scores don't improve for 200 rounds\n",
      "[1000]\tvalid_0's l2: 0.522529\n",
      "[2000]\tvalid_0's l2: 0.515666\n",
      "[3000]\tvalid_0's l2: 0.513696\n",
      "[4000]\tvalid_0's l2: 0.51324\n",
      "[5000]\tvalid_0's l2: 0.513054\n",
      "Early stopping, best iteration is:\n",
      "[5506]\tvalid_0's l2: 0.512992\n"
     ]
    },
    {
     "name": "stderr",
     "output_type": "stream",
     "text": [
      "\u001b[32m[I 2021-08-31 06:05:46,779]\u001b[0m Trial 23 finished with value: 0.7162342658088833 and parameters: {'learning_rate': 0.010082378039277508, 'reg_lambda': 0.0012448256407150287, 'reg_alpha': 1.3629243769946148e-05, 'subsamble': 0.9344810844611013, 'colsample_bytree': 0.16120248245404434, 'max_depth': 61, 'num_leaves': 59, 'min_child_samples': 80}. Best is trial 11 with value: 0.7158202059739815.\u001b[0m\n"
     ]
    },
    {
     "name": "stdout",
     "output_type": "stream",
     "text": [
      "0 0.7162342658088833\n",
      "Encoding\n",
      "Training\n",
      "Training until validation scores don't improve for 200 rounds\n",
      "[1000]\tvalid_0's l2: 0.514856\n",
      "[2000]\tvalid_0's l2: 0.513255\n",
      "[3000]\tvalid_0's l2: 0.512934\n",
      "Early stopping, best iteration is:\n",
      "[2891]\tvalid_0's l2: 0.512921\n"
     ]
    },
    {
     "name": "stderr",
     "output_type": "stream",
     "text": [
      "\u001b[32m[I 2021-08-31 06:06:53,359]\u001b[0m Trial 24 finished with value: 0.7161847693858925 and parameters: {'learning_rate': 0.018872624782600177, 'reg_lambda': 0.286253703317506, 'reg_alpha': 0.000790849792347045, 'subsamble': 0.6884328390851964, 'colsample_bytree': 0.17271677867436583, 'max_depth': 71, 'num_leaves': 45, 'min_child_samples': 63}. Best is trial 11 with value: 0.7158202059739815.\u001b[0m\n"
     ]
    },
    {
     "name": "stdout",
     "output_type": "stream",
     "text": [
      "0 0.7161847693858925\n",
      "Encoding\n",
      "Training\n",
      "Training until validation scores don't improve for 200 rounds\n",
      "[1000]\tvalid_0's l2: 0.517499\n",
      "[2000]\tvalid_0's l2: 0.515671\n",
      "[3000]\tvalid_0's l2: 0.515204\n",
      "Early stopping, best iteration is:\n",
      "[3303]\tvalid_0's l2: 0.515173\n"
     ]
    },
    {
     "name": "stderr",
     "output_type": "stream",
     "text": [
      "\u001b[32m[I 2021-08-31 06:08:19,614]\u001b[0m Trial 25 finished with value: 0.7177557966371694 and parameters: {'learning_rate': 0.01167964694447154, 'reg_lambda': 4.228851873193243e-06, 'reg_alpha': 0.00029281464797728686, 'subsamble': 0.8290646598496888, 'colsample_bytree': 0.44566593637316665, 'max_depth': 49, 'num_leaves': 76, 'min_child_samples': 28}. Best is trial 11 with value: 0.7158202059739815.\u001b[0m\n"
     ]
    },
    {
     "name": "stdout",
     "output_type": "stream",
     "text": [
      "0 0.7177557966371694\n",
      "Encoding\n",
      "Training\n",
      "Training until validation scores don't improve for 200 rounds\n",
      "[1000]\tvalid_0's l2: 0.517178\n",
      "[2000]\tvalid_0's l2: 0.513984\n",
      "[3000]\tvalid_0's l2: 0.513395\n",
      "Early stopping, best iteration is:\n",
      "[3705]\tvalid_0's l2: 0.513222\n"
     ]
    },
    {
     "name": "stderr",
     "output_type": "stream",
     "text": [
      "\u001b[32m[I 2021-08-31 06:09:47,091]\u001b[0m Trial 26 finished with value: 0.7163952984881206 and parameters: {'learning_rate': 0.014273778597317878, 'reg_lambda': 0.01068009628892072, 'reg_alpha': 1.2458689700498501e-06, 'subsamble': 0.599601457430853, 'colsample_bytree': 0.21233510543031625, 'max_depth': 67, 'num_leaves': 49, 'min_child_samples': 80}. Best is trial 11 with value: 0.7158202059739815.\u001b[0m\n"
     ]
    },
    {
     "name": "stdout",
     "output_type": "stream",
     "text": [
      "0 0.7163952984881206\n",
      "Encoding\n",
      "Training\n",
      "Training until validation scores don't improve for 200 rounds\n",
      "[1000]\tvalid_0's l2: 0.522235\n",
      "[2000]\tvalid_0's l2: 0.515415\n",
      "[3000]\tvalid_0's l2: 0.513559\n",
      "[4000]\tvalid_0's l2: 0.512927\n",
      "[5000]\tvalid_0's l2: 0.512589\n",
      "[6000]\tvalid_0's l2: 0.51248\n",
      "Early stopping, best iteration is:\n",
      "[6275]\tvalid_0's l2: 0.512422\n"
     ]
    },
    {
     "name": "stderr",
     "output_type": "stream",
     "text": [
      "\u001b[32m[I 2021-08-31 06:11:55,188]\u001b[0m Trial 27 finished with value: 0.7158366773174645 and parameters: {'learning_rate': 0.009926453558552198, 'reg_lambda': 0.00017408115679404146, 'reg_alpha': 0.011219613942006287, 'subsamble': 0.9434265817881337, 'colsample_bytree': 0.1046932990291469, 'max_depth': 59, 'num_leaves': 37, 'min_child_samples': 58}. Best is trial 11 with value: 0.7158202059739815.\u001b[0m\n"
     ]
    },
    {
     "name": "stdout",
     "output_type": "stream",
     "text": [
      "0 0.7158366773174645\n",
      "Encoding\n",
      "Training\n",
      "Training until validation scores don't improve for 200 rounds\n",
      "[1000]\tvalid_0's l2: 0.525092\n",
      "[2000]\tvalid_0's l2: 0.5171\n",
      "[3000]\tvalid_0's l2: 0.51433\n",
      "[4000]\tvalid_0's l2: 0.513295\n",
      "[5000]\tvalid_0's l2: 0.512844\n",
      "[6000]\tvalid_0's l2: 0.512589\n",
      "[7000]\tvalid_0's l2: 0.512403\n",
      "Did not meet early stopping. Best iteration is:\n",
      "[7000]\tvalid_0's l2: 0.512403\n"
     ]
    },
    {
     "name": "stderr",
     "output_type": "stream",
     "text": [
      "\u001b[32m[I 2021-08-31 06:14:14,877]\u001b[0m Trial 28 finished with value: 0.71582317936476 and parameters: {'learning_rate': 0.008087877533518556, 'reg_lambda': 1.121916899863391, 'reg_alpha': 0.08250655942073659, 'subsamble': 0.9504141796945825, 'colsample_bytree': 0.1040342952346971, 'max_depth': 57, 'num_leaves': 35, 'min_child_samples': 58}. Best is trial 11 with value: 0.7158202059739815.\u001b[0m\n"
     ]
    },
    {
     "name": "stdout",
     "output_type": "stream",
     "text": [
      "0 0.71582317936476\n",
      "Encoding\n",
      "Training\n",
      "Training until validation scores don't improve for 200 rounds\n",
      "[1000]\tvalid_0's l2: 0.521642\n",
      "[2000]\tvalid_0's l2: 0.5164\n",
      "[3000]\tvalid_0's l2: 0.515073\n",
      "[4000]\tvalid_0's l2: 0.514413\n",
      "[5000]\tvalid_0's l2: 0.513995\n",
      "[6000]\tvalid_0's l2: 0.513772\n",
      "[7000]\tvalid_0's l2: 0.513619\n",
      "Did not meet early stopping. Best iteration is:\n",
      "[6998]\tvalid_0's l2: 0.513618\n"
     ]
    },
    {
     "name": "stderr",
     "output_type": "stream",
     "text": [
      "\u001b[32m[I 2021-08-31 06:16:45,128]\u001b[0m Trial 29 finished with value: 0.7166716072076706 and parameters: {'learning_rate': 0.009384177620740466, 'reg_lambda': 91.36292481791482, 'reg_alpha': 0.22455240836007762, 'subsamble': 0.9995637903465562, 'colsample_bytree': 0.31324246533153033, 'max_depth': 54, 'num_leaves': 27, 'min_child_samples': 57}. Best is trial 11 with value: 0.7158202059739815.\u001b[0m\n"
     ]
    },
    {
     "name": "stdout",
     "output_type": "stream",
     "text": [
      "0 0.7166716072076706\n",
      "Encoding\n",
      "Training\n",
      "Training until validation scores don't improve for 200 rounds\n",
      "[1000]\tvalid_0's l2: 0.530567\n",
      "[2000]\tvalid_0's l2: 0.52205\n",
      "[3000]\tvalid_0's l2: 0.517562\n",
      "[4000]\tvalid_0's l2: 0.515425\n",
      "[5000]\tvalid_0's l2: 0.51412\n",
      "[6000]\tvalid_0's l2: 0.513479\n",
      "[7000]\tvalid_0's l2: 0.513113\n",
      "Did not meet early stopping. Best iteration is:\n",
      "[7000]\tvalid_0's l2: 0.513113\n"
     ]
    },
    {
     "name": "stderr",
     "output_type": "stream",
     "text": [
      "\u001b[32m[I 2021-08-31 06:19:04,062]\u001b[0m Trial 30 finished with value: 0.7163189297049081 and parameters: {'learning_rate': 0.008103181362994143, 'reg_lambda': 11.820044390036472, 'reg_alpha': 0.03196379141516917, 'subsamble': 0.8804843144500316, 'colsample_bytree': 0.10031234751239393, 'max_depth': 43, 'num_leaves': 33, 'min_child_samples': 57}. Best is trial 11 with value: 0.7158202059739815.\u001b[0m\n"
     ]
    },
    {
     "name": "stdout",
     "output_type": "stream",
     "text": [
      "0 0.7163189297049081\n",
      "Encoding\n",
      "Training\n",
      "Training until validation scores don't improve for 200 rounds\n",
      "[1000]\tvalid_0's l2: 0.521008\n",
      "[2000]\tvalid_0's l2: 0.515585\n",
      "[3000]\tvalid_0's l2: 0.514213\n",
      "[4000]\tvalid_0's l2: 0.513668\n",
      "[5000]\tvalid_0's l2: 0.513454\n",
      "Early stopping, best iteration is:\n",
      "[5683]\tvalid_0's l2: 0.513399\n"
     ]
    },
    {
     "name": "stderr",
     "output_type": "stream",
     "text": [
      "\u001b[32m[I 2021-08-31 06:21:07,211]\u001b[0m Trial 31 finished with value: 0.7165184405126727 and parameters: {'learning_rate': 0.010444227689176641, 'reg_lambda': 0.5101799404006553, 'reg_alpha': 0.007689398628415434, 'subsamble': 0.9380379236683921, 'colsample_bytree': 0.2183874959377704, 'max_depth': 59, 'num_leaves': 37, 'min_child_samples': 42}. Best is trial 11 with value: 0.7158202059739815.\u001b[0m\n"
     ]
    },
    {
     "name": "stdout",
     "output_type": "stream",
     "text": [
      "0 0.7165184405126727\n",
      "Encoding\n",
      "Training\n",
      "Training until validation scores don't improve for 200 rounds\n",
      "[1000]\tvalid_0's l2: 0.51777\n",
      "[2000]\tvalid_0's l2: 0.513994\n",
      "[3000]\tvalid_0's l2: 0.51308\n",
      "[4000]\tvalid_0's l2: 0.512735\n",
      "[5000]\tvalid_0's l2: 0.512546\n",
      "Early stopping, best iteration is:\n",
      "[5427]\tvalid_0's l2: 0.512474\n"
     ]
    },
    {
     "name": "stderr",
     "output_type": "stream",
     "text": [
      "\u001b[32m[I 2021-08-31 06:22:45,953]\u001b[0m Trial 32 finished with value: 0.7158728007217077 and parameters: {'learning_rate': 0.017220260461947207, 'reg_lambda': 0.99520605139909, 'reg_alpha': 0.19633981859379793, 'subsamble': 0.9567705245382802, 'colsample_bytree': 0.10463202148543063, 'max_depth': 51, 'num_leaves': 23, 'min_child_samples': 69}. Best is trial 11 with value: 0.7158202059739815.\u001b[0m\n"
     ]
    },
    {
     "name": "stdout",
     "output_type": "stream",
     "text": [
      "0 0.7158728007217077\n",
      "Encoding\n",
      "Training\n",
      "Training until validation scores don't improve for 200 rounds\n",
      "[1000]\tvalid_0's l2: 0.516828\n",
      "[2000]\tvalid_0's l2: 0.513591\n",
      "[3000]\tvalid_0's l2: 0.512805\n",
      "[4000]\tvalid_0's l2: 0.512584\n",
      "Early stopping, best iteration is:\n",
      "[3922]\tvalid_0's l2: 0.512564\n"
     ]
    },
    {
     "name": "stderr",
     "output_type": "stream",
     "text": [
      "\u001b[32m[I 2021-08-31 06:24:01,232]\u001b[0m Trial 33 finished with value: 0.7159359111103405 and parameters: {'learning_rate': 0.019022079621508446, 'reg_lambda': 0.820883356225161, 'reg_alpha': 0.3536857884171492, 'subsamble': 0.8358538554276851, 'colsample_bytree': 0.10247300656690506, 'max_depth': 49, 'num_leaves': 24, 'min_child_samples': 66}. Best is trial 11 with value: 0.7158202059739815.\u001b[0m\n"
     ]
    },
    {
     "name": "stdout",
     "output_type": "stream",
     "text": [
      "0 0.7159359111103405\n",
      "Encoding\n",
      "Training\n",
      "Training until validation scores don't improve for 200 rounds\n",
      "[1000]\tvalid_0's l2: 0.52522\n",
      "[2000]\tvalid_0's l2: 0.518455\n",
      "[3000]\tvalid_0's l2: 0.515927\n",
      "[4000]\tvalid_0's l2: 0.514826\n",
      "[5000]\tvalid_0's l2: 0.514175\n",
      "[6000]\tvalid_0's l2: 0.513698\n",
      "[7000]\tvalid_0's l2: 0.513362\n",
      "Did not meet early stopping. Best iteration is:\n",
      "[6983]\tvalid_0's l2: 0.513358\n"
     ]
    },
    {
     "name": "stderr",
     "output_type": "stream",
     "text": [
      "\u001b[32m[I 2021-08-31 06:26:05,849]\u001b[0m Trial 34 finished with value: 0.7164903474123749 and parameters: {'learning_rate': 0.010238234166754368, 'reg_lambda': 19.47202142989287, 'reg_alpha': 3.1184821638783857, 'subsamble': 0.9489491855014154, 'colsample_bytree': 0.21340634829423843, 'max_depth': 37, 'num_leaves': 15, 'min_child_samples': 86}. Best is trial 11 with value: 0.7158202059739815.\u001b[0m\n"
     ]
    },
    {
     "name": "stdout",
     "output_type": "stream",
     "text": [
      "0 0.7164903474123749\n",
      "Encoding\n",
      "Training\n",
      "Training until validation scores don't improve for 200 rounds\n",
      "[1000]\tvalid_0's l2: 0.516643\n",
      "[2000]\tvalid_0's l2: 0.514738\n",
      "[3000]\tvalid_0's l2: 0.514087\n",
      "[4000]\tvalid_0's l2: 0.513815\n",
      "Early stopping, best iteration is:\n",
      "[3923]\tvalid_0's l2: 0.513794\n"
     ]
    },
    {
     "name": "stderr",
     "output_type": "stream",
     "text": [
      "\u001b[32m[I 2021-08-31 06:27:21,393]\u001b[0m Trial 35 finished with value: 0.7167945446083457 and parameters: {'learning_rate': 0.0230126127308413, 'reg_lambda': 1.5205561532004679, 'reg_alpha': 0.09016152531899144, 'subsamble': 0.8774299495917108, 'colsample_bytree': 0.28871064237717387, 'max_depth': 53, 'num_leaves': 20, 'min_child_samples': 55}. Best is trial 11 with value: 0.7158202059739815.\u001b[0m\n"
     ]
    },
    {
     "name": "stdout",
     "output_type": "stream",
     "text": [
      "0 0.7167945446083457\n",
      "Encoding\n",
      "Training\n",
      "Training until validation scores don't improve for 200 rounds\n",
      "[1000]\tvalid_0's l2: 0.518696\n",
      "[2000]\tvalid_0's l2: 0.514814\n",
      "[3000]\tvalid_0's l2: 0.513864\n",
      "[4000]\tvalid_0's l2: 0.513497\n",
      "[5000]\tvalid_0's l2: 0.51327\n",
      "Early stopping, best iteration is:\n",
      "[4912]\tvalid_0's l2: 0.513253\n"
     ]
    },
    {
     "name": "stderr",
     "output_type": "stream",
     "text": [
      "\u001b[32m[I 2021-08-31 06:29:23,192]\u001b[0m Trial 36 finished with value: 0.7164170742074055 and parameters: {'learning_rate': 0.01278119195966399, 'reg_lambda': 9.05500468156523, 'reg_alpha': 19.24180618987625, 'subsamble': 0.7822305448677056, 'colsample_bytree': 0.3757131373800798, 'max_depth': 46, 'num_leaves': 31, 'min_child_samples': 69}. Best is trial 11 with value: 0.7158202059739815.\u001b[0m\n"
     ]
    },
    {
     "name": "stdout",
     "output_type": "stream",
     "text": [
      "0 0.7164170742074055\n",
      "Encoding\n",
      "Training\n",
      "Training until validation scores don't improve for 200 rounds\n",
      "Early stopping, best iteration is:\n",
      "[425]\tvalid_0's l2: 0.514894\n"
     ]
    },
    {
     "name": "stderr",
     "output_type": "stream",
     "text": [
      "\u001b[32m[I 2021-08-31 06:29:35,393]\u001b[0m Trial 37 finished with value: 0.71756131458181 and parameters: {'learning_rate': 0.13548395170130872, 'reg_lambda': 0.06480944503902034, 'reg_alpha': 0.030557745134512124, 'subsamble': 0.7298495847736322, 'colsample_bytree': 0.18098882483033735, 'max_depth': 13, 'num_leaves': 26, 'min_child_samples': 44}. Best is trial 11 with value: 0.7158202059739815.\u001b[0m\n"
     ]
    },
    {
     "name": "stdout",
     "output_type": "stream",
     "text": [
      "0 0.71756131458181\n",
      "Encoding\n",
      "Training\n",
      "Training until validation scores don't improve for 200 rounds\n",
      "[1000]\tvalid_0's l2: 0.514227\n",
      "Early stopping, best iteration is:\n",
      "[941]\tvalid_0's l2: 0.514195\n"
     ]
    },
    {
     "name": "stderr",
     "output_type": "stream",
     "text": [
      "\u001b[32m[I 2021-08-31 06:29:59,299]\u001b[0m Trial 38 finished with value: 0.7170742030041847 and parameters: {'learning_rate': 0.04822524588454445, 'reg_lambda': 0.0015369654440845126, 'reg_alpha': 0.7937817402631303, 'subsamble': 0.9708312155912544, 'colsample_bytree': 0.25241967569931617, 'max_depth': 40, 'num_leaves': 41, 'min_child_samples': 59}. Best is trial 11 with value: 0.7158202059739815.\u001b[0m\n"
     ]
    },
    {
     "name": "stdout",
     "output_type": "stream",
     "text": [
      "0 0.7170742030041847\n",
      "Encoding\n",
      "Training\n",
      "Training until validation scores don't improve for 200 rounds\n",
      "[1000]\tvalid_0's l2: 0.526899\n",
      "[2000]\tvalid_0's l2: 0.51962\n",
      "[3000]\tvalid_0's l2: 0.516627\n",
      "[4000]\tvalid_0's l2: 0.515298\n",
      "[5000]\tvalid_0's l2: 0.514519\n",
      "[6000]\tvalid_0's l2: 0.513983\n",
      "[7000]\tvalid_0's l2: 0.513613\n",
      "Did not meet early stopping. Best iteration is:\n",
      "[7000]\tvalid_0's l2: 0.513613\n"
     ]
    },
    {
     "name": "stderr",
     "output_type": "stream",
     "text": [
      "\u001b[32m[I 2021-08-31 06:32:02,775]\u001b[0m Trial 39 finished with value: 0.7166676740316894 and parameters: {'learning_rate': 0.008826698748812442, 'reg_lambda': 0.006132570996915215, 'reg_alpha': 0.01539395682961053, 'subsamble': 0.9052676967202026, 'colsample_bytree': 0.13661816557752757, 'max_depth': 53, 'num_leaves': 14, 'min_child_samples': 77}. Best is trial 11 with value: 0.7158202059739815.\u001b[0m\n"
     ]
    },
    {
     "name": "stdout",
     "output_type": "stream",
     "text": [
      "0 0.7166676740316894\n",
      "Encoding\n",
      "Training\n",
      "Training until validation scores don't improve for 200 rounds\n",
      "[1000]\tvalid_0's l2: 0.516477\n",
      "Early stopping, best iteration is:\n",
      "[1382]\tvalid_0's l2: 0.516169\n"
     ]
    },
    {
     "name": "stderr",
     "output_type": "stream",
     "text": [
      "\u001b[32m[I 2021-08-31 06:32:33,744]\u001b[0m Trial 40 finished with value: 0.7184487317116186 and parameters: {'learning_rate': 0.03689956173662028, 'reg_lambda': 1.7484616817012218e-06, 'reg_alpha': 0.0029590049148073955, 'subsamble': 0.3937574187282779, 'colsample_bytree': 0.7251277474579206, 'max_depth': 32, 'num_leaves': 31, 'min_child_samples': 86}. Best is trial 11 with value: 0.7158202059739815.\u001b[0m\n"
     ]
    },
    {
     "name": "stdout",
     "output_type": "stream",
     "text": [
      "0 0.7184487317116186\n",
      "Encoding\n",
      "Training\n",
      "Training until validation scores don't improve for 200 rounds\n",
      "[1000]\tvalid_0's l2: 0.516334\n",
      "[2000]\tvalid_0's l2: 0.513381\n",
      "[3000]\tvalid_0's l2: 0.512691\n",
      "[4000]\tvalid_0's l2: 0.512518\n",
      "Early stopping, best iteration is:\n",
      "[4067]\tvalid_0's l2: 0.512497\n"
     ]
    },
    {
     "name": "stderr",
     "output_type": "stream",
     "text": [
      "\u001b[32m[I 2021-08-31 06:33:52,130]\u001b[0m Trial 41 finished with value: 0.7158887395058514 and parameters: {'learning_rate': 0.01981999420347477, 'reg_lambda': 0.7728344616211164, 'reg_alpha': 0.3016552208785013, 'subsamble': 0.8341019782594211, 'colsample_bytree': 0.10915554864736196, 'max_depth': 49, 'num_leaves': 25, 'min_child_samples': 68}. Best is trial 11 with value: 0.7158202059739815.\u001b[0m\n"
     ]
    },
    {
     "name": "stdout",
     "output_type": "stream",
     "text": [
      "0 0.7158887395058514\n",
      "Encoding\n",
      "Training\n",
      "Training until validation scores don't improve for 200 rounds\n",
      "[1000]\tvalid_0's l2: 0.520651\n",
      "[2000]\tvalid_0's l2: 0.515035\n",
      "[3000]\tvalid_0's l2: 0.513328\n",
      "[4000]\tvalid_0's l2: 0.512699\n",
      "[5000]\tvalid_0's l2: 0.51244\n",
      "Early stopping, best iteration is:\n",
      "[5432]\tvalid_0's l2: 0.512361\n"
     ]
    },
    {
     "name": "stderr",
     "output_type": "stream",
     "text": [
      "\u001b[32m[I 2021-08-31 06:35:33,676]\u001b[0m Trial 42 finished with value: 0.7157946975915584 and parameters: {'learning_rate': 0.01648083242066651, 'reg_lambda': 3.665762532232525, 'reg_alpha': 5.611636993099838, 'subsamble': 0.8678272404794748, 'colsample_bytree': 0.13245782555280045, 'max_depth': 57, 'num_leaves': 22, 'min_child_samples': 68}. Best is trial 42 with value: 0.7157946975915584.\u001b[0m\n"
     ]
    },
    {
     "name": "stdout",
     "output_type": "stream",
     "text": [
      "0 0.7157946975915584\n",
      "Encoding\n",
      "Training\n",
      "Training until validation scores don't improve for 200 rounds\n",
      "[1000]\tvalid_0's l2: 0.519712\n",
      "[2000]\tvalid_0's l2: 0.514717\n",
      "[3000]\tvalid_0's l2: 0.513321\n",
      "[4000]\tvalid_0's l2: 0.512779\n",
      "[5000]\tvalid_0's l2: 0.512536\n",
      "Early stopping, best iteration is:\n",
      "[5524]\tvalid_0's l2: 0.512456\n"
     ]
    },
    {
     "name": "stderr",
     "output_type": "stream",
     "text": [
      "\u001b[32m[I 2021-08-31 06:37:24,512]\u001b[0m Trial 43 finished with value: 0.7158608625956279 and parameters: {'learning_rate': 0.01630465992829934, 'reg_lambda': 4.965645527913258, 'reg_alpha': 19.110086882545634, 'subsamble': 0.9509509688708702, 'colsample_bytree': 0.1905272294087511, 'max_depth': 58, 'num_leaves': 20, 'min_child_samples': 61}. Best is trial 42 with value: 0.7157946975915584.\u001b[0m\n"
     ]
    },
    {
     "name": "stdout",
     "output_type": "stream",
     "text": [
      "0 0.7158608625956279\n",
      "Encoding\n",
      "Training\n",
      "Training until validation scores don't improve for 200 rounds\n",
      "[1000]\tvalid_0's l2: 0.520955\n",
      "[2000]\tvalid_0's l2: 0.515813\n",
      "[3000]\tvalid_0's l2: 0.514126\n",
      "[4000]\tvalid_0's l2: 0.513316\n",
      "[5000]\tvalid_0's l2: 0.512915\n",
      "[6000]\tvalid_0's l2: 0.512675\n",
      "[7000]\tvalid_0's l2: 0.512568\n",
      "Did not meet early stopping. Best iteration is:\n",
      "[6962]\tvalid_0's l2: 0.512564\n"
     ]
    },
    {
     "name": "stderr",
     "output_type": "stream",
     "text": [
      "\u001b[32m[I 2021-08-31 06:39:45,530]\u001b[0m Trial 44 finished with value: 0.7159364624809625 and parameters: {'learning_rate': 0.013425096679788957, 'reg_lambda': 3.420284843691292, 'reg_alpha': 42.896706606772334, 'subsamble': 0.8591472762192722, 'colsample_bytree': 0.19573187236990536, 'max_depth': 58, 'num_leaves': 19, 'min_child_samples': 60}. Best is trial 42 with value: 0.7157946975915584.\u001b[0m\n"
     ]
    },
    {
     "name": "stdout",
     "output_type": "stream",
     "text": [
      "0 0.7159364624809625\n",
      "Encoding\n",
      "Training\n",
      "Training until validation scores don't improve for 200 rounds\n",
      "[1000]\tvalid_0's l2: 0.525731\n",
      "[2000]\tvalid_0's l2: 0.519424\n",
      "[3000]\tvalid_0's l2: 0.517043\n",
      "[4000]\tvalid_0's l2: 0.515877\n",
      "[5000]\tvalid_0's l2: 0.515154\n",
      "[6000]\tvalid_0's l2: 0.514606\n",
      "[7000]\tvalid_0's l2: 0.514212\n",
      "Did not meet early stopping. Best iteration is:\n",
      "[6994]\tvalid_0's l2: 0.514212\n"
     ]
    },
    {
     "name": "stderr",
     "output_type": "stream",
     "text": [
      "\u001b[32m[I 2021-08-31 06:41:38,099]\u001b[0m Trial 45 finished with value: 0.7170855714142855 and parameters: {'learning_rate': 0.009418265387351011, 'reg_lambda': 26.988775584156162, 'reg_alpha': 10.06067121033086, 'subsamble': 0.9100003635950422, 'colsample_bytree': 0.42277148580786994, 'max_depth': 21, 'num_leaves': 13, 'min_child_samples': 52}. Best is trial 42 with value: 0.7157946975915584.\u001b[0m\n"
     ]
    },
    {
     "name": "stdout",
     "output_type": "stream",
     "text": [
      "0 0.7170855714142855\n",
      "Encoding\n",
      "Training\n",
      "Training until validation scores don't improve for 200 rounds\n",
      "[1000]\tvalid_0's l2: 0.513\n",
      "Early stopping, best iteration is:\n",
      "[857]\tvalid_0's l2: 0.512918\n"
     ]
    },
    {
     "name": "stderr",
     "output_type": "stream",
     "text": [
      "\u001b[32m[I 2021-08-31 06:41:59,183]\u001b[0m Trial 46 finished with value: 0.716182623640552 and parameters: {'learning_rate': 0.059068875726381406, 'reg_lambda': 5.653848831456116, 'reg_alpha': 3.0260793282398977, 'subsamble': 0.9993324395777744, 'colsample_bytree': 0.1434558446055691, 'max_depth': 65, 'num_leaves': 35, 'min_child_samples': 48}. Best is trial 42 with value: 0.7157946975915584.\u001b[0m\n"
     ]
    },
    {
     "name": "stdout",
     "output_type": "stream",
     "text": [
      "0 0.716182623640552\n",
      "Encoding\n",
      "Training\n",
      "Training until validation scores don't improve for 200 rounds\n",
      "[1000]\tvalid_0's l2: 0.520656\n",
      "[2000]\tvalid_0's l2: 0.515958\n",
      "[3000]\tvalid_0's l2: 0.514715\n",
      "[4000]\tvalid_0's l2: 0.514006\n",
      "[5000]\tvalid_0's l2: 0.513572\n",
      "[6000]\tvalid_0's l2: 0.513347\n",
      "[7000]\tvalid_0's l2: 0.513237\n",
      "Did not meet early stopping. Best iteration is:\n",
      "[6994]\tvalid_0's l2: 0.513232\n"
     ]
    },
    {
     "name": "stderr",
     "output_type": "stream",
     "text": [
      "\u001b[32m[I 2021-08-31 06:44:09,233]\u001b[0m Trial 47 finished with value: 0.7164024260674339 and parameters: {'learning_rate': 0.011611468377974363, 'reg_lambda': 9.248513208570126e-08, 'reg_alpha': 1.4782807413551493, 'subsamble': 0.9591908884483752, 'colsample_bytree': 0.24194025599313018, 'max_depth': 60, 'num_leaves': 21, 'min_child_samples': 52}. Best is trial 42 with value: 0.7157946975915584.\u001b[0m\n"
     ]
    },
    {
     "name": "stdout",
     "output_type": "stream",
     "text": [
      "0 0.7164024260674339\n",
      "Encoding\n",
      "Training\n",
      "Training until validation scores don't improve for 200 rounds\n",
      "[1000]\tvalid_0's l2: 0.517274\n",
      "[2000]\tvalid_0's l2: 0.515056\n",
      "[3000]\tvalid_0's l2: 0.51448\n",
      "[4000]\tvalid_0's l2: 0.514247\n",
      "Early stopping, best iteration is:\n",
      "[4153]\tvalid_0's l2: 0.514197\n"
     ]
    },
    {
     "name": "stderr",
     "output_type": "stream",
     "text": [
      "\u001b[32m[I 2021-08-31 06:45:41,400]\u001b[0m Trial 48 finished with value: 0.7170756138190028 and parameters: {'learning_rate': 0.016459416134552343, 'reg_lambda': 0.11297663351322011, 'reg_alpha': 7.861249423692707, 'subsamble': 0.8026514684397775, 'colsample_bytree': 0.5042635038039591, 'max_depth': 55, 'num_leaves': 29, 'min_child_samples': 61}. Best is trial 42 with value: 0.7157946975915584.\u001b[0m\n"
     ]
    },
    {
     "name": "stdout",
     "output_type": "stream",
     "text": [
      "0 0.7170756138190028\n",
      "Encoding\n",
      "Training\n",
      "Training until validation scores don't improve for 200 rounds\n",
      "[1000]\tvalid_0's l2: 0.514134\n",
      "[2000]\tvalid_0's l2: 0.513087\n",
      "Early stopping, best iteration is:\n",
      "[2200]\tvalid_0's l2: 0.513045\n"
     ]
    },
    {
     "name": "stderr",
     "output_type": "stream",
     "text": [
      "\u001b[32m[I 2021-08-31 06:46:40,157]\u001b[0m Trial 49 finished with value: 0.7162713549112117 and parameters: {'learning_rate': 0.025920355679869632, 'reg_lambda': 5.236151298857016e-05, 'reg_alpha': 21.053655872448253, 'subsamble': 0.500772249834714, 'colsample_bytree': 0.28451089434260424, 'max_depth': 46, 'num_leaves': 40, 'min_child_samples': 46}. Best is trial 42 with value: 0.7157946975915584.\u001b[0m\n"
     ]
    },
    {
     "name": "stdout",
     "output_type": "stream",
     "text": [
      "0 0.7162713549112117\n",
      "Encoding\n",
      "Training\n",
      "Training until validation scores don't improve for 200 rounds\n",
      "Early stopping, best iteration is:\n",
      "[518]\tvalid_0's l2: 0.513688\n"
     ]
    },
    {
     "name": "stderr",
     "output_type": "stream",
     "text": [
      "\u001b[32m[I 2021-08-31 06:46:51,721]\u001b[0m Trial 50 finished with value: 0.7167204284200371 and parameters: {'learning_rate': 0.22798066546188098, 'reg_lambda': 0.0003599036187046475, 'reg_alpha': 0.06958074506015687, 'subsamble': 0.8837812565706322, 'colsample_bytree': 0.1452008273473089, 'max_depth': 72, 'num_leaves': 10, 'min_child_samples': 76}. Best is trial 42 with value: 0.7157946975915584.\u001b[0m\n"
     ]
    },
    {
     "name": "stdout",
     "output_type": "stream",
     "text": [
      "0 0.7167204284200371\n",
      "Encoding\n",
      "Training\n",
      "Training until validation scores don't improve for 200 rounds\n",
      "[1000]\tvalid_0's l2: 0.518254\n",
      "[2000]\tvalid_0's l2: 0.514615\n",
      "[3000]\tvalid_0's l2: 0.513456\n",
      "[4000]\tvalid_0's l2: 0.512977\n",
      "[5000]\tvalid_0's l2: 0.512707\n",
      "[6000]\tvalid_0's l2: 0.512539\n",
      "Early stopping, best iteration is:\n",
      "[6262]\tvalid_0's l2: 0.512521\n"
     ]
    },
    {
     "name": "stderr",
     "output_type": "stream",
     "text": [
      "\u001b[32m[I 2021-08-31 06:48:40,137]\u001b[0m Trial 51 finished with value: 0.7159058559561498 and parameters: {'learning_rate': 0.017331599882551837, 'reg_lambda': 0.5458829134385135, 'reg_alpha': 0.6564036514719128, 'subsamble': 0.9676767062024163, 'colsample_bytree': 0.13333199542262927, 'max_depth': 57, 'num_leaves': 18, 'min_child_samples': 70}. Best is trial 42 with value: 0.7157946975915584.\u001b[0m\n"
     ]
    },
    {
     "name": "stdout",
     "output_type": "stream",
     "text": [
      "0 0.7159058559561498\n",
      "Encoding\n",
      "Training\n",
      "Training until validation scores don't improve for 200 rounds\n",
      "[1000]\tvalid_0's l2: 0.519957\n",
      "[2000]\tvalid_0's l2: 0.515246\n",
      "[3000]\tvalid_0's l2: 0.514093\n",
      "[4000]\tvalid_0's l2: 0.51361\n",
      "[5000]\tvalid_0's l2: 0.513346\n",
      "Early stopping, best iteration is:\n",
      "[5132]\tvalid_0's l2: 0.513313\n"
     ]
    },
    {
     "name": "stderr",
     "output_type": "stream",
     "text": [
      "\u001b[32m[I 2021-08-31 06:50:16,168]\u001b[0m Trial 52 finished with value: 0.7164588630426878 and parameters: {'learning_rate': 0.014897424445902094, 'reg_lambda': 2.1340973082710004, 'reg_alpha': 1.013870995925226e-08, 'subsamble': 0.9338709044935752, 'colsample_bytree': 0.18150170308539604, 'max_depth': 51, 'num_leaves': 22, 'min_child_samples': 67}. Best is trial 42 with value: 0.7157946975915584.\u001b[0m\n"
     ]
    },
    {
     "name": "stdout",
     "output_type": "stream",
     "text": [
      "0 0.7164588630426878\n",
      "Encoding\n",
      "Training\n",
      "Training until validation scores don't improve for 200 rounds\n",
      "[1000]\tvalid_0's l2: 0.528433\n",
      "[2000]\tvalid_0's l2: 0.519869\n",
      "[3000]\tvalid_0's l2: 0.515997\n",
      "[4000]\tvalid_0's l2: 0.514334\n",
      "[5000]\tvalid_0's l2: 0.513551\n",
      "[6000]\tvalid_0's l2: 0.513105\n",
      "[7000]\tvalid_0's l2: 0.51287\n",
      "Did not meet early stopping. Best iteration is:\n",
      "[6995]\tvalid_0's l2: 0.512869\n"
     ]
    },
    {
     "name": "stderr",
     "output_type": "stream",
     "text": [
      "\u001b[32m[I 2021-08-31 06:52:36,861]\u001b[0m Trial 53 finished with value: 0.7161484111137613 and parameters: {'learning_rate': 0.0080185260137472, 'reg_lambda': 32.78673824623246, 'reg_alpha': 0.10546551093112101, 'subsamble': 0.9706787927411347, 'colsample_bytree': 0.12763875483298237, 'max_depth': 62, 'num_leaves': 33, 'min_child_samples': 55}. Best is trial 42 with value: 0.7157946975915584.\u001b[0m\n"
     ]
    },
    {
     "name": "stdout",
     "output_type": "stream",
     "text": [
      "0 0.7161484111137613\n",
      "Encoding\n",
      "Training\n",
      "Training until validation scores don't improve for 200 rounds\n",
      "[1000]\tvalid_0's l2: 0.515925\n",
      "[2000]\tvalid_0's l2: 0.514042\n",
      "[3000]\tvalid_0's l2: 0.513431\n",
      "Early stopping, best iteration is:\n",
      "[3424]\tvalid_0's l2: 0.513276\n"
     ]
    },
    {
     "name": "stderr",
     "output_type": "stream",
     "text": [
      "\u001b[32m[I 2021-08-31 06:53:37,675]\u001b[0m Trial 54 finished with value: 0.7164330814343276 and parameters: {'learning_rate': 0.029959375265413483, 'reg_lambda': 6.078464909917128, 'reg_alpha': 0.0005626563923626989, 'subsamble': 0.9036631153761575, 'colsample_bytree': 0.22933114539281055, 'max_depth': 52, 'num_leaves': 16, 'min_child_samples': 64}. Best is trial 42 with value: 0.7157946975915584.\u001b[0m\n"
     ]
    },
    {
     "name": "stdout",
     "output_type": "stream",
     "text": [
      "0 0.7164330814343276\n",
      "Encoding\n",
      "Training\n",
      "Training until validation scores don't improve for 200 rounds\n",
      "[1000]\tvalid_0's l2: 0.520787\n",
      "[2000]\tvalid_0's l2: 0.514722\n",
      "[3000]\tvalid_0's l2: 0.513224\n",
      "[4000]\tvalid_0's l2: 0.512842\n",
      "Early stopping, best iteration is:\n",
      "[4604]\tvalid_0's l2: 0.512722\n"
     ]
    },
    {
     "name": "stderr",
     "output_type": "stream",
     "text": [
      "\u001b[32m[I 2021-08-31 06:55:28,243]\u001b[0m Trial 55 finished with value: 0.7160459912333007 and parameters: {'learning_rate': 0.010746023953399573, 'reg_lambda': 1.0480622070781864, 'reg_alpha': 4.411270404759641, 'subsamble': 0.852777892812585, 'colsample_bytree': 0.18512393532394802, 'max_depth': 65, 'num_leaves': 47, 'min_child_samples': 72}. Best is trial 42 with value: 0.7157946975915584.\u001b[0m\n"
     ]
    },
    {
     "name": "stdout",
     "output_type": "stream",
     "text": [
      "0 0.7160459912333007\n",
      "Encoding\n",
      "Training\n",
      "Training until validation scores don't improve for 200 rounds\n",
      "[1000]\tvalid_0's l2: 0.516154\n",
      "[2000]\tvalid_0's l2: 0.513507\n",
      "[3000]\tvalid_0's l2: 0.513089\n",
      "Early stopping, best iteration is:\n",
      "[3111]\tvalid_0's l2: 0.513011\n"
     ]
    },
    {
     "name": "stderr",
     "output_type": "stream",
     "text": [
      "\u001b[32m[I 2021-08-31 06:56:34,040]\u001b[0m Trial 56 finished with value: 0.716247515236686 and parameters: {'learning_rate': 0.02333130993146747, 'reg_lambda': 0.3540537998887716, 'reg_alpha': 0.0027563422647501083, 'subsamble': 0.718992736148336, 'colsample_bytree': 0.16167576629088662, 'max_depth': 56, 'num_leaves': 29, 'min_child_samples': 74}. Best is trial 42 with value: 0.7157946975915584.\u001b[0m\n"
     ]
    },
    {
     "name": "stdout",
     "output_type": "stream",
     "text": [
      "0 0.716247515236686\n",
      "Encoding\n",
      "Training\n",
      "Training until validation scores don't improve for 200 rounds\n",
      "[1000]\tvalid_0's l2: 0.524992\n",
      "[2000]\tvalid_0's l2: 0.517264\n",
      "[3000]\tvalid_0's l2: 0.514685\n",
      "[4000]\tvalid_0's l2: 0.513659\n",
      "[5000]\tvalid_0's l2: 0.513129\n",
      "[6000]\tvalid_0's l2: 0.512817\n",
      "[7000]\tvalid_0's l2: 0.512614\n",
      "Did not meet early stopping. Best iteration is:\n",
      "[6999]\tvalid_0's l2: 0.512613\n"
     ]
    },
    {
     "name": "stderr",
     "output_type": "stream",
     "text": [
      "\u001b[32m[I 2021-08-31 06:58:43,810]\u001b[0m Trial 57 finished with value: 0.7159698500131266 and parameters: {'learning_rate': 0.009230064676052894, 'reg_lambda': 0.022544139797573283, 'reg_alpha': 0.014624617574351581, 'subsamble': 0.9291324287492637, 'colsample_bytree': 0.10404261142431862, 'max_depth': 74, 'num_leaves': 23, 'min_child_samples': 66}. Best is trial 42 with value: 0.7157946975915584.\u001b[0m\n"
     ]
    },
    {
     "name": "stdout",
     "output_type": "stream",
     "text": [
      "0 0.7159698500131266\n",
      "Encoding\n",
      "Training\n",
      "Training until validation scores don't improve for 200 rounds\n",
      "[1000]\tvalid_0's l2: 0.517082\n",
      "[2000]\tvalid_0's l2: 0.51533\n",
      "[3000]\tvalid_0's l2: 0.515063\n",
      "Early stopping, best iteration is:\n",
      "[3134]\tvalid_0's l2: 0.515032\n"
     ]
    },
    {
     "name": "stderr",
     "output_type": "stream",
     "text": [
      "\u001b[32m[I 2021-08-31 07:00:06,034]\u001b[0m Trial 58 finished with value: 0.7176569880809552 and parameters: {'learning_rate': 0.021601425049719, 'reg_lambda': 0.13942128533523973, 'reg_alpha': 58.72225167982401, 'subsamble': 0.9666292308300242, 'colsample_bytree': 0.7993016516721109, 'max_depth': 60, 'num_leaves': 35, 'min_child_samples': 61}. Best is trial 42 with value: 0.7157946975915584.\u001b[0m\n"
     ]
    },
    {
     "name": "stdout",
     "output_type": "stream",
     "text": [
      "0 0.7176569880809552\n",
      "Encoding\n",
      "Training\n",
      "Training until validation scores don't improve for 200 rounds\n",
      "[1000]\tvalid_0's l2: 0.517335\n",
      "[2000]\tvalid_0's l2: 0.515924\n",
      "Early stopping, best iteration is:\n",
      "[2470]\tvalid_0's l2: 0.515681\n"
     ]
    },
    {
     "name": "stderr",
     "output_type": "stream",
     "text": [
      "\u001b[32m[I 2021-08-31 07:01:05,412]\u001b[0m Trial 59 finished with value: 0.7181093215037078 and parameters: {'learning_rate': 0.01660941644602892, 'reg_lambda': 0.003314341399858474, 'reg_alpha': 1.3354245104410545, 'subsamble': 0.8078553200499424, 'colsample_bytree': 0.6534396356673321, 'max_depth': 46, 'num_leaves': 42, 'min_child_samples': 78}. Best is trial 42 with value: 0.7157946975915584.\u001b[0m\n"
     ]
    },
    {
     "name": "stdout",
     "output_type": "stream",
     "text": [
      "0 0.7181093215037078\n",
      "Encoding\n",
      "Training\n",
      "Training until validation scores don't improve for 200 rounds\n",
      "[1000]\tvalid_0's l2: 0.518236\n",
      "[2000]\tvalid_0's l2: 0.514524\n",
      "[3000]\tvalid_0's l2: 0.513678\n",
      "[4000]\tvalid_0's l2: 0.513356\n",
      "Early stopping, best iteration is:\n",
      "[4562]\tvalid_0's l2: 0.513282\n"
     ]
    },
    {
     "name": "stderr",
     "output_type": "stream",
     "text": [
      "\u001b[32m[I 2021-08-31 07:03:07,444]\u001b[0m Trial 60 finished with value: 0.716437147940185 and parameters: {'learning_rate': 0.012260279827757499, 'reg_lambda': 14.724478719692375, 'reg_alpha': 15.875032025872274, 'subsamble': 0.7526058665918021, 'colsample_bytree': 0.3400030344979371, 'max_depth': 68, 'num_leaves': 38, 'min_child_samples': 93}. Best is trial 42 with value: 0.7157946975915584.\u001b[0m\n"
     ]
    },
    {
     "name": "stdout",
     "output_type": "stream",
     "text": [
      "0 0.716437147940185\n",
      "Encoding\n",
      "Training\n",
      "Training until validation scores don't improve for 200 rounds\n",
      "[1000]\tvalid_0's l2: 0.521831\n",
      "[2000]\tvalid_0's l2: 0.51568\n",
      "[3000]\tvalid_0's l2: 0.513817\n",
      "[4000]\tvalid_0's l2: 0.513206\n",
      "[5000]\tvalid_0's l2: 0.512862\n",
      "Early stopping, best iteration is:\n",
      "[5620]\tvalid_0's l2: 0.512717\n"
     ]
    },
    {
     "name": "stderr",
     "output_type": "stream",
     "text": [
      "\u001b[32m[I 2021-08-31 07:04:53,434]\u001b[0m Trial 61 finished with value: 0.7160424782970033 and parameters: {'learning_rate': 0.014295186454657957, 'reg_lambda': 1.5214460325507537, 'reg_alpha': 0.262939360468726, 'subsamble': 0.8703794878641784, 'colsample_bytree': 0.12707434783280774, 'max_depth': 49, 'num_leaves': 25, 'min_child_samples': 70}. Best is trial 42 with value: 0.7157946975915584.\u001b[0m\n"
     ]
    },
    {
     "name": "stdout",
     "output_type": "stream",
     "text": [
      "0 0.7160424782970033\n",
      "Encoding\n",
      "Training\n",
      "Training until validation scores don't improve for 200 rounds\n",
      "[1000]\tvalid_0's l2: 0.516215\n",
      "[2000]\tvalid_0's l2: 0.513299\n",
      "[3000]\tvalid_0's l2: 0.512642\n",
      "[4000]\tvalid_0's l2: 0.512472\n",
      "Early stopping, best iteration is:\n",
      "[3983]\tvalid_0's l2: 0.512461\n"
     ]
    },
    {
     "name": "stderr",
     "output_type": "stream",
     "text": [
      "\u001b[32m[I 2021-08-31 07:06:08,925]\u001b[0m Trial 62 finished with value: 0.7158639123679369 and parameters: {'learning_rate': 0.020117559066865007, 'reg_lambda': 3.375451249029576, 'reg_alpha': 0.40387682213645804, 'subsamble': 0.9065536461926411, 'colsample_bytree': 0.1021278601660311, 'max_depth': 41, 'num_leaves': 25, 'min_child_samples': 68}. Best is trial 42 with value: 0.7157946975915584.\u001b[0m\n"
     ]
    },
    {
     "name": "stdout",
     "output_type": "stream",
     "text": [
      "0 0.7158639123679369\n",
      "Encoding\n",
      "Training\n",
      "Training until validation scores don't improve for 200 rounds\n",
      "[1000]\tvalid_0's l2: 0.514218\n",
      "[2000]\tvalid_0's l2: 0.513195\n",
      "Early stopping, best iteration is:\n",
      "[2006]\tvalid_0's l2: 0.513188\n"
     ]
    },
    {
     "name": "stderr",
     "output_type": "stream",
     "text": [
      "\u001b[32m[I 2021-08-31 07:06:48,781]\u001b[0m Trial 63 finished with value: 0.7163711123120969 and parameters: {'learning_rate': 0.03722751993852197, 'reg_lambda': 3.0962300876321205, 'reg_alpha': 0.5473293703720982, 'subsamble': 0.13588780442169368, 'colsample_bytree': 0.1578302935883425, 'max_depth': 39, 'num_leaves': 29, 'min_child_samples': 84}. Best is trial 42 with value: 0.7157946975915584.\u001b[0m\n"
     ]
    },
    {
     "name": "stdout",
     "output_type": "stream",
     "text": [
      "0 0.7163711123120969\n",
      "Encoding\n",
      "Training\n",
      "Training until validation scores don't improve for 200 rounds\n",
      "[1000]\tvalid_0's l2: 0.517911\n",
      "[2000]\tvalid_0's l2: 0.515994\n",
      "[3000]\tvalid_0's l2: 0.515183\n",
      "[4000]\tvalid_0's l2: 0.514998\n",
      "Early stopping, best iteration is:\n",
      "[4233]\tvalid_0's l2: 0.514955\n"
     ]
    },
    {
     "name": "stderr",
     "output_type": "stream",
     "text": [
      "\u001b[32m[I 2021-08-31 07:07:51,454]\u001b[0m Trial 64 finished with value: 0.7176036220869779 and parameters: {'learning_rate': 0.03071559932403523, 'reg_lambda': 84.9874041689251, 'reg_alpha': 0.17436930208067142, 'subsamble': 0.9995849843607099, 'colsample_bytree': 0.950180193154315, 'max_depth': 40, 'num_leaves': 12, 'min_child_samples': 64}. Best is trial 42 with value: 0.7157946975915584.\u001b[0m\n"
     ]
    },
    {
     "name": "stdout",
     "output_type": "stream",
     "text": [
      "0 0.7176036220869779\n",
      "Encoding\n",
      "Training\n",
      "Training until validation scores don't improve for 200 rounds\n",
      "[1000]\tvalid_0's l2: 0.518083\n",
      "[2000]\tvalid_0's l2: 0.515111\n",
      "[3000]\tvalid_0's l2: 0.514193\n",
      "[4000]\tvalid_0's l2: 0.513652\n",
      "[5000]\tvalid_0's l2: 0.51329\n",
      "[6000]\tvalid_0's l2: 0.513129\n",
      "Early stopping, best iteration is:\n",
      "[6326]\tvalid_0's l2: 0.513114\n"
     ]
    },
    {
     "name": "stderr",
     "output_type": "stream",
     "text": [
      "\u001b[32m[I 2021-08-31 07:09:40,247]\u001b[0m Trial 65 finished with value: 0.7163198068488658 and parameters: {'learning_rate': 0.018291708576573536, 'reg_lambda': 0.22152384211083984, 'reg_alpha': 0.021980503664321863, 'subsamble': 0.9251477060597671, 'colsample_bytree': 0.195796247446183, 'max_depth': 63, 'num_leaves': 17, 'min_child_samples': 57}. Best is trial 42 with value: 0.7157946975915584.\u001b[0m\n"
     ]
    },
    {
     "name": "stdout",
     "output_type": "stream",
     "text": [
      "0 0.7163198068488658\n",
      "Encoding\n",
      "Training\n",
      "Training until validation scores don't improve for 200 rounds\n",
      "[1000]\tvalid_0's l2: 0.526821\n",
      "[2000]\tvalid_0's l2: 0.518919\n",
      "[3000]\tvalid_0's l2: 0.515655\n",
      "[4000]\tvalid_0's l2: 0.514272\n",
      "[5000]\tvalid_0's l2: 0.513596\n",
      "[6000]\tvalid_0's l2: 0.513212\n",
      "[7000]\tvalid_0's l2: 0.513019\n",
      "Did not meet early stopping. Best iteration is:\n",
      "[6981]\tvalid_0's l2: 0.513016\n"
     ]
    },
    {
     "name": "stderr",
     "output_type": "stream",
     "text": [
      "\u001b[32m[I 2021-08-31 07:11:45,162]\u001b[0m Trial 66 finished with value: 0.716251116492434 and parameters: {'learning_rate': 0.010066563167038786, 'reg_lambda': 5.480141423019631, 'reg_alpha': 0.06145507653901723, 'subsamble': 0.9528420350076926, 'colsample_bytree': 0.12916469282853912, 'max_depth': 31, 'num_leaves': 22, 'min_child_samples': 74}. Best is trial 42 with value: 0.7157946975915584.\u001b[0m\n"
     ]
    },
    {
     "name": "stdout",
     "output_type": "stream",
     "text": [
      "0 0.716251116492434\n",
      "Encoding\n",
      "Training\n",
      "Training until validation scores don't improve for 200 rounds\n",
      "[1000]\tvalid_0's l2: 0.519083\n",
      "[2000]\tvalid_0's l2: 0.514748\n",
      "[3000]\tvalid_0's l2: 0.513768\n",
      "[4000]\tvalid_0's l2: 0.513218\n",
      "[5000]\tvalid_0's l2: 0.512974\n",
      "Early stopping, best iteration is:\n",
      "[5106]\tvalid_0's l2: 0.512941\n"
     ]
    },
    {
     "name": "stderr",
     "output_type": "stream",
     "text": [
      "\u001b[32m[I 2021-08-31 07:13:37,533]\u001b[0m Trial 67 finished with value: 0.7161989381462802 and parameters: {'learning_rate': 0.011365807738803706, 'reg_lambda': 0.00017761545544904474, 'reg_alpha': 4.892217665496455, 'subsamble': 0.8998214853410077, 'colsample_bytree': 0.2339243123554237, 'max_depth': 44, 'num_leaves': 32, 'min_child_samples': 53}. Best is trial 42 with value: 0.7157946975915584.\u001b[0m\n"
     ]
    },
    {
     "name": "stdout",
     "output_type": "stream",
     "text": [
      "0 0.7161989381462802\n",
      "Encoding\n",
      "Training\n",
      "Training until validation scores don't improve for 200 rounds\n",
      "[1000]\tvalid_0's l2: 0.517591\n",
      "[2000]\tvalid_0's l2: 0.513819\n",
      "[3000]\tvalid_0's l2: 0.513018\n",
      "[4000]\tvalid_0's l2: 0.51271\n",
      "Early stopping, best iteration is:\n",
      "[4173]\tvalid_0's l2: 0.512654\n"
     ]
    },
    {
     "name": "stderr",
     "output_type": "stream",
     "text": [
      "\u001b[32m[I 2021-08-31 07:15:07,216]\u001b[0m Trial 68 finished with value: 0.7159982863418779 and parameters: {'learning_rate': 0.013508245106240133, 'reg_lambda': 0.07654137648779087, 'reg_alpha': 1.378614658395917, 'subsamble': 0.8537263548131938, 'colsample_bytree': 0.16736679759161566, 'max_depth': 34, 'num_leaves': 35, 'min_child_samples': 71}. Best is trial 42 with value: 0.7157946975915584.\u001b[0m\n"
     ]
    },
    {
     "name": "stdout",
     "output_type": "stream",
     "text": [
      "0 0.7159982863418779\n",
      "Encoding\n",
      "Training\n",
      "Training until validation scores don't improve for 200 rounds\n",
      "[1000]\tvalid_0's l2: 0.517023\n",
      "[2000]\tvalid_0's l2: 0.513911\n",
      "[3000]\tvalid_0's l2: 0.513117\n",
      "[4000]\tvalid_0's l2: 0.51281\n",
      "Early stopping, best iteration is:\n",
      "[4520]\tvalid_0's l2: 0.512674\n"
     ]
    },
    {
     "name": "stderr",
     "output_type": "stream",
     "text": [
      "\u001b[32m[I 2021-08-31 07:16:27,307]\u001b[0m Trial 69 finished with value: 0.7160125189081723 and parameters: {'learning_rate': 0.020675318445269604, 'reg_lambda': 2.196589113337035e-05, 'reg_alpha': 0.005928761944639666, 'subsamble': 0.4355468521605799, 'colsample_bytree': 0.10769946461195203, 'max_depth': 58, 'num_leaves': 20, 'min_child_samples': 66}. Best is trial 42 with value: 0.7157946975915584.\u001b[0m\n"
     ]
    },
    {
     "name": "stdout",
     "output_type": "stream",
     "text": [
      "0 0.7160125189081723\n",
      "Encoding\n",
      "Training\n",
      "Training until validation scores don't improve for 200 rounds\n",
      "[1000]\tvalid_0's l2: 0.515022\n",
      "[2000]\tvalid_0's l2: 0.513254\n",
      "Early stopping, best iteration is:\n",
      "[2722]\tvalid_0's l2: 0.513018\n"
     ]
    },
    {
     "name": "stderr",
     "output_type": "stream",
     "text": [
      "\u001b[32m[I 2021-08-31 07:17:31,771]\u001b[0m Trial 70 finished with value: 0.7162530767552947 and parameters: {'learning_rate': 0.026976508391988584, 'reg_lambda': 0.05039219874050437, 'reg_alpha': 31.882335702954137, 'subsamble': 0.9425753679426769, 'colsample_bytree': 0.2596008244535808, 'max_depth': 56, 'num_leaves': 26, 'min_child_samples': 59}. Best is trial 42 with value: 0.7157946975915584.\u001b[0m\n"
     ]
    },
    {
     "name": "stdout",
     "output_type": "stream",
     "text": [
      "0 0.7162530767552947\n",
      "Encoding\n",
      "Training\n",
      "Training until validation scores don't improve for 200 rounds\n",
      "[1000]\tvalid_0's l2: 0.518168\n",
      "[2000]\tvalid_0's l2: 0.51402\n",
      "[3000]\tvalid_0's l2: 0.512984\n",
      "[4000]\tvalid_0's l2: 0.512572\n",
      "[5000]\tvalid_0's l2: 0.512356\n",
      "Early stopping, best iteration is:\n",
      "[5683]\tvalid_0's l2: 0.512268\n"
     ]
    },
    {
     "name": "stderr",
     "output_type": "stream",
     "text": [
      "\u001b[32m[I 2021-08-31 07:19:17,069]\u001b[0m Trial 71 finished with value: 0.7157287562736403 and parameters: {'learning_rate': 0.015863821736850407, 'reg_lambda': 1.199264465828154, 'reg_alpha': 0.3328589119606132, 'subsamble': 0.8218805775811349, 'colsample_bytree': 0.10273746803376707, 'max_depth': 48, 'num_leaves': 25, 'min_child_samples': 68}. Best is trial 71 with value: 0.7157287562736403.\u001b[0m\n"
     ]
    },
    {
     "name": "stdout",
     "output_type": "stream",
     "text": [
      "0 0.7157287562736403\n",
      "Encoding\n",
      "Training\n",
      "Training until validation scores don't improve for 200 rounds\n",
      "[1000]\tvalid_0's l2: 0.521028\n",
      "[2000]\tvalid_0's l2: 0.515426\n",
      "[3000]\tvalid_0's l2: 0.513799\n",
      "[4000]\tvalid_0's l2: 0.513357\n",
      "[5000]\tvalid_0's l2: 0.513111\n",
      "Early stopping, best iteration is:\n",
      "[5413]\tvalid_0's l2: 0.513028\n"
     ]
    },
    {
     "name": "stderr",
     "output_type": "stream",
     "text": [
      "\u001b[32m[I 2021-08-31 07:20:56,973]\u001b[0m Trial 72 finished with value: 0.7162597164387251 and parameters: {'learning_rate': 0.015805292426245735, 'reg_lambda': 1.3100757422699802, 'reg_alpha': 1.6423512137902933e-07, 'subsamble': 0.8996588761219322, 'colsample_bytree': 0.1308915249393839, 'max_depth': 47, 'num_leaves': 23, 'min_child_samples': 62}. Best is trial 71 with value: 0.7157287562736403.\u001b[0m\n"
     ]
    },
    {
     "name": "stdout",
     "output_type": "stream",
     "text": [
      "0 0.7162597164387251\n",
      "Encoding\n",
      "Training\n",
      "Training until validation scores don't improve for 200 rounds\n",
      "[1000]\tvalid_0's l2: 0.521941\n",
      "[2000]\tvalid_0's l2: 0.51613\n",
      "[3000]\tvalid_0's l2: 0.514583\n",
      "[4000]\tvalid_0's l2: 0.513858\n",
      "[5000]\tvalid_0's l2: 0.513492\n",
      "[6000]\tvalid_0's l2: 0.513287\n",
      "Early stopping, best iteration is:\n",
      "[6389]\tvalid_0's l2: 0.513216\n"
     ]
    },
    {
     "name": "stderr",
     "output_type": "stream",
     "text": [
      "\u001b[32m[I 2021-08-31 07:23:07,634]\u001b[0m Trial 73 finished with value: 0.716390690458164 and parameters: {'learning_rate': 0.009012045792402326, 'reg_lambda': 8.450175478435405, 'reg_alpha': 0.12758237819387766, 'subsamble': 0.8091207450405264, 'colsample_bytree': 0.19660709982605673, 'max_depth': 42, 'num_leaves': 28, 'min_child_samples': 79}. Best is trial 71 with value: 0.7157287562736403.\u001b[0m\n"
     ]
    },
    {
     "name": "stdout",
     "output_type": "stream",
     "text": [
      "0 0.716390690458164\n",
      "Encoding\n",
      "Training\n",
      "Training until validation scores don't improve for 200 rounds\n",
      "[1000]\tvalid_0's l2: 0.516894\n",
      "[2000]\tvalid_0's l2: 0.513497\n",
      "[3000]\tvalid_0's l2: 0.512707\n",
      "[4000]\tvalid_0's l2: 0.512331\n",
      "Early stopping, best iteration is:\n",
      "[4721]\tvalid_0's l2: 0.51223\n"
     ]
    },
    {
     "name": "stderr",
     "output_type": "stream",
     "text": [
      "\u001b[32m[I 2021-08-31 07:24:37,294]\u001b[0m Trial 74 finished with value: 0.7157022024939034 and parameters: {'learning_rate': 0.017617905594164103, 'reg_lambda': 0.2971710372778072, 'reg_alpha': 0.4754381939584199, 'subsamble': 0.9808300822318052, 'colsample_bytree': 0.10159075122483158, 'max_depth': 27, 'num_leaves': 27, 'min_child_samples': 76}. Best is trial 74 with value: 0.7157022024939034.\u001b[0m\n"
     ]
    },
    {
     "name": "stdout",
     "output_type": "stream",
     "text": [
      "0 0.7157022024939034\n",
      "Encoding\n",
      "Training\n",
      "Training until validation scores don't improve for 200 rounds\n",
      "[1000]\tvalid_0's l2: 0.521691\n",
      "[2000]\tvalid_0's l2: 0.515403\n",
      "[3000]\tvalid_0's l2: 0.513735\n",
      "[4000]\tvalid_0's l2: 0.51324\n",
      "[5000]\tvalid_0's l2: 0.51304\n",
      "Early stopping, best iteration is:\n",
      "[5450]\tvalid_0's l2: 0.512968\n"
     ]
    },
    {
     "name": "stderr",
     "output_type": "stream",
     "text": [
      "\u001b[32m[I 2021-08-31 07:26:27,892]\u001b[0m Trial 75 finished with value: 0.7162175630984375 and parameters: {'learning_rate': 0.0126242803995614, 'reg_lambda': 0.42810678155744747, 'reg_alpha': 0.04921513798192993, 'subsamble': 0.9897891191172241, 'colsample_bytree': 0.15857481675724472, 'max_depth': 54, 'num_leaves': 30, 'min_child_samples': 75}. Best is trial 74 with value: 0.7157022024939034.\u001b[0m\n"
     ]
    },
    {
     "name": "stdout",
     "output_type": "stream",
     "text": [
      "0 0.7162175630984375\n",
      "Encoding\n",
      "Training\n",
      "Training until validation scores don't improve for 200 rounds\n",
      "[1000]\tvalid_0's l2: 0.521115\n",
      "[2000]\tvalid_0's l2: 0.515262\n",
      "[3000]\tvalid_0's l2: 0.513507\n",
      "[4000]\tvalid_0's l2: 0.512998\n",
      "[5000]\tvalid_0's l2: 0.512767\n",
      "[6000]\tvalid_0's l2: 0.512699\n",
      "Early stopping, best iteration is:\n",
      "[6726]\tvalid_0's l2: 0.512668\n"
     ]
    },
    {
     "name": "stderr",
     "output_type": "stream",
     "text": [
      "\u001b[32m[I 2021-08-31 07:28:33,133]\u001b[0m Trial 76 finished with value: 0.7160084175392442 and parameters: {'learning_rate': 0.014777251500234876, 'reg_lambda': 0.0007995941377340099, 'reg_alpha': 0.7691048533431178, 'subsamble': 0.604802621113658, 'colsample_bytree': 0.12370788079773519, 'max_depth': 15, 'num_leaves': 27, 'min_child_samples': 82}. Best is trial 74 with value: 0.7157022024939034.\u001b[0m\n"
     ]
    },
    {
     "name": "stdout",
     "output_type": "stream",
     "text": [
      "0 0.7160084175392442\n",
      "Encoding\n",
      "Training\n",
      "Training until validation scores don't improve for 200 rounds\n",
      "[1000]\tvalid_0's l2: 0.524583\n",
      "[2000]\tvalid_0's l2: 0.518282\n",
      "[3000]\tvalid_0's l2: 0.515901\n",
      "[4000]\tvalid_0's l2: 0.514828\n",
      "[5000]\tvalid_0's l2: 0.514269\n",
      "[6000]\tvalid_0's l2: 0.513873\n",
      "[7000]\tvalid_0's l2: 0.513699\n",
      "Did not meet early stopping. Best iteration is:\n",
      "[7000]\tvalid_0's l2: 0.513699\n"
     ]
    },
    {
     "name": "stderr",
     "output_type": "stream",
     "text": [
      "\u001b[32m[I 2021-08-31 07:31:18,633]\u001b[0m Trial 77 finished with value: 0.7167281090327954 and parameters: {'learning_rate': 0.01006444511179265, 'reg_lambda': 45.55762062141898, 'reg_alpha': 97.5477992376041, 'subsamble': 0.917849199660713, 'colsample_bytree': 0.17318744286616233, 'max_depth': 20, 'num_leaves': 37, 'min_child_samples': 57}. Best is trial 74 with value: 0.7157022024939034.\u001b[0m\n"
     ]
    },
    {
     "name": "stdout",
     "output_type": "stream",
     "text": [
      "0 0.7167281090327954\n",
      "Encoding\n",
      "Training\n",
      "Training until validation scores don't improve for 200 rounds\n",
      "Early stopping, best iteration is:\n",
      "[551]\tvalid_0's l2: 0.514476\n"
     ]
    },
    {
     "name": "stderr",
     "output_type": "stream",
     "text": [
      "\u001b[32m[I 2021-08-31 07:31:34,592]\u001b[0m Trial 78 finished with value: 0.7172700638657972 and parameters: {'learning_rate': 0.07918097488252086, 'reg_lambda': 0.011942195532112971, 'reg_alpha': 0.39157003229699416, 'subsamble': 0.8763796272768029, 'colsample_bytree': 0.21339300338413103, 'max_depth': 26, 'num_leaves': 34, 'min_child_samples': 65}. Best is trial 74 with value: 0.7157022024939034.\u001b[0m\n"
     ]
    },
    {
     "name": "stdout",
     "output_type": "stream",
     "text": [
      "0 0.7172700638657972\n",
      "Encoding\n",
      "Training\n",
      "Training until validation scores don't improve for 200 rounds\n",
      "[1000]\tvalid_0's l2: 0.526284\n",
      "[2000]\tvalid_0's l2: 0.51793\n",
      "[3000]\tvalid_0's l2: 0.514855\n",
      "[4000]\tvalid_0's l2: 0.513668\n",
      "[5000]\tvalid_0's l2: 0.513152\n",
      "[6000]\tvalid_0's l2: 0.512789\n",
      "[7000]\tvalid_0's l2: 0.512608\n",
      "Did not meet early stopping. Best iteration is:\n",
      "[6992]\tvalid_0's l2: 0.512604\n"
     ]
    },
    {
     "name": "stderr",
     "output_type": "stream",
     "text": [
      "\u001b[32m[I 2021-08-31 07:33:59,530]\u001b[0m Trial 79 finished with value: 0.7159636247888133 and parameters: {'learning_rate': 0.008632440075821078, 'reg_lambda': 3.835935532509616, 'reg_alpha': 2.2062146116788477, 'subsamble': 0.9786249905206743, 'colsample_bytree': 0.14889992088864956, 'max_depth': 26, 'num_leaves': 31, 'min_child_samples': 90}. Best is trial 74 with value: 0.7157022024939034.\u001b[0m\n"
     ]
    },
    {
     "name": "stdout",
     "output_type": "stream",
     "text": [
      "0 0.7159636247888133\n",
      "Encoding\n",
      "Training\n",
      "Training until validation scores don't improve for 200 rounds\n",
      "[1000]\tvalid_0's l2: 0.524441\n",
      "[2000]\tvalid_0's l2: 0.517206\n",
      "[3000]\tvalid_0's l2: 0.514646\n",
      "[4000]\tvalid_0's l2: 0.513666\n",
      "[5000]\tvalid_0's l2: 0.513218\n",
      "[6000]\tvalid_0's l2: 0.512943\n",
      "[7000]\tvalid_0's l2: 0.512823\n",
      "Did not meet early stopping. Best iteration is:\n",
      "[6995]\tvalid_0's l2: 0.512822\n"
     ]
    },
    {
     "name": "stderr",
     "output_type": "stream",
     "text": [
      "\u001b[32m[I 2021-08-31 07:36:06,239]\u001b[0m Trial 80 finished with value: 0.7161157876871681 and parameters: {'learning_rate': 0.01159785293556516, 'reg_lambda': 13.729155139585478, 'reg_alpha': 0.001198344186160251, 'subsamble': 0.8428523314073049, 'colsample_bytree': 0.1212245002567628, 'max_depth': 66, 'num_leaves': 25, 'min_child_samples': 49}. Best is trial 74 with value: 0.7157022024939034.\u001b[0m\n"
     ]
    },
    {
     "name": "stdout",
     "output_type": "stream",
     "text": [
      "0 0.7161157876871681\n",
      "Encoding\n",
      "Training\n",
      "Training until validation scores don't improve for 200 rounds\n",
      "[1000]\tvalid_0's l2: 0.521938\n",
      "[2000]\tvalid_0's l2: 0.51599\n",
      "[3000]\tvalid_0's l2: 0.513921\n",
      "[4000]\tvalid_0's l2: 0.513295\n",
      "[5000]\tvalid_0's l2: 0.51303\n",
      "[6000]\tvalid_0's l2: 0.512923\n",
      "Early stopping, best iteration is:\n",
      "[6592]\tvalid_0's l2: 0.512877\n"
     ]
    },
    {
     "name": "stderr",
     "output_type": "stream",
     "text": [
      "\u001b[32m[I 2021-08-31 07:37:58,962]\u001b[0m Trial 81 finished with value: 0.7161544358996734 and parameters: {'learning_rate': 0.018287175821477035, 'reg_lambda': 0.6514117948048139, 'reg_alpha': 0.011637677779197855, 'subsamble': 0.951989339440402, 'colsample_bytree': 0.10100382771684753, 'max_depth': 52, 'num_leaves': 20, 'min_child_samples': 68}. Best is trial 74 with value: 0.7157022024939034.\u001b[0m\n"
     ]
    },
    {
     "name": "stdout",
     "output_type": "stream",
     "text": [
      "0 0.7161544358996734\n",
      "Encoding\n",
      "Training\n",
      "Training until validation scores don't improve for 200 rounds\n",
      "[1000]\tvalid_0's l2: 0.520676\n",
      "[2000]\tvalid_0's l2: 0.515314\n",
      "[3000]\tvalid_0's l2: 0.513601\n",
      "[4000]\tvalid_0's l2: 0.512984\n",
      "[5000]\tvalid_0's l2: 0.512664\n",
      "Early stopping, best iteration is:\n",
      "[5457]\tvalid_0's l2: 0.512562\n"
     ]
    },
    {
     "name": "stderr",
     "output_type": "stream",
     "text": [
      "\u001b[32m[I 2021-08-31 07:39:34,068]\u001b[0m Trial 82 finished with value: 0.7159346219851689 and parameters: {'learning_rate': 0.021268247669621525, 'reg_lambda': 0.23226266543822485, 'reg_alpha': 0.1774302973136155, 'subsamble': 0.979454192273935, 'colsample_bytree': 0.10081805235441568, 'max_depth': 51, 'num_leaves': 18, 'min_child_samples': 71}. Best is trial 74 with value: 0.7157022024939034.\u001b[0m\n"
     ]
    },
    {
     "name": "stdout",
     "output_type": "stream",
     "text": [
      "0 0.7159346219851689\n",
      "Encoding\n",
      "Training\n",
      "Training until validation scores don't improve for 200 rounds\n",
      "[1000]\tvalid_0's l2: 0.518984\n",
      "[2000]\tvalid_0's l2: 0.514616\n",
      "[3000]\tvalid_0's l2: 0.513483\n",
      "[4000]\tvalid_0's l2: 0.513026\n",
      "[5000]\tvalid_0's l2: 0.51284\n",
      "Early stopping, best iteration is:\n",
      "[4952]\tvalid_0's l2: 0.512824\n"
     ]
    },
    {
     "name": "stderr",
     "output_type": "stream",
     "text": [
      "\u001b[32m[I 2021-08-31 07:41:12,126]\u001b[0m Trial 83 finished with value: 0.7161176182696254 and parameters: {'learning_rate': 0.013671287927450643, 'reg_lambda': 9.635951494933599e-06, 'reg_alpha': 0.0028926052278057377, 'subsamble': 0.9232535760514425, 'colsample_bytree': 0.14763300610225347, 'max_depth': 61, 'num_leaves': 24, 'min_child_samples': 68}. Best is trial 74 with value: 0.7157022024939034.\u001b[0m\n"
     ]
    },
    {
     "name": "stdout",
     "output_type": "stream",
     "text": [
      "0 0.7161176182696254\n",
      "Encoding\n",
      "Training\n",
      "Training until validation scores don't improve for 200 rounds\n",
      "[1000]\tvalid_0's l2: 0.516386\n",
      "[2000]\tvalid_0's l2: 0.513777\n",
      "[3000]\tvalid_0's l2: 0.513181\n",
      "[4000]\tvalid_0's l2: 0.512975\n",
      "Early stopping, best iteration is:\n",
      "[4122]\tvalid_0's l2: 0.512946\n"
     ]
    },
    {
     "name": "stderr",
     "output_type": "stream",
     "text": [
      "\u001b[32m[I 2021-08-31 07:42:35,010]\u001b[0m Trial 84 finished with value: 0.716202401101692 and parameters: {'learning_rate': 0.017878800683432377, 'reg_lambda': 2.4239258177082577, 'reg_alpha': 0.0372215188166527, 'subsamble': 0.8870699172264255, 'colsample_bytree': 0.16889790661657436, 'max_depth': 54, 'num_leaves': 27, 'min_child_samples': 59}. Best is trial 74 with value: 0.7157022024939034.\u001b[0m\n"
     ]
    },
    {
     "name": "stdout",
     "output_type": "stream",
     "text": [
      "0 0.716202401101692\n",
      "Encoding\n",
      "Training\n",
      "Training until validation scores don't improve for 200 rounds\n",
      "Early stopping, best iteration is:\n",
      "[353]\tvalid_0's l2: 0.514092\n"
     ]
    },
    {
     "name": "stderr",
     "output_type": "stream",
     "text": [
      "\u001b[32m[I 2021-08-31 07:42:52,036]\u001b[0m Trial 85 finished with value: 0.7170020187537797 and parameters: {'learning_rate': 0.10793761210373705, 'reg_lambda': 0.9917560728373139, 'reg_alpha': 4.792002547935293, 'subsamble': 0.9504428491303502, 'colsample_bytree': 0.19588836283619873, 'max_depth': 28, 'num_leaves': 44, 'min_child_samples': 76}. Best is trial 74 with value: 0.7157022024939034.\u001b[0m\n"
     ]
    },
    {
     "name": "stdout",
     "output_type": "stream",
     "text": [
      "0 0.7170020187537797\n",
      "Encoding\n",
      "Training\n",
      "Training until validation scores don't improve for 200 rounds\n",
      "[1000]\tvalid_0's l2: 0.513987\n",
      "[2000]\tvalid_0's l2: 0.513012\n",
      "Early stopping, best iteration is:\n",
      "[2447]\tvalid_0's l2: 0.512872\n"
     ]
    },
    {
     "name": "stderr",
     "output_type": "stream",
     "text": [
      "\u001b[32m[I 2021-08-31 07:43:49,603]\u001b[0m Trial 86 finished with value: 0.7161509885646147 and parameters: {'learning_rate': 0.024893396460085964, 'reg_lambda': 0.3690923898059051, 'reg_alpha': 0.02217026426567075, 'subsamble': 0.9115421610540306, 'colsample_bytree': 0.14054806692468896, 'max_depth': 47, 'num_leaves': 39, 'min_child_samples': 63}. Best is trial 74 with value: 0.7157022024939034.\u001b[0m\n"
     ]
    },
    {
     "name": "stdout",
     "output_type": "stream",
     "text": [
      "0 0.7161509885646147\n",
      "Encoding\n",
      "Training\n",
      "Training until validation scores don't improve for 200 rounds\n",
      "[1000]\tvalid_0's l2: 0.518573\n",
      "[2000]\tvalid_0's l2: 0.513876\n",
      "[3000]\tvalid_0's l2: 0.512865\n",
      "Early stopping, best iteration is:\n",
      "[3292]\tvalid_0's l2: 0.512817\n"
     ]
    },
    {
     "name": "stderr",
     "output_type": "stream",
     "text": [
      "\u001b[32m[I 2021-08-31 07:45:25,468]\u001b[0m Trial 87 finished with value: 0.7161183391936076 and parameters: {'learning_rate': 0.015660595480418902, 'reg_lambda': 2.150926194588499, 'reg_alpha': 12.30921539047799, 'subsamble': 0.3608312866338302, 'colsample_bytree': 0.11913617686029983, 'max_depth': 59, 'num_leaves': 68, 'min_child_samples': 82}. Best is trial 74 with value: 0.7157022024939034.\u001b[0m\n"
     ]
    },
    {
     "name": "stdout",
     "output_type": "stream",
     "text": [
      "0 0.7161183391936076\n",
      "Encoding\n",
      "Training\n",
      "Training until validation scores don't improve for 200 rounds\n",
      "[1000]\tvalid_0's l2: 0.517459\n",
      "[2000]\tvalid_0's l2: 0.515489\n",
      "[3000]\tvalid_0's l2: 0.514934\n",
      "Early stopping, best iteration is:\n",
      "[3662]\tvalid_0's l2: 0.514784\n"
     ]
    },
    {
     "name": "stderr",
     "output_type": "stream",
     "text": [
      "\u001b[32m[I 2021-08-31 07:46:35,821]\u001b[0m Trial 88 finished with value: 0.7174846883362923 and parameters: {'learning_rate': 0.02232744496128399, 'reg_lambda': 4.477987957735162, 'reg_alpha': 0.3890787817876602, 'subsamble': 0.9708457077657141, 'colsample_bytree': 0.5386173453665383, 'max_depth': 21, 'num_leaves': 21, 'min_child_samples': 72}. Best is trial 74 with value: 0.7157022024939034.\u001b[0m\n"
     ]
    },
    {
     "name": "stdout",
     "output_type": "stream",
     "text": [
      "0 0.7174846883362923\n",
      "Encoding\n",
      "Training\n",
      "Training until validation scores don't improve for 200 rounds\n",
      "[1000]\tvalid_0's l2: 0.525416\n",
      "[2000]\tvalid_0's l2: 0.518526\n",
      "[3000]\tvalid_0's l2: 0.516062\n",
      "[4000]\tvalid_0's l2: 0.514991\n",
      "[5000]\tvalid_0's l2: 0.514335\n",
      "[6000]\tvalid_0's l2: 0.513902\n",
      "[7000]\tvalid_0's l2: 0.513631\n",
      "Did not meet early stopping. Best iteration is:\n",
      "[7000]\tvalid_0's l2: 0.513631\n"
     ]
    },
    {
     "name": "stderr",
     "output_type": "stream",
     "text": [
      "\u001b[32m[I 2021-08-31 07:48:45,731]\u001b[0m Trial 89 finished with value: 0.7166805258927561 and parameters: {'learning_rate': 0.009758652396256543, 'reg_lambda': 22.147133096183303, 'reg_alpha': 0.10659796676466253, 'subsamble': 0.5581666453585516, 'colsample_bytree': 0.22102420304908849, 'max_depth': 37, 'num_leaves': 16, 'min_child_samples': 68}. Best is trial 74 with value: 0.7157022024939034.\u001b[0m\n"
     ]
    },
    {
     "name": "stdout",
     "output_type": "stream",
     "text": [
      "0 0.7166805258927561\n",
      "Encoding\n",
      "Training\n",
      "Training until validation scores don't improve for 200 rounds\n",
      "[1000]\tvalid_0's l2: 0.516067\n",
      "[2000]\tvalid_0's l2: 0.513545\n",
      "[3000]\tvalid_0's l2: 0.513157\n",
      "Early stopping, best iteration is:\n",
      "[3152]\tvalid_0's l2: 0.513133\n"
     ]
    },
    {
     "name": "stderr",
     "output_type": "stream",
     "text": [
      "\u001b[32m[I 2021-08-31 07:49:56,728]\u001b[0m Trial 90 finished with value: 0.7163333138715218 and parameters: {'learning_rate': 0.01966268544982904, 'reg_lambda': 0.036099456931724554, 'reg_alpha': 0.9542180545188136, 'subsamble': 0.8211162291238973, 'colsample_bytree': 0.18180750702204276, 'max_depth': 70, 'num_leaves': 37, 'min_child_samples': 54}. Best is trial 74 with value: 0.7157022024939034.\u001b[0m\n"
     ]
    },
    {
     "name": "stdout",
     "output_type": "stream",
     "text": [
      "0 0.7163333138715218\n",
      "Encoding\n",
      "Training\n",
      "Training until validation scores don't improve for 200 rounds\n",
      "[1000]\tvalid_0's l2: 0.521995\n",
      "[2000]\tvalid_0's l2: 0.515929\n",
      "[3000]\tvalid_0's l2: 0.513884\n",
      "[4000]\tvalid_0's l2: 0.513205\n",
      "[5000]\tvalid_0's l2: 0.512928\n",
      "Early stopping, best iteration is:\n",
      "[5370]\tvalid_0's l2: 0.512819\n"
     ]
    },
    {
     "name": "stderr",
     "output_type": "stream",
     "text": [
      "\u001b[32m[I 2021-08-31 07:51:36,431]\u001b[0m Trial 91 finished with value: 0.7161139642191894 and parameters: {'learning_rate': 0.0169233210973902, 'reg_lambda': 0.13550456400927302, 'reg_alpha': 0.27000952335425515, 'subsamble': 0.7786527106682261, 'colsample_bytree': 0.10025997388782636, 'max_depth': 49, 'num_leaves': 24, 'min_child_samples': 73}. Best is trial 74 with value: 0.7157022024939034.\u001b[0m\n"
     ]
    },
    {
     "name": "stdout",
     "output_type": "stream",
     "text": [
      "0 0.7161139642191894\n",
      "Encoding\n",
      "Training\n",
      "Training until validation scores don't improve for 200 rounds\n",
      "[1000]\tvalid_0's l2: 0.516003\n",
      "[2000]\tvalid_0's l2: 0.513527\n",
      "[3000]\tvalid_0's l2: 0.512953\n",
      "Early stopping, best iteration is:\n",
      "[3279]\tvalid_0's l2: 0.512907\n"
     ]
    },
    {
     "name": "stderr",
     "output_type": "stream",
     "text": [
      "\u001b[32m[I 2021-08-31 07:52:38,206]\u001b[0m Trial 92 finished with value: 0.7161754848477665 and parameters: {'learning_rate': 0.027964670379566046, 'reg_lambda': 0.7352649834371162, 'reg_alpha': 0.4419142539379578, 'subsamble': 0.8703047324620453, 'colsample_bytree': 0.12122388288942276, 'max_depth': 48, 'num_leaves': 22, 'min_child_samples': 62}. Best is trial 74 with value: 0.7157022024939034.\u001b[0m\n"
     ]
    },
    {
     "name": "stdout",
     "output_type": "stream",
     "text": [
      "0 0.7161754848477665\n",
      "Encoding\n",
      "Training\n",
      "Training until validation scores don't improve for 200 rounds\n",
      "[1000]\tvalid_0's l2: 0.515938\n",
      "[2000]\tvalid_0's l2: 0.513666\n",
      "[3000]\tvalid_0's l2: 0.513026\n",
      "[4000]\tvalid_0's l2: 0.512736\n",
      "Early stopping, best iteration is:\n",
      "[4031]\tvalid_0's l2: 0.512726\n"
     ]
    },
    {
     "name": "stderr",
     "output_type": "stream",
     "text": [
      "\u001b[32m[I 2021-08-31 07:53:57,479]\u001b[0m Trial 93 finished with value: 0.7160485842781156 and parameters: {'learning_rate': 0.019739134934795306, 'reg_lambda': 1.656624727372653, 'reg_alpha': 0.07134494311994216, 'subsamble': 0.9533452022703988, 'colsample_bytree': 0.1447582484320539, 'max_depth': 51, 'num_leaves': 26, 'min_child_samples': 70}. Best is trial 74 with value: 0.7157022024939034.\u001b[0m\n"
     ]
    },
    {
     "name": "stdout",
     "output_type": "stream",
     "text": [
      "0 0.7160485842781156\n",
      "Encoding\n",
      "Training\n",
      "Training until validation scores don't improve for 200 rounds\n",
      "[1000]\tvalid_0's l2: 0.515263\n",
      "[2000]\tvalid_0's l2: 0.513199\n",
      "[3000]\tvalid_0's l2: 0.512775\n",
      "Early stopping, best iteration is:\n",
      "[2981]\tvalid_0's l2: 0.512767\n"
     ]
    },
    {
     "name": "stderr",
     "output_type": "stream",
     "text": [
      "\u001b[32m[I 2021-08-31 07:54:50,560]\u001b[0m Trial 94 finished with value: 0.716077265200938 and parameters: {'learning_rate': 0.03426522017970218, 'reg_lambda': 6.400516744735983e-05, 'reg_alpha': 1.798497886913637, 'subsamble': 0.8399943933551806, 'colsample_bytree': 0.11966303682802985, 'max_depth': 42, 'num_leaves': 19, 'min_child_samples': 65}. Best is trial 74 with value: 0.7157022024939034.\u001b[0m\n"
     ]
    },
    {
     "name": "stdout",
     "output_type": "stream",
     "text": [
      "0 0.716077265200938\n",
      "Encoding\n",
      "Training\n",
      "Training until validation scores don't improve for 200 rounds\n",
      "[1000]\tvalid_0's l2: 0.523376\n",
      "[2000]\tvalid_0's l2: 0.516396\n",
      "[3000]\tvalid_0's l2: 0.514392\n",
      "[4000]\tvalid_0's l2: 0.513669\n",
      "[5000]\tvalid_0's l2: 0.513296\n",
      "[6000]\tvalid_0's l2: 0.513063\n",
      "[7000]\tvalid_0's l2: 0.512852\n",
      "Did not meet early stopping. Best iteration is:\n",
      "[6999]\tvalid_0's l2: 0.512852\n"
     ]
    },
    {
     "name": "stderr",
     "output_type": "stream",
     "text": [
      "\u001b[32m[I 2021-08-31 07:57:12,659]\u001b[0m Trial 95 finished with value: 0.7161366787122215 and parameters: {'learning_rate': 0.008053059975608672, 'reg_lambda': 0.7084882585088736, 'reg_alpha': 0.008777261536664574, 'subsamble': 0.9802292492151549, 'colsample_bytree': 0.15557406659742556, 'max_depth': 57, 'num_leaves': 33, 'min_child_samples': 20}. Best is trial 74 with value: 0.7157022024939034.\u001b[0m\n"
     ]
    },
    {
     "name": "stdout",
     "output_type": "stream",
     "text": [
      "0 0.7161366787122215\n",
      "Encoding\n",
      "Training\n",
      "Training until validation scores don't improve for 200 rounds\n",
      "[1000]\tvalid_0's l2: 0.522499\n",
      "[2000]\tvalid_0's l2: 0.516017\n",
      "[3000]\tvalid_0's l2: 0.513731\n",
      "[4000]\tvalid_0's l2: 0.5131\n",
      "[5000]\tvalid_0's l2: 0.512855\n",
      "[6000]\tvalid_0's l2: 0.512711\n",
      "Early stopping, best iteration is:\n",
      "[6066]\tvalid_0's l2: 0.512705\n"
     ]
    },
    {
     "name": "stderr",
     "output_type": "stream",
     "text": [
      "\u001b[32m[I 2021-08-31 07:59:06,920]\u001b[0m Trial 96 finished with value: 0.7160338827705325 and parameters: {'learning_rate': 0.01550060074502967, 'reg_lambda': 7.888179999834657, 'reg_alpha': 0.20049508683247413, 'subsamble': 0.9389909416505483, 'colsample_bytree': 0.10014147144553842, 'max_depth': 74, 'num_leaves': 28, 'min_child_samples': 77}. Best is trial 74 with value: 0.7157022024939034.\u001b[0m\n"
     ]
    },
    {
     "name": "stdout",
     "output_type": "stream",
     "text": [
      "0 0.7160338827705325\n",
      "Encoding\n",
      "Training\n",
      "Training until validation scores don't improve for 200 rounds\n",
      "[1000]\tvalid_0's l2: 0.523059\n",
      "[2000]\tvalid_0's l2: 0.516502\n",
      "[3000]\tvalid_0's l2: 0.514589\n",
      "[4000]\tvalid_0's l2: 0.513917\n",
      "[5000]\tvalid_0's l2: 0.513497\n",
      "[6000]\tvalid_0's l2: 0.513273\n",
      "Early stopping, best iteration is:\n",
      "[6036]\tvalid_0's l2: 0.513263\n"
     ]
    },
    {
     "name": "stderr",
     "output_type": "stream",
     "text": [
      "\u001b[32m[I 2021-08-31 08:01:06,578]\u001b[0m Trial 97 finished with value: 0.7164240369772672 and parameters: {'learning_rate': 0.010663850484802532, 'reg_lambda': 0.00014392250257199018, 'reg_alpha': 0.00419899256677055, 'subsamble': 0.8961637599256563, 'colsample_bytree': 0.17969944710076852, 'max_depth': 77, 'num_leaves': 25, 'min_child_samples': 68}. Best is trial 74 with value: 0.7157022024939034.\u001b[0m\n"
     ]
    },
    {
     "name": "stdout",
     "output_type": "stream",
     "text": [
      "0 0.7164240369772672\n",
      "Encoding\n",
      "Training\n",
      "Training until validation scores don't improve for 200 rounds\n",
      "[1000]\tvalid_0's l2: 0.514443\n",
      "[2000]\tvalid_0's l2: 0.512834\n",
      "[3000]\tvalid_0's l2: 0.512524\n",
      "Early stopping, best iteration is:\n",
      "[3040]\tvalid_0's l2: 0.51251\n"
     ]
    },
    {
     "name": "stderr",
     "output_type": "stream",
     "text": [
      "\u001b[32m[I 2021-08-31 08:02:09,748]\u001b[0m Trial 98 finished with value: 0.715898293835209 and parameters: {'learning_rate': 0.02415153450969747, 'reg_lambda': 2.9051904393725803, 'reg_alpha': 3.1110322523775897, 'subsamble': 0.756664516131287, 'colsample_bytree': 0.13511493321954277, 'max_depth': 45, 'num_leaves': 30, 'min_child_samples': 59}. Best is trial 74 with value: 0.7157022024939034.\u001b[0m\n"
     ]
    },
    {
     "name": "stdout",
     "output_type": "stream",
     "text": [
      "0 0.715898293835209\n",
      "Encoding\n",
      "Training\n",
      "Training until validation scores don't improve for 200 rounds\n",
      "[1000]\tvalid_0's l2: 0.517925\n",
      "[2000]\tvalid_0's l2: 0.513953\n",
      "[3000]\tvalid_0's l2: 0.513117\n",
      "[4000]\tvalid_0's l2: 0.51281\n",
      "Early stopping, best iteration is:\n",
      "[4711]\tvalid_0's l2: 0.512679\n"
     ]
    },
    {
     "name": "stderr",
     "output_type": "stream",
     "text": [
      "\u001b[32m[I 2021-08-31 08:04:06,702]\u001b[0m Trial 99 finished with value: 0.7160161396703324 and parameters: {'learning_rate': 0.011911441300670662, 'reg_lambda': 0.20917686602976024, 'reg_alpha': 6.698260942483536, 'subsamble': 0.8561663772509371, 'colsample_bytree': 0.19778420913805123, 'max_depth': 55, 'num_leaves': 42, 'min_child_samples': 66}. Best is trial 74 with value: 0.7157022024939034.\u001b[0m\n"
     ]
    },
    {
     "name": "stdout",
     "output_type": "stream",
     "text": [
      "0 0.7160161396703324\n"
     ]
    },
    {
     "data": {
      "text/plain": [
       "{'learning_rate': 0.017617905594164103,\n",
       " 'reg_lambda': 0.2971710372778072,\n",
       " 'reg_alpha': 0.4754381939584199,\n",
       " 'subsamble': 0.9808300822318052,\n",
       " 'colsample_bytree': 0.10159075122483158,\n",
       " 'max_depth': 27,\n",
       " 'num_leaves': 27,\n",
       " 'min_child_samples': 76}"
      ]
     },
     "execution_count": 7,
     "metadata": {},
     "output_type": "execute_result"
    }
   ],
   "source": [
    "study = optuna.create_study(direction='minimize')\n",
    "study.optimize(run, n_trials=100)\n",
    "study.best_params"
   ]
  },
  {
   "cell_type": "code",
   "execution_count": null,
   "id": "e9a4870f",
   "metadata": {},
   "outputs": [],
   "source": []
  },
  {
   "cell_type": "code",
   "execution_count": 24,
   "id": "9a89a25f",
   "metadata": {},
   "outputs": [],
   "source": [
    "lgbm_parameters = {\n",
    "   'metric': 'rmse',\n",
    "   'learning_rate': 0.017617905594164103,\n",
    "    'n_estimators': 50000,\n",
    "     'reg_alpha': 0.4754381939584199,\n",
    "    'reg_lambda': 0.2971710372778072,\n",
    "    'colsample_bytree': 0.10159075122483158,\n",
    "     'subsample': 0.9808300822318052,\n",
    "    'max_depth': 27,\n",
    "    'num_leaves': 27,\n",
    "    'min_child_samples': 76,\n",
    "    'max_bin': 772,\n",
    "    'cat_l2': 17,\n",
    "    'cat_smoth':96,\n",
    "    'seed': 42\n",
    "}"
   ]
  },
  {
   "cell_type": "code",
   "execution_count": 18,
   "id": "eb1f0788",
   "metadata": {},
   "outputs": [
    {
     "name": "stdout",
     "output_type": "stream",
     "text": [
      "Encoding\n",
      "Training\n",
      "[LightGBM] [Warning] Unknown parameter: cat_smoth\n",
      "Training until validation scores don't improve for 500 rounds\n",
      "[1000]\tvalid_0's rmse: 0.718293\n",
      "[2000]\tvalid_0's rmse: 0.71575\n",
      "[3000]\tvalid_0's rmse: 0.715166\n",
      "[4000]\tvalid_0's rmse: 0.714951\n",
      "[5000]\tvalid_0's rmse: 0.714905\n",
      "Early stopping, best iteration is:\n",
      "[4799]\tvalid_0's rmse: 0.714891\n",
      "0 0.7148905224844296\n",
      "Encoding\n",
      "Training\n",
      "[LightGBM] [Warning] Unknown parameter: cat_smoth\n",
      "Training until validation scores don't improve for 500 rounds\n",
      "[1000]\tvalid_0's rmse: 0.726042\n",
      "[2000]\tvalid_0's rmse: 0.723235\n",
      "[3000]\tvalid_0's rmse: 0.722656\n",
      "[4000]\tvalid_0's rmse: 0.722418\n",
      "[5000]\tvalid_0's rmse: 0.722395\n",
      "Early stopping, best iteration is:\n",
      "[4759]\tvalid_0's rmse: 0.722377\n",
      "1 0.7223767670022336\n",
      "Encoding\n",
      "Training\n",
      "[LightGBM] [Warning] Unknown parameter: cat_smoth\n",
      "Training until validation scores don't improve for 500 rounds\n",
      "[1000]\tvalid_0's rmse: 0.721522\n",
      "[2000]\tvalid_0's rmse: 0.718926\n",
      "[3000]\tvalid_0's rmse: 0.718358\n",
      "[4000]\tvalid_0's rmse: 0.718139\n",
      "[5000]\tvalid_0's rmse: 0.718107\n",
      "Early stopping, best iteration is:\n",
      "[4710]\tvalid_0's rmse: 0.718101\n",
      "2 0.718100525872106\n",
      "Encoding\n",
      "Training\n",
      "[LightGBM] [Warning] Unknown parameter: cat_smoth\n",
      "Training until validation scores don't improve for 500 rounds\n",
      "[1000]\tvalid_0's rmse: 0.720948\n",
      "[2000]\tvalid_0's rmse: 0.718562\n",
      "[3000]\tvalid_0's rmse: 0.718063\n",
      "[4000]\tvalid_0's rmse: 0.71779\n",
      "Early stopping, best iteration is:\n",
      "[4394]\tvalid_0's rmse: 0.717728\n",
      "3 0.7177282598436673\n",
      "Encoding\n",
      "Training\n",
      "[LightGBM] [Warning] Unknown parameter: cat_smoth\n",
      "Training until validation scores don't improve for 500 rounds\n",
      "[1000]\tvalid_0's rmse: 0.716534\n",
      "[2000]\tvalid_0's rmse: 0.713842\n",
      "[3000]\tvalid_0's rmse: 0.713224\n",
      "[4000]\tvalid_0's rmse: 0.713025\n",
      "[5000]\tvalid_0's rmse: 0.713005\n",
      "Early stopping, best iteration is:\n",
      "[4698]\tvalid_0's rmse: 0.71297\n",
      "4 0.7129704088344364\n"
     ]
    }
   ],
   "source": [
    "useful_cols=[column for column in train.columns if column not in ('id', 'target', 'kfold')]\n",
    " # List of categorical columns\n",
    "object_cols = [col for col in useful_cols if 'cat' in col]\n",
    "numerical_cols = [col for col in useful_cols if 'cont' in col]\n",
    "test=test[useful_cols]\n",
    "\n",
    "final_test_predictions=[]\n",
    "final_valid_predictions={}\n",
    "\n",
    "last_scores=[]\n",
    "rmse_scores=[]\n",
    "for fold in range(5):\n",
    "    X_train = train[train.kfold!=fold].reset_index(drop=True)\n",
    "    X_valid= train[train.kfold==fold].reset_index(drop=True)\n",
    "    X_test=test.copy()\n",
    "    \n",
    "    valid_ids=X_valid.id.values.tolist()\n",
    "    \n",
    "    y_train=X_train.target\n",
    "    y_valid=X_valid.target\n",
    "    \n",
    "    X_train=X_train[useful_cols]\n",
    "    X_valid=X_valid[useful_cols]\n",
    "   \n",
    "   # ordinal-encode categorical columns\n",
    "    print('Encoding')\n",
    "    ohe = preprocessing.OneHotEncoder(sparse=False, handle_unknown='ignore')\n",
    "    #for object cols\n",
    "    X_train_ohe=ohe.fit_transform(X_train[object_cols])\n",
    "    X_valid_ohe=ohe.transform(X_valid[object_cols])\n",
    "    X_test_ohe = ohe.transform(X_test[object_cols])\n",
    "    \n",
    "    X_train_ohe=pd.DataFrame(X_train_ohe, columns=[f\"ohe_{i}\" for i in range(X_train_ohe.shape[1])])\n",
    "    X_valid_ohe=pd.DataFrame(X_valid_ohe, columns=[f\"ohe_{i}\" for i in range(X_valid_ohe.shape[1])])\n",
    "    X_test_ohe=pd.DataFrame(X_test_ohe, columns=[f\"ohe_{i}\" for i in range(X_test_ohe.shape[1])])\n",
    "    \n",
    "    X_train=pd.concat([X_train,X_train_ohe], axis=1)\n",
    "    X_valid=pd.concat([X_valid,X_valid_ohe], axis=1)\n",
    "    X_test=pd.concat([X_test,X_test_ohe], axis=1)\n",
    "    \n",
    "    # Remove categorical columns (will replace with one-hot encoding)\n",
    "    X_train = X_train.drop(object_cols, axis=1)\n",
    "    X_valid = X_valid.drop(object_cols,axis=1)\n",
    "    X_test=X_test.drop(object_cols,axis=1)\n",
    "    \n",
    "    \n",
    "    #for numerical cols\n",
    "    scaler =StandardScaler()\n",
    "    X_train[numerical_cols]=scaler.fit_transform(X_train[numerical_cols])\n",
    "    X_valid[numerical_cols]=scaler.transform(X_valid[numerical_cols])\n",
    "    X_test[numerical_cols] = scaler.transform(X_test[numerical_cols])\n",
    "    \n",
    "    print('Training') \n",
    "    model =LGBMRegressor(**lgbm_parameters)\n",
    "    model.fit(X_train, y_train, eval_set = ((X_valid,y_valid)), early_stopping_rounds = 500,verbose=1000)\n",
    "    predictions=model.predict(X_valid)\n",
    "    predictions_test=model.predict(X_test)\n",
    "    final_test_predictions.append(predictions_test)\n",
    "    final_valid_predictions.update(dict(zip(valid_ids,predictions)))\n",
    "    \n",
    "    rmse=mean_squared_error(y_valid,predictions,squared=False)\n",
    "    print(fold, rmse)\n",
    "    rmse_scores.append(rmse)\n",
    "    "
   ]
  },
  {
   "cell_type": "code",
   "execution_count": 19,
   "id": "f7646b06",
   "metadata": {},
   "outputs": [
    {
     "name": "stdout",
     "output_type": "stream",
     "text": [
      "0.7172132968073746 0.0031972227229733487\n"
     ]
    }
   ],
   "source": [
    "print(np.mean(rmse_scores), np.std(rmse_scores))"
   ]
  },
  {
   "cell_type": "code",
   "execution_count": 20,
   "id": "8bf8625c",
   "metadata": {},
   "outputs": [],
   "source": [
    "final_valid_predictions= pd.DataFrame.from_dict(final_valid_predictions, orient='index').reset_index()\n",
    "final_valid_predictions.columns=['id', 'pred_1']\n",
    "final_valid_predictions.to_csv('train_pred_1.csv', index=False)"
   ]
  },
  {
   "cell_type": "code",
   "execution_count": 21,
   "id": "9e4b46dc",
   "metadata": {},
   "outputs": [
    {
     "data": {
      "text/html": [
       "<div>\n",
       "<style scoped>\n",
       "    .dataframe tbody tr th:only-of-type {\n",
       "        vertical-align: middle;\n",
       "    }\n",
       "\n",
       "    .dataframe tbody tr th {\n",
       "        vertical-align: top;\n",
       "    }\n",
       "\n",
       "    .dataframe thead th {\n",
       "        text-align: right;\n",
       "    }\n",
       "</style>\n",
       "<table border=\"1\" class=\"dataframe\">\n",
       "  <thead>\n",
       "    <tr style=\"text-align: right;\">\n",
       "      <th></th>\n",
       "      <th>id</th>\n",
       "      <th>pred_1</th>\n",
       "    </tr>\n",
       "  </thead>\n",
       "  <tbody>\n",
       "    <tr>\n",
       "      <th>0</th>\n",
       "      <td>2</td>\n",
       "      <td>8.355080</td>\n",
       "    </tr>\n",
       "    <tr>\n",
       "      <th>1</th>\n",
       "      <td>6</td>\n",
       "      <td>8.256156</td>\n",
       "    </tr>\n",
       "    <tr>\n",
       "      <th>2</th>\n",
       "      <td>8</td>\n",
       "      <td>8.460447</td>\n",
       "    </tr>\n",
       "    <tr>\n",
       "      <th>3</th>\n",
       "      <td>10</td>\n",
       "      <td>8.445550</td>\n",
       "    </tr>\n",
       "    <tr>\n",
       "      <th>4</th>\n",
       "      <td>18</td>\n",
       "      <td>8.189734</td>\n",
       "    </tr>\n",
       "    <tr>\n",
       "      <th>...</th>\n",
       "      <td>...</td>\n",
       "      <td>...</td>\n",
       "    </tr>\n",
       "    <tr>\n",
       "      <th>299995</th>\n",
       "      <td>499975</td>\n",
       "      <td>8.194221</td>\n",
       "    </tr>\n",
       "    <tr>\n",
       "      <th>299996</th>\n",
       "      <td>499976</td>\n",
       "      <td>8.611674</td>\n",
       "    </tr>\n",
       "    <tr>\n",
       "      <th>299997</th>\n",
       "      <td>499993</td>\n",
       "      <td>8.357469</td>\n",
       "    </tr>\n",
       "    <tr>\n",
       "      <th>299998</th>\n",
       "      <td>499996</td>\n",
       "      <td>7.802166</td>\n",
       "    </tr>\n",
       "    <tr>\n",
       "      <th>299999</th>\n",
       "      <td>499998</td>\n",
       "      <td>8.106901</td>\n",
       "    </tr>\n",
       "  </tbody>\n",
       "</table>\n",
       "<p>300000 rows × 2 columns</p>\n",
       "</div>"
      ],
      "text/plain": [
       "            id    pred_1\n",
       "0            2  8.355080\n",
       "1            6  8.256156\n",
       "2            8  8.460447\n",
       "3           10  8.445550\n",
       "4           18  8.189734\n",
       "...        ...       ...\n",
       "299995  499975  8.194221\n",
       "299996  499976  8.611674\n",
       "299997  499993  8.357469\n",
       "299998  499996  7.802166\n",
       "299999  499998  8.106901\n",
       "\n",
       "[300000 rows x 2 columns]"
      ]
     },
     "execution_count": 21,
     "metadata": {},
     "output_type": "execute_result"
    }
   ],
   "source": [
    "final_valid_predictions"
   ]
  },
  {
   "cell_type": "code",
   "execution_count": 23,
   "id": "9d381e96",
   "metadata": {},
   "outputs": [],
   "source": [
    "sample_submission.target=np.mean(np.column_stack(final_test_predictions), axis=1)\n",
    "sample_submission.columns=['id', 'pred_1']\n",
    "sample_submission.to_csv('test_pred_1.csv', index=False)"
   ]
  },
  {
   "cell_type": "code",
   "execution_count": null,
   "id": "183ade96",
   "metadata": {},
   "outputs": [],
   "source": []
  },
  {
   "cell_type": "code",
   "execution_count": 25,
   "id": "a43ad49e",
   "metadata": {},
   "outputs": [
    {
     "name": "stdout",
     "output_type": "stream",
     "text": [
      "Encoding\n",
      "Training\n",
      "[LightGBM] [Warning] Unknown parameter: cat_smoth\n"
     ]
    },
    {
     "name": "stderr",
     "output_type": "stream",
     "text": [
      "C:\\Users\\celes\\anaconda3\\lib\\site-packages\\lightgbm\\basic.py:1702: UserWarning: Using categorical_feature in Dataset.\n",
      "  _log_warning('Using categorical_feature in Dataset.')\n",
      "C:\\Users\\celes\\anaconda3\\lib\\site-packages\\lightgbm\\basic.py:1705: UserWarning: categorical_feature in Dataset is overridden.\n",
      "New categorical_feature is ['cat0', 'cat1', 'cat2', 'cat3', 'cat4', 'cat5', 'cat6', 'cat7', 'cat8', 'cat9']\n",
      "  _log_warning('categorical_feature in Dataset is overridden.\\n'\n",
      "C:\\Users\\celes\\anaconda3\\lib\\site-packages\\lightgbm\\basic.py:1433: UserWarning: Overriding the parameters from Reference Dataset.\n",
      "  _log_warning('Overriding the parameters from Reference Dataset.')\n",
      "C:\\Users\\celes\\anaconda3\\lib\\site-packages\\lightgbm\\basic.py:1245: UserWarning: categorical_column in param dict is overridden.\n",
      "  _log_warning('{} in param dict is overridden.'.format(cat_alias))\n"
     ]
    },
    {
     "name": "stdout",
     "output_type": "stream",
     "text": [
      "Training until validation scores don't improve for 200 rounds\n",
      "[1000]\tvalid_0's rmse: 0.721292\n",
      "[2000]\tvalid_0's rmse: 0.716902\n",
      "[3000]\tvalid_0's rmse: 0.71569\n",
      "[4000]\tvalid_0's rmse: 0.715257\n",
      "[5000]\tvalid_0's rmse: 0.71512\n",
      "Early stopping, best iteration is:\n",
      "[4826]\tvalid_0's rmse: 0.715117\n",
      "0 0.7151167023414063\n",
      "Encoding\n",
      "Training\n",
      "[LightGBM] [Warning] Unknown parameter: cat_smoth\n"
     ]
    },
    {
     "name": "stderr",
     "output_type": "stream",
     "text": [
      "C:\\Users\\celes\\anaconda3\\lib\\site-packages\\lightgbm\\basic.py:1702: UserWarning: Using categorical_feature in Dataset.\n",
      "  _log_warning('Using categorical_feature in Dataset.')\n",
      "C:\\Users\\celes\\anaconda3\\lib\\site-packages\\lightgbm\\basic.py:1705: UserWarning: categorical_feature in Dataset is overridden.\n",
      "New categorical_feature is ['cat0', 'cat1', 'cat2', 'cat3', 'cat4', 'cat5', 'cat6', 'cat7', 'cat8', 'cat9']\n",
      "  _log_warning('categorical_feature in Dataset is overridden.\\n'\n",
      "C:\\Users\\celes\\anaconda3\\lib\\site-packages\\lightgbm\\basic.py:1433: UserWarning: Overriding the parameters from Reference Dataset.\n",
      "  _log_warning('Overriding the parameters from Reference Dataset.')\n",
      "C:\\Users\\celes\\anaconda3\\lib\\site-packages\\lightgbm\\basic.py:1245: UserWarning: categorical_column in param dict is overridden.\n",
      "  _log_warning('{} in param dict is overridden.'.format(cat_alias))\n"
     ]
    },
    {
     "name": "stdout",
     "output_type": "stream",
     "text": [
      "Training until validation scores don't improve for 200 rounds\n",
      "[1000]\tvalid_0's rmse: 0.728824\n",
      "[2000]\tvalid_0's rmse: 0.724469\n",
      "[3000]\tvalid_0's rmse: 0.723224\n",
      "[4000]\tvalid_0's rmse: 0.722791\n",
      "[5000]\tvalid_0's rmse: 0.722688\n",
      "Early stopping, best iteration is:\n",
      "[4816]\tvalid_0's rmse: 0.722665\n",
      "1 0.7226651859902857\n",
      "Encoding\n",
      "Training\n",
      "[LightGBM] [Warning] Unknown parameter: cat_smoth\n"
     ]
    },
    {
     "name": "stderr",
     "output_type": "stream",
     "text": [
      "C:\\Users\\celes\\anaconda3\\lib\\site-packages\\lightgbm\\basic.py:1702: UserWarning: Using categorical_feature in Dataset.\n",
      "  _log_warning('Using categorical_feature in Dataset.')\n",
      "C:\\Users\\celes\\anaconda3\\lib\\site-packages\\lightgbm\\basic.py:1705: UserWarning: categorical_feature in Dataset is overridden.\n",
      "New categorical_feature is ['cat0', 'cat1', 'cat2', 'cat3', 'cat4', 'cat5', 'cat6', 'cat7', 'cat8', 'cat9']\n",
      "  _log_warning('categorical_feature in Dataset is overridden.\\n'\n",
      "C:\\Users\\celes\\anaconda3\\lib\\site-packages\\lightgbm\\basic.py:1433: UserWarning: Overriding the parameters from Reference Dataset.\n",
      "  _log_warning('Overriding the parameters from Reference Dataset.')\n",
      "C:\\Users\\celes\\anaconda3\\lib\\site-packages\\lightgbm\\basic.py:1245: UserWarning: categorical_column in param dict is overridden.\n",
      "  _log_warning('{} in param dict is overridden.'.format(cat_alias))\n"
     ]
    },
    {
     "name": "stdout",
     "output_type": "stream",
     "text": [
      "Training until validation scores don't improve for 200 rounds\n",
      "[1000]\tvalid_0's rmse: 0.724001\n",
      "[2000]\tvalid_0's rmse: 0.719829\n",
      "[3000]\tvalid_0's rmse: 0.718739\n",
      "[4000]\tvalid_0's rmse: 0.718375\n",
      "Early stopping, best iteration is:\n",
      "[4044]\tvalid_0's rmse: 0.718361\n",
      "2 0.7183612417693777\n",
      "Encoding\n",
      "Training\n",
      "[LightGBM] [Warning] Unknown parameter: cat_smoth\n"
     ]
    },
    {
     "name": "stderr",
     "output_type": "stream",
     "text": [
      "C:\\Users\\celes\\anaconda3\\lib\\site-packages\\lightgbm\\basic.py:1702: UserWarning: Using categorical_feature in Dataset.\n",
      "  _log_warning('Using categorical_feature in Dataset.')\n",
      "C:\\Users\\celes\\anaconda3\\lib\\site-packages\\lightgbm\\basic.py:1705: UserWarning: categorical_feature in Dataset is overridden.\n",
      "New categorical_feature is ['cat0', 'cat1', 'cat2', 'cat3', 'cat4', 'cat5', 'cat6', 'cat7', 'cat8', 'cat9']\n",
      "  _log_warning('categorical_feature in Dataset is overridden.\\n'\n",
      "C:\\Users\\celes\\anaconda3\\lib\\site-packages\\lightgbm\\basic.py:1433: UserWarning: Overriding the parameters from Reference Dataset.\n",
      "  _log_warning('Overriding the parameters from Reference Dataset.')\n",
      "C:\\Users\\celes\\anaconda3\\lib\\site-packages\\lightgbm\\basic.py:1245: UserWarning: categorical_column in param dict is overridden.\n",
      "  _log_warning('{} in param dict is overridden.'.format(cat_alias))\n"
     ]
    },
    {
     "name": "stdout",
     "output_type": "stream",
     "text": [
      "Training until validation scores don't improve for 200 rounds\n",
      "[1000]\tvalid_0's rmse: 0.723782\n",
      "[2000]\tvalid_0's rmse: 0.71968\n",
      "[3000]\tvalid_0's rmse: 0.718605\n",
      "[4000]\tvalid_0's rmse: 0.71826\n",
      "Early stopping, best iteration is:\n",
      "[4563]\tvalid_0's rmse: 0.71821\n",
      "3 0.7182098291206642\n",
      "Encoding\n",
      "Training\n",
      "[LightGBM] [Warning] Unknown parameter: cat_smoth\n"
     ]
    },
    {
     "name": "stderr",
     "output_type": "stream",
     "text": [
      "C:\\Users\\celes\\anaconda3\\lib\\site-packages\\lightgbm\\basic.py:1702: UserWarning: Using categorical_feature in Dataset.\n",
      "  _log_warning('Using categorical_feature in Dataset.')\n",
      "C:\\Users\\celes\\anaconda3\\lib\\site-packages\\lightgbm\\basic.py:1705: UserWarning: categorical_feature in Dataset is overridden.\n",
      "New categorical_feature is ['cat0', 'cat1', 'cat2', 'cat3', 'cat4', 'cat5', 'cat6', 'cat7', 'cat8', 'cat9']\n",
      "  _log_warning('categorical_feature in Dataset is overridden.\\n'\n",
      "C:\\Users\\celes\\anaconda3\\lib\\site-packages\\lightgbm\\basic.py:1433: UserWarning: Overriding the parameters from Reference Dataset.\n",
      "  _log_warning('Overriding the parameters from Reference Dataset.')\n",
      "C:\\Users\\celes\\anaconda3\\lib\\site-packages\\lightgbm\\basic.py:1245: UserWarning: categorical_column in param dict is overridden.\n",
      "  _log_warning('{} in param dict is overridden.'.format(cat_alias))\n"
     ]
    },
    {
     "name": "stdout",
     "output_type": "stream",
     "text": [
      "Training until validation scores don't improve for 200 rounds\n",
      "[1000]\tvalid_0's rmse: 0.719376\n",
      "[2000]\tvalid_0's rmse: 0.715138\n",
      "[3000]\tvalid_0's rmse: 0.714004\n",
      "[4000]\tvalid_0's rmse: 0.713585\n",
      "Early stopping, best iteration is:\n",
      "[4468]\tvalid_0's rmse: 0.713553\n",
      "4 0.7135533994061092\n"
     ]
    }
   ],
   "source": [
    "useful_cols=[column for column in train.columns if column not in ('id', 'target', 'kfold')]\n",
    " # List of categorical columns\n",
    "object_cols = [col for col in useful_cols if 'cat' in col]\n",
    "numerical_cols = [col for col in useful_cols if 'cont' in col]\n",
    "test=test[useful_cols]\n",
    "\n",
    "final_test_predictions=[]\n",
    "final_valid_predictions={}\n",
    "\n",
    "last_scores=[]\n",
    "rmse_scores=[]\n",
    "for fold in range(5):\n",
    "    X_train = train[train.kfold!=fold].reset_index(drop=True)\n",
    "    X_valid= train[train.kfold==fold].reset_index(drop=True)\n",
    "    X_test=test.copy()\n",
    "    \n",
    "    valid_ids=X_valid.id.values.tolist()\n",
    "    \n",
    "    y_train=X_train.target\n",
    "    y_valid=X_valid.target\n",
    "    \n",
    "    X_train=X_train[useful_cols]\n",
    "    X_valid=X_valid[useful_cols]\n",
    "   \n",
    "    # ordinal-encode categorical columns\n",
    "    print('Encoding')\n",
    "    ordinal_encoder = OrdinalEncoder()\n",
    "    #for object cols\n",
    "    X_train[object_cols]=ordinal_encoder.fit_transform(X_train[object_cols])\n",
    "    X_valid[object_cols]=ordinal_encoder.transform(X_valid[object_cols])\n",
    "    X_test[object_cols] = ordinal_encoder.transform(X_test[object_cols])\n",
    "    \n",
    "    #for numerical cols\n",
    "    scaler =StandardScaler()\n",
    "    X_train[numerical_cols]=scaler.fit_transform(X_train[numerical_cols])\n",
    "    X_valid[numerical_cols]=scaler.transform(X_valid[numerical_cols])\n",
    "    X_test[numerical_cols] = scaler.transform(X_test[numerical_cols])\n",
    "    \n",
    "    print('Training') \n",
    "    model =LGBMRegressor(**lgbm_parameters)\n",
    "    model.fit(X_train, y_train, eval_set = ((X_valid,y_valid)), early_stopping_rounds = 200,verbose=1000,\n",
    "              categorical_feature=object_cols)\n",
    "    predictions=model.predict(X_valid)\n",
    "    predictions_test=model.predict(X_test)\n",
    "    final_test_predictions.append(predictions_test)\n",
    "    final_valid_predictions.update(dict(zip(valid_ids,predictions)))\n",
    "    \n",
    "    \n",
    "    rmse=mean_squared_error(y_valid,predictions,squared=False)\n",
    "    print(fold, rmse)\n",
    "    rmse_scores.append(rmse)"
   ]
  },
  {
   "cell_type": "code",
   "execution_count": 26,
   "id": "f19c79a1",
   "metadata": {},
   "outputs": [
    {
     "name": "stdout",
     "output_type": "stream",
     "text": [
      "0.7175812717255686 0.003135202691705293\n"
     ]
    }
   ],
   "source": [
    "print(np.mean(rmse_scores), np.std(rmse_scores))"
   ]
  },
  {
   "cell_type": "code",
   "execution_count": 29,
   "id": "66334385",
   "metadata": {},
   "outputs": [
    {
     "ename": "TypeError",
     "evalue": "'numpy.ndarray' object is not callable",
     "output_type": "error",
     "traceback": [
      "\u001b[1;31m---------------------------------------------------------------------------\u001b[0m",
      "\u001b[1;31mTypeError\u001b[0m                                 Traceback (most recent call last)",
      "\u001b[1;32m<ipython-input-29-f96204380800>\u001b[0m in \u001b[0;36m<module>\u001b[1;34m\u001b[0m\n\u001b[1;32m----> 1\u001b[1;33m \u001b[0mfinal_valid_predictions\u001b[0m\u001b[1;33m=\u001b[0m \u001b[0mpd\u001b[0m\u001b[1;33m.\u001b[0m\u001b[0mDataFrame\u001b[0m\u001b[1;33m.\u001b[0m\u001b[0mfrom_dict\u001b[0m\u001b[1;33m(\u001b[0m\u001b[0mfinal_valid_predictions\u001b[0m\u001b[1;33m,\u001b[0m \u001b[0morient\u001b[0m\u001b[1;33m=\u001b[0m\u001b[1;34m'index'\u001b[0m\u001b[1;33m)\u001b[0m\u001b[1;33m.\u001b[0m\u001b[0mreset_index\u001b[0m\u001b[1;33m(\u001b[0m\u001b[1;33m)\u001b[0m\u001b[1;33m\u001b[0m\u001b[1;33m\u001b[0m\u001b[0m\n\u001b[0m\u001b[0;32m      2\u001b[0m \u001b[0mfinal_valid_predictions\u001b[0m\u001b[1;33m.\u001b[0m\u001b[0mcolumns\u001b[0m\u001b[1;33m=\u001b[0m\u001b[1;33m[\u001b[0m\u001b[1;34m'id'\u001b[0m\u001b[1;33m,\u001b[0m \u001b[1;34m'pred_2'\u001b[0m\u001b[1;33m]\u001b[0m\u001b[1;33m\u001b[0m\u001b[1;33m\u001b[0m\u001b[0m\n\u001b[0;32m      3\u001b[0m \u001b[0mfinal_valid_predictions\u001b[0m\u001b[1;33m.\u001b[0m\u001b[0mto_csv\u001b[0m\u001b[1;33m(\u001b[0m\u001b[1;34m'train_pred_2.csv'\u001b[0m\u001b[1;33m,\u001b[0m \u001b[0mindex\u001b[0m\u001b[1;33m=\u001b[0m\u001b[1;32mFalse\u001b[0m\u001b[1;33m)\u001b[0m\u001b[1;33m\u001b[0m\u001b[1;33m\u001b[0m\u001b[0m\n",
      "\u001b[1;32m~\\anaconda3\\lib\\site-packages\\pandas\\core\\frame.py\u001b[0m in \u001b[0;36mfrom_dict\u001b[1;34m(cls, data, orient, dtype, columns)\u001b[0m\n\u001b[0;32m   1361\u001b[0m             \u001b[1;32mif\u001b[0m \u001b[0mlen\u001b[0m\u001b[1;33m(\u001b[0m\u001b[0mdata\u001b[0m\u001b[1;33m)\u001b[0m \u001b[1;33m>\u001b[0m \u001b[1;36m0\u001b[0m\u001b[1;33m:\u001b[0m\u001b[1;33m\u001b[0m\u001b[1;33m\u001b[0m\u001b[0m\n\u001b[0;32m   1362\u001b[0m                 \u001b[1;31m# TODO speed up Series case\u001b[0m\u001b[1;33m\u001b[0m\u001b[1;33m\u001b[0m\u001b[1;33m\u001b[0m\u001b[0m\n\u001b[1;32m-> 1363\u001b[1;33m                 \u001b[1;32mif\u001b[0m \u001b[0misinstance\u001b[0m\u001b[1;33m(\u001b[0m\u001b[0mlist\u001b[0m\u001b[1;33m(\u001b[0m\u001b[0mdata\u001b[0m\u001b[1;33m.\u001b[0m\u001b[0mvalues\u001b[0m\u001b[1;33m(\u001b[0m\u001b[1;33m)\u001b[0m\u001b[1;33m)\u001b[0m\u001b[1;33m[\u001b[0m\u001b[1;36m0\u001b[0m\u001b[1;33m]\u001b[0m\u001b[1;33m,\u001b[0m \u001b[1;33m(\u001b[0m\u001b[0mSeries\u001b[0m\u001b[1;33m,\u001b[0m \u001b[0mdict\u001b[0m\u001b[1;33m)\u001b[0m\u001b[1;33m)\u001b[0m\u001b[1;33m:\u001b[0m\u001b[1;33m\u001b[0m\u001b[1;33m\u001b[0m\u001b[0m\n\u001b[0m\u001b[0;32m   1364\u001b[0m                     \u001b[0mdata\u001b[0m \u001b[1;33m=\u001b[0m \u001b[0m_from_nested_dict\u001b[0m\u001b[1;33m(\u001b[0m\u001b[0mdata\u001b[0m\u001b[1;33m)\u001b[0m\u001b[1;33m\u001b[0m\u001b[1;33m\u001b[0m\u001b[0m\n\u001b[0;32m   1365\u001b[0m                 \u001b[1;32melse\u001b[0m\u001b[1;33m:\u001b[0m\u001b[1;33m\u001b[0m\u001b[1;33m\u001b[0m\u001b[0m\n",
      "\u001b[1;31mTypeError\u001b[0m: 'numpy.ndarray' object is not callable"
     ]
    }
   ],
   "source": [
    "final_valid_predictions= pd.DataFrame.from_dict(final_valid_predictions, orient='index').reset_index()\n",
    "final_valid_predictions.columns=['id', 'pred_2']\n",
    "final_valid_predictions.to_csv('train_pred_2.csv', index=False)\n"
   ]
  },
  {
   "cell_type": "code",
   "execution_count": 30,
   "id": "adc07420",
   "metadata": {},
   "outputs": [
    {
     "data": {
      "text/html": [
       "<div>\n",
       "<style scoped>\n",
       "    .dataframe tbody tr th:only-of-type {\n",
       "        vertical-align: middle;\n",
       "    }\n",
       "\n",
       "    .dataframe tbody tr th {\n",
       "        vertical-align: top;\n",
       "    }\n",
       "\n",
       "    .dataframe thead th {\n",
       "        text-align: right;\n",
       "    }\n",
       "</style>\n",
       "<table border=\"1\" class=\"dataframe\">\n",
       "  <thead>\n",
       "    <tr style=\"text-align: right;\">\n",
       "      <th></th>\n",
       "      <th>id</th>\n",
       "      <th>pred_2</th>\n",
       "    </tr>\n",
       "  </thead>\n",
       "  <tbody>\n",
       "    <tr>\n",
       "      <th>0</th>\n",
       "      <td>2</td>\n",
       "      <td>8.382772</td>\n",
       "    </tr>\n",
       "    <tr>\n",
       "      <th>1</th>\n",
       "      <td>6</td>\n",
       "      <td>8.218328</td>\n",
       "    </tr>\n",
       "    <tr>\n",
       "      <th>2</th>\n",
       "      <td>8</td>\n",
       "      <td>8.433875</td>\n",
       "    </tr>\n",
       "    <tr>\n",
       "      <th>3</th>\n",
       "      <td>10</td>\n",
       "      <td>8.355328</td>\n",
       "    </tr>\n",
       "    <tr>\n",
       "      <th>4</th>\n",
       "      <td>18</td>\n",
       "      <td>8.188500</td>\n",
       "    </tr>\n",
       "    <tr>\n",
       "      <th>...</th>\n",
       "      <td>...</td>\n",
       "      <td>...</td>\n",
       "    </tr>\n",
       "    <tr>\n",
       "      <th>299995</th>\n",
       "      <td>499975</td>\n",
       "      <td>8.225013</td>\n",
       "    </tr>\n",
       "    <tr>\n",
       "      <th>299996</th>\n",
       "      <td>499976</td>\n",
       "      <td>8.613246</td>\n",
       "    </tr>\n",
       "    <tr>\n",
       "      <th>299997</th>\n",
       "      <td>499993</td>\n",
       "      <td>8.362486</td>\n",
       "    </tr>\n",
       "    <tr>\n",
       "      <th>299998</th>\n",
       "      <td>499996</td>\n",
       "      <td>7.768921</td>\n",
       "    </tr>\n",
       "    <tr>\n",
       "      <th>299999</th>\n",
       "      <td>499998</td>\n",
       "      <td>8.129689</td>\n",
       "    </tr>\n",
       "  </tbody>\n",
       "</table>\n",
       "<p>300000 rows × 2 columns</p>\n",
       "</div>"
      ],
      "text/plain": [
       "            id    pred_2\n",
       "0            2  8.382772\n",
       "1            6  8.218328\n",
       "2            8  8.433875\n",
       "3           10  8.355328\n",
       "4           18  8.188500\n",
       "...        ...       ...\n",
       "299995  499975  8.225013\n",
       "299996  499976  8.613246\n",
       "299997  499993  8.362486\n",
       "299998  499996  7.768921\n",
       "299999  499998  8.129689\n",
       "\n",
       "[300000 rows x 2 columns]"
      ]
     },
     "execution_count": 30,
     "metadata": {},
     "output_type": "execute_result"
    }
   ],
   "source": [
    "final_valid_predictions"
   ]
  },
  {
   "cell_type": "code",
   "execution_count": 28,
   "id": "d9e6e19e",
   "metadata": {},
   "outputs": [
    {
     "name": "stderr",
     "output_type": "stream",
     "text": [
      "<ipython-input-28-e20eeb88c83a>:1: UserWarning: Pandas doesn't allow columns to be created via a new attribute name - see https://pandas.pydata.org/pandas-docs/stable/indexing.html#attribute-access\n",
      "  sample_submission.target=np.mean(np.column_stack(final_test_predictions), axis=1)\n"
     ]
    }
   ],
   "source": [
    "sample_submission.target=np.mean(np.column_stack(final_test_predictions), axis=1)\n",
    "sample_submission.columns=['id', 'pred_2']\n",
    "sample_submission.to_csv('test_pred_2.csv', index=False)"
   ]
  },
  {
   "cell_type": "code",
   "execution_count": 33,
   "id": "fed9e5fd",
   "metadata": {},
   "outputs": [
    {
     "name": "stdout",
     "output_type": "stream",
     "text": [
      "Encoding\n",
      "Training\n",
      "[0]\tvalidation_0-rmse:7.62102\n",
      "[1000]\tvalidation_0-rmse:0.72091\n",
      "[2000]\tvalidation_0-rmse:0.71862\n",
      "[3000]\tvalidation_0-rmse:0.71825\n",
      "[3524]\tvalidation_0-rmse:0.71831\n",
      "0 0.7182326233845375\n",
      "Encoding\n",
      "Training\n",
      "[0]\tvalidation_0-rmse:7.62425\n",
      "[1000]\tvalidation_0-rmse:0.72858\n",
      "[2000]\tvalidation_0-rmse:0.72626\n",
      "[3000]\tvalidation_0-rmse:0.72588\n",
      "[3576]\tvalidation_0-rmse:0.72593\n",
      "1 0.7258669458210288\n",
      "Encoding\n",
      "Training\n",
      "[0]\tvalidation_0-rmse:7.62033\n",
      "[1000]\tvalidation_0-rmse:0.72427\n",
      "[2000]\tvalidation_0-rmse:0.72206\n",
      "[3000]\tvalidation_0-rmse:0.72168\n",
      "[3157]\tvalidation_0-rmse:0.72176\n",
      "2 0.7216353173258985\n",
      "Encoding\n",
      "Training\n",
      "[0]\tvalidation_0-rmse:7.62672\n",
      "[1000]\tvalidation_0-rmse:0.72343\n",
      "[2000]\tvalidation_0-rmse:0.72138\n",
      "[3000]\tvalidation_0-rmse:0.72100\n",
      "[3271]\tvalidation_0-rmse:0.72104\n",
      "3 0.720987603644735\n",
      "Encoding\n",
      "Training\n",
      "[0]\tvalidation_0-rmse:7.62652\n",
      "[1000]\tvalidation_0-rmse:0.71879\n",
      "[2000]\tvalidation_0-rmse:0.71663\n",
      "[3000]\tvalidation_0-rmse:0.71613\n",
      "[3447]\tvalidation_0-rmse:0.71621\n",
      "4 0.7161064903577166\n"
     ]
    }
   ],
   "source": [
    "\n",
    "\n",
    "useful_cols=[column for column in train.columns if column not in ('id', 'target', 'kfold')]\n",
    " # List of categorical columns\n",
    "object_cols = [col for col in useful_cols if 'cat' in col]\n",
    "numerical_cols = [col for col in useful_cols if 'cont' in col]\n",
    "test=test[useful_cols]\n",
    "\n",
    "final_test_predictions=[]\n",
    "final_valid_predictions={}\n",
    "\n",
    "last_scores=[]\n",
    "rmse_scores=[]\n",
    "for fold in range(5):\n",
    "    X_train = train[train.kfold!=fold].reset_index(drop=True)\n",
    "    X_valid= train[train.kfold==fold].reset_index(drop=True)\n",
    "    X_test=test.copy()\n",
    "    \n",
    "    valid_ids=X_valid.id.values.tolist()\n",
    "    \n",
    "    y_train=X_train.target\n",
    "    y_valid=X_valid.target\n",
    "    \n",
    "    X_train=X_train[useful_cols]\n",
    "    X_valid=X_valid[useful_cols]\n",
    "   \n",
    "    # ordinal-encode categorical columns\n",
    "    print('Encoding')\n",
    "    ordinal_encoder = OrdinalEncoder()\n",
    "    #for object cols\n",
    "    X_train[object_cols]=ordinal_encoder.fit_transform(X_train[object_cols])\n",
    "    X_valid[object_cols]=ordinal_encoder.transform(X_valid[object_cols])\n",
    "    X_test[object_cols] = ordinal_encoder.transform(X_test[object_cols])\n",
    "    \n",
    "    #for numerical cols\n",
    "    scaler =StandardScaler()\n",
    "    X_train[numerical_cols]=scaler.fit_transform(X_train[numerical_cols])\n",
    "    X_valid[numerical_cols]=scaler.transform(X_valid[numerical_cols])\n",
    "    X_test[numerical_cols] = scaler.transform(X_test[numerical_cols])\n",
    "    \n",
    "    print('Training') \n",
    "     \n",
    "    model = XGBRegressor(n_estimators=20000, random_state=42, learning_rate=.02, max_depth=5, tree_method='hist')\n",
    "    model.fit(X_train, y_train, eval_set = [(X_valid,y_valid)], early_stopping_rounds = 400,verbose=1000)\n",
    "    \n",
    "    predictions=model.predict(X_valid)\n",
    "    predictions_test=model.predict(X_test)\n",
    "    final_test_predictions.append(predictions_test)\n",
    "    final_valid_predictions.update(dict(zip(valid_ids,predictions)))\n",
    "    \n",
    "    \n",
    "    rmse=mean_squared_error(y_valid,predictions,squared=False)\n",
    "    print(fold, rmse)\n",
    "    rmse_scores.append(rmse)"
   ]
  },
  {
   "cell_type": "code",
   "execution_count": 34,
   "id": "f685f667",
   "metadata": {},
   "outputs": [
    {
     "name": "stdout",
     "output_type": "stream",
     "text": [
      "0.7205657961067833 0.003309171746692743\n"
     ]
    }
   ],
   "source": [
    "print(np.mean(rmse_scores), np.std(rmse_scores))"
   ]
  },
  {
   "cell_type": "code",
   "execution_count": 35,
   "id": "e1e74a00",
   "metadata": {},
   "outputs": [],
   "source": [
    "final_valid_predictions= pd.DataFrame.from_dict(final_valid_predictions, orient='index').reset_index()\n",
    "final_valid_predictions.columns=['id', 'pred_3']\n",
    "final_valid_predictions.to_csv('train_pred_3.csv', index=False)"
   ]
  },
  {
   "cell_type": "code",
   "execution_count": 36,
   "id": "affdc5b8",
   "metadata": {},
   "outputs": [],
   "source": [
    "sample_submission.target=np.mean(np.column_stack(final_test_predictions), axis=1)\n",
    "sample_submission.columns=['id', 'pred_3']\n",
    "sample_submission.to_csv('test_pred_3.csv', index=False)"
   ]
  },
  {
   "cell_type": "code",
   "execution_count": 38,
   "id": "9322f350",
   "metadata": {},
   "outputs": [
    {
     "data": {
      "text/html": [
       "<div>\n",
       "<style scoped>\n",
       "    .dataframe tbody tr th:only-of-type {\n",
       "        vertical-align: middle;\n",
       "    }\n",
       "\n",
       "    .dataframe tbody tr th {\n",
       "        vertical-align: top;\n",
       "    }\n",
       "\n",
       "    .dataframe thead th {\n",
       "        text-align: right;\n",
       "    }\n",
       "</style>\n",
       "<table border=\"1\" class=\"dataframe\">\n",
       "  <thead>\n",
       "    <tr style=\"text-align: right;\">\n",
       "      <th></th>\n",
       "      <th>id</th>\n",
       "      <th>cat0</th>\n",
       "      <th>cat1</th>\n",
       "      <th>cat2</th>\n",
       "      <th>cat3</th>\n",
       "      <th>cat4</th>\n",
       "      <th>cat5</th>\n",
       "      <th>cat6</th>\n",
       "      <th>cat7</th>\n",
       "      <th>cat8</th>\n",
       "      <th>...</th>\n",
       "      <th>cont9</th>\n",
       "      <th>cont10</th>\n",
       "      <th>cont11</th>\n",
       "      <th>cont12</th>\n",
       "      <th>cont13</th>\n",
       "      <th>target</th>\n",
       "      <th>kfold</th>\n",
       "      <th>pred_1</th>\n",
       "      <th>pred_2</th>\n",
       "      <th>pred_3</th>\n",
       "    </tr>\n",
       "  </thead>\n",
       "  <tbody>\n",
       "    <tr>\n",
       "      <th>0</th>\n",
       "      <td>1</td>\n",
       "      <td>B</td>\n",
       "      <td>B</td>\n",
       "      <td>B</td>\n",
       "      <td>C</td>\n",
       "      <td>B</td>\n",
       "      <td>B</td>\n",
       "      <td>A</td>\n",
       "      <td>E</td>\n",
       "      <td>C</td>\n",
       "      <td>...</td>\n",
       "      <td>0.267559</td>\n",
       "      <td>0.237281</td>\n",
       "      <td>0.377873</td>\n",
       "      <td>0.322401</td>\n",
       "      <td>0.869850</td>\n",
       "      <td>8.113634</td>\n",
       "      <td>4</td>\n",
       "      <td>8.507232</td>\n",
       "      <td>8.503018</td>\n",
       "      <td>8.544546</td>\n",
       "    </tr>\n",
       "    <tr>\n",
       "      <th>1</th>\n",
       "      <td>2</td>\n",
       "      <td>B</td>\n",
       "      <td>B</td>\n",
       "      <td>A</td>\n",
       "      <td>A</td>\n",
       "      <td>B</td>\n",
       "      <td>D</td>\n",
       "      <td>A</td>\n",
       "      <td>F</td>\n",
       "      <td>A</td>\n",
       "      <td>...</td>\n",
       "      <td>0.341439</td>\n",
       "      <td>0.906013</td>\n",
       "      <td>0.921701</td>\n",
       "      <td>0.261975</td>\n",
       "      <td>0.465083</td>\n",
       "      <td>8.481233</td>\n",
       "      <td>0</td>\n",
       "      <td>8.355080</td>\n",
       "      <td>8.382772</td>\n",
       "      <td>8.348386</td>\n",
       "    </tr>\n",
       "    <tr>\n",
       "      <th>2</th>\n",
       "      <td>3</td>\n",
       "      <td>A</td>\n",
       "      <td>A</td>\n",
       "      <td>A</td>\n",
       "      <td>C</td>\n",
       "      <td>B</td>\n",
       "      <td>D</td>\n",
       "      <td>A</td>\n",
       "      <td>D</td>\n",
       "      <td>A</td>\n",
       "      <td>...</td>\n",
       "      <td>0.843531</td>\n",
       "      <td>0.748809</td>\n",
       "      <td>0.620126</td>\n",
       "      <td>0.541474</td>\n",
       "      <td>0.763846</td>\n",
       "      <td>8.364351</td>\n",
       "      <td>4</td>\n",
       "      <td>8.175895</td>\n",
       "      <td>8.241156</td>\n",
       "      <td>8.162363</td>\n",
       "    </tr>\n",
       "    <tr>\n",
       "      <th>3</th>\n",
       "      <td>4</td>\n",
       "      <td>B</td>\n",
       "      <td>B</td>\n",
       "      <td>A</td>\n",
       "      <td>C</td>\n",
       "      <td>B</td>\n",
       "      <td>D</td>\n",
       "      <td>A</td>\n",
       "      <td>E</td>\n",
       "      <td>C</td>\n",
       "      <td>...</td>\n",
       "      <td>0.574844</td>\n",
       "      <td>0.346010</td>\n",
       "      <td>0.714610</td>\n",
       "      <td>0.540150</td>\n",
       "      <td>0.280682</td>\n",
       "      <td>8.049253</td>\n",
       "      <td>1</td>\n",
       "      <td>8.393389</td>\n",
       "      <td>8.388439</td>\n",
       "      <td>8.402562</td>\n",
       "    </tr>\n",
       "    <tr>\n",
       "      <th>4</th>\n",
       "      <td>6</td>\n",
       "      <td>A</td>\n",
       "      <td>A</td>\n",
       "      <td>A</td>\n",
       "      <td>C</td>\n",
       "      <td>B</td>\n",
       "      <td>D</td>\n",
       "      <td>A</td>\n",
       "      <td>E</td>\n",
       "      <td>A</td>\n",
       "      <td>...</td>\n",
       "      <td>0.956692</td>\n",
       "      <td>1.000773</td>\n",
       "      <td>0.776742</td>\n",
       "      <td>0.625849</td>\n",
       "      <td>0.250823</td>\n",
       "      <td>7.972260</td>\n",
       "      <td>0</td>\n",
       "      <td>8.256156</td>\n",
       "      <td>8.218328</td>\n",
       "      <td>8.234509</td>\n",
       "    </tr>\n",
       "  </tbody>\n",
       "</table>\n",
       "<p>5 rows × 30 columns</p>\n",
       "</div>"
      ],
      "text/plain": [
       "   id cat0 cat1 cat2 cat3 cat4 cat5 cat6 cat7 cat8  ...     cont9    cont10  \\\n",
       "0   1    B    B    B    C    B    B    A    E    C  ...  0.267559  0.237281   \n",
       "1   2    B    B    A    A    B    D    A    F    A  ...  0.341439  0.906013   \n",
       "2   3    A    A    A    C    B    D    A    D    A  ...  0.843531  0.748809   \n",
       "3   4    B    B    A    C    B    D    A    E    C  ...  0.574844  0.346010   \n",
       "4   6    A    A    A    C    B    D    A    E    A  ...  0.956692  1.000773   \n",
       "\n",
       "     cont11    cont12    cont13    target  kfold    pred_1    pred_2    pred_3  \n",
       "0  0.377873  0.322401  0.869850  8.113634      4  8.507232  8.503018  8.544546  \n",
       "1  0.921701  0.261975  0.465083  8.481233      0  8.355080  8.382772  8.348386  \n",
       "2  0.620126  0.541474  0.763846  8.364351      4  8.175895  8.241156  8.162363  \n",
       "3  0.714610  0.540150  0.280682  8.049253      1  8.393389  8.388439  8.402562  \n",
       "4  0.776742  0.625849  0.250823  7.972260      0  8.256156  8.218328  8.234509  \n",
       "\n",
       "[5 rows x 30 columns]"
      ]
     },
     "execution_count": 38,
     "metadata": {},
     "output_type": "execute_result"
    }
   ],
   "source": [
    "train = pd.read_csv(\"30-days-of-ml/train_folds.csv\")\n",
    "test = pd.read_csv(\"30-days-of-ml/test.csv\")\n",
    "sample_submission=pd.read_csv(\"30-days-of-ml/sample_submission.csv\")\n",
    "\n",
    "df1 = pd.read_csv(\"train_pred_1.csv\")\n",
    "df2 = pd.read_csv(\"train_pred_2.csv\")\n",
    "df3 = pd.read_csv(\"train_pred_3.csv\")\n",
    "\n",
    "df_test1 = pd.read_csv(\"test_pred_1.csv\")\n",
    "df_test2 = pd.read_csv(\"test_pred_2.csv\")\n",
    "df_test3 = pd.read_csv(\"test_pred_3.csv\")\n",
    "\n",
    "train = train.merge(df1, on=\"id\", how=\"left\")\n",
    "train = train.merge(df2, on=\"id\", how=\"left\")\n",
    "train = train.merge(df3, on=\"id\", how=\"left\")\n",
    "\n",
    "test = test.merge(df_test1, on=\"id\", how=\"left\")\n",
    "test = test.merge(df_test2, on=\"id\", how=\"left\")\n",
    "test = test.merge(df_test3, on=\"id\", how=\"left\")\n",
    "\n",
    "train.head()"
   ]
  },
  {
   "cell_type": "code",
   "execution_count": 39,
   "id": "ac7bb1f1",
   "metadata": {},
   "outputs": [],
   "source": [
    "lgbm_parameters = {\n",
    "   'metric': 'rmse',\n",
    "   'learning_rate': 0.017617905594164103,\n",
    "    'n_estimators': 50000,\n",
    "     'reg_alpha': 0.4754381939584199,\n",
    "    'reg_lambda': 0.2971710372778072,\n",
    "    'colsample_bytree': 0.10159075122483158,\n",
    "     'subsample': 0.9808300822318052,\n",
    "    'max_depth': 27,\n",
    "    'num_leaves': 27,\n",
    "    'min_child_samples': 76,\n",
    "    'max_bin': 772,\n",
    "    'cat_l2': 17,\n",
    "    'cat_smoth':96,\n",
    "    'seed': 42\n",
    "}"
   ]
  },
  {
   "cell_type": "code",
   "execution_count": 44,
   "id": "ff89d617",
   "metadata": {},
   "outputs": [],
   "source": [
    "useful_features = [\"pred_1\", \"pred_2\", \"pred_3\"]\n",
    "test = test[useful_features]"
   ]
  },
  {
   "cell_type": "code",
   "execution_count": 45,
   "id": "2383ab5e",
   "metadata": {},
   "outputs": [
    {
     "data": {
      "text/html": [
       "<div>\n",
       "<style scoped>\n",
       "    .dataframe tbody tr th:only-of-type {\n",
       "        vertical-align: middle;\n",
       "    }\n",
       "\n",
       "    .dataframe tbody tr th {\n",
       "        vertical-align: top;\n",
       "    }\n",
       "\n",
       "    .dataframe thead th {\n",
       "        text-align: right;\n",
       "    }\n",
       "</style>\n",
       "<table border=\"1\" class=\"dataframe\">\n",
       "  <thead>\n",
       "    <tr style=\"text-align: right;\">\n",
       "      <th></th>\n",
       "      <th>pred_1</th>\n",
       "      <th>pred_2</th>\n",
       "      <th>pred_3</th>\n",
       "    </tr>\n",
       "  </thead>\n",
       "  <tbody>\n",
       "    <tr>\n",
       "      <th>0</th>\n",
       "      <td>8.077633</td>\n",
       "      <td>8.077633</td>\n",
       "      <td>8.077633</td>\n",
       "    </tr>\n",
       "    <tr>\n",
       "      <th>1</th>\n",
       "      <td>8.373021</td>\n",
       "      <td>8.373021</td>\n",
       "      <td>8.373021</td>\n",
       "    </tr>\n",
       "    <tr>\n",
       "      <th>2</th>\n",
       "      <td>8.407936</td>\n",
       "      <td>8.407936</td>\n",
       "      <td>8.407936</td>\n",
       "    </tr>\n",
       "    <tr>\n",
       "      <th>3</th>\n",
       "      <td>8.479666</td>\n",
       "      <td>8.479666</td>\n",
       "      <td>8.479666</td>\n",
       "    </tr>\n",
       "    <tr>\n",
       "      <th>4</th>\n",
       "      <td>8.149429</td>\n",
       "      <td>8.149429</td>\n",
       "      <td>8.149429</td>\n",
       "    </tr>\n",
       "    <tr>\n",
       "      <th>...</th>\n",
       "      <td>...</td>\n",
       "      <td>...</td>\n",
       "      <td>...</td>\n",
       "    </tr>\n",
       "    <tr>\n",
       "      <th>199995</th>\n",
       "      <td>8.041326</td>\n",
       "      <td>8.041326</td>\n",
       "      <td>8.041326</td>\n",
       "    </tr>\n",
       "    <tr>\n",
       "      <th>199996</th>\n",
       "      <td>8.461375</td>\n",
       "      <td>8.461375</td>\n",
       "      <td>8.461375</td>\n",
       "    </tr>\n",
       "    <tr>\n",
       "      <th>199997</th>\n",
       "      <td>8.458954</td>\n",
       "      <td>8.458954</td>\n",
       "      <td>8.458954</td>\n",
       "    </tr>\n",
       "    <tr>\n",
       "      <th>199998</th>\n",
       "      <td>8.181627</td>\n",
       "      <td>8.181627</td>\n",
       "      <td>8.181627</td>\n",
       "    </tr>\n",
       "    <tr>\n",
       "      <th>199999</th>\n",
       "      <td>7.978965</td>\n",
       "      <td>7.978965</td>\n",
       "      <td>7.978965</td>\n",
       "    </tr>\n",
       "  </tbody>\n",
       "</table>\n",
       "<p>200000 rows × 3 columns</p>\n",
       "</div>"
      ],
      "text/plain": [
       "          pred_1    pred_2    pred_3\n",
       "0       8.077633  8.077633  8.077633\n",
       "1       8.373021  8.373021  8.373021\n",
       "2       8.407936  8.407936  8.407936\n",
       "3       8.479666  8.479666  8.479666\n",
       "4       8.149429  8.149429  8.149429\n",
       "...          ...       ...       ...\n",
       "199995  8.041326  8.041326  8.041326\n",
       "199996  8.461375  8.461375  8.461375\n",
       "199997  8.458954  8.458954  8.458954\n",
       "199998  8.181627  8.181627  8.181627\n",
       "199999  7.978965  7.978965  7.978965\n",
       "\n",
       "[200000 rows x 3 columns]"
      ]
     },
     "execution_count": 45,
     "metadata": {},
     "output_type": "execute_result"
    }
   ],
   "source": [
    "test"
   ]
  },
  {
   "cell_type": "code",
   "execution_count": 50,
   "id": "64a0c25d",
   "metadata": {},
   "outputs": [
    {
     "name": "stdout",
     "output_type": "stream",
     "text": [
      "Training\n",
      "[LightGBM] [Warning] Unknown parameter: cat_smoth\n",
      "Training until validation scores don't improve for 500 rounds\n",
      "Early stopping, best iteration is:\n",
      "[249]\tvalid_0's rmse: 0.714677\n",
      "0 0.7146769663796279\n",
      "Training\n",
      "[LightGBM] [Warning] Unknown parameter: cat_smoth\n",
      "Training until validation scores don't improve for 500 rounds\n",
      "Early stopping, best iteration is:\n",
      "[256]\tvalid_0's rmse: 0.722181\n",
      "1 0.7221807332882377\n",
      "Training\n",
      "[LightGBM] [Warning] Unknown parameter: cat_smoth\n",
      "Training until validation scores don't improve for 500 rounds\n",
      "Early stopping, best iteration is:\n",
      "[204]\tvalid_0's rmse: 0.717906\n",
      "2 0.7179063023388252\n",
      "Training\n",
      "[LightGBM] [Warning] Unknown parameter: cat_smoth\n",
      "Training until validation scores don't improve for 500 rounds\n",
      "Early stopping, best iteration is:\n",
      "[185]\tvalid_0's rmse: 0.717637\n",
      "3 0.7176370420250531\n",
      "Training\n",
      "[LightGBM] [Warning] Unknown parameter: cat_smoth\n",
      "Training until validation scores don't improve for 500 rounds\n",
      "Early stopping, best iteration is:\n",
      "[221]\tvalid_0's rmse: 0.712854\n",
      "4 0.7128535334823007\n"
     ]
    }
   ],
   "source": [
    "useful_features = [\"pred_1\", \"pred_2\", \"pred_3\"]\n",
    "test = test[useful_features]\n",
    "\n",
    "final_predictions = []\n",
    "scores = []\n",
    "for fold in range(5):\n",
    "    X_train = train[train.kfold!=fold].reset_index(drop=True)\n",
    "    X_valid= train[train.kfold==fold].reset_index(drop=True)\n",
    "    X_test=test.copy()\n",
    "    \n",
    "    \n",
    "    y_train=X_train.target\n",
    "    y_valid=X_valid.target\n",
    "    \n",
    "    X_train=X_train[useful_features]\n",
    "    X_valid=X_valid[useful_features]\n",
    "   \n",
    "    \n",
    "    print('Training') \n",
    "    model =LGBMRegressor(**lgbm_parameters)\n",
    "    model.fit(X_train, y_train, eval_set = ((X_valid,y_valid)), early_stopping_rounds = 500,verbose=1000)\n",
    "    \n",
    "    #model = LinearRegression()\n",
    "    #model.fit(X_train, y_train)\n",
    "    \n",
    "    predictions=model.predict(X_valid)\n",
    "    predictions_test=model.predict(X_test)\n",
    "    final_predictions.append(predictions_test)\n",
    "    \n",
    "    rmse=mean_squared_error(y_valid,predictions,squared=False)\n",
    "    print(fold, rmse)\n",
    "    scores.append(rmse)\n",
    "    \n"
   ]
  },
  {
   "cell_type": "code",
   "execution_count": 49,
   "id": "448cfefb",
   "metadata": {},
   "outputs": [
    {
     "name": "stdout",
     "output_type": "stream",
     "text": [
      "0.7170760635232711 0.0031659183145246596\n"
     ]
    }
   ],
   "source": [
    "print(np.mean(scores), np.std(scores))"
   ]
  },
  {
   "cell_type": "code",
   "execution_count": 51,
   "id": "27155283",
   "metadata": {},
   "outputs": [
    {
     "name": "stdout",
     "output_type": "stream",
     "text": [
      "0.7170509155028089 0.0031825747977556563\n"
     ]
    }
   ],
   "source": [
    "print(np.mean(scores), np.std(scores))"
   ]
  },
  {
   "cell_type": "code",
   "execution_count": 52,
   "id": "dfad3121",
   "metadata": {},
   "outputs": [],
   "source": [
    "sample_submission.target = np.mean(np.column_stack(final_predictions), axis=1)\n",
    "sample_submission.to_csv(\"submission_multiple.csv\", index=False)"
   ]
  },
  {
   "cell_type": "code",
   "execution_count": null,
   "id": "315a66be",
   "metadata": {},
   "outputs": [],
   "source": []
  }
 ],
 "metadata": {
  "kernelspec": {
   "display_name": "Python 3",
   "language": "python",
   "name": "python3"
  },
  "language_info": {
   "codemirror_mode": {
    "name": "ipython",
    "version": 3
   },
   "file_extension": ".py",
   "mimetype": "text/x-python",
   "name": "python",
   "nbconvert_exporter": "python",
   "pygments_lexer": "ipython3",
   "version": "3.8.8"
  }
 },
 "nbformat": 4,
 "nbformat_minor": 5
}
